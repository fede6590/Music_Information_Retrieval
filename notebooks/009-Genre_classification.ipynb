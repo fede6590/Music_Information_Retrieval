{
 "cells": [
  {
   "cell_type": "markdown",
   "metadata": {},
   "source": [
    "# Music Genre Recognition using Convolutional Neural Networks\n",
    "\n",
    "## What is Music Genre Recognition?\n",
    "\n",
    "Music Genre Recognition is an important field of research in Music Information Retrieval (MIR). A music genre is a conventional category that identifies some pieces of music as belonging to a shared tradition or set of conventions, i.e. it depicts the style of music.\n",
    "\n",
    "Music Genre Recognition involves making use of features such as spectrograms, MFCC’s for predicting the genre of music.\n",
    "\n",
    "## Feature Extraction\n",
    "\n",
    "We are going to make use of GTZAN Dataset. This Dataset comprises 10 genres namely Blues, Classical, Country, Disco, Hip Hop, Jazz, Metal, Pop, Reggae, Rock.\n",
    "\n",
    "Each genre comprises `100` audio files (.wav) of `30` seconds each. That means we have `1000` training examples and if we keep `20%` of them for validation then just `800` training examples.\n",
    "\n",
    "We can learn the genre of a song or music by listening to it for just `4-5` seconds, so `30` seconds are little too much information for the model to take at once!!! That is why we decided to split a single audio file into `10` audio files each of `3` seconds.\n",
    "\n",
    "Now, our training examples have become tenfold, i.e. each genre has `1000` training examples and total training examples are `10000`. So, we increased our dataset and this will be helpful for a deep learning model because it always requires more data.\n",
    "\n",
    "As we are going to use a *Convolutional Neural Network*, we need an image as an input, for this we will use the [mel spectrograms](./anexo/mfcc-implementation-and-tutorial.ipynb) of audio files and save them as image files (.jpg or .png). We can also read [this article](https://medium.com/analytics-vidhya/understanding-the-mel-spectrogram-fca2afa2ce53#:~:text=A%20mel%20spectrogram%20is%20a,converted%20to%20the%20mel%20scale.) which talks about mel spectrograms."
   ]
  },
  {
   "cell_type": "markdown",
   "metadata": {},
   "source": [
    "### How to do it..."
   ]
  },
  {
   "cell_type": "markdown",
   "metadata": {},
   "source": [
    "1. Download and extract the dataset on `source_dir`. "
   ]
  },
  {
   "cell_type": "code",
   "execution_count": 1,
   "metadata": {},
   "outputs": [],
   "source": [
    "source_dir = '../../Machine-Learning/Music-Genre-Classification/'"
   ]
  },
  {
   "cell_type": "markdown",
   "metadata": {},
   "source": [
    "2. Import all the required packages:"
   ]
  },
  {
   "cell_type": "code",
   "execution_count": 72,
   "metadata": {},
   "outputs": [],
   "source": [
    "import os\n",
    "import numpy as np\n",
    "import matplotlib.pyplot as plt\n",
    "import matplotlib.cm as cm\n",
    "from matplotlib.colors import Normalize\n",
    "from matplotlib.backends.backend_agg import FigureCanvasAgg as FigureCanvas\n",
    "import librosa\n",
    "from pydub import AudioSegment\n",
    "import shutil\n",
    "import random\n",
    "from keras.preprocessing.image import ImageDataGenerator\n",
    "from keras.preprocessing.image import load_img, img_to_array\n",
    "from keras.layers import (Input, Dense, Activation, BatchNormalization, Flatten,\n",
    "                          Conv2D, MaxPooling2D, Dropout)\n",
    "from keras.models import Model, load_model\n",
    "from keras.optimizers import Adam\n",
    "from PIL import Image"
   ]
  },
  {
   "cell_type": "markdown",
   "metadata": {},
   "source": [
    "**NOTA:** chequear el estado actual de los directorios/archivos generados!!!"
   ]
  },
  {
   "cell_type": "code",
   "execution_count": 23,
   "metadata": {},
   "outputs": [
    {
     "name": "stdout",
     "output_type": "stream",
     "text": [
      "CORRER EL CUADERNO A PARTIR DE SECCION: Results\n"
     ]
    }
   ],
   "source": [
    "# Specify path\n",
    "path = os.path.join(source_dir,'audio3sec')\n",
    "  \n",
    "# Check whether the specified path exists or not\n",
    "isExist = os.path.exists(path)\n",
    "if isExist: print('CORRER EL CUADERNO A PARTIR DE SECCION: Results')"
   ]
  },
  {
   "cell_type": "markdown",
   "metadata": {},
   "source": [
    "3. Make empty directories for each genre:"
   ]
  },
  {
   "cell_type": "code",
   "execution_count": null,
   "metadata": {},
   "outputs": [],
   "source": [
    "genres = 'blues classical country disco pop hiphop metal reggae rock'\n",
    "genres = genres.split()\n",
    "\n",
    "for g in genres:\n",
    "    path_audio = os.path.join(source_dir,'audio3sec',g)\n",
    "    path_train = os.path.join(source_dir,'spectrograms3sec/train',g)\n",
    "    path_test = os.path.join(source_dir,'spectrograms3sec/test',g)\n",
    "    os.makedirs(path_audio)\n",
    "    os.makedirs(path_train)\n",
    "    os.makedirs(path_test)"
   ]
  },
  {
   "cell_type": "markdown",
   "metadata": {},
   "source": [
    "4. Split the audio files. We will make use of *AudioSegment* from [PyDub package](http://pydub.com/):"
   ]
  },
  {
   "cell_type": "code",
   "execution_count": null,
   "metadata": {},
   "outputs": [],
   "source": [
    "for g in genres:\n",
    "    j = 0\n",
    "    lista_songs = os.listdir(os.path.join(source_dir,'genres',g))\n",
    "    for filename in lista_songs:\n",
    "        j = j+1\n",
    "        print(filename)\n",
    "        song = os.path.join(source_dir,'genres',g,filename)\n",
    "        # Load audio into PyDub\n",
    "        old = AudioSegment.from_wav(song)\n",
    "        for w in range(0,10):\n",
    "            # Slice audio: PyDub does things in miliseconds\n",
    "            t1 = 3*(w)*1000 # t1=0,3,6,9,...,27 seconds\n",
    "            t2 = 3*(w+1)*1000 # t2=3,6,9,12,...,30 seconds\n",
    "            new = old[t1:t2]\n",
    "            # Save the result\n",
    "            split_song = os.path.join(source_dir,'audio3sec',g,g+str(j)+str(w)+'.wav')\n",
    "            new.export(split_song, format='wav')"
   ]
  },
  {
   "cell_type": "markdown",
   "metadata": {},
   "source": [
    "So, there are three *for loops* here. First, we loop over the genres we have, then for that genre a second *for loop* goes through every audio file, and a third *for loop* splits the audio file into 10 parts and save them into empty directories we created previously."
   ]
  },
  {
   "cell_type": "markdown",
   "metadata": {},
   "source": [
    "5. Generate *mel spectrograms* for the audio files. We will make use of [Librosa](https://librosa.org/doc/main/generated/librosa.feature.melspectrogram.html#librosa.feature.melspectrogram):"
   ]
  },
  {
   "cell_type": "code",
   "execution_count": null,
   "metadata": {},
   "outputs": [],
   "source": [
    "for g in genres:\n",
    "    j = 0\n",
    "    lista_songs = os.listdir(os.path.join(source_dir,'audio3sec',g))\n",
    "    for filename in lista_songs:\n",
    "        j = j+1\n",
    "        print(filename)\n",
    "        song = os.path.join(source_dir,'audio3sec',g,filename)\n",
    "        # Load audio into Librosa\n",
    "        y, sr = librosa.load(song, duration=3)\n",
    "        mel_spect = librosa.feature.melspectrogram(y, sr)\n",
    "        mel_spect_dB = librosa.power_to_db(mel_spect, ref=np.max)\n",
    "        fig = plt.Figure()\n",
    "        canvas = FigureCanvas(fig)\n",
    "        p = plt.imshow(mel_spect_dB)\n",
    "        # Save the result\n",
    "        split_spect = os.path.join(source_dir,'spectrograms3sec/train',g,g+str(j)+'.png')\n",
    "        plt.savefig(split_spect)"
   ]
  },
  {
   "cell_type": "markdown",
   "metadata": {},
   "source": [
    "So, there are two *for loops* here. First, we loop over the genres we have, then for that genre a second *for loop* goes through every split audio file, generate a *mel spectrogram* and save it into empty directories we created previously."
   ]
  },
  {
   "cell_type": "markdown",
   "metadata": {},
   "source": [
    "6. Split the data into *training set* and *validation set*. For each genre, we randomly shuffle filenames, select top 100 filenames and move them to test/validation directory:"
   ]
  },
  {
   "cell_type": "code",
   "execution_count": null,
   "metadata": {},
   "outputs": [],
   "source": [
    "for g in genres:\n",
    "    origen_dir = os.path.join(source_dir,'spectrograms3sec/train',g)\n",
    "    destino_dir = os.path.join(source_dir,'spectrograms3sec/test',g)\n",
    "    lista_spects = os.listdir(origen_dir)\n",
    "    random.shuffle(lista_spects)\n",
    "    test_files = lista_spects[0:100]\n",
    "    for f in test_files:\n",
    "        print(f)\n",
    "        shutil.move(origen_dir+'/'+f,destino_dir)"
   ]
  },
  {
   "cell_type": "markdown",
   "metadata": {},
   "source": [
    "## Data Pre-processing "
   ]
  },
  {
   "cell_type": "markdown",
   "metadata": {},
   "source": [
    "As we know, data should be formatted into floating-point tensors before being fed into the network. Currently, the data sits on a drive as PNG files, so the steps for getting it into the network are:\n",
    "\n",
    "* 1. Read the picture files.\n",
    "* 2. Decode the PNG content to RGBA grids of pixels.\n",
    "* 3. Convert these into floating-point tensors.\n",
    "* 4. Rescale the pixel values (between 0 and 255) to the [0,1] interval.\n",
    "\n",
    "Fortunately, Keras has a module with [image-processing tools](https://keras.io/api/preprocessing/image/), located at `keras.preprocessing.image`. In particular, it contains the class `ImageDataGenerator`, which let us quickly set up **Python generators** that can automatically turn image files on disk into batches of preprocessed tensors. "
   ]
  },
  {
   "cell_type": "code",
   "execution_count": 4,
   "metadata": {},
   "outputs": [
    {
     "name": "stdout",
     "output_type": "stream",
     "text": [
      "Found 8100 images belonging to 9 classes.\n",
      "Found 900 images belonging to 9 classes.\n"
     ]
    }
   ],
   "source": [
    "# Rescales all images\n",
    "train_datagen = ImageDataGenerator(rescale=1./255)\n",
    "vali_datagen = ImageDataGenerator(rescale=1./255)\n",
    "\n",
    "train_dir = os.path.join(source_dir,'spectrograms3sec/train/')\n",
    "vali_dir = os.path.join(source_dir,'spectrograms3sec/test/')\n",
    "\n",
    "# Resizes all images\n",
    "# We need categorical labels (because we use categorical_crossentropy loss)\n",
    "train_generator = train_datagen.flow_from_directory(train_dir,target_size=(288,432),color_mode=\"rgba\",class_mode='categorical',batch_size=128)\n",
    "vali_generator = vali_datagen.flow_from_directory(vali_dir,target_size=(288,432),color_mode='rgba',class_mode='categorical',batch_size=128)"
   ]
  },
  {
   "cell_type": "markdown",
   "metadata": {},
   "source": [
    "**flow_from_directory()** method: automatically infers the labels using our directory structure and encodes them accordingly.\n",
    "\n",
    "The argument `class_mode` determines the type of label arrays that are returned. In present case, `categorical` will be 2D one-hot encoded labels. \n",
    "\n",
    "This method returns a *DirectoryIterator* yielding tuples of `(x,y)` where `x` is a numpy array containing a batch of images with shape `(batch_size, target_size, channels)` and `y` is a numpy array of corresponding labels.\n",
    "\n",
    "**ImageDataGenerator** class: makes training on large datasets simple by using the fact that model gets trained on only one batch per step. So, while training, data generator just loads one batch into memory at a time, so there is no exhaustion of memory resources!\n",
    "\n",
    "We can also read [this article](https://towardsdatascience.com/keras-data-generators-and-how-to-use-them-b69129ed779c) which talks about data generators."
   ]
  },
  {
   "cell_type": "markdown",
   "metadata": {},
   "source": [
    "**NOTE:** A *Python generator* is an object that acts as an iterator: it’s an object we can use with the `for ... in` operator.\n",
    "\n",
    "Let’s look at the output of one of these generators: the generator yields these batches indefinitely: it loops endlessly over the images in the target folder. For this reason, we need to break the iteration loop at some point:"
   ]
  },
  {
   "cell_type": "code",
   "execution_count": 5,
   "metadata": {},
   "outputs": [
    {
     "name": "stdout",
     "output_type": "stream",
     "text": [
      "data batch shape: (128, 288, 432, 4)\n",
      "labels batch shape: (128, 9)\n"
     ]
    }
   ],
   "source": [
    "for data_batch, labels_batch in train_generator:\n",
    "    print('data batch shape:', data_batch.shape)\n",
    "    print('labels batch shape:', labels_batch.shape)\n",
    "    break"
   ]
  },
  {
   "cell_type": "markdown",
   "metadata": {},
   "source": [
    "Note that the generator yields batches of `288 × 432` RGBA images and categorical labels. There are `128` samples in each batch (the batch size). "
   ]
  },
  {
   "cell_type": "markdown",
   "metadata": {},
   "source": [
    "## Convolutional Network Model\n",
    "\n",
    "We will build our CNN model using keras. Model comprises `5` *Convolutional layers* and `1` *Dense layer* with `softmax` activation to output class probabilities. "
   ]
  },
  {
   "cell_type": "code",
   "execution_count": 6,
   "metadata": {},
   "outputs": [],
   "source": [
    "def GenreModel(input_shape=(288,432,4),classes=9):\n",
    "    X_input = Input(input_shape)\n",
    "    \n",
    "    X = Conv2D(8,kernel_size=(3,3),strides=(1,1))(X_input)\n",
    "    X = BatchNormalization(axis=3)(X)\n",
    "    X = Activation('relu')(X)\n",
    "    X = MaxPooling2D((2,2))(X)\n",
    "    \n",
    "    X = Conv2D(16,kernel_size=(3,3),strides=(1,1))(X)\n",
    "    X = BatchNormalization(axis=3)(X)\n",
    "    X = Activation('relu')(X)\n",
    "    X = MaxPooling2D((2,2))(X)\n",
    "    \n",
    "    X = Conv2D(32,kernel_size=(3,3),strides=(1,1))(X)\n",
    "    X = BatchNormalization(axis=3)(X)\n",
    "    X = Activation('relu')(X)\n",
    "    X = MaxPooling2D((2,2))(X)\n",
    "    \n",
    "    X = Conv2D(64,kernel_size=(3,3),strides=(1,1))(X)\n",
    "    X = BatchNormalization(axis=-1)(X)\n",
    "    X = Activation('relu')(X)\n",
    "    X = MaxPooling2D((2,2))(X)\n",
    "    \n",
    "    X = Conv2D(128,kernel_size=(3,3),strides=(1,1))(X)\n",
    "    X = BatchNormalization(axis=-1)(X)\n",
    "    X = Activation('relu')(X)\n",
    "    X = MaxPooling2D((2,2))(X)\n",
    "    \n",
    "    X = Flatten()(X)\n",
    "    \n",
    "    X = Dense(classes, activation='softmax', name='fc'+str(classes))(X)\n",
    "    \n",
    "    model = Model(inputs=X_input,outputs=X,name='GenreModel')\n",
    "    \n",
    "    return model"
   ]
  },
  {
   "cell_type": "markdown",
   "metadata": {},
   "source": [
    "In this case, we configure our CNN (**convnet**) to process inputs of size `(image_height, image_width, image_channels) = (288, 432, 4)`. Additionally, the strides for the filter are `(1, 1)` given that the filter moves one step at a time both horizontally and vertically. \n",
    "\n",
    "This way, the convnet will be a stack of alternated `Conv2D` (with `relu` activation) and `MaxPooling2D` layers. \n",
    "\n",
    "Remember that we built a **small convnet** for MNIST dataset in the previous section (cuaderno 008). In the present case (GTZAN dataset) we are dealing with bigger images and a more complex problem, so we make our **network larger**: it has more `Conv2D + MaxPooling2D` stages!!! \n",
    "\n",
    "This serves both to **augment** the capacity of the network and to further **reduce** the size of the *feature maps* so they are not overly large when we reach the `Flatten` layer. Let’s display the architecture of the convnet:"
   ]
  },
  {
   "cell_type": "code",
   "execution_count": 7,
   "metadata": {},
   "outputs": [
    {
     "name": "stdout",
     "output_type": "stream",
     "text": [
      "Model: \"GenreModel\"\n",
      "_________________________________________________________________\n",
      "Layer (type)                 Output Shape              Param #   \n",
      "=================================================================\n",
      "input_1 (InputLayer)         [(None, 288, 432, 4)]     0         \n",
      "_________________________________________________________________\n",
      "conv2d (Conv2D)              (None, 286, 430, 8)       296       \n",
      "_________________________________________________________________\n",
      "batch_normalization (BatchNo (None, 286, 430, 8)       32        \n",
      "_________________________________________________________________\n",
      "activation (Activation)      (None, 286, 430, 8)       0         \n",
      "_________________________________________________________________\n",
      "max_pooling2d (MaxPooling2D) (None, 143, 215, 8)       0         \n",
      "_________________________________________________________________\n",
      "conv2d_1 (Conv2D)            (None, 141, 213, 16)      1168      \n",
      "_________________________________________________________________\n",
      "batch_normalization_1 (Batch (None, 141, 213, 16)      64        \n",
      "_________________________________________________________________\n",
      "activation_1 (Activation)    (None, 141, 213, 16)      0         \n",
      "_________________________________________________________________\n",
      "max_pooling2d_1 (MaxPooling2 (None, 70, 106, 16)       0         \n",
      "_________________________________________________________________\n",
      "conv2d_2 (Conv2D)            (None, 68, 104, 32)       4640      \n",
      "_________________________________________________________________\n",
      "batch_normalization_2 (Batch (None, 68, 104, 32)       128       \n",
      "_________________________________________________________________\n",
      "activation_2 (Activation)    (None, 68, 104, 32)       0         \n",
      "_________________________________________________________________\n",
      "max_pooling2d_2 (MaxPooling2 (None, 34, 52, 32)        0         \n",
      "_________________________________________________________________\n",
      "conv2d_3 (Conv2D)            (None, 32, 50, 64)        18496     \n",
      "_________________________________________________________________\n",
      "batch_normalization_3 (Batch (None, 32, 50, 64)        256       \n",
      "_________________________________________________________________\n",
      "activation_3 (Activation)    (None, 32, 50, 64)        0         \n",
      "_________________________________________________________________\n",
      "max_pooling2d_3 (MaxPooling2 (None, 16, 25, 64)        0         \n",
      "_________________________________________________________________\n",
      "conv2d_4 (Conv2D)            (None, 14, 23, 128)       73856     \n",
      "_________________________________________________________________\n",
      "batch_normalization_4 (Batch (None, 14, 23, 128)       512       \n",
      "_________________________________________________________________\n",
      "activation_4 (Activation)    (None, 14, 23, 128)       0         \n",
      "_________________________________________________________________\n",
      "max_pooling2d_4 (MaxPooling2 (None, 7, 11, 128)        0         \n",
      "_________________________________________________________________\n",
      "flatten (Flatten)            (None, 9856)              0         \n",
      "_________________________________________________________________\n",
      "fc9 (Dense)                  (None, 9)                 88713     \n",
      "=================================================================\n",
      "Total params: 188,161\n",
      "Trainable params: 187,665\n",
      "Non-trainable params: 496\n",
      "_________________________________________________________________\n"
     ]
    }
   ],
   "source": [
    "model = GenreModel(input_shape=(288,432,4),classes=9)\n",
    "model.summary()"
   ]
  },
  {
   "cell_type": "markdown",
   "metadata": {},
   "source": [
    "Here, we **start** from inputs of size `288 × 432` and **end up** with feature maps of size `7 × 11` just before the `Flatten` layer.\n",
    "\n",
    "We see that the output of every `Conv2D` and `MaxPooling2D` layer is a 3D tensor of shape `(height, width, channels)`. The *width* and *height* dimensions tend to shrink as we go deeper in the network. The *number of channels* is controlled by the first argument passed to the Conv2D layers (8, 16, 32, 64 or 128).\n",
    "\n",
    "The next step is to feed the last output tensor of shape `(7, 11, 128)` into a stack of *Dense layers*. First we have to flatten the 3D outputs to 1D. We do 9-way classification, using a final layer with 9 outputs (a `Dense` layer of size `9`) and a `softmax` activation. \n",
    "\n",
    "**NOTE:** The depth of the feature maps progressively *increases* in the network (from `8` to `128`), whereas the size of the feature maps *decreases* (from `288 × 432` to `7 × 11`). This is a pattern we’ll see in almost all convnets."
   ]
  },
  {
   "cell_type": "markdown",
   "metadata": {},
   "source": [
    "## Training"
   ]
  },
  {
   "cell_type": "markdown",
   "metadata": {},
   "source": [
    "For the compilation step, we’ll go with the `Adam` optimizer:"
   ]
  },
  {
   "cell_type": "code",
   "execution_count": 8,
   "metadata": {
    "colab": {
     "base_uri": "https://localhost:8080/",
     "height": 120
    },
    "id": "8BPQgHGNxdgD",
    "outputId": "728058f3-7780-4aa4-9ad6-31c94136e8ce"
   },
   "outputs": [],
   "source": [
    "opt = Adam(learning_rate=0.00005)\n",
    "model.compile(optimizer=opt, loss='categorical_crossentropy', metrics=['accuracy'])"
   ]
  },
  {
   "cell_type": "markdown",
   "metadata": {},
   "source": [
    "Let’s fit the model to the data using the generator. We do so using the `fit_generator` method, the equivalent of `fit` for data generators. It expects as its first argument a Python generator that will yield batches of training inputs and targets indefinitely. Additionally, we can pass a `validation_data` argument ... this generator is also expected to yield batches of validation data endlessly."
   ]
  },
  {
   "cell_type": "code",
   "execution_count": 9,
   "metadata": {},
   "outputs": [
    {
     "name": "stderr",
     "output_type": "stream",
     "text": [
      "/home/ale/miniconda3/lib/python3.8/site-packages/tensorflow/python/keras/engine/training.py:1844: UserWarning: `Model.fit_generator` is deprecated and will be removed in a future version. Please use `Model.fit`, which supports generators.\n",
      "  warnings.warn('`Model.fit_generator` is deprecated and '\n"
     ]
    },
    {
     "name": "stdout",
     "output_type": "stream",
     "text": [
      "Epoch 1/70\n",
      "64/64 [==============================] - 186s 3s/step - loss: 2.1074 - accuracy: 0.2171 - val_loss: 2.2036 - val_accuracy: 0.1100\n",
      "Epoch 2/70\n",
      "64/64 [==============================] - 142s 2s/step - loss: 1.6320 - accuracy: 0.4274 - val_loss: 2.2178 - val_accuracy: 0.1478\n",
      "Epoch 3/70\n",
      "64/64 [==============================] - 134s 2s/step - loss: 1.4435 - accuracy: 0.4809 - val_loss: 2.1895 - val_accuracy: 0.2078\n",
      "Epoch 4/70\n",
      "64/64 [==============================] - 139s 2s/step - loss: 1.3243 - accuracy: 0.5244 - val_loss: 2.0788 - val_accuracy: 0.2033\n",
      "Epoch 5/70\n",
      "64/64 [==============================] - 143s 2s/step - loss: 1.2423 - accuracy: 0.5513 - val_loss: 1.8290 - val_accuracy: 0.2578\n",
      "Epoch 6/70\n",
      "64/64 [==============================] - 140s 2s/step - loss: 1.1498 - accuracy: 0.5987 - val_loss: 1.5845 - val_accuracy: 0.3667\n",
      "Epoch 7/70\n",
      "64/64 [==============================] - 140s 2s/step - loss: 1.0996 - accuracy: 0.6157 - val_loss: 1.3344 - val_accuracy: 0.5000\n",
      "Epoch 8/70\n",
      "64/64 [==============================] - 138s 2s/step - loss: 1.0110 - accuracy: 0.6645 - val_loss: 1.2486 - val_accuracy: 0.5222\n",
      "Epoch 9/70\n",
      "64/64 [==============================] - 137s 2s/step - loss: 0.9710 - accuracy: 0.6699 - val_loss: 1.1356 - val_accuracy: 0.5800\n",
      "Epoch 10/70\n",
      "64/64 [==============================] - 139s 2s/step - loss: 0.9094 - accuracy: 0.6984 - val_loss: 1.0928 - val_accuracy: 0.6022\n",
      "Epoch 11/70\n",
      "64/64 [==============================] - 141s 2s/step - loss: 0.8603 - accuracy: 0.7093 - val_loss: 0.9836 - val_accuracy: 0.6467\n",
      "Epoch 12/70\n",
      "64/64 [==============================] - 142s 2s/step - loss: 0.8134 - accuracy: 0.7294 - val_loss: 0.9430 - val_accuracy: 0.6656\n",
      "Epoch 13/70\n",
      "64/64 [==============================] - 138s 2s/step - loss: 0.7870 - accuracy: 0.7407 - val_loss: 0.9662 - val_accuracy: 0.6500\n",
      "Epoch 14/70\n",
      "64/64 [==============================] - 143s 2s/step - loss: 0.7536 - accuracy: 0.7511 - val_loss: 0.8873 - val_accuracy: 0.6933\n",
      "Epoch 15/70\n",
      "64/64 [==============================] - 138s 2s/step - loss: 0.7111 - accuracy: 0.7675 - val_loss: 0.8811 - val_accuracy: 0.6911\n",
      "Epoch 16/70\n",
      "64/64 [==============================] - 137s 2s/step - loss: 0.6896 - accuracy: 0.7726 - val_loss: 0.8470 - val_accuracy: 0.7056\n",
      "Epoch 17/70\n",
      "64/64 [==============================] - 137s 2s/step - loss: 0.6862 - accuracy: 0.7782 - val_loss: 0.8294 - val_accuracy: 0.7044\n",
      "Epoch 18/70\n",
      "64/64 [==============================] - 140s 2s/step - loss: 0.6587 - accuracy: 0.7823 - val_loss: 0.8080 - val_accuracy: 0.7122\n",
      "Epoch 19/70\n",
      "64/64 [==============================] - 135s 2s/step - loss: 0.6413 - accuracy: 0.7883 - val_loss: 0.8189 - val_accuracy: 0.7156\n",
      "Epoch 20/70\n",
      "64/64 [==============================] - 132s 2s/step - loss: 0.5997 - accuracy: 0.8105 - val_loss: 0.7754 - val_accuracy: 0.7322\n",
      "Epoch 21/70\n",
      "64/64 [==============================] - 133s 2s/step - loss: 0.5729 - accuracy: 0.8224 - val_loss: 0.7680 - val_accuracy: 0.7367\n",
      "Epoch 22/70\n",
      "64/64 [==============================] - 133s 2s/step - loss: 0.5718 - accuracy: 0.8148 - val_loss: 0.7790 - val_accuracy: 0.7200\n",
      "Epoch 23/70\n",
      "64/64 [==============================] - 138s 2s/step - loss: 0.5321 - accuracy: 0.8335 - val_loss: 0.7605 - val_accuracy: 0.7333\n",
      "Epoch 24/70\n",
      "64/64 [==============================] - 134s 2s/step - loss: 0.5083 - accuracy: 0.8476 - val_loss: 0.7518 - val_accuracy: 0.7456\n",
      "Epoch 25/70\n",
      "64/64 [==============================] - 132s 2s/step - loss: 0.4890 - accuracy: 0.8499 - val_loss: 0.7281 - val_accuracy: 0.7478\n",
      "Epoch 26/70\n",
      "64/64 [==============================] - 130s 2s/step - loss: 0.4764 - accuracy: 0.8561 - val_loss: 0.7260 - val_accuracy: 0.7500\n",
      "Epoch 27/70\n",
      "64/64 [==============================] - 131s 2s/step - loss: 0.4597 - accuracy: 0.8646 - val_loss: 0.7459 - val_accuracy: 0.7433\n",
      "Epoch 28/70\n",
      "64/64 [==============================] - 133s 2s/step - loss: 0.4450 - accuracy: 0.8723 - val_loss: 0.6965 - val_accuracy: 0.7600\n",
      "Epoch 29/70\n",
      "64/64 [==============================] - 137s 2s/step - loss: 0.4262 - accuracy: 0.8787 - val_loss: 0.7130 - val_accuracy: 0.7456\n",
      "Epoch 30/70\n",
      "64/64 [==============================] - 134s 2s/step - loss: 0.4265 - accuracy: 0.8763 - val_loss: 0.7036 - val_accuracy: 0.7622\n",
      "Epoch 31/70\n",
      "64/64 [==============================] - 135s 2s/step - loss: 0.4013 - accuracy: 0.8831 - val_loss: 0.6923 - val_accuracy: 0.7500\n",
      "Epoch 32/70\n",
      "64/64 [==============================] - 138s 2s/step - loss: 0.4006 - accuracy: 0.8856 - val_loss: 0.7038 - val_accuracy: 0.7500\n",
      "Epoch 33/70\n",
      "64/64 [==============================] - 132s 2s/step - loss: 0.3779 - accuracy: 0.8965 - val_loss: 0.6807 - val_accuracy: 0.7544\n",
      "Epoch 34/70\n",
      "64/64 [==============================] - 135s 2s/step - loss: 0.3510 - accuracy: 0.9086 - val_loss: 0.6775 - val_accuracy: 0.7622\n",
      "Epoch 35/70\n",
      "64/64 [==============================] - 138s 2s/step - loss: 0.3493 - accuracy: 0.9089 - val_loss: 0.6937 - val_accuracy: 0.7489\n",
      "Epoch 36/70\n",
      "64/64 [==============================] - 133s 2s/step - loss: 0.3457 - accuracy: 0.9057 - val_loss: 0.6463 - val_accuracy: 0.7700\n",
      "Epoch 37/70\n",
      "64/64 [==============================] - 141s 2s/step - loss: 0.3193 - accuracy: 0.9211 - val_loss: 0.6704 - val_accuracy: 0.7600\n",
      "Epoch 38/70\n",
      "64/64 [==============================] - 136s 2s/step - loss: 0.3089 - accuracy: 0.9199 - val_loss: 0.6435 - val_accuracy: 0.7700\n",
      "Epoch 39/70\n",
      "64/64 [==============================] - 136s 2s/step - loss: 0.3049 - accuracy: 0.9279 - val_loss: 0.6543 - val_accuracy: 0.7656\n",
      "Epoch 40/70\n",
      "64/64 [==============================] - 137s 2s/step - loss: 0.3019 - accuracy: 0.9258 - val_loss: 0.6560 - val_accuracy: 0.7733\n",
      "Epoch 41/70\n",
      "64/64 [==============================] - 129s 2s/step - loss: 0.2784 - accuracy: 0.9348 - val_loss: 0.6618 - val_accuracy: 0.7556\n",
      "Epoch 42/70\n",
      "64/64 [==============================] - 138s 2s/step - loss: 0.2688 - accuracy: 0.9406 - val_loss: 0.6428 - val_accuracy: 0.7633\n",
      "Epoch 43/70\n",
      "64/64 [==============================] - 133s 2s/step - loss: 0.2551 - accuracy: 0.9449 - val_loss: 0.6403 - val_accuracy: 0.7789\n",
      "Epoch 44/70\n",
      "64/64 [==============================] - 129s 2s/step - loss: 0.2530 - accuracy: 0.9473 - val_loss: 0.6361 - val_accuracy: 0.7900\n",
      "Epoch 45/70\n",
      "64/64 [==============================] - 133s 2s/step - loss: 0.2419 - accuracy: 0.9497 - val_loss: 0.6170 - val_accuracy: 0.7856\n",
      "Epoch 46/70\n",
      "64/64 [==============================] - 135s 2s/step - loss: 0.2310 - accuracy: 0.9543 - val_loss: 0.6363 - val_accuracy: 0.7811\n",
      "Epoch 47/70\n",
      "64/64 [==============================] - 132s 2s/step - loss: 0.2159 - accuracy: 0.9589 - val_loss: 0.6495 - val_accuracy: 0.7689\n",
      "Epoch 48/70\n",
      "64/64 [==============================] - 136s 2s/step - loss: 0.2140 - accuracy: 0.9603 - val_loss: 0.6367 - val_accuracy: 0.7689\n",
      "Epoch 49/70\n",
      "64/64 [==============================] - 134s 2s/step - loss: 0.2100 - accuracy: 0.9581 - val_loss: 0.6484 - val_accuracy: 0.7633\n",
      "Epoch 50/70\n",
      "64/64 [==============================] - 134s 2s/step - loss: 0.2020 - accuracy: 0.9642 - val_loss: 0.6318 - val_accuracy: 0.7667\n",
      "Epoch 51/70\n",
      "64/64 [==============================] - 135s 2s/step - loss: 0.2014 - accuracy: 0.9690 - val_loss: 0.6079 - val_accuracy: 0.7944\n",
      "Epoch 52/70\n",
      "64/64 [==============================] - 138s 2s/step - loss: 0.1812 - accuracy: 0.9752 - val_loss: 0.5978 - val_accuracy: 0.7856\n",
      "Epoch 53/70\n",
      "64/64 [==============================] - 138s 2s/step - loss: 0.1775 - accuracy: 0.9757 - val_loss: 0.6039 - val_accuracy: 0.7922\n",
      "Epoch 54/70\n",
      "64/64 [==============================] - 139s 2s/step - loss: 0.1672 - accuracy: 0.9764 - val_loss: 0.5944 - val_accuracy: 0.7878\n",
      "Epoch 55/70\n",
      "64/64 [==============================] - 136s 2s/step - loss: 0.1651 - accuracy: 0.9787 - val_loss: 0.6038 - val_accuracy: 0.7933\n",
      "Epoch 56/70\n",
      "64/64 [==============================] - 135s 2s/step - loss: 0.1559 - accuracy: 0.9817 - val_loss: 0.5891 - val_accuracy: 0.7900\n",
      "Epoch 57/70\n",
      "64/64 [==============================] - 134s 2s/step - loss: 0.1501 - accuracy: 0.9818 - val_loss: 0.5835 - val_accuracy: 0.7989\n",
      "Epoch 58/70\n",
      "64/64 [==============================] - 134s 2s/step - loss: 0.1448 - accuracy: 0.9829 - val_loss: 0.5966 - val_accuracy: 0.7922\n"
     ]
    },
    {
     "name": "stdout",
     "output_type": "stream",
     "text": [
      "Epoch 59/70\n",
      "64/64 [==============================] - 136s 2s/step - loss: 0.1400 - accuracy: 0.9867 - val_loss: 0.5813 - val_accuracy: 0.8022\n",
      "Epoch 60/70\n",
      "64/64 [==============================] - 136s 2s/step - loss: 0.1335 - accuracy: 0.9850 - val_loss: 0.5911 - val_accuracy: 0.7844\n",
      "Epoch 61/70\n",
      "64/64 [==============================] - 136s 2s/step - loss: 0.1225 - accuracy: 0.9898 - val_loss: 0.5919 - val_accuracy: 0.7989\n",
      "Epoch 62/70\n",
      "64/64 [==============================] - 131s 2s/step - loss: 0.1214 - accuracy: 0.9917 - val_loss: 0.5906 - val_accuracy: 0.7956\n",
      "Epoch 63/70\n",
      "64/64 [==============================] - 139s 2s/step - loss: 0.1116 - accuracy: 0.9910 - val_loss: 0.5927 - val_accuracy: 0.7856\n",
      "Epoch 64/70\n",
      "64/64 [==============================] - 132s 2s/step - loss: 0.1121 - accuracy: 0.9936 - val_loss: 0.5919 - val_accuracy: 0.7956\n",
      "Epoch 65/70\n",
      "64/64 [==============================] - 137s 2s/step - loss: 0.1109 - accuracy: 0.9914 - val_loss: 0.6024 - val_accuracy: 0.7867\n",
      "Epoch 66/70\n",
      "64/64 [==============================] - 135s 2s/step - loss: 0.0983 - accuracy: 0.9950 - val_loss: 0.5826 - val_accuracy: 0.8033\n",
      "Epoch 67/70\n",
      "64/64 [==============================] - 137s 2s/step - loss: 0.0954 - accuracy: 0.9947 - val_loss: 0.5779 - val_accuracy: 0.8033\n",
      "Epoch 68/70\n",
      "64/64 [==============================] - 128s 2s/step - loss: 0.0940 - accuracy: 0.9950 - val_loss: 0.5784 - val_accuracy: 0.8044\n",
      "Epoch 69/70\n",
      "64/64 [==============================] - 132s 2s/step - loss: 0.0875 - accuracy: 0.9956 - val_loss: 0.5923 - val_accuracy: 0.7967\n",
      "Epoch 70/70\n",
      "64/64 [==============================] - 133s 2s/step - loss: 0.0905 - accuracy: 0.9945 - val_loss: 0.5736 - val_accuracy: 0.8011\n"
     ]
    }
   ],
   "source": [
    "history = model.fit_generator(train_generator, epochs=70, validation_data=vali_generator)"
   ]
  },
  {
   "cell_type": "markdown",
   "metadata": {},
   "source": [
    "After training for 70 epochs, we got training accuracy of 99.45% and on validation 80.11%. Extract loss and accuracy of the model over training and validation data during training:"
   ]
  },
  {
   "cell_type": "code",
   "execution_count": 10,
   "metadata": {},
   "outputs": [],
   "source": [
    "history_dict = history.history\n",
    "loss_values = history_dict['loss']\n",
    "val_loss_values = history_dict['val_loss']\n",
    "acc_values = history_dict['accuracy']\n",
    "val_acc_values = history_dict['val_accuracy']\n",
    "epochs = range(1, len(val_loss_values) + 1)"
   ]
  },
  {
   "cell_type": "markdown",
   "metadata": {},
   "source": [
    "And now visualize!"
   ]
  },
  {
   "cell_type": "code",
   "execution_count": 11,
   "metadata": {
    "scrolled": true
   },
   "outputs": [
    {
     "data": {
      "image/png": "[encoded data removed]",
      "text/plain": [
       "<Figure size 432x288 with 1 Axes>"
      ]
     },
     "metadata": {
      "needs_background": "light"
     },
     "output_type": "display_data"
    },
    {
     "data": {
      "image/png": "[encoded data removed]",
      "text/plain": [
       "<Figure size 432x288 with 1 Axes>"
      ]
     },
     "metadata": {
      "needs_background": "light"
     },
     "output_type": "display_data"
    }
   ],
   "source": [
    "%matplotlib inline\n",
    "plt.subplot(211)\n",
    "plt.plot(epochs, loss_values, 'bo', label='Training loss')\n",
    "plt.plot(epochs, val_loss_values, 'r', label='Validation loss')\n",
    "plt.title('Training and validation loss')\n",
    "plt.xlabel('Epochs')\n",
    "plt.ylabel('Loss')\n",
    "plt.legend()\n",
    "plt.grid('off')\n",
    "plt.show()\n",
    "plt.subplot(212)\n",
    "plt.plot(epochs, acc_values, 'bo', label='Training accuracy')\n",
    "plt.plot(epochs, val_acc_values, 'r', label='Validation accuracy')\n",
    "plt.title('Training and validation accuracy')\n",
    "plt.xlabel('Epochs')\n",
    "plt.ylabel('Accuracy')\n",
    "plt.gca().set_yticks(plt.gca().get_yticks())\n",
    "plt.gca().set_yticklabels(['{:.0f}%'.format(x*100) for x in plt.gca().get_yticks()]) \n",
    "plt.legend()\n",
    "plt.grid('off')\n",
    "plt.show()"
   ]
  },
  {
   "cell_type": "markdown",
   "metadata": {},
   "source": [
    "Let's save the model as a HDF5 file. This file contains:\n",
    "\n",
    "* the architecture of the model (topology), allowing to re-create the model;\n",
    "* the weights of the model;\n",
    "* the training configuration (loss, optimizer);\n",
    "* the state of the optimizer, allowing to resume training exactly where we left off."
   ]
  },
  {
   "cell_type": "code",
   "execution_count": 19,
   "metadata": {},
   "outputs": [],
   "source": [
    "model_file = os.path.join(source_dir,'results','genre.h5')\n",
    "model.save(model_file)"
   ]
  },
  {
   "cell_type": "markdown",
   "metadata": {},
   "source": [
    "## Results"
   ]
  },
  {
   "cell_type": "markdown",
   "metadata": {},
   "source": [
    "Now, we will pick a song and try to recommend the genre of that song using our model."
   ]
  },
  {
   "cell_type": "code",
   "execution_count": 70,
   "metadata": {},
   "outputs": [],
   "source": [
    "def convert_mp3_to_wav(source_dir,filename):\n",
    "    # Load audio into PyDub\n",
    "    song_m = os.path.join(source_dir,'results',filename+'.mp3')\n",
    "    mp3 = AudioSegment.from_mp3(song_m)\n",
    "    # Save\n",
    "    song_w = os.path.join(source_dir,'results',filename+'.wav')\n",
    "    mp3.export(song_w, format=\"wav\")\n",
    "\n",
    "def extract_relevant(source_dir,filename,t1,t2):\n",
    "    # Load audio into PyDub\n",
    "    song_w = os.path.join(source_dir,'results',filename+'.wav')\n",
    "    wav = AudioSegment.from_wav(song_w)\n",
    "    # Slice audio (miliseconds)\n",
    "    wav = wav[1000*t1:1000*t2]\n",
    "    # Save\n",
    "    split_song = os.path.join(source_dir,'results','split_'+filename+'.wav')\n",
    "    wav.export(split_song, format='wav')\n",
    "\n",
    "def create_melspectrogram(source_dir,filename):\n",
    "    # Load audio into Librosa\n",
    "    split_song = os.path.join(source_dir,'results','split_'+filename+'.wav')\n",
    "    y, sr = librosa.load(split_song, duration=3)\n",
    "    mel_spect = librosa.feature.melspectrogram(y, sr)\n",
    "    mel_spect_dB = librosa.power_to_db(mel_spect, ref=np.max)\n",
    "    fig = plt.Figure()\n",
    "    canvas = FigureCanvas(fig)\n",
    "    p = plt.imshow(mel_spect_dB)\n",
    "    # Save \n",
    "    split_spect = os.path.join(source_dir,'results','spect_'+filename+'.png')\n",
    "    plt.savefig(split_spect)    \n",
    "\n",
    "def predict(source_dir,filename,model):\n",
    "    split_spect = os.path.join(source_dir,'results','spect_'+filename+'.png')\n",
    "    # Convert .png string to PIL image object\n",
    "    split_spect_pil = Image.open(split_spect) \n",
    "    # Convert PIL Image instance to Numpy array\n",
    "    image = img_to_array(split_spect_pil)\n",
    "    print(image.shape)    \n",
    "    \n",
    "    # Predict the label of the image using the built model\n",
    "    # 1. Calculate the expected output:\n",
    "    image = np.reshape(image,(1,288,432,4))\n",
    "    prediction = model.predict(image/255)\n",
    "    print(np.shape(prediction))\n",
    "    prediction = prediction.reshape((9,))\n",
    "    print(prediction)\n",
    "    # 2. Obtain the index that has the highest probability value:\n",
    "    class_label = np.argmax(prediction)\n",
    "    print(class_label)\n",
    "\n",
    "    return class_label,prediction"
   ]
  },
  {
   "cell_type": "code",
   "execution_count": 75,
   "metadata": {},
   "outputs": [
    {
     "name": "stdout",
     "output_type": "stream",
     "text": [
      "(288, 432, 4)\n",
      "WARNING:tensorflow:11 out of the last 11 calls to <function Model.make_predict_function.<locals>.predict_function at 0x7f9adfcf34c0> triggered tf.function retracing. Tracing is expensive and the excessive number of tracings could be due to (1) creating @tf.function repeatedly in a loop, (2) passing tensors with different shapes, (3) passing Python objects instead of tensors. For (1), please define your @tf.function outside of the loop. For (2), @tf.function has experimental_relax_shapes=True option that relaxes argument shapes that can avoid unnecessary retracing. For (3), please refer to https://www.tensorflow.org/guide/function#controlling_retracing and https://www.tensorflow.org/api_docs/python/tf/function for  more details.\n",
      "(1, 9)\n",
      "[2.3408249e-06 6.3520696e-05 3.1285521e-02 1.7146761e-02 4.7790052e-04\n",
      " 4.9090844e-01 2.9819988e-02 1.2966101e-02 4.1732943e-01]\n",
      "5\n",
      "The Genre of Song is --> metal\n"
     ]
    },
    {
     "data": {
      "image/png": "[encoded data removed]",
      "text/plain": [
       "<Figure size 432x288 with 1 Axes>"
      ]
     },
     "metadata": {
      "needs_background": "light"
     },
     "output_type": "display_data"
    },
    {
     "data": {
      "image/png": "[encoded data removed]",
      "text/plain": [
       "<Figure size 432x324 with 1 Axes>"
      ]
     },
     "metadata": {
      "needs_background": "light"
     },
     "output_type": "display_data"
    }
   ],
   "source": [
    "filename = 'Nirvana-Smells-Like-Teen-Spirit'\n",
    "\n",
    "convert_mp3_to_wav(source_dir,filename)\n",
    "extract_relevant(source_dir,filename,40,50)\n",
    "create_melspectrogram(source_dir,filename)\n",
    "\n",
    "# Load the model\n",
    "rec_model = load_model(model_file) # reconstructed model\n",
    "\n",
    "# Predict the genre\n",
    "class_label,prediction = predict(source_dir,filename,rec_model)\n",
    "class_labels = ['blues','classical','country','disco','hiphop','metal','pop','reggae','rock']\n",
    "print('The Genre of Song is --> '+class_labels[class_label])\n",
    "\n",
    "# Grafica\n",
    "color_data = [1,2,3,4,5,6,7,8,9]\n",
    "my_cmap = cm.get_cmap('jet')\n",
    "my_norm = Normalize(vmin=0,vmax=9)\n",
    "fig,ax = plt.subplots(figsize=(6,4.5))\n",
    "ax.bar(x=class_labels,height=prediction,color=my_cmap(my_norm(color_data)))\n",
    "plt.xticks(rotation=45)\n",
    "ax.set_title('Probability Distribution Of The Given Song Over Different Genres')\n",
    "plt.show()"
   ]
  }
 ],
 "metadata": {
  "colab": {
   "collapsed_sections": [],
   "name": "Neural_network_working_details.ipynb",
   "provenance": []
  },
  "kernelspec": {
   "display_name": "Python 3",
   "language": "python",
   "name": "python3"
  },
  "language_info": {
   "codemirror_mode": {
    "name": "ipython",
    "version": 3
   },
   "file_extension": ".py",
   "mimetype": "text/x-python",
   "name": "python",
   "nbconvert_exporter": "python",
   "pygments_lexer": "ipython3",
   "version": "3.8.5"
  }
 },
 "nbformat": 4,
 "nbformat_minor": 1
}
