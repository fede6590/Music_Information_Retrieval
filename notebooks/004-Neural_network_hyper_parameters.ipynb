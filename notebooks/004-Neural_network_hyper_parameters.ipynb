{
 "cells": [
  {
   "cell_type": "markdown",
   "metadata": {},
   "source": [
    "# Building a Deep Feedforward Neural Network\n",
    "In the previous chapter (cuadernos 001 a 003), we looked at the basics of the function of a neural network. In this chapter, we will get into the details of the functions associated to the various hyperparameters within a neural network."
   ]
  },
  {
   "cell_type": "markdown",
   "metadata": {},
   "source": [
    "## Training a vanilla neural network\n",
    "The problem we are trying to solve here is to classify grayscale images of handwritten digits (28 pixels by 28 pixels), into their 10 categories (0 to 9). The dataset we will use is the MNIST dataset, a classic dataset in the machine learning community."
   ]
  },
  {
   "cell_type": "markdown",
   "metadata": {},
   "source": [
    "### How to do it..."
   ]
  },
  {
   "cell_type": "markdown",
   "metadata": {},
   "source": [
    "1. Import the relevant packages:"
   ]
  },
  {
   "cell_type": "code",
   "execution_count": 2,
   "metadata": {},
   "outputs": [],
   "source": [
    "from keras.models import Sequential\n",
    "from keras.layers import Dense\n",
    "from keras.layers import Dropout\n",
    "from keras.utils import np_utils"
   ]
  },
  {
   "cell_type": "markdown",
   "metadata": {},
   "source": [
    "The MNIST dataset comes pre-loaded in Keras, in the form of a set of four Numpy arrays:"
   ]
  },
  {
   "cell_type": "code",
   "execution_count": 3,
   "metadata": {},
   "outputs": [],
   "source": [
    "from keras.datasets import mnist\n",
    "(X_train, y_train), (X_test, y_test) = mnist.load_data()"
   ]
  },
  {
   "cell_type": "markdown",
   "metadata": {},
   "source": [
    "`X_train` and `y_train` form the \"training set\", the data that the model will learn from. The model will then be tested on the \"test set\", `X_test` and `y_test`. Our images `X` are encoded as Numpy arrays, and the labels `y` are simply an array of digits, ranging from 0 to 9. There is a one-to-one correspondence between the images and the labels. Let's have a look at the training data:"
   ]
  },
  {
   "cell_type": "code",
   "execution_count": 332,
   "metadata": {},
   "outputs": [
    {
     "data": {
      "text/plain": [
       "(60000, 28, 28)"
      ]
     },
     "execution_count": 332,
     "metadata": {},
     "output_type": "execute_result"
    }
   ],
   "source": [
    "X_train.shape"
   ]
  },
  {
   "cell_type": "code",
   "execution_count": 333,
   "metadata": {},
   "outputs": [
    {
     "data": {
      "text/plain": [
       "60000"
      ]
     },
     "execution_count": 333,
     "metadata": {},
     "output_type": "execute_result"
    }
   ],
   "source": [
    "len(y_train)"
   ]
  },
  {
   "cell_type": "code",
   "execution_count": 334,
   "metadata": {},
   "outputs": [
    {
     "data": {
      "text/plain": [
       "array([5, 0, 4, ..., 5, 6, 8], dtype=uint8)"
      ]
     },
     "execution_count": 334,
     "metadata": {},
     "output_type": "execute_result"
    }
   ],
   "source": [
    "y_train"
   ]
  },
  {
   "cell_type": "markdown",
   "metadata": {},
   "source": [
    "Let's have a look at the test data:"
   ]
  },
  {
   "cell_type": "code",
   "execution_count": 335,
   "metadata": {},
   "outputs": [
    {
     "data": {
      "text/plain": [
       "(10000, 28, 28)"
      ]
     },
     "execution_count": 335,
     "metadata": {},
     "output_type": "execute_result"
    }
   ],
   "source": [
    "X_test.shape"
   ]
  },
  {
   "cell_type": "code",
   "execution_count": 336,
   "metadata": {},
   "outputs": [
    {
     "data": {
      "text/plain": [
       "10000"
      ]
     },
     "execution_count": 336,
     "metadata": {},
     "output_type": "execute_result"
    }
   ],
   "source": [
    "len(y_test)"
   ]
  },
  {
   "cell_type": "code",
   "execution_count": 337,
   "metadata": {},
   "outputs": [
    {
     "data": {
      "text/plain": [
       "array([7, 2, 1, ..., 4, 5, 6], dtype=uint8)"
      ]
     },
     "execution_count": 337,
     "metadata": {},
     "output_type": "execute_result"
    }
   ],
   "source": [
    "y_test"
   ]
  },
  {
   "cell_type": "markdown",
   "metadata": {},
   "source": [
    "Let's plot a few images to see what they will look like:"
   ]
  },
  {
   "cell_type": "code",
   "execution_count": 7,
   "metadata": {},
   "outputs": [
    {
     "data": {
      "image/png": "[encoded data removed]",
      "text/plain": [
       "<Figure size 432x288 with 4 Axes>"
      ]
     },
     "metadata": {
      "needs_background": "light"
     },
     "output_type": "display_data"
    }
   ],
   "source": [
    "import matplotlib.pyplot as plt\n",
    "%matplotlib inline\n",
    "plt.subplot(221)\n",
    "plt.imshow(X_train[0].reshape(28,28), cmap=plt.get_cmap('gray'))\n",
    "plt.grid('off')\n",
    "plt.subplot(222)\n",
    "plt.imshow(X_train[1].reshape(28,28), cmap=plt.get_cmap('gray'))\n",
    "plt.grid('off')\n",
    "plt.subplot(223)\n",
    "plt.imshow(X_train[2].reshape(28,28), cmap=plt.get_cmap('gray'))\n",
    "plt.grid('off')\n",
    "plt.subplot(224)\n",
    "plt.imshow(X_train[3].reshape(28,28), cmap=plt.get_cmap('gray'))\n",
    "plt.grid('off')\n",
    "plt.show()"
   ]
  },
  {
   "cell_type": "markdown",
   "metadata": {},
   "source": [
    "2. Before training, we will preprocess our data by reshaping it into the shape that the network expects: "
   ]
  },
  {
   "cell_type": "code",
   "execution_count": 339,
   "metadata": {},
   "outputs": [],
   "source": [
    "# flatten 28x28 images to a 784 (pixel values) vector for each image\n",
    "num_pixels = X_train.shape[1] * X_train.shape[2]\n",
    "X_train = X_train.reshape(X_train.shape[0], num_pixels).astype('float32')\n",
    "X_test = X_test.reshape(X_test.shape[0], num_pixels).astype('float32')\n"
   ]
  },
  {
   "cell_type": "markdown",
   "metadata": {},
   "source": [
    "Additionally, preprocess the labels (convert them into one-hot encoded vectors):"
   ]
  },
  {
   "cell_type": "code",
   "execution_count": 340,
   "metadata": {},
   "outputs": [],
   "source": [
    "# one-hot encode outputs\n",
    "y_train = np_utils.to_categorical(y_train)\n",
    "y_test = np_utils.to_categorical(y_test)\n",
    "num_classes = y_test.shape[1]"
   ]
  },
  {
   "cell_type": "markdown",
   "metadata": {},
   "source": [
    "In Keras, the one-hot encoding approach on top of labels is performed using the `to_categorical` method, which figures out the number of unique labels in the target data, and then converts them into a one-hot encoded vector.\n",
    "\n",
    "Let's try to understand how one-hot encoding works. If the unique possible labels are `{0, 1, 2, 3}`, they will be one-hot encoded, as follows:\n",
    "\n",
    "| Label | | | | |\n",
    "| :- | :-: | :-: | :-: | :-: |\n",
    "| **0** | 1 | 0 | 0 | 0 |\n",
    "| **1** | 0 | 1 | 0 | 0 |\n",
    "| **2** | 0 | 0 | 1 | 0 |\n",
    "| **3** | 0 | 0 | 0 | 1 |"
   ]
  },
  {
   "cell_type": "markdown",
   "metadata": {},
   "source": [
    "3. Initialize a model and define the model architecture:"
   ]
  },
  {
   "cell_type": "code",
   "execution_count": 341,
   "metadata": {},
   "outputs": [],
   "source": [
    "model = Sequential()\n",
    "model.add(Dense(1000, input_dim=784, activation='relu'))\n",
    "model.add(Dense(10, activation='softmax'))"
   ]
  },
  {
   "cell_type": "markdown",
   "metadata": {},
   "source": [
    "In the preceding step, we mention that the input has `784` values that are connected to `1000` values in a hidden layer. Additionally, we are also specifying that the activation, which is to be performed in the hidden layer after the matrix multiplication of the input and the weights connecting the input and hidden layer, is the `ReLU` activation.\n",
    "\n",
    "Finally, the hidden layer is connected to an output that has `10` values (as there are 10 columns in the vectors created by the `to_categorical` method), and we perform `softmax` on top of the output so that we obtain the probability of an image belonging to a certain class."
   ]
  },
  {
   "cell_type": "markdown",
   "metadata": {},
   "source": [
    "4. The preceding model architecture can be visualized as follows:"
   ]
  },
  {
   "cell_type": "code",
   "execution_count": 342,
   "metadata": {},
   "outputs": [
    {
     "name": "stdout",
     "output_type": "stream",
     "text": [
      "Model: \"sequential_91\"\n",
      "_________________________________________________________________\n",
      "Layer (type)                 Output Shape              Param #   \n",
      "=================================================================\n",
      "dense_188 (Dense)            (None, 1000)              785000    \n",
      "_________________________________________________________________\n",
      "dense_189 (Dense)            (None, 10)                10010     \n",
      "=================================================================\n",
      "Total params: 795,010\n",
      "Trainable params: 795,010\n",
      "Non-trainable params: 0\n",
      "_________________________________________________________________\n"
     ]
    }
   ],
   "source": [
    "model.summary()"
   ]
  },
  {
   "cell_type": "markdown",
   "metadata": {},
   "source": [
    "As we see, the number of parameters in the first layer is `785000`, as the `784` input units are connected to `1000` hidden units, resulting in `784*1000` weight values and `1000` bias values, for the `1000` hidden units.\n",
    "\n",
    "Similarly, the output layer has `10` outputs, which are connected to each of the `1000` hidden units, resulting in `1000*10` weight values and `10` biases (a total of `10010` parameters)."
   ]
  },
  {
   "cell_type": "markdown",
   "metadata": {},
   "source": [
    "5. Compile the model:"
   ]
  },
  {
   "cell_type": "code",
   "execution_count": 343,
   "metadata": {},
   "outputs": [],
   "source": [
    "model.compile(loss='categorical_crossentropy', optimizer='adam', metrics=['accuracy'])"
   ]
  },
  {
   "cell_type": "markdown",
   "metadata": {},
   "source": [
    "Note that because the target variable is a one-hot encoded vector with multiple classes in it, the loss function will be a `categorical cross-entropy` loss.\n",
    "\n",
    "Additionally, we use the `Adam` optimizer to minimize the cost function.\n",
    "\n",
    "We also note that we will need to look at the `accuracy metric` while the model is getting trained."
   ]
  },
  {
   "cell_type": "markdown",
   "metadata": {},
   "source": [
    "6. Fit the model:"
   ]
  },
  {
   "cell_type": "code",
   "execution_count": 344,
   "metadata": {},
   "outputs": [
    {
     "name": "stdout",
     "output_type": "stream",
     "text": [
      "Epoch 1/50\n",
      "59/59 [==============================] - 0s 8ms/step - loss: 16.7997 - accuracy: 0.8408 - val_loss: 2.6452 - val_accuracy: 0.9389\n",
      "Epoch 2/50\n",
      "59/59 [==============================] - 0s 7ms/step - loss: 1.7335 - accuracy: 0.9468 - val_loss: 1.3086 - val_accuracy: 0.9487\n",
      "Epoch 3/50\n",
      "59/59 [==============================] - 0s 7ms/step - loss: 0.7411 - accuracy: 0.9631 - val_loss: 1.0337 - val_accuracy: 0.9537\n",
      "Epoch 4/50\n",
      "59/59 [==============================] - 0s 7ms/step - loss: 0.4042 - accuracy: 0.9738 - val_loss: 0.8605 - val_accuracy: 0.9590\n",
      "Epoch 5/50\n",
      "59/59 [==============================] - 0s 7ms/step - loss: 0.2379 - accuracy: 0.9802 - val_loss: 0.8134 - val_accuracy: 0.9608\n",
      "Epoch 6/50\n",
      "59/59 [==============================] - 0s 7ms/step - loss: 0.1530 - accuracy: 0.9856 - val_loss: 0.7644 - val_accuracy: 0.9634\n",
      "Epoch 7/50\n",
      "59/59 [==============================] - 0s 7ms/step - loss: 0.0958 - accuracy: 0.9890 - val_loss: 0.7501 - val_accuracy: 0.9628\n",
      "Epoch 8/50\n",
      "59/59 [==============================] - 0s 7ms/step - loss: 0.0669 - accuracy: 0.9913 - val_loss: 0.7098 - val_accuracy: 0.9654\n",
      "Epoch 9/50\n",
      "59/59 [==============================] - 0s 7ms/step - loss: 0.0525 - accuracy: 0.9925 - val_loss: 0.7407 - val_accuracy: 0.9652\n",
      "Epoch 10/50\n",
      "59/59 [==============================] - 0s 7ms/step - loss: 0.0342 - accuracy: 0.9945 - val_loss: 0.7371 - val_accuracy: 0.9660\n",
      "Epoch 11/50\n",
      "59/59 [==============================] - 0s 7ms/step - loss: 0.0261 - accuracy: 0.9955 - val_loss: 0.6901 - val_accuracy: 0.9669\n",
      "Epoch 12/50\n",
      "59/59 [==============================] - 0s 7ms/step - loss: 0.0265 - accuracy: 0.9953 - val_loss: 0.7010 - val_accuracy: 0.9671\n",
      "Epoch 13/50\n",
      "59/59 [==============================] - 0s 7ms/step - loss: 0.0237 - accuracy: 0.9962 - val_loss: 0.7110 - val_accuracy: 0.9679\n",
      "Epoch 14/50\n",
      "59/59 [==============================] - 0s 7ms/step - loss: 0.0233 - accuracy: 0.9961 - val_loss: 0.6967 - val_accuracy: 0.9688\n",
      "Epoch 15/50\n",
      "59/59 [==============================] - 0s 7ms/step - loss: 0.0308 - accuracy: 0.9955 - val_loss: 0.6909 - val_accuracy: 0.9683\n",
      "Epoch 16/50\n",
      "59/59 [==============================] - 0s 7ms/step - loss: 0.0308 - accuracy: 0.9955 - val_loss: 0.7045 - val_accuracy: 0.9694\n",
      "Epoch 17/50\n",
      "59/59 [==============================] - 0s 7ms/step - loss: 0.0279 - accuracy: 0.9959 - val_loss: 0.7389 - val_accuracy: 0.9684\n",
      "Epoch 18/50\n",
      "59/59 [==============================] - 0s 7ms/step - loss: 0.0286 - accuracy: 0.9956 - val_loss: 0.7355 - val_accuracy: 0.9701\n",
      "Epoch 19/50\n",
      "59/59 [==============================] - 0s 7ms/step - loss: 0.0237 - accuracy: 0.9963 - val_loss: 0.6930 - val_accuracy: 0.9715\n",
      "Epoch 20/50\n",
      "59/59 [==============================] - 0s 7ms/step - loss: 0.0295 - accuracy: 0.9957 - val_loss: 0.7043 - val_accuracy: 0.9705\n",
      "Epoch 21/50\n",
      "59/59 [==============================] - 0s 7ms/step - loss: 0.0282 - accuracy: 0.9959 - val_loss: 0.7181 - val_accuracy: 0.9682\n",
      "Epoch 22/50\n",
      "59/59 [==============================] - 0s 7ms/step - loss: 0.0320 - accuracy: 0.9955 - val_loss: 0.6915 - val_accuracy: 0.9701\n",
      "Epoch 23/50\n",
      "59/59 [==============================] - 0s 7ms/step - loss: 0.0228 - accuracy: 0.9967 - val_loss: 0.6826 - val_accuracy: 0.9711\n",
      "Epoch 24/50\n",
      "59/59 [==============================] - 0s 7ms/step - loss: 0.0214 - accuracy: 0.9968 - val_loss: 0.6958 - val_accuracy: 0.9704\n",
      "Epoch 25/50\n",
      "59/59 [==============================] - 0s 7ms/step - loss: 0.0237 - accuracy: 0.9967 - val_loss: 0.8001 - val_accuracy: 0.9675\n",
      "Epoch 26/50\n",
      "59/59 [==============================] - 0s 7ms/step - loss: 0.0424 - accuracy: 0.9948 - val_loss: 0.7136 - val_accuracy: 0.9703\n",
      "Epoch 27/50\n",
      "59/59 [==============================] - 0s 7ms/step - loss: 0.0422 - accuracy: 0.9951 - val_loss: 0.7249 - val_accuracy: 0.9692\n",
      "Epoch 28/50\n",
      "59/59 [==============================] - 0s 7ms/step - loss: 0.0477 - accuracy: 0.9947 - val_loss: 0.7039 - val_accuracy: 0.9734\n",
      "Epoch 29/50\n",
      "59/59 [==============================] - 0s 7ms/step - loss: 0.0388 - accuracy: 0.9956 - val_loss: 0.6787 - val_accuracy: 0.9744\n",
      "Epoch 30/50\n",
      "59/59 [==============================] - 0s 7ms/step - loss: 0.0374 - accuracy: 0.9958 - val_loss: 0.6823 - val_accuracy: 0.9747\n",
      "Epoch 31/50\n",
      "59/59 [==============================] - 0s 7ms/step - loss: 0.0412 - accuracy: 0.9956 - val_loss: 0.7390 - val_accuracy: 0.9713\n",
      "Epoch 32/50\n",
      "59/59 [==============================] - 0s 7ms/step - loss: 0.0386 - accuracy: 0.9958 - val_loss: 0.7415 - val_accuracy: 0.9714\n",
      "Epoch 33/50\n",
      "59/59 [==============================] - 0s 7ms/step - loss: 0.0572 - accuracy: 0.9947 - val_loss: 0.7193 - val_accuracy: 0.9723\n",
      "Epoch 34/50\n",
      "59/59 [==============================] - 0s 7ms/step - loss: 0.0450 - accuracy: 0.9955 - val_loss: 0.6939 - val_accuracy: 0.9717\n",
      "Epoch 35/50\n",
      "59/59 [==============================] - 0s 7ms/step - loss: 0.0415 - accuracy: 0.9955 - val_loss: 0.7783 - val_accuracy: 0.9711\n",
      "Epoch 36/50\n",
      "59/59 [==============================] - 0s 7ms/step - loss: 0.0289 - accuracy: 0.9967 - val_loss: 0.6902 - val_accuracy: 0.9724\n",
      "Epoch 37/50\n",
      "59/59 [==============================] - 0s 7ms/step - loss: 0.0350 - accuracy: 0.9963 - val_loss: 0.7751 - val_accuracy: 0.9735\n",
      "Epoch 38/50\n",
      "59/59 [==============================] - 0s 7ms/step - loss: 0.0353 - accuracy: 0.9963 - val_loss: 0.7631 - val_accuracy: 0.9745\n",
      "Epoch 39/50\n",
      "59/59 [==============================] - 0s 7ms/step - loss: 0.0273 - accuracy: 0.9970 - val_loss: 0.7417 - val_accuracy: 0.9736\n",
      "Epoch 40/50\n",
      "59/59 [==============================] - 0s 7ms/step - loss: 0.0216 - accuracy: 0.9973 - val_loss: 0.7152 - val_accuracy: 0.9744\n",
      "Epoch 41/50\n",
      "59/59 [==============================] - 0s 7ms/step - loss: 0.0327 - accuracy: 0.9967 - val_loss: 0.7699 - val_accuracy: 0.9744\n",
      "Epoch 42/50\n",
      "59/59 [==============================] - 0s 7ms/step - loss: 0.0296 - accuracy: 0.9971 - val_loss: 0.7374 - val_accuracy: 0.9739\n",
      "Epoch 43/50\n",
      "59/59 [==============================] - 0s 7ms/step - loss: 0.0327 - accuracy: 0.9966 - val_loss: 0.7616 - val_accuracy: 0.9736\n",
      "Epoch 44/50\n",
      "59/59 [==============================] - 0s 7ms/step - loss: 0.0196 - accuracy: 0.9976 - val_loss: 0.7188 - val_accuracy: 0.9740\n",
      "Epoch 45/50\n",
      "59/59 [==============================] - 0s 7ms/step - loss: 0.0403 - accuracy: 0.9966 - val_loss: 0.7688 - val_accuracy: 0.9739\n",
      "Epoch 46/50\n",
      "59/59 [==============================] - 0s 7ms/step - loss: 0.0489 - accuracy: 0.9955 - val_loss: 0.8153 - val_accuracy: 0.9709\n",
      "Epoch 47/50\n",
      "59/59 [==============================] - 0s 7ms/step - loss: 0.0548 - accuracy: 0.9955 - val_loss: 0.7234 - val_accuracy: 0.9759\n",
      "Epoch 48/50\n",
      "59/59 [==============================] - 0s 7ms/step - loss: 0.0442 - accuracy: 0.9956 - val_loss: 0.6978 - val_accuracy: 0.9746\n",
      "Epoch 49/50\n",
      "59/59 [==============================] - 0s 7ms/step - loss: 0.0331 - accuracy: 0.9969 - val_loss: 0.7399 - val_accuracy: 0.9735\n",
      "Epoch 50/50\n",
      "59/59 [==============================] - 0s 7ms/step - loss: 0.0271 - accuracy: 0.9973 - val_loss: 0.6496 - val_accuracy: 0.9758\n"
     ]
    }
   ],
   "source": [
    "history = model.fit(X_train, y_train, validation_data=(X_test, y_test), epochs=50, batch_size=1024, verbose=1)"
   ]
  },
  {
   "cell_type": "markdown",
   "metadata": {},
   "source": [
    "In the preceding code, we have specified the input `X_train` and the output `y_train` that the model will fit. Additionally, we also specify the input and output of the test dataset, which the model will not use to train weights; however, it will give us an idea of how different the loss value and accuracy values are between the training and the test datasets."
   ]
  },
  {
   "cell_type": "markdown",
   "metadata": {},
   "source": [
    "8. Extract loss and accuracy metrics for both training and test datasets over different epochs:"
   ]
  },
  {
   "cell_type": "code",
   "execution_count": 345,
   "metadata": {},
   "outputs": [],
   "source": [
    "history_dict = history.history\n",
    "loss_values = history_dict['loss']\n",
    "val_loss_values = history_dict['val_loss']\n",
    "acc_values = history_dict['accuracy']\n",
    "val_acc_values = history_dict['val_accuracy']\n",
    "epochs = range(1, len(val_loss_values) + 1)"
   ]
  },
  {
   "cell_type": "markdown",
   "metadata": {},
   "source": [
    "And now visualize!"
   ]
  },
  {
   "cell_type": "code",
   "execution_count": 346,
   "metadata": {
    "scrolled": true
   },
   "outputs": [
    {
     "data": {
      "image/png": "[encoded data removed]",
      "text/plain": [
       "<Figure size 432x288 with 1 Axes>"
      ]
     },
     "metadata": {
      "needs_background": "light"
     },
     "output_type": "display_data"
    },
    {
     "data": {
      "image/png": "[encoded data removed]",
      "text/plain": [
       "<Figure size 432x288 with 1 Axes>"
      ]
     },
     "metadata": {
      "needs_background": "light"
     },
     "output_type": "display_data"
    }
   ],
   "source": [
    "import matplotlib.pyplot as plt\n",
    "%matplotlib inline\n",
    "plt.subplot(211)\n",
    "plt.plot(epochs, loss_values, 'bo', label='Training loss')\n",
    "plt.plot(epochs, val_loss_values, 'r', label='Test loss')\n",
    "plt.title('Training and test loss')\n",
    "plt.xlabel('Epochs')\n",
    "plt.ylabel('Loss')\n",
    "plt.legend()\n",
    "plt.grid('off')\n",
    "plt.show()\n",
    "plt.subplot(212)\n",
    "plt.plot(epochs, acc_values, 'bo', label='Training accuracy')\n",
    "plt.plot(epochs, val_acc_values, 'r', label='Test accuracy')\n",
    "plt.title('Training and test accuracy')\n",
    "plt.xlabel('Epochs')\n",
    "plt.ylabel('Accuracy')\n",
    "plt.gca().set_yticklabels(['{:.0f}%'.format(x*100) for x in plt.gca().get_yticks()]) \n",
    "plt.legend()\n",
    "plt.grid('off')\n",
    "plt.show()"
   ]
  },
  {
   "cell_type": "markdown",
   "metadata": {},
   "source": [
    "We notice that there is a gap between the training and test accuracy/loss values, indicating that there is potential **overfitting** on top of the training dataset. Overfitting is the phenomenon where the model specializes on the training data that it might not work as well on the test dataset."
   ]
  },
  {
   "cell_type": "markdown",
   "metadata": {},
   "source": [
    "Let's calculate the accuracy of the model manually:"
   ]
  },
  {
   "cell_type": "code",
   "execution_count": 106,
   "metadata": {},
   "outputs": [],
   "source": [
    "preds = model.predict(X_test)"
   ]
  },
  {
   "cell_type": "markdown",
   "metadata": {},
   "source": [
    "In the preceding step, we are using the `predict` method to calculate the expected output values for a given input (`X_test` in this case) to the model.\n",
    "\n",
    "In the following code, we loop over all the test predictions and for each one we obtain the index that has the highest probability value. We perform the same exercise for the actual values of the test dataset.\n",
    "\n",
    "Finally, the number of correct predictions over the total number of data points in the test dataset is the accuracy of the model on the test dataset:"
   ]
  },
  {
   "cell_type": "code",
   "execution_count": 107,
   "metadata": {},
   "outputs": [
    {
     "data": {
      "text/plain": [
       "0.9715"
      ]
     },
     "execution_count": 107,
     "metadata": {},
     "output_type": "execute_result"
    }
   ],
   "source": [
    "import numpy as np\n",
    "correct = 0\n",
    "for i in range(len(X_test)):\n",
    "    pred = np.argmax(preds[i],axis=0)\n",
    "    act = np.argmax(y_test[i],axis=0)\n",
    "    if(pred==act):\n",
    "        correct+=1\n",
    "    else:\n",
    "        continue\n",
    "\n",
    "correct/len(X_test)"
   ]
  },
  {
   "cell_type": "markdown",
   "metadata": {},
   "source": [
    "## Scaling the input dataset"
   ]
  },
  {
   "cell_type": "markdown",
   "metadata": {},
   "source": [
    "Scaling a dataset is a process where we limit the variables within a dataset to ensure they do not have a very wide range of different values. One way to achieve this is to divide each variable in the dataset by the maximum value of the variable. Typically, neural networks perform well when we scale the input datasets."
   ]
  },
  {
   "cell_type": "markdown",
   "metadata": {},
   "source": [
    "### Getting ready"
   ]
  },
  {
   "cell_type": "markdown",
   "metadata": {},
   "source": [
    "To understand the impact of the scaling input on the output, let's contrast the scenario where we check the output when the input dataset is not scaled, with the output when the input dataset is scaled.\n",
    "\n",
    "Input data is not scaled:\n",
    "\n",
    "| Scenario | Input | Weight | Bias | Sigmoid |\n",
    "| :-: | :-: | :-: | :-: | :-: |\n",
    "| **1** | 255 | 0.01 | 0 | 0.93 |\n",
    "| **2** | 255 | 0.1 | 0 | 1.00 |\n",
    "| **3** | 255 | 0.2 | 0 | 1.00 |\n",
    "| **4** | 255 | 0.3 | 0 | 1.00 |\n",
    "| **5** | 255 | 0.4 | 0 | 1.00 |\n",
    "| **6** | 255 | 0.5 | 0 | 1.00 |\n",
    "| **7** | 255 | 0.6 | 0 | 1.00 |\n",
    "| **8** | 255 | 0.7 | 0 | 1.00 |\n",
    "| **9** | 255 | 0.8 | 0 | 1.00 |"
   ]
  },
  {
   "cell_type": "markdown",
   "metadata": {},
   "source": [
    "In the preceding table, note that the output (sigmoid) did not vary a lot, even though the weight value varied from `0.01` to `0.8`. The `sigmoid` function is calculated as the sigmoid value of the multiplication of the input with the weight, and then adding a bias to it:\n",
    "\n",
    "<div class=\"alert alert-block alert-warning\">\n",
    "<tt>output = 1/(1+np.exp(-(w*x + b))</tt>\n",
    "</div>\n",
    "\n",
    "The reason for no change in the sigmoid output is due to the fact that the multiplication of `w*x` is a large number (as `x` is a large number) resulting in the sigmoid value always falling in the saturated portion of the sigmoid curve."
   ]
  },
  {
   "cell_type": "markdown",
   "metadata": {},
   "source": [
    "Now let's multiply different weight values by a small input number, as follows:\n",
    "\n",
    "| Scenario | Input | Weight | Bias | Sigmoid |\n",
    "| :-: | :-: | :-: | :-: | :-: |\n",
    "| **1** | 1 | 0.01 | 0 | 0.50 |\n",
    "| **2** | 1 | 0.1 | 0 | 0.52 |\n",
    "| **3** | 1 | 0.2 | 0 | 0.55 |\n",
    "| **4** | 1 | 0.3 | 0 | 0.57 |\n",
    "| **5** | 1 | 0.4 | 0 | 0.60 |\n",
    "| **6** | 1 | 0.5 | 0 | 0.62 |\n",
    "| **7** | 1 | 0.6 | 0 | 0.65 |\n",
    "| **8** | 1 | 0.7 | 0 | 0.67 |\n",
    "| **9** | 1 | 0.8 | 0 | 0.69 |"
   ]
  },
  {
   "cell_type": "markdown",
   "metadata": {},
   "source": [
    "We see that the sigmoid output varies, as the input and weight values are small !\n",
    "\n",
    "From this exercise, we learned about the importance of scaling the input dataset so that it results in a smaller value when the weights (provided the weights do not have a high range) are multiplied by the input values. This phenomenon results in the weight value not getting updated quickly enough.\n",
    "\n",
    "Thus, to achieve the optimal weight value, we should scale our input dataset while initializing the weights to not have a huge range (typically, weights have a random value between `-1` and `+1` during initialization)."
   ]
  },
  {
   "cell_type": "markdown",
   "metadata": {},
   "source": [
    "### How to do it...\n",
    "There are multiple ways to scale a dataset. One way is to convert all data points to a value between `0` and `1` (dividing each data point by the maximum value in the total dataset). Another method is to normalize the dataset so that the values lie between `-1` and `+1` by subtracting each data point by the overall dataset mean, and then dividing each resulting data point by the standard deviation. \n",
    "\n",
    "Now we scale the training and test inputs to a value between `0` and `1`:"
   ]
  },
  {
   "cell_type": "code",
   "execution_count": 349,
   "metadata": {},
   "outputs": [],
   "source": [
    "X_train = X_train/255\n",
    "X_test = X_test/255"
   ]
  },
  {
   "cell_type": "code",
   "execution_count": 350,
   "metadata": {},
   "outputs": [
    {
     "name": "stdout",
     "output_type": "stream",
     "text": [
      "Epoch 1/50\n",
      "59/59 [==============================] - 0s 8ms/step - loss: 0.4767 - accuracy: 0.8725 - val_loss: 0.2265 - val_accuracy: 0.9344\n",
      "Epoch 2/50\n",
      "59/59 [==============================] - 0s 7ms/step - loss: 0.1936 - accuracy: 0.9455 - val_loss: 0.1633 - val_accuracy: 0.9555\n",
      "Epoch 3/50\n",
      "59/59 [==============================] - 0s 7ms/step - loss: 0.1411 - accuracy: 0.9602 - val_loss: 0.1254 - val_accuracy: 0.9633\n",
      "Epoch 4/50\n",
      "59/59 [==============================] - 0s 7ms/step - loss: 0.1072 - accuracy: 0.9699 - val_loss: 0.1075 - val_accuracy: 0.9683\n",
      "Epoch 5/50\n",
      "59/59 [==============================] - 0s 7ms/step - loss: 0.0849 - accuracy: 0.9764 - val_loss: 0.0939 - val_accuracy: 0.9729\n",
      "Epoch 6/50\n",
      "59/59 [==============================] - 0s 7ms/step - loss: 0.0695 - accuracy: 0.9809 - val_loss: 0.0822 - val_accuracy: 0.9757\n",
      "Epoch 7/50\n",
      "59/59 [==============================] - 0s 7ms/step - loss: 0.0563 - accuracy: 0.9850 - val_loss: 0.0759 - val_accuracy: 0.9775\n",
      "Epoch 8/50\n",
      "59/59 [==============================] - 0s 7ms/step - loss: 0.0473 - accuracy: 0.9872 - val_loss: 0.0725 - val_accuracy: 0.9769\n",
      "Epoch 9/50\n",
      "59/59 [==============================] - 0s 7ms/step - loss: 0.0397 - accuracy: 0.9901 - val_loss: 0.0705 - val_accuracy: 0.9773\n",
      "Epoch 10/50\n",
      "59/59 [==============================] - 0s 7ms/step - loss: 0.0340 - accuracy: 0.9917 - val_loss: 0.0652 - val_accuracy: 0.9809\n",
      "Epoch 11/50\n",
      "59/59 [==============================] - 0s 7ms/step - loss: 0.0288 - accuracy: 0.9932 - val_loss: 0.0622 - val_accuracy: 0.9806\n",
      "Epoch 12/50\n",
      "59/59 [==============================] - 0s 7ms/step - loss: 0.0241 - accuracy: 0.9949 - val_loss: 0.0595 - val_accuracy: 0.9813\n",
      "Epoch 13/50\n",
      "59/59 [==============================] - 0s 7ms/step - loss: 0.0209 - accuracy: 0.9958 - val_loss: 0.0615 - val_accuracy: 0.9807\n",
      "Epoch 14/50\n",
      "59/59 [==============================] - 0s 7ms/step - loss: 0.0180 - accuracy: 0.9965 - val_loss: 0.0584 - val_accuracy: 0.9819\n",
      "Epoch 15/50\n",
      "59/59 [==============================] - 0s 7ms/step - loss: 0.0149 - accuracy: 0.9979 - val_loss: 0.0579 - val_accuracy: 0.9821\n",
      "Epoch 16/50\n",
      "59/59 [==============================] - 0s 7ms/step - loss: 0.0134 - accuracy: 0.9981 - val_loss: 0.0587 - val_accuracy: 0.9817\n",
      "Epoch 17/50\n",
      "59/59 [==============================] - 0s 7ms/step - loss: 0.0111 - accuracy: 0.9987 - val_loss: 0.0571 - val_accuracy: 0.9826\n",
      "Epoch 18/50\n",
      "59/59 [==============================] - 0s 7ms/step - loss: 0.0096 - accuracy: 0.9991 - val_loss: 0.0579 - val_accuracy: 0.9816\n",
      "Epoch 19/50\n",
      "59/59 [==============================] - 0s 7ms/step - loss: 0.0085 - accuracy: 0.9992 - val_loss: 0.0584 - val_accuracy: 0.9826\n",
      "Epoch 20/50\n",
      "59/59 [==============================] - 0s 7ms/step - loss: 0.0075 - accuracy: 0.9994 - val_loss: 0.0580 - val_accuracy: 0.9822\n",
      "Epoch 21/50\n",
      "59/59 [==============================] - 0s 7ms/step - loss: 0.0067 - accuracy: 0.9995 - val_loss: 0.0577 - val_accuracy: 0.9829\n",
      "Epoch 22/50\n",
      "59/59 [==============================] - 0s 7ms/step - loss: 0.0058 - accuracy: 0.9996 - val_loss: 0.0609 - val_accuracy: 0.9824\n",
      "Epoch 23/50\n",
      "59/59 [==============================] - 0s 7ms/step - loss: 0.0051 - accuracy: 0.9997 - val_loss: 0.0593 - val_accuracy: 0.9816\n",
      "Epoch 24/50\n",
      "59/59 [==============================] - 0s 7ms/step - loss: 0.0046 - accuracy: 0.9998 - val_loss: 0.0588 - val_accuracy: 0.9827\n",
      "Epoch 25/50\n",
      "59/59 [==============================] - 0s 7ms/step - loss: 0.0040 - accuracy: 0.9999 - val_loss: 0.0589 - val_accuracy: 0.9816\n",
      "Epoch 26/50\n",
      "59/59 [==============================] - 0s 7ms/step - loss: 0.0035 - accuracy: 0.9998 - val_loss: 0.0602 - val_accuracy: 0.9821\n",
      "Epoch 27/50\n",
      "59/59 [==============================] - 0s 7ms/step - loss: 0.0032 - accuracy: 0.9999 - val_loss: 0.0595 - val_accuracy: 0.9830\n",
      "Epoch 28/50\n",
      "59/59 [==============================] - 0s 7ms/step - loss: 0.0028 - accuracy: 1.0000 - val_loss: 0.0599 - val_accuracy: 0.9823\n",
      "Epoch 29/50\n",
      "59/59 [==============================] - 0s 7ms/step - loss: 0.0026 - accuracy: 1.0000 - val_loss: 0.0607 - val_accuracy: 0.9823\n",
      "Epoch 30/50\n",
      "59/59 [==============================] - 0s 7ms/step - loss: 0.0024 - accuracy: 1.0000 - val_loss: 0.0606 - val_accuracy: 0.9829\n",
      "Epoch 31/50\n",
      "59/59 [==============================] - 0s 7ms/step - loss: 0.0022 - accuracy: 1.0000 - val_loss: 0.0604 - val_accuracy: 0.9829\n",
      "Epoch 32/50\n",
      "59/59 [==============================] - 0s 7ms/step - loss: 0.0020 - accuracy: 1.0000 - val_loss: 0.0607 - val_accuracy: 0.9830\n",
      "Epoch 33/50\n",
      "59/59 [==============================] - 0s 7ms/step - loss: 0.0018 - accuracy: 1.0000 - val_loss: 0.0613 - val_accuracy: 0.9831\n",
      "Epoch 34/50\n",
      "59/59 [==============================] - 0s 7ms/step - loss: 0.0017 - accuracy: 1.0000 - val_loss: 0.0620 - val_accuracy: 0.9826\n",
      "Epoch 35/50\n",
      "59/59 [==============================] - 0s 7ms/step - loss: 0.0016 - accuracy: 1.0000 - val_loss: 0.0629 - val_accuracy: 0.9829\n",
      "Epoch 36/50\n",
      "59/59 [==============================] - 0s 7ms/step - loss: 0.0014 - accuracy: 1.0000 - val_loss: 0.0626 - val_accuracy: 0.9834\n",
      "Epoch 37/50\n",
      "59/59 [==============================] - 0s 7ms/step - loss: 0.0013 - accuracy: 1.0000 - val_loss: 0.0632 - val_accuracy: 0.9820\n",
      "Epoch 38/50\n",
      "59/59 [==============================] - 0s 7ms/step - loss: 0.0012 - accuracy: 1.0000 - val_loss: 0.0632 - val_accuracy: 0.9827\n",
      "Epoch 39/50\n",
      "59/59 [==============================] - 0s 7ms/step - loss: 0.0011 - accuracy: 1.0000 - val_loss: 0.0633 - val_accuracy: 0.9830\n",
      "Epoch 40/50\n",
      "59/59 [==============================] - 0s 7ms/step - loss: 0.0011 - accuracy: 1.0000 - val_loss: 0.0637 - val_accuracy: 0.9834\n",
      "Epoch 41/50\n",
      "59/59 [==============================] - 0s 7ms/step - loss: 0.0010 - accuracy: 1.0000 - val_loss: 0.0639 - val_accuracy: 0.9832\n",
      "Epoch 42/50\n",
      "59/59 [==============================] - 0s 7ms/step - loss: 9.3878e-04 - accuracy: 1.0000 - val_loss: 0.0639 - val_accuracy: 0.9827\n",
      "Epoch 43/50\n",
      "59/59 [==============================] - 0s 7ms/step - loss: 8.9241e-04 - accuracy: 1.0000 - val_loss: 0.0648 - val_accuracy: 0.9825\n",
      "Epoch 44/50\n",
      "59/59 [==============================] - 0s 7ms/step - loss: 8.3028e-04 - accuracy: 1.0000 - val_loss: 0.0650 - val_accuracy: 0.9827\n",
      "Epoch 45/50\n",
      "59/59 [==============================] - 0s 7ms/step - loss: 7.7563e-04 - accuracy: 1.0000 - val_loss: 0.0652 - val_accuracy: 0.9829\n",
      "Epoch 46/50\n",
      "59/59 [==============================] - 0s 7ms/step - loss: 7.3625e-04 - accuracy: 1.0000 - val_loss: 0.0659 - val_accuracy: 0.9829\n",
      "Epoch 47/50\n",
      "59/59 [==============================] - 0s 7ms/step - loss: 6.9313e-04 - accuracy: 1.0000 - val_loss: 0.0655 - val_accuracy: 0.9829\n",
      "Epoch 48/50\n",
      "59/59 [==============================] - 0s 7ms/step - loss: 6.5158e-04 - accuracy: 1.0000 - val_loss: 0.0661 - val_accuracy: 0.9827\n",
      "Epoch 49/50\n",
      "59/59 [==============================] - 0s 7ms/step - loss: 6.1434e-04 - accuracy: 1.0000 - val_loss: 0.0664 - val_accuracy: 0.9829\n",
      "Epoch 50/50\n",
      "59/59 [==============================] - 0s 7ms/step - loss: 5.8773e-04 - accuracy: 1.0000 - val_loss: 0.0669 - val_accuracy: 0.9825\n"
     ]
    }
   ],
   "source": [
    "model = Sequential()\n",
    "model.add(Dense(1000, input_dim=784, activation='relu'))\n",
    "model.add(Dense(10, activation='softmax'))\n",
    "model.compile(loss='categorical_crossentropy', optimizer='adam', metrics=['accuracy'])\n",
    "history = model.fit(X_train, y_train, validation_data=(X_test, y_test), epochs=50, batch_size=1024, verbose=1)"
   ]
  },
  {
   "cell_type": "code",
   "execution_count": 351,
   "metadata": {},
   "outputs": [],
   "source": [
    "history_dict = history.history\n",
    "loss_values = history_dict['loss']\n",
    "val_loss_values = history_dict['val_loss']\n",
    "acc_values = history_dict['accuracy']\n",
    "val_acc_values = history_dict['val_accuracy']\n",
    "epochs = range(1, len(val_loss_values) + 1)"
   ]
  },
  {
   "cell_type": "code",
   "execution_count": 352,
   "metadata": {},
   "outputs": [
    {
     "data": {
      "image/png": "[encoded data removed]",
      "text/plain": [
       "<Figure size 432x288 with 1 Axes>"
      ]
     },
     "metadata": {
      "needs_background": "light"
     },
     "output_type": "display_data"
    },
    {
     "data": {
      "image/png": "[encoded data removed]",
      "text/plain": [
       "<Figure size 432x288 with 1 Axes>"
      ]
     },
     "metadata": {
      "needs_background": "light"
     },
     "output_type": "display_data"
    }
   ],
   "source": [
    "import matplotlib.pyplot as plt\n",
    "%matplotlib inline\n",
    "plt.subplot(211)\n",
    "plt.plot(epochs, loss_values, 'bo', label='Training loss')\n",
    "plt.plot(epochs, val_loss_values, 'r', label='Test loss')\n",
    "plt.title('Training and test loss')\n",
    "plt.xlabel('Epochs')\n",
    "plt.ylabel('Loss')\n",
    "plt.legend()\n",
    "plt.grid('off')\n",
    "plt.show()\n",
    "plt.subplot(212)\n",
    "plt.plot(epochs, acc_values, 'bo', label='Training accuracy')\n",
    "plt.plot(epochs, val_acc_values, 'r', label='Test accuracy')\n",
    "plt.title('Training and test accuracy')\n",
    "plt.xlabel('Epochs')\n",
    "plt.ylabel('Accuracy')\n",
    "plt.gca().set_yticklabels(['{:.0f}%'.format(x*100) for x in plt.gca().get_yticks()]) \n",
    "plt.legend()\n",
    "plt.grid('off')\n",
    "plt.show()"
   ]
  },
  {
   "cell_type": "markdown",
   "metadata": {},
   "source": [
    "We should notice that training and test losses decrease smoothly over increasing epochs when compared to the non-scaled dataset that we saw in the previous section."
   ]
  },
  {
   "cell_type": "markdown",
   "metadata": {},
   "source": [
    "## Impact on training when the majority of inputs are non-zero\n",
    "So far, we have not looked at the distribution of values in the input dataset."
   ]
  },
  {
   "cell_type": "markdown",
   "metadata": {},
   "source": [
    "### Getting ready"
   ]
  },
  {
   "cell_type": "markdown",
   "metadata": {},
   "source": [
    "In this section, we will invert the background color and the foreground color. The intuition for this change impacting the model accuracy is as follows.\n",
    "\n",
    "The pixels in the corner of images do not contribute toward predicting the label of an image. Given that a black pixel (original scenario) has a pixel value of zero, it is automatically taken care of, as when this input is multiplied by any weight value, the output is zero. This will result in the network learning that any change in the weight value connecting this corner pixel to a hidden layer will not have an impact on changing the loss value.\n",
    "\n",
    "However, if we have a white pixel in the corner, it will contribute toward certain hidden unit values, and thus the weights need to be fine-tuned until the impact of the corner pixels on the predicted label is minimal."
   ]
  },
  {
   "cell_type": "markdown",
   "metadata": {},
   "source": [
    "### How to do it..."
   ]
  },
  {
   "cell_type": "markdown",
   "metadata": {},
   "source": [
    "1. Let's look at the distribution of the input values:\n",
    "\n",
    "<div class=\"alert alert-block alert-warning\">\n",
    "<tt>X_train.flatten()</tt>\n",
    "</div>\n",
    "\n",
    "The preceding code flattens all the inputs into a single list:"
   ]
  },
  {
   "cell_type": "code",
   "execution_count": 46,
   "metadata": {},
   "outputs": [
    {
     "data": {
      "text/plain": [
       "(47040000,)"
      ]
     },
     "execution_count": 46,
     "metadata": {},
     "output_type": "execute_result"
    }
   ],
   "source": [
    "X_train.flatten().shape"
   ]
  },
  {
   "cell_type": "code",
   "execution_count": 47,
   "metadata": {},
   "outputs": [
    {
     "data": {
      "text/plain": [
       "47040000"
      ]
     },
     "execution_count": 47,
     "metadata": {},
     "output_type": "execute_result"
    }
   ],
   "source": [
    "X_train.shape[0]*num_pixels"
   ]
  },
  {
   "cell_type": "markdown",
   "metadata": {},
   "source": [
    "Let's plot the distribution of all the input values:"
   ]
  },
  {
   "cell_type": "code",
   "execution_count": 48,
   "metadata": {},
   "outputs": [
    {
     "data": {
      "text/plain": [
       "Text(0, 0.5, 'Frequency of input values')"
      ]
     },
     "execution_count": 48,
     "metadata": {},
     "output_type": "execute_result"
    },
    {
     "data": {
      "image/png": "[encoded data removed]",
      "text/plain": [
       "<Figure size 432x288 with 1 Axes>"
      ]
     },
     "metadata": {
      "needs_background": "light"
     },
     "output_type": "display_data"
    }
   ],
   "source": [
    "plt.hist(X_train.flatten())\n",
    "plt.grid('off')\n",
    "plt.title('Histogram of input values')\n",
    "plt.xlabel('Input values')\n",
    "plt.ylabel('Frequency of input values')"
   ]
  },
  {
   "cell_type": "markdown",
   "metadata": {},
   "source": [
    "We notice that the majority of the inputs are zero (all the input images have a background that is black)."
   ]
  },
  {
   "cell_type": "markdown",
   "metadata": {},
   "source": [
    "2. Let's explore a scenario where we invert the colors (background is white and letters are written in black):"
   ]
  },
  {
   "cell_type": "code",
   "execution_count": 49,
   "metadata": {},
   "outputs": [],
   "source": [
    "X_train = 1-X_train\n",
    "X_test = 1-X_test"
   ]
  },
  {
   "cell_type": "code",
   "execution_count": 50,
   "metadata": {},
   "outputs": [
    {
     "data": {
      "image/png": "[encoded data removed]",
      "text/plain": [
       "<Figure size 432x288 with 4 Axes>"
      ]
     },
     "metadata": {
      "needs_background": "light"
     },
     "output_type": "display_data"
    }
   ],
   "source": [
    "plt.subplot(221)\n",
    "plt.imshow(X_train[0].reshape(28,28), cmap=plt.get_cmap('gray'))\n",
    "plt.grid('off')\n",
    "plt.subplot(222)\n",
    "plt.imshow(X_train[1].reshape(28,28), cmap=plt.get_cmap('gray'))\n",
    "plt.grid('off')\n",
    "plt.subplot(223)\n",
    "plt.imshow(X_train[2].reshape(28,28), cmap=plt.get_cmap('gray'))\n",
    "plt.grid('off')\n",
    "plt.subplot(224)\n",
    "plt.imshow(X_train[3].reshape(28,28), cmap=plt.get_cmap('gray'))\n",
    "plt.grid('off')\n",
    "plt.show()"
   ]
  },
  {
   "cell_type": "code",
   "execution_count": 51,
   "metadata": {},
   "outputs": [
    {
     "data": {
      "text/plain": [
       "Text(0, 0.5, 'Frequency of input values')"
      ]
     },
     "execution_count": 51,
     "metadata": {},
     "output_type": "execute_result"
    },
    {
     "data": {
      "image/png": "[encoded data removed]",
      "text/plain": [
       "<Figure size 432x288 with 1 Axes>"
      ]
     },
     "metadata": {
      "needs_background": "light"
     },
     "output_type": "display_data"
    }
   ],
   "source": [
    "plt.hist(X_train.flatten())\n",
    "plt.grid('off')\n",
    "plt.title('Histogram of input values')\n",
    "plt.xlabel('Input values')\n",
    "plt.ylabel('Frequency of input values')"
   ]
  },
  {
   "cell_type": "markdown",
   "metadata": {},
   "source": [
    "3. Build our model using the same model architecture that we built in the previous section:"
   ]
  },
  {
   "cell_type": "code",
   "execution_count": 52,
   "metadata": {},
   "outputs": [
    {
     "name": "stdout",
     "output_type": "stream",
     "text": [
      "Epoch 1/50\n",
      "59/59 [==============================] - 0s 8ms/step - loss: 1.3914 - accuracy: 0.6251 - val_loss: 0.6008 - val_accuracy: 0.8516\n",
      "Epoch 2/50\n",
      "59/59 [==============================] - 0s 7ms/step - loss: 0.5186 - accuracy: 0.8634 - val_loss: 0.4226 - val_accuracy: 0.8859\n",
      "Epoch 3/50\n",
      "59/59 [==============================] - 0s 7ms/step - loss: 0.4133 - accuracy: 0.8855 - val_loss: 0.3633 - val_accuracy: 0.8994\n",
      "Epoch 4/50\n",
      "59/59 [==============================] - 0s 7ms/step - loss: 0.3734 - accuracy: 0.8926 - val_loss: 0.3453 - val_accuracy: 0.9018\n",
      "Epoch 5/50\n",
      "59/59 [==============================] - 0s 7ms/step - loss: 0.3448 - accuracy: 0.8999 - val_loss: 0.3136 - val_accuracy: 0.9110\n",
      "Epoch 6/50\n",
      "59/59 [==============================] - 0s 7ms/step - loss: 0.3277 - accuracy: 0.9058 - val_loss: 0.3131 - val_accuracy: 0.9074\n",
      "Epoch 7/50\n",
      "59/59 [==============================] - 0s 7ms/step - loss: 0.3136 - accuracy: 0.9096 - val_loss: 0.2892 - val_accuracy: 0.9197\n",
      "Epoch 8/50\n",
      "59/59 [==============================] - 0s 7ms/step - loss: 0.2972 - accuracy: 0.9145 - val_loss: 0.2771 - val_accuracy: 0.9186\n",
      "Epoch 9/50\n",
      "59/59 [==============================] - 0s 7ms/step - loss: 0.2865 - accuracy: 0.9178 - val_loss: 0.2666 - val_accuracy: 0.9255\n",
      "Epoch 10/50\n",
      "59/59 [==============================] - 0s 7ms/step - loss: 0.2716 - accuracy: 0.9222 - val_loss: 0.2583 - val_accuracy: 0.9297\n",
      "Epoch 11/50\n",
      "59/59 [==============================] - 0s 7ms/step - loss: 0.2586 - accuracy: 0.9260 - val_loss: 0.2392 - val_accuracy: 0.9334\n",
      "Epoch 12/50\n",
      "59/59 [==============================] - 0s 7ms/step - loss: 0.2435 - accuracy: 0.9312 - val_loss: 0.2304 - val_accuracy: 0.9329\n",
      "Epoch 13/50\n",
      "59/59 [==============================] - 0s 7ms/step - loss: 0.2328 - accuracy: 0.9337 - val_loss: 0.2292 - val_accuracy: 0.9322\n",
      "Epoch 14/50\n",
      "59/59 [==============================] - 0s 7ms/step - loss: 0.2213 - accuracy: 0.9363 - val_loss: 0.2093 - val_accuracy: 0.9396\n",
      "Epoch 15/50\n",
      "59/59 [==============================] - 0s 7ms/step - loss: 0.2066 - accuracy: 0.9412 - val_loss: 0.2083 - val_accuracy: 0.9388\n",
      "Epoch 16/50\n",
      "59/59 [==============================] - 0s 7ms/step - loss: 0.1953 - accuracy: 0.9455 - val_loss: 0.1966 - val_accuracy: 0.9423\n",
      "Epoch 17/50\n",
      "59/59 [==============================] - 0s 7ms/step - loss: 0.1919 - accuracy: 0.9449 - val_loss: 0.1923 - val_accuracy: 0.9470\n",
      "Epoch 18/50\n",
      "59/59 [==============================] - 0s 7ms/step - loss: 0.1770 - accuracy: 0.9496 - val_loss: 0.1684 - val_accuracy: 0.9524\n",
      "Epoch 19/50\n",
      "59/59 [==============================] - 0s 7ms/step - loss: 0.1676 - accuracy: 0.9520 - val_loss: 0.1703 - val_accuracy: 0.9504\n",
      "Epoch 20/50\n",
      "59/59 [==============================] - 0s 7ms/step - loss: 0.1601 - accuracy: 0.9547 - val_loss: 0.1545 - val_accuracy: 0.9549\n",
      "Epoch 21/50\n",
      "59/59 [==============================] - 0s 7ms/step - loss: 0.1505 - accuracy: 0.9577 - val_loss: 0.1468 - val_accuracy: 0.9574\n",
      "Epoch 22/50\n",
      "59/59 [==============================] - 0s 7ms/step - loss: 0.1424 - accuracy: 0.9601 - val_loss: 0.1405 - val_accuracy: 0.9599\n",
      "Epoch 23/50\n",
      "59/59 [==============================] - 0s 7ms/step - loss: 0.1376 - accuracy: 0.9613 - val_loss: 0.1424 - val_accuracy: 0.9594\n",
      "Epoch 24/50\n",
      "59/59 [==============================] - 0s 7ms/step - loss: 0.1338 - accuracy: 0.9623 - val_loss: 0.1364 - val_accuracy: 0.9621\n",
      "Epoch 25/50\n",
      "59/59 [==============================] - 0s 7ms/step - loss: 0.1245 - accuracy: 0.9648 - val_loss: 0.1282 - val_accuracy: 0.9617\n",
      "Epoch 26/50\n",
      "59/59 [==============================] - 0s 7ms/step - loss: 0.1185 - accuracy: 0.9670 - val_loss: 0.1264 - val_accuracy: 0.9638\n",
      "Epoch 27/50\n",
      "59/59 [==============================] - 0s 7ms/step - loss: 0.1162 - accuracy: 0.9670 - val_loss: 0.1207 - val_accuracy: 0.9642\n",
      "Epoch 28/50\n",
      "59/59 [==============================] - 0s 7ms/step - loss: 0.1111 - accuracy: 0.9684 - val_loss: 0.1229 - val_accuracy: 0.9634\n",
      "Epoch 29/50\n",
      "59/59 [==============================] - 0s 7ms/step - loss: 0.1077 - accuracy: 0.9697 - val_loss: 0.1256 - val_accuracy: 0.9628\n",
      "Epoch 30/50\n",
      "59/59 [==============================] - 0s 7ms/step - loss: 0.1061 - accuracy: 0.9700 - val_loss: 0.1205 - val_accuracy: 0.9641\n",
      "Epoch 31/50\n",
      "59/59 [==============================] - 0s 7ms/step - loss: 0.1024 - accuracy: 0.9705 - val_loss: 0.1212 - val_accuracy: 0.9642\n",
      "Epoch 32/50\n",
      "59/59 [==============================] - 0s 7ms/step - loss: 0.0967 - accuracy: 0.9726 - val_loss: 0.1139 - val_accuracy: 0.9652\n",
      "Epoch 33/50\n",
      "59/59 [==============================] - 0s 7ms/step - loss: 0.0935 - accuracy: 0.9735 - val_loss: 0.1051 - val_accuracy: 0.9690\n",
      "Epoch 34/50\n",
      "59/59 [==============================] - 0s 7ms/step - loss: 0.0882 - accuracy: 0.9750 - val_loss: 0.1130 - val_accuracy: 0.9670\n",
      "Epoch 35/50\n",
      "59/59 [==============================] - 0s 7ms/step - loss: 0.0865 - accuracy: 0.9756 - val_loss: 0.1022 - val_accuracy: 0.9711\n",
      "Epoch 36/50\n",
      "59/59 [==============================] - 0s 7ms/step - loss: 0.0828 - accuracy: 0.9771 - val_loss: 0.1008 - val_accuracy: 0.9699\n",
      "Epoch 37/50\n",
      "59/59 [==============================] - 0s 7ms/step - loss: 0.0822 - accuracy: 0.9764 - val_loss: 0.1015 - val_accuracy: 0.9699\n",
      "Epoch 38/50\n",
      "59/59 [==============================] - 0s 7ms/step - loss: 0.0788 - accuracy: 0.9775 - val_loss: 0.0967 - val_accuracy: 0.9711\n",
      "Epoch 39/50\n",
      "59/59 [==============================] - 0s 7ms/step - loss: 0.0753 - accuracy: 0.9785 - val_loss: 0.0912 - val_accuracy: 0.9719\n",
      "Epoch 40/50\n",
      "59/59 [==============================] - 0s 7ms/step - loss: 0.0743 - accuracy: 0.9788 - val_loss: 0.0902 - val_accuracy: 0.9728\n",
      "Epoch 41/50\n",
      "59/59 [==============================] - 0s 7ms/step - loss: 0.0709 - accuracy: 0.9801 - val_loss: 0.0952 - val_accuracy: 0.9699\n",
      "Epoch 42/50\n",
      "59/59 [==============================] - 0s 7ms/step - loss: 0.0693 - accuracy: 0.9806 - val_loss: 0.0871 - val_accuracy: 0.9728\n",
      "Epoch 43/50\n",
      "59/59 [==============================] - 0s 7ms/step - loss: 0.0647 - accuracy: 0.9816 - val_loss: 0.0903 - val_accuracy: 0.9714\n",
      "Epoch 44/50\n",
      "59/59 [==============================] - 0s 7ms/step - loss: 0.0645 - accuracy: 0.9818 - val_loss: 0.0977 - val_accuracy: 0.9720\n",
      "Epoch 45/50\n",
      "59/59 [==============================] - 0s 7ms/step - loss: 0.0648 - accuracy: 0.9808 - val_loss: 0.0928 - val_accuracy: 0.9723\n",
      "Epoch 46/50\n",
      "59/59 [==============================] - 0s 7ms/step - loss: 0.0590 - accuracy: 0.9831 - val_loss: 0.0865 - val_accuracy: 0.9726\n",
      "Epoch 47/50\n",
      "59/59 [==============================] - 0s 7ms/step - loss: 0.0583 - accuracy: 0.9834 - val_loss: 0.0781 - val_accuracy: 0.9756\n",
      "Epoch 48/50\n",
      "59/59 [==============================] - 0s 7ms/step - loss: 0.0545 - accuracy: 0.9848 - val_loss: 0.0872 - val_accuracy: 0.9733\n",
      "Epoch 49/50\n",
      "59/59 [==============================] - 0s 7ms/step - loss: 0.0543 - accuracy: 0.9843 - val_loss: 0.0791 - val_accuracy: 0.9758\n",
      "Epoch 50/50\n",
      "59/59 [==============================] - 0s 7ms/step - loss: 0.0535 - accuracy: 0.9845 - val_loss: 0.0810 - val_accuracy: 0.9756\n"
     ]
    }
   ],
   "source": [
    "model = Sequential()\n",
    "model.add(Dense(1000, input_dim=784, activation='relu'))\n",
    "model.add(Dense(10, activation='softmax'))\n",
    "model.compile(loss='categorical_crossentropy', optimizer='adam', metrics=['accuracy'])\n",
    "history = model.fit(X_train, y_train, validation_data=(X_test, y_test), epochs=50, batch_size=1024, verbose=1)"
   ]
  },
  {
   "cell_type": "markdown",
   "metadata": {},
   "source": [
    "4. Plot the training and test accuracy and loss values over different epochs:"
   ]
  },
  {
   "cell_type": "code",
   "execution_count": 53,
   "metadata": {},
   "outputs": [],
   "source": [
    "history_dict = history.history\n",
    "loss_values = history_dict['loss']\n",
    "val_loss_values = history_dict['val_loss']\n",
    "acc_values = history_dict['accuracy']\n",
    "val_acc_values = history_dict['val_accuracy']\n",
    "epochs = range(1, len(val_loss_values) + 1)"
   ]
  },
  {
   "cell_type": "code",
   "execution_count": 54,
   "metadata": {},
   "outputs": [
    {
     "data": {
      "image/png": "[encoded data removed]",
      "text/plain": [
       "<Figure size 432x288 with 1 Axes>"
      ]
     },
     "metadata": {
      "needs_background": "light"
     },
     "output_type": "display_data"
    },
    {
     "data": {
      "image/png": "[encoded data removed]",
      "text/plain": [
       "<Figure size 432x288 with 1 Axes>"
      ]
     },
     "metadata": {
      "needs_background": "light"
     },
     "output_type": "display_data"
    }
   ],
   "source": [
    "import matplotlib.pyplot as plt\n",
    "%matplotlib inline\n",
    "plt.subplot(211)\n",
    "plt.plot(epochs, loss_values, 'bo', label='Training loss')\n",
    "plt.plot(epochs, val_loss_values, 'r', label='Test loss')\n",
    "plt.title('Training and test loss')\n",
    "plt.xlabel('Epochs')\n",
    "plt.ylabel('Loss')\n",
    "plt.legend()\n",
    "plt.grid('off')\n",
    "plt.show()\n",
    "plt.subplot(212)\n",
    "plt.plot(epochs, acc_values, 'bo', label='Training accuracy')\n",
    "plt.plot(epochs, val_acc_values, 'r', label='Test accuracy')\n",
    "plt.title('Training and test accuracy')\n",
    "plt.xlabel('Epochs')\n",
    "plt.ylabel('Accuracy')\n",
    "plt.gca().set_yticklabels(['{:.0f}%'.format(x*100) for x in plt.gca().get_yticks()]) \n",
    "plt.legend()\n",
    "plt.grid('off')\n",
    "plt.show()"
   ]
  },
  {
   "cell_type": "markdown",
   "metadata": {},
   "source": [
    "We note that training / test accuracy values have now fallen to `0.9845/0.9756`, compared to `1.0000/0.9822` obtained on the dataset that has a majority of zeros. \n",
    "\n",
    "The intuition for the decrease in model accuracy when the majority of data points are non-zero is that a higher number of weights need to be fine-tuned (model has to make predictions based on a large amount of pixel values)."
   ]
  },
  {
   "cell_type": "markdown",
   "metadata": {},
   "source": [
    "## Impact of batch size on model accuracy"
   ]
  },
  {
   "cell_type": "markdown",
   "metadata": {},
   "source": [
    "### Getting ready"
   ]
  },
  {
   "cell_type": "markdown",
   "metadata": {},
   "source": [
    "When the batch size is small, less data points are considered to calculate the loss value. This results in more batches per epoch (as in an epoch you would have to go through all the training data points in the dataset). Consequently, the number of weight updates per epoch will be high.\n",
    "\n",
    "Thus, the lower the batch size, the better the accuracy for the same number of epochs. However, you should also ensure that the batch size is not too small so that it might overfit on top of a small batch of data. "
   ]
  },
  {
   "cell_type": "markdown",
   "metadata": {},
   "source": [
    "### How to do it..."
   ]
  },
  {
   "cell_type": "markdown",
   "metadata": {},
   "source": [
    "In the previous recipe, we built a model with a batch size of `1024`. In the present recipe, we use a batch size of `30000` (the total dataset size is `60000`)."
   ]
  },
  {
   "cell_type": "markdown",
   "metadata": {},
   "source": [
    "1. Preprocess the dataset and fit the model as follows:  "
   ]
  },
  {
   "cell_type": "code",
   "execution_count": 4,
   "metadata": {},
   "outputs": [
    {
     "name": "stdout",
     "output_type": "stream",
     "text": [
      "Epoch 1/50\n",
      "2/2 [==============================] - 0s 130ms/step - loss: 2.1391 - accuracy: 0.3586 - val_loss: 1.5872 - val_accuracy: 0.6955\n",
      "Epoch 2/50\n",
      "2/2 [==============================] - 0s 91ms/step - loss: 1.4550 - accuracy: 0.7252 - val_loss: 1.0666 - val_accuracy: 0.8066\n",
      "Epoch 3/50\n",
      "2/2 [==============================] - 0s 92ms/step - loss: 0.9979 - accuracy: 0.8110 - val_loss: 0.7599 - val_accuracy: 0.8460\n",
      "Epoch 4/50\n",
      "2/2 [==============================] - 0s 92ms/step - loss: 0.7349 - accuracy: 0.8389 - val_loss: 0.5874 - val_accuracy: 0.8601\n",
      "Epoch 5/50\n",
      "2/2 [==============================] - 0s 93ms/step - loss: 0.5817 - accuracy: 0.8530 - val_loss: 0.4886 - val_accuracy: 0.8719\n",
      "Epoch 6/50\n",
      "2/2 [==============================] - 0s 91ms/step - loss: 0.4922 - accuracy: 0.8649 - val_loss: 0.4318 - val_accuracy: 0.8854\n",
      "Epoch 7/50\n",
      "2/2 [==============================] - 0s 93ms/step - loss: 0.4372 - accuracy: 0.8775 - val_loss: 0.3934 - val_accuracy: 0.8919\n",
      "Epoch 8/50\n",
      "2/2 [==============================] - 0s 93ms/step - loss: 0.3992 - accuracy: 0.8874 - val_loss: 0.3659 - val_accuracy: 0.8992\n",
      "Epoch 9/50\n",
      "2/2 [==============================] - 0s 92ms/step - loss: 0.3722 - accuracy: 0.8933 - val_loss: 0.3450 - val_accuracy: 0.9036\n",
      "Epoch 10/50\n",
      "2/2 [==============================] - 0s 92ms/step - loss: 0.3515 - accuracy: 0.8990 - val_loss: 0.3291 - val_accuracy: 0.9075\n",
      "Epoch 11/50\n",
      "2/2 [==============================] - 0s 92ms/step - loss: 0.3343 - accuracy: 0.9040 - val_loss: 0.3161 - val_accuracy: 0.9115\n",
      "Epoch 12/50\n",
      "2/2 [==============================] - 0s 92ms/step - loss: 0.3193 - accuracy: 0.9077 - val_loss: 0.3042 - val_accuracy: 0.9160\n",
      "Epoch 13/50\n",
      "2/2 [==============================] - 0s 92ms/step - loss: 0.3063 - accuracy: 0.9121 - val_loss: 0.2936 - val_accuracy: 0.9188\n",
      "Epoch 14/50\n",
      "2/2 [==============================] - 0s 94ms/step - loss: 0.2944 - accuracy: 0.9156 - val_loss: 0.2830 - val_accuracy: 0.9208\n",
      "Epoch 15/50\n",
      "2/2 [==============================] - 0s 93ms/step - loss: 0.2839 - accuracy: 0.9188 - val_loss: 0.2732 - val_accuracy: 0.9235\n",
      "Epoch 16/50\n",
      "2/2 [==============================] - 0s 93ms/step - loss: 0.2740 - accuracy: 0.9218 - val_loss: 0.2651 - val_accuracy: 0.9249\n",
      "Epoch 17/50\n",
      "2/2 [==============================] - 0s 93ms/step - loss: 0.2648 - accuracy: 0.9245 - val_loss: 0.2576 - val_accuracy: 0.9266\n",
      "Epoch 18/50\n",
      "2/2 [==============================] - 0s 92ms/step - loss: 0.2567 - accuracy: 0.9269 - val_loss: 0.2494 - val_accuracy: 0.9287\n",
      "Epoch 19/50\n",
      "2/2 [==============================] - 0s 93ms/step - loss: 0.2489 - accuracy: 0.9294 - val_loss: 0.2427 - val_accuracy: 0.9308\n",
      "Epoch 20/50\n",
      "2/2 [==============================] - 0s 92ms/step - loss: 0.2418 - accuracy: 0.9317 - val_loss: 0.2366 - val_accuracy: 0.9313\n",
      "Epoch 21/50\n",
      "2/2 [==============================] - 0s 94ms/step - loss: 0.2352 - accuracy: 0.9338 - val_loss: 0.2306 - val_accuracy: 0.9334\n",
      "Epoch 22/50\n",
      "2/2 [==============================] - 0s 93ms/step - loss: 0.2290 - accuracy: 0.9354 - val_loss: 0.2250 - val_accuracy: 0.9345\n",
      "Epoch 23/50\n",
      "2/2 [==============================] - 0s 92ms/step - loss: 0.2231 - accuracy: 0.9370 - val_loss: 0.2198 - val_accuracy: 0.9369\n",
      "Epoch 24/50\n",
      "2/2 [==============================] - 0s 91ms/step - loss: 0.2174 - accuracy: 0.9388 - val_loss: 0.2149 - val_accuracy: 0.9390\n",
      "Epoch 25/50\n",
      "2/2 [==============================] - 0s 93ms/step - loss: 0.2121 - accuracy: 0.9403 - val_loss: 0.2101 - val_accuracy: 0.9410\n",
      "Epoch 26/50\n",
      "2/2 [==============================] - 0s 92ms/step - loss: 0.2070 - accuracy: 0.9418 - val_loss: 0.2060 - val_accuracy: 0.9417\n",
      "Epoch 27/50\n",
      "2/2 [==============================] - 0s 94ms/step - loss: 0.2020 - accuracy: 0.9433 - val_loss: 0.2018 - val_accuracy: 0.9432\n",
      "Epoch 28/50\n",
      "2/2 [==============================] - 0s 93ms/step - loss: 0.1973 - accuracy: 0.9449 - val_loss: 0.1976 - val_accuracy: 0.9446\n",
      "Epoch 29/50\n",
      "2/2 [==============================] - 0s 93ms/step - loss: 0.1927 - accuracy: 0.9462 - val_loss: 0.1937 - val_accuracy: 0.9456\n",
      "Epoch 30/50\n",
      "2/2 [==============================] - 0s 92ms/step - loss: 0.1883 - accuracy: 0.9477 - val_loss: 0.1902 - val_accuracy: 0.9461\n",
      "Epoch 31/50\n",
      "2/2 [==============================] - 0s 94ms/step - loss: 0.1841 - accuracy: 0.9491 - val_loss: 0.1863 - val_accuracy: 0.9470\n",
      "Epoch 32/50\n",
      "2/2 [==============================] - 0s 95ms/step - loss: 0.1801 - accuracy: 0.9506 - val_loss: 0.1825 - val_accuracy: 0.9474\n",
      "Epoch 33/50\n",
      "2/2 [==============================] - 0s 94ms/step - loss: 0.1761 - accuracy: 0.9517 - val_loss: 0.1793 - val_accuracy: 0.9481\n",
      "Epoch 34/50\n",
      "2/2 [==============================] - 0s 93ms/step - loss: 0.1722 - accuracy: 0.9528 - val_loss: 0.1762 - val_accuracy: 0.9491\n",
      "Epoch 35/50\n",
      "2/2 [==============================] - 0s 95ms/step - loss: 0.1685 - accuracy: 0.9537 - val_loss: 0.1727 - val_accuracy: 0.9507\n",
      "Epoch 36/50\n",
      "2/2 [==============================] - 0s 93ms/step - loss: 0.1649 - accuracy: 0.9546 - val_loss: 0.1695 - val_accuracy: 0.9515\n",
      "Epoch 37/50\n",
      "2/2 [==============================] - 0s 93ms/step - loss: 0.1614 - accuracy: 0.9556 - val_loss: 0.1668 - val_accuracy: 0.9523\n",
      "Epoch 38/50\n",
      "2/2 [==============================] - 0s 91ms/step - loss: 0.1580 - accuracy: 0.9567 - val_loss: 0.1638 - val_accuracy: 0.9528\n",
      "Epoch 39/50\n",
      "2/2 [==============================] - 0s 93ms/step - loss: 0.1547 - accuracy: 0.9577 - val_loss: 0.1609 - val_accuracy: 0.9538\n",
      "Epoch 40/50\n",
      "2/2 [==============================] - 0s 94ms/step - loss: 0.1514 - accuracy: 0.9589 - val_loss: 0.1583 - val_accuracy: 0.9544\n",
      "Epoch 41/50\n",
      "2/2 [==============================] - 0s 90ms/step - loss: 0.1483 - accuracy: 0.9596 - val_loss: 0.1556 - val_accuracy: 0.9559\n",
      "Epoch 42/50\n",
      "2/2 [==============================] - 0s 91ms/step - loss: 0.1452 - accuracy: 0.9603 - val_loss: 0.1529 - val_accuracy: 0.9564\n",
      "Epoch 43/50\n",
      "2/2 [==============================] - 0s 92ms/step - loss: 0.1423 - accuracy: 0.9611 - val_loss: 0.1504 - val_accuracy: 0.9568\n",
      "Epoch 44/50\n",
      "2/2 [==============================] - 0s 93ms/step - loss: 0.1394 - accuracy: 0.9623 - val_loss: 0.1479 - val_accuracy: 0.9578\n",
      "Epoch 45/50\n",
      "2/2 [==============================] - 0s 90ms/step - loss: 0.1366 - accuracy: 0.9627 - val_loss: 0.1455 - val_accuracy: 0.9587\n",
      "Epoch 46/50\n",
      "2/2 [==============================] - 0s 92ms/step - loss: 0.1338 - accuracy: 0.9634 - val_loss: 0.1433 - val_accuracy: 0.9589\n",
      "Epoch 47/50\n",
      "2/2 [==============================] - 0s 92ms/step - loss: 0.1311 - accuracy: 0.9644 - val_loss: 0.1411 - val_accuracy: 0.9595\n",
      "Epoch 48/50\n",
      "2/2 [==============================] - 0s 91ms/step - loss: 0.1285 - accuracy: 0.9655 - val_loss: 0.1389 - val_accuracy: 0.9601\n",
      "Epoch 49/50\n",
      "2/2 [==============================] - 0s 92ms/step - loss: 0.1260 - accuracy: 0.9661 - val_loss: 0.1368 - val_accuracy: 0.9605\n",
      "Epoch 50/50\n",
      "2/2 [==============================] - 0s 92ms/step - loss: 0.1235 - accuracy: 0.9667 - val_loss: 0.1348 - val_accuracy: 0.9608\n"
     ]
    }
   ],
   "source": [
    "(X_train, y_train), (X_test, y_test) = mnist.load_data()\n",
    "num_pixels = X_train.shape[1] * X_train.shape[2]\n",
    "X_train = X_train.reshape(X_train.shape[0], num_pixels).astype('float32')\n",
    "X_test = X_test.reshape(X_test.shape[0], num_pixels).astype('float32')\n",
    "X_train = X_train/255\n",
    "X_test = X_test/255\n",
    "y_train = np_utils.to_categorical(y_train)\n",
    "y_test = np_utils.to_categorical(y_test)\n",
    "num_classes = y_test.shape[1]\n",
    "model = Sequential()\n",
    "model.add(Dense(1000, input_dim=784, activation='relu'))\n",
    "model.add(Dense(10, activation='softmax'))\n",
    "model.compile(loss='categorical_crossentropy', optimizer='adam', metrics=['accuracy'])\n",
    "history = model.fit(X_train, y_train, validation_data=(X_test, y_test), epochs=50, batch_size=30000, verbose=1)"
   ]
  },
  {
   "cell_type": "markdown",
   "metadata": {},
   "source": [
    "2. Plot the training and test accuracy and loss values over different epochs:"
   ]
  },
  {
   "cell_type": "code",
   "execution_count": 354,
   "metadata": {},
   "outputs": [],
   "source": [
    "history_dict = history.history\n",
    "loss_values = history_dict['loss']\n",
    "val_loss_values = history_dict['val_loss']\n",
    "acc_values = history_dict['accuracy']\n",
    "val_acc_values = history_dict['val_accuracy']\n",
    "epochs = range(1, len(val_loss_values) + 1)"
   ]
  },
  {
   "cell_type": "code",
   "execution_count": 355,
   "metadata": {
    "scrolled": true
   },
   "outputs": [
    {
     "data": {
      "image/png": "[encoded data removed]",
      "text/plain": [
       "<Figure size 432x288 with 1 Axes>"
      ]
     },
     "metadata": {
      "needs_background": "light"
     },
     "output_type": "display_data"
    },
    {
     "data": {
      "image/png": "[encoded data removed]",
      "text/plain": [
       "<Figure size 432x288 with 1 Axes>"
      ]
     },
     "metadata": {
      "needs_background": "light"
     },
     "output_type": "display_data"
    }
   ],
   "source": [
    "import matplotlib.pyplot as plt\n",
    "%matplotlib inline\n",
    "plt.subplot(211)\n",
    "plt.plot(epochs, loss_values, 'bo', label='Training loss')\n",
    "plt.plot(epochs, val_loss_values, 'r', label='Test loss')\n",
    "plt.title('Training and test loss')\n",
    "plt.xlabel('Epochs')\n",
    "plt.ylabel('Loss')\n",
    "plt.legend()\n",
    "plt.grid('off')\n",
    "plt.show()\n",
    "plt.subplot(212)\n",
    "plt.plot(epochs, acc_values, 'bo', label='Training accuracy')\n",
    "plt.plot(epochs, val_acc_values, 'r', label='Test accuracy')\n",
    "plt.title('Training and test accuracy')\n",
    "plt.xlabel('Epochs')\n",
    "plt.ylabel('Accuracy')\n",
    "plt.gca().set_yticklabels(['{:.0f}%'.format(x*100) for x in plt.gca().get_yticks()]) \n",
    "plt.legend()\n",
    "plt.grid('off')\n",
    "plt.show()"
   ]
  },
  {
   "cell_type": "markdown",
   "metadata": {},
   "source": [
    "Note the results on training accuracy:\n",
    "\n",
    "| Scenario | batch_size | accuracy Epoc 1 |  accuracy Epoc 50 | \n",
    "| :-: | :-: | :-: | :-: |\n",
    "| **Present** | 30000 | 0.3421 | 0.9653 | \n",
    "| **Previous** | 1024 | 0.8725 | 1.0000 | \n",
    "\n",
    "When the batch size is high, the model accuracy is much lower initially and reaches a considerable value (`0.96`) at a much later epoch.\n",
    "\n",
    "Considering that total dataset size is `60000` and we run the model for `50` epochs: \n",
    "\n",
    "| Scenario | batch_size | number of weight updates | \n",
    "| :-: | :-: | :-: | \n",
    "| **Present** | 30000 | 50 * (60000 / 30000) = **100** | \n",
    "| **Previous** | 1024 | 50 * (60000 / 1024) = **2929** | \n",
    "\n",
    "Hence, the lower the batch size, the more times the weights get updated and the better the accuracy for the same number of epochs."
   ]
  },
  {
   "cell_type": "markdown",
   "metadata": {},
   "source": [
    "## Building a deep neural network to improve accuracy"
   ]
  },
  {
   "cell_type": "markdown",
   "metadata": {},
   "source": [
    "Until now, we have looked at model architectures where the neural network has only one hidden layer between the input and the output layers. In this section, we will look at the neural network where there are multiple hidden layers (and hence a **deep** neural network)."
   ]
  },
  {
   "cell_type": "markdown",
   "metadata": {},
   "source": [
    "### Getting ready"
   ]
  },
  {
   "cell_type": "markdown",
   "metadata": {},
   "source": [
    "Multiple hidden layers ensure that the neural network learns a complex non-linear relation between the input and output."
   ]
  },
  {
   "cell_type": "markdown",
   "metadata": {},
   "source": [
    "### How to do it..."
   ]
  },
  {
   "cell_type": "markdown",
   "metadata": {},
   "source": [
    "1. Load the dataset and scale it:"
   ]
  },
  {
   "cell_type": "code",
   "execution_count": 4,
   "metadata": {},
   "outputs": [],
   "source": [
    "(X_train, y_train), (X_test, y_test) = mnist.load_data()\n",
    "num_pixels = X_train.shape[1] * X_train.shape[2]\n",
    "X_train = X_train.reshape(X_train.shape[0], num_pixels).astype('float32')\n",
    "X_test = X_test.reshape(X_test.shape[0], num_pixels).astype('float32')\n",
    "X_train = X_train/255\n",
    "X_test = X_test/255\n",
    "y_train = np_utils.to_categorical(y_train)\n",
    "y_test = np_utils.to_categorical(y_test)\n",
    "num_classes = y_test.shape[1]"
   ]
  },
  {
   "cell_type": "markdown",
   "metadata": {},
   "source": [
    "2. Build (*set up*) a model with multiple hidden layers connecting the input and output layers: "
   ]
  },
  {
   "cell_type": "code",
   "execution_count": 193,
   "metadata": {},
   "outputs": [],
   "source": [
    "model = Sequential()\n",
    "model.add(Dense(1000, input_dim=784, activation='relu'))\n",
    "model.add(Dense(1000, activation='relu'))\n",
    "model.add(Dense(1000, activation='relu'))\n",
    "model.add(Dense(10, activation='softmax'))"
   ]
  },
  {
   "cell_type": "markdown",
   "metadata": {},
   "source": [
    "The preceding model architecture can be visualized as follows:"
   ]
  },
  {
   "cell_type": "code",
   "execution_count": 194,
   "metadata": {},
   "outputs": [
    {
     "name": "stdout",
     "output_type": "stream",
     "text": [
      "Model: \"sequential_11\"\n",
      "_________________________________________________________________\n",
      "Layer (type)                 Output Shape              Param #   \n",
      "=================================================================\n",
      "dense_26 (Dense)             (None, 1000)              785000    \n",
      "_________________________________________________________________\n",
      "dense_27 (Dense)             (None, 1000)              1001000   \n",
      "_________________________________________________________________\n",
      "dense_28 (Dense)             (None, 1000)              1001000   \n",
      "_________________________________________________________________\n",
      "dense_29 (Dense)             (None, 10)                10010     \n",
      "=================================================================\n",
      "Total params: 2,797,010\n",
      "Trainable params: 2,797,010\n",
      "Non-trainable params: 0\n",
      "_________________________________________________________________\n"
     ]
    }
   ],
   "source": [
    "model.summary()"
   ]
  },
  {
   "cell_type": "markdown",
   "metadata": {},
   "source": [
    "3. Compile and fit the model:"
   ]
  },
  {
   "cell_type": "code",
   "execution_count": 66,
   "metadata": {},
   "outputs": [
    {
     "name": "stdout",
     "output_type": "stream",
     "text": [
      "Epoch 1/50\n",
      "59/59 [==============================] - 2s 26ms/step - loss: 0.3711 - accuracy: 0.8906 - val_loss: 0.1258 - val_accuracy: 0.9617\n",
      "Epoch 2/50\n",
      "59/59 [==============================] - 1s 24ms/step - loss: 0.0969 - accuracy: 0.9711 - val_loss: 0.0789 - val_accuracy: 0.9749\n",
      "Epoch 3/50\n",
      "59/59 [==============================] - 1s 25ms/step - loss: 0.0535 - accuracy: 0.9839 - val_loss: 0.0692 - val_accuracy: 0.9789\n",
      "Epoch 4/50\n",
      "59/59 [==============================] - 1s 25ms/step - loss: 0.0365 - accuracy: 0.9887 - val_loss: 0.0661 - val_accuracy: 0.9790\n",
      "Epoch 5/50\n",
      "59/59 [==============================] - 1s 24ms/step - loss: 0.0237 - accuracy: 0.9927 - val_loss: 0.0639 - val_accuracy: 0.9806\n",
      "Epoch 6/50\n",
      "59/59 [==============================] - 1s 24ms/step - loss: 0.0171 - accuracy: 0.9945 - val_loss: 0.0679 - val_accuracy: 0.9799\n",
      "Epoch 7/50\n",
      "59/59 [==============================] - 1s 25ms/step - loss: 0.0148 - accuracy: 0.9953 - val_loss: 0.0672 - val_accuracy: 0.9813\n",
      "Epoch 8/50\n",
      "59/59 [==============================] - 1s 25ms/step - loss: 0.0092 - accuracy: 0.9970 - val_loss: 0.0722 - val_accuracy: 0.9815\n",
      "Epoch 9/50\n",
      "59/59 [==============================] - 1s 25ms/step - loss: 0.0086 - accuracy: 0.9972 - val_loss: 0.0947 - val_accuracy: 0.9779\n",
      "Epoch 10/50\n",
      "59/59 [==============================] - 1s 24ms/step - loss: 0.0101 - accuracy: 0.9967 - val_loss: 0.0694 - val_accuracy: 0.9814\n",
      "Epoch 11/50\n",
      "59/59 [==============================] - 1s 25ms/step - loss: 0.0047 - accuracy: 0.9985 - val_loss: 0.0675 - val_accuracy: 0.9837\n",
      "Epoch 12/50\n",
      "59/59 [==============================] - 1s 24ms/step - loss: 0.0038 - accuracy: 0.9991 - val_loss: 0.0867 - val_accuracy: 0.9804\n",
      "Epoch 13/50\n",
      "59/59 [==============================] - 1s 24ms/step - loss: 0.0058 - accuracy: 0.9981 - val_loss: 0.0789 - val_accuracy: 0.9830\n",
      "Epoch 14/50\n",
      "59/59 [==============================] - 1s 24ms/step - loss: 0.0075 - accuracy: 0.9977 - val_loss: 0.0830 - val_accuracy: 0.9809\n",
      "Epoch 15/50\n",
      "59/59 [==============================] - 1s 25ms/step - loss: 0.0112 - accuracy: 0.9959 - val_loss: 0.0927 - val_accuracy: 0.9781\n",
      "Epoch 16/50\n",
      "59/59 [==============================] - 1s 24ms/step - loss: 0.0092 - accuracy: 0.9970 - val_loss: 0.0840 - val_accuracy: 0.9814\n",
      "Epoch 17/50\n",
      "59/59 [==============================] - 1s 24ms/step - loss: 0.0068 - accuracy: 0.9980 - val_loss: 0.0846 - val_accuracy: 0.9811\n",
      "Epoch 18/50\n",
      "59/59 [==============================] - 1s 25ms/step - loss: 0.0069 - accuracy: 0.9978 - val_loss: 0.0818 - val_accuracy: 0.9824\n",
      "Epoch 19/50\n",
      "59/59 [==============================] - 1s 24ms/step - loss: 0.0033 - accuracy: 0.9990 - val_loss: 0.0756 - val_accuracy: 0.9845\n",
      "Epoch 20/50\n",
      "59/59 [==============================] - 1s 25ms/step - loss: 0.0014 - accuracy: 0.9996 - val_loss: 0.0836 - val_accuracy: 0.9822\n",
      "Epoch 21/50\n",
      "59/59 [==============================] - 1s 24ms/step - loss: 0.0016 - accuracy: 0.9995 - val_loss: 0.0797 - val_accuracy: 0.9832\n",
      "Epoch 22/50\n",
      "59/59 [==============================] - 1s 25ms/step - loss: 0.0042 - accuracy: 0.9988 - val_loss: 0.1021 - val_accuracy: 0.9785\n",
      "Epoch 23/50\n",
      "59/59 [==============================] - 1s 25ms/step - loss: 0.0044 - accuracy: 0.9986 - val_loss: 0.1039 - val_accuracy: 0.9791\n",
      "Epoch 24/50\n",
      "59/59 [==============================] - 1s 24ms/step - loss: 0.0070 - accuracy: 0.9976 - val_loss: 0.1082 - val_accuracy: 0.9792\n",
      "Epoch 25/50\n",
      "59/59 [==============================] - 1s 24ms/step - loss: 0.0111 - accuracy: 0.9963 - val_loss: 0.1021 - val_accuracy: 0.9781\n",
      "Epoch 26/50\n",
      "59/59 [==============================] - 1s 25ms/step - loss: 0.0086 - accuracy: 0.9971 - val_loss: 0.0915 - val_accuracy: 0.9805\n",
      "Epoch 27/50\n",
      "59/59 [==============================] - 1s 24ms/step - loss: 0.0049 - accuracy: 0.9982 - val_loss: 0.0880 - val_accuracy: 0.9835\n",
      "Epoch 28/50\n",
      "59/59 [==============================] - 1s 25ms/step - loss: 0.0027 - accuracy: 0.9991 - val_loss: 0.0900 - val_accuracy: 0.9826\n",
      "Epoch 29/50\n",
      "59/59 [==============================] - 1s 25ms/step - loss: 0.0046 - accuracy: 0.9986 - val_loss: 0.0930 - val_accuracy: 0.9822\n",
      "Epoch 30/50\n",
      "59/59 [==============================] - 1s 25ms/step - loss: 0.0041 - accuracy: 0.9985 - val_loss: 0.0932 - val_accuracy: 0.9826\n",
      "Epoch 31/50\n",
      "59/59 [==============================] - 1s 25ms/step - loss: 0.0030 - accuracy: 0.9991 - val_loss: 0.0965 - val_accuracy: 0.9832\n",
      "Epoch 32/50\n",
      "59/59 [==============================] - 1s 25ms/step - loss: 0.0021 - accuracy: 0.9993 - val_loss: 0.1021 - val_accuracy: 0.9816\n",
      "Epoch 33/50\n",
      "59/59 [==============================] - 1s 25ms/step - loss: 0.0039 - accuracy: 0.9986 - val_loss: 0.1022 - val_accuracy: 0.9832\n",
      "Epoch 34/50\n",
      "59/59 [==============================] - 1s 25ms/step - loss: 0.0044 - accuracy: 0.9988 - val_loss: 0.0935 - val_accuracy: 0.9830\n",
      "Epoch 35/50\n",
      "59/59 [==============================] - 1s 25ms/step - loss: 0.0059 - accuracy: 0.9981 - val_loss: 0.0958 - val_accuracy: 0.9818\n",
      "Epoch 36/50\n",
      "59/59 [==============================] - 1s 25ms/step - loss: 0.0053 - accuracy: 0.9983 - val_loss: 0.0904 - val_accuracy: 0.9820\n",
      "Epoch 37/50\n",
      "59/59 [==============================] - 1s 25ms/step - loss: 0.0028 - accuracy: 0.9991 - val_loss: 0.1044 - val_accuracy: 0.9824\n",
      "Epoch 38/50\n",
      "59/59 [==============================] - 1s 25ms/step - loss: 0.0019 - accuracy: 0.9994 - val_loss: 0.0966 - val_accuracy: 0.9830\n",
      "Epoch 39/50\n",
      "59/59 [==============================] - 1s 25ms/step - loss: 0.0042 - accuracy: 0.9988 - val_loss: 0.0897 - val_accuracy: 0.9825\n",
      "Epoch 40/50\n",
      "59/59 [==============================] - 2s 26ms/step - loss: 0.0069 - accuracy: 0.9982 - val_loss: 0.1037 - val_accuracy: 0.9802\n",
      "Epoch 41/50\n",
      "59/59 [==============================] - 1s 25ms/step - loss: 0.0047 - accuracy: 0.9983 - val_loss: 0.0967 - val_accuracy: 0.9824\n",
      "Epoch 42/50\n",
      "59/59 [==============================] - 1s 25ms/step - loss: 0.0021 - accuracy: 0.9994 - val_loss: 0.0992 - val_accuracy: 0.9814\n",
      "Epoch 43/50\n",
      "59/59 [==============================] - 1s 25ms/step - loss: 8.6974e-04 - accuracy: 0.9998 - val_loss: 0.0771 - val_accuracy: 0.9850\n",
      "Epoch 44/50\n",
      "59/59 [==============================] - 1s 25ms/step - loss: 3.8905e-04 - accuracy: 0.9999 - val_loss: 0.0887 - val_accuracy: 0.9854\n",
      "Epoch 45/50\n",
      "59/59 [==============================] - 1s 25ms/step - loss: 3.8639e-05 - accuracy: 1.0000 - val_loss: 0.0909 - val_accuracy: 0.9849\n",
      "Epoch 46/50\n",
      "59/59 [==============================] - 1s 25ms/step - loss: 1.7068e-05 - accuracy: 1.0000 - val_loss: 0.0904 - val_accuracy: 0.9852\n",
      "Epoch 47/50\n",
      "59/59 [==============================] - 1s 25ms/step - loss: 1.0823e-05 - accuracy: 1.0000 - val_loss: 0.0915 - val_accuracy: 0.9853\n",
      "Epoch 48/50\n",
      "59/59 [==============================] - 1s 25ms/step - loss: 7.9613e-06 - accuracy: 1.0000 - val_loss: 0.0934 - val_accuracy: 0.9853\n",
      "Epoch 49/50\n",
      "59/59 [==============================] - 1s 25ms/step - loss: 5.7482e-06 - accuracy: 1.0000 - val_loss: 0.0958 - val_accuracy: 0.9851\n",
      "Epoch 50/50\n",
      "59/59 [==============================] - 1s 25ms/step - loss: 4.1875e-06 - accuracy: 1.0000 - val_loss: 0.0986 - val_accuracy: 0.9853\n"
     ]
    }
   ],
   "source": [
    "model.compile(loss='categorical_crossentropy', optimizer='adam', metrics=['accuracy'])\n",
    "history = model.fit(X_train, y_train, validation_data=(X_test, y_test), epochs=50, batch_size=1024, verbose=1)"
   ]
  },
  {
   "cell_type": "markdown",
   "metadata": {},
   "source": [
    "4. Plot the training and test accuracy and loss values over different epochs:"
   ]
  },
  {
   "cell_type": "code",
   "execution_count": 67,
   "metadata": {},
   "outputs": [],
   "source": [
    "history_dict = history.history\n",
    "loss_values = history_dict['loss']\n",
    "val_loss_values = history_dict['val_loss']\n",
    "acc_values = history_dict['accuracy']\n",
    "val_acc_values = history_dict['val_accuracy']\n",
    "epochs = range(1, len(val_loss_values) + 1)"
   ]
  },
  {
   "cell_type": "code",
   "execution_count": 68,
   "metadata": {
    "scrolled": true
   },
   "outputs": [
    {
     "data": {
      "image/png": "[encoded data removed]",
      "text/plain": [
       "<Figure size 432x288 with 1 Axes>"
      ]
     },
     "metadata": {
      "needs_background": "light"
     },
     "output_type": "display_data"
    },
    {
     "data": {
      "image/png": "[encoded data removed]",
      "text/plain": [
       "<Figure size 432x288 with 1 Axes>"
      ]
     },
     "metadata": {
      "needs_background": "light"
     },
     "output_type": "display_data"
    }
   ],
   "source": [
    "import matplotlib.pyplot as plt\n",
    "%matplotlib inline\n",
    "plt.subplot(211)\n",
    "plt.plot(epochs, loss_values, 'bo', label='Training loss')\n",
    "plt.plot(epochs, val_loss_values, 'r', label='Test loss')\n",
    "plt.title('Training and test loss')\n",
    "plt.xlabel('Epochs')\n",
    "plt.ylabel('Loss')\n",
    "plt.legend()\n",
    "plt.grid('off')\n",
    "plt.show()\n",
    "plt.subplot(212)\n",
    "plt.plot(epochs, acc_values, 'bo', label='Training accuracy')\n",
    "plt.plot(epochs, val_acc_values, 'r', label='Test accuracy')\n",
    "plt.title('Training and test accuracy')\n",
    "plt.xlabel('Epochs')\n",
    "plt.ylabel('Accuracy')\n",
    "plt.gca().set_yticklabels(['{:.0f}%'.format(x*100) for x in plt.gca().get_yticks()]) \n",
    "plt.legend()\n",
    "plt.grid('off')\n",
    "plt.show()"
   ]
  },
  {
   "cell_type": "markdown",
   "metadata": {},
   "source": [
    "Note the results on test accuracy:\n",
    "\n",
    "| Model architecture | hidden layers | accuracy Epoc 1 |  accuracy Epoc 50 | \n",
    "| :-: | :-: | :-: | :-: |\n",
    "| **Present** | multiple | 0.9617 | 0.9853 | \n",
    "| **Previous** | simple | 0.9344 | 0.9825 | \n",
    "\n",
    "This way, a *deep neural network* architecture reaches a better accuracy for the same number of epochs.\n",
    "\n",
    "Note that, in present scenario, there is a considerable gap between training and test loss, indicating that the *deep* architecture specialized on training data. In future sections we will learn about ways to avoid **overfitting** on training data."
   ]
  },
  {
   "cell_type": "markdown",
   "metadata": {},
   "source": [
    "## Varying the learning rate to improve accuracy"
   ]
  },
  {
   "cell_type": "markdown",
   "metadata": {},
   "source": [
    "So far, in the previous recipes, we used the default learning rate of the `Adam` optimizer, which is `0.001`. In this section, we will manually set the learning rate to a higher number and see the impact of changing the learning rate on model accuracy."
   ]
  },
  {
   "cell_type": "markdown",
   "metadata": {},
   "source": [
    "### Getting ready"
   ]
  },
  {
   "cell_type": "markdown",
   "metadata": {},
   "source": [
    "We learned that a change in a weight's value is equal to the decrease in loss multiplied by the learning rate. Hence, the lower the learning rate, the lower the change in the weight value.\n",
    "\n",
    "The learning rate controls how much to change the model in response to the estimated error each time the model weights are updated. A value too small may result in a long training process, whereas a value too large may result in learning a sub-optimal set of weights too fast or an unstable training process.\n",
    "\n",
    "The learning rate controls how quickly the model is adapted to the problem. Smaller learning rates require more training epochs given the smaller changes made to the weights each update, whereas larger learning rates result in rapid changes and require fewer training epochs.\n",
    "\n",
    "Let's consider the *toy* example of fitting the `y = 2x` line as we saw in the [notebook on network details](./001-Neural_network_details.ipynb):"
   ]
  },
  {
   "cell_type": "markdown",
   "metadata": {},
   "source": [
    "1. Initialize the dataset:"
   ]
  },
  {
   "cell_type": "code",
   "execution_count": 69,
   "metadata": {},
   "outputs": [],
   "source": [
    "x = [[1],[2],[3],[4]]\n",
    "y = [[2],[4],[6],[8]]"
   ]
  },
  {
   "cell_type": "markdown",
   "metadata": {},
   "source": [
    "2. Initialize the weight and bias values randomly:"
   ]
  },
  {
   "cell_type": "code",
   "execution_count": 70,
   "metadata": {},
   "outputs": [],
   "source": [
    "w = [1.5, 0.]"
   ]
  },
  {
   "cell_type": "markdown",
   "metadata": {},
   "source": [
    "3. Define the feed-forward network:"
   ]
  },
  {
   "cell_type": "code",
   "execution_count": 71,
   "metadata": {
    "ExecuteTime": {
     "end_time": "2019-02-06T15:01:04.248231Z",
     "start_time": "2019-02-06T15:01:04.244978Z"
    },
    "colab": {},
    "colab_type": "code",
    "id": "Z9NcQEFFgXLl"
   },
   "outputs": [],
   "source": [
    "import numpy as np\n",
    "def feed_forward(inputs, outputs, weights):\n",
    "    out = np.dot(inputs,weights[0]) + weights[1]\n",
    "    squared_error = (np.square(out - outputs))\n",
    "    return squared_error"
   ]
  },
  {
   "cell_type": "markdown",
   "metadata": {},
   "source": [
    "4. Create the function which performs the back propagation process to update weights (we pass the learning rate as a parameter):"
   ]
  },
  {
   "cell_type": "code",
   "execution_count": 90,
   "metadata": {},
   "outputs": [],
   "source": [
    "from copy import deepcopy\n",
    "def update_weights(inputs, outputs, weights, epochs, lr):  \n",
    "    for epoch in range(epochs):\n",
    "        org_loss = feed_forward(inputs, outputs, weights)  \n",
    "        wts_tmp = deepcopy(weights)\n",
    "        wts_tmp2 = deepcopy(weights)\n",
    "        for ix, wt in enumerate(weights): \n",
    "            wts_tmp[-(ix+1)] += 0.0001\n",
    "            # print('wts_tmp:', wts_tmp)\n",
    "            loss = feed_forward(inputs, outputs, wts_tmp)\n",
    "            # print('loss', loss)\n",
    "            delta_loss = np.sum(org_loss - loss)/(0.0001*len(inputs))\n",
    "            wts_tmp2[-(ix+1)] += delta_loss*lr\n",
    "            wts_tmp = deepcopy(weights)\n",
    "\n",
    "        weights = deepcopy(wts_tmp2)\n",
    "    return wts_tmp2"
   ]
  },
  {
   "cell_type": "markdown",
   "metadata": {},
   "source": [
    "And now, run to see the effect of changing the learning rate on the weight value!"
   ]
  },
  {
   "cell_type": "code",
   "execution_count": 134,
   "metadata": {
    "scrolled": true
   },
   "outputs": [],
   "source": [
    "rates = [0.001, 0.01, 0.1]\n",
    "nr = len(rates) \n",
    "w_val = [[] for i in range(nr)]\n",
    "b_val = [[] for i in range(nr)]\n",
    "ir = -1\n",
    "\n",
    "for r in rates:\n",
    "    ir = ir+1\n",
    "    for k in range(100):\n",
    "        w_new, b_new = update_weights(x,y,w,(k+1), r)\n",
    "        w_val[ir].append(w_new)\n",
    "        b_val[ir].append(b_new)"
   ]
  },
  {
   "cell_type": "code",
   "execution_count": 137,
   "metadata": {},
   "outputs": [
    {
     "data": {
      "image/png": "[encoded data removed]",
      "text/plain": [
       "<Figure size 720x504 with 1 Axes>"
      ]
     },
     "metadata": {
      "needs_background": "light"
     },
     "output_type": "display_data"
    }
   ],
   "source": [
    "import matplotlib.pyplot as plt\n",
    "import matplotlib.cm as cm\n",
    "import numpy as np\n",
    "%matplotlib inline\n",
    "\n",
    "colors = iter(cm.rainbow(np.linspace(0,1,nr)))\n",
    "plt.figure(figsize=(10,7))\n",
    "ir = -1\n",
    "\n",
    "for r in rates:\n",
    "    ir = ir+1\n",
    "    plt.plot(w_val[ir],color=next(colors),linestyle='-',linewidth=3,label='lr='+str(r)[0:5])\n",
    "    \n",
    "plt.title('Weight value over different epochs when initial weight is 1.5',fontsize=13)\n",
    "plt.xlabel('epochs',fontsize=15)\n",
    "plt.ylabel('weight value',fontsize=15)\n",
    "plt.legend(loc=0,fontsize=15)\n",
    "plt.tick_params(axis='both',which='major',labelsize=12)\n",
    "plt.grid('off')"
   ]
  },
  {
   "cell_type": "markdown",
   "metadata": {},
   "source": [
    "Note that the weight value converges faster to the optimal solution (`2`) as the learning rate increases. In the case `lr = 0.1` there is a drastic change in the weight values initially!!! \n",
    "\n",
    "That oscillation amplitude will increase as the parameter `lr` is raised above `0.1`, and eventually the solution does not achieve convergence to the optimal solution but the weight value will get stuck in a **local minima**!!!"
   ]
  },
  {
   "cell_type": "markdown",
   "metadata": {},
   "source": [
    "### How to do it..."
   ]
  },
  {
   "cell_type": "markdown",
   "metadata": {},
   "source": [
    "Now, let's see the impact of the learning rate in action on the MNIST dataset. "
   ]
  },
  {
   "cell_type": "markdown",
   "metadata": {},
   "source": [
    "1. Load the dataset and scale it:"
   ]
  },
  {
   "cell_type": "code",
   "execution_count": 370,
   "metadata": {},
   "outputs": [],
   "source": [
    "(X_train, y_train), (X_test, y_test) = mnist.load_data()\n",
    "num_pixels = X_train.shape[1] * X_train.shape[2]\n",
    "X_train = X_train.reshape(X_train.shape[0], num_pixels).astype('float32')\n",
    "X_test = X_test.reshape(X_test.shape[0], num_pixels).astype('float32')\n",
    "X_train = X_train/255\n",
    "X_test = X_test/255\n",
    "y_train = np_utils.to_categorical(y_train)\n",
    "y_test = np_utils.to_categorical(y_test)\n",
    "num_classes = y_test.shape[1]"
   ]
  },
  {
   "cell_type": "markdown",
   "metadata": {},
   "source": [
    "2. Run to see the effect of changing the learning rate of the Adam optimizer (default is `0.001`) on the test accuracy!"
   ]
  },
  {
   "cell_type": "code",
   "execution_count": 371,
   "metadata": {
    "colab": {},
    "colab_type": "code",
    "id": "zI97Pn3BKpEC"
   },
   "outputs": [
    {
     "name": "stdout",
     "output_type": "stream",
     "text": [
      "Epoch 1/50\n",
      "59/59 [==============================] - 0s 8ms/step - loss: 1.4497 - accuracy: 0.6791 - val_loss: 0.7831 - val_accuracy: 0.8597\n",
      "Epoch 2/50\n",
      "59/59 [==============================] - 0s 7ms/step - loss: 0.6059 - accuracy: 0.8719 - val_loss: 0.4580 - val_accuracy: 0.8979\n",
      "Epoch 3/50\n",
      "59/59 [==============================] - 0s 7ms/step - loss: 0.4228 - accuracy: 0.8972 - val_loss: 0.3618 - val_accuracy: 0.9128\n",
      "Epoch 4/50\n",
      "59/59 [==============================] - 0s 7ms/step - loss: 0.3515 - accuracy: 0.9104 - val_loss: 0.3142 - val_accuracy: 0.9193\n",
      "Epoch 5/50\n",
      "59/59 [==============================] - 0s 7ms/step - loss: 0.3108 - accuracy: 0.9185 - val_loss: 0.2845 - val_accuracy: 0.9238\n",
      "Epoch 6/50\n",
      "59/59 [==============================] - 0s 7ms/step - loss: 0.2826 - accuracy: 0.9256 - val_loss: 0.2626 - val_accuracy: 0.9283\n",
      "Epoch 7/50\n",
      "59/59 [==============================] - 0s 7ms/step - loss: 0.2611 - accuracy: 0.9307 - val_loss: 0.2454 - val_accuracy: 0.9332\n",
      "Epoch 8/50\n",
      "59/59 [==============================] - 0s 7ms/step - loss: 0.2437 - accuracy: 0.9350 - val_loss: 0.2310 - val_accuracy: 0.9358\n",
      "Epoch 9/50\n",
      "59/59 [==============================] - 0s 7ms/step - loss: 0.2287 - accuracy: 0.9389 - val_loss: 0.2180 - val_accuracy: 0.9384\n",
      "Epoch 10/50\n",
      "59/59 [==============================] - 0s 7ms/step - loss: 0.2159 - accuracy: 0.9420 - val_loss: 0.2071 - val_accuracy: 0.9407\n",
      "Epoch 11/50\n",
      "59/59 [==============================] - 0s 7ms/step - loss: 0.2042 - accuracy: 0.9450 - val_loss: 0.1978 - val_accuracy: 0.9455\n",
      "Epoch 12/50\n",
      "59/59 [==============================] - 0s 7ms/step - loss: 0.1939 - accuracy: 0.9478 - val_loss: 0.1889 - val_accuracy: 0.9467\n",
      "Epoch 13/50\n",
      "59/59 [==============================] - 0s 7ms/step - loss: 0.1846 - accuracy: 0.9500 - val_loss: 0.1807 - val_accuracy: 0.9492\n",
      "Epoch 14/50\n",
      "59/59 [==============================] - 0s 7ms/step - loss: 0.1761 - accuracy: 0.9523 - val_loss: 0.1742 - val_accuracy: 0.9508\n",
      "Epoch 15/50\n",
      "59/59 [==============================] - 0s 7ms/step - loss: 0.1680 - accuracy: 0.9542 - val_loss: 0.1668 - val_accuracy: 0.9527\n",
      "Epoch 16/50\n",
      "59/59 [==============================] - 0s 7ms/step - loss: 0.1608 - accuracy: 0.9561 - val_loss: 0.1613 - val_accuracy: 0.9547\n",
      "Epoch 17/50\n",
      "59/59 [==============================] - 0s 7ms/step - loss: 0.1542 - accuracy: 0.9577 - val_loss: 0.1552 - val_accuracy: 0.9562\n",
      "Epoch 18/50\n",
      "59/59 [==============================] - 0s 7ms/step - loss: 0.1479 - accuracy: 0.9592 - val_loss: 0.1500 - val_accuracy: 0.9576\n",
      "Epoch 19/50\n",
      "59/59 [==============================] - 0s 7ms/step - loss: 0.1419 - accuracy: 0.9614 - val_loss: 0.1452 - val_accuracy: 0.9590\n",
      "Epoch 20/50\n",
      "59/59 [==============================] - 0s 7ms/step - loss: 0.1362 - accuracy: 0.9631 - val_loss: 0.1407 - val_accuracy: 0.9603\n",
      "Epoch 21/50\n",
      "59/59 [==============================] - 0s 7ms/step - loss: 0.1310 - accuracy: 0.9645 - val_loss: 0.1369 - val_accuracy: 0.9619\n",
      "Epoch 22/50\n",
      "59/59 [==============================] - 0s 7ms/step - loss: 0.1262 - accuracy: 0.9661 - val_loss: 0.1329 - val_accuracy: 0.9619\n",
      "Epoch 23/50\n",
      "59/59 [==============================] - 0s 7ms/step - loss: 0.1216 - accuracy: 0.9676 - val_loss: 0.1287 - val_accuracy: 0.9634\n",
      "Epoch 24/50\n",
      "59/59 [==============================] - 0s 7ms/step - loss: 0.1172 - accuracy: 0.9690 - val_loss: 0.1257 - val_accuracy: 0.9638\n",
      "Epoch 25/50\n",
      "59/59 [==============================] - 0s 7ms/step - loss: 0.1133 - accuracy: 0.9699 - val_loss: 0.1219 - val_accuracy: 0.9652\n",
      "Epoch 26/50\n",
      "59/59 [==============================] - 0s 7ms/step - loss: 0.1095 - accuracy: 0.9709 - val_loss: 0.1197 - val_accuracy: 0.9656\n",
      "Epoch 27/50\n",
      "59/59 [==============================] - 0s 7ms/step - loss: 0.1056 - accuracy: 0.9722 - val_loss: 0.1166 - val_accuracy: 0.9662\n",
      "Epoch 28/50\n",
      "59/59 [==============================] - 0s 7ms/step - loss: 0.1019 - accuracy: 0.9731 - val_loss: 0.1140 - val_accuracy: 0.9669\n",
      "Epoch 29/50\n",
      "59/59 [==============================] - 0s 7ms/step - loss: 0.0988 - accuracy: 0.9740 - val_loss: 0.1108 - val_accuracy: 0.9682\n",
      "Epoch 30/50\n",
      "59/59 [==============================] - 0s 7ms/step - loss: 0.0955 - accuracy: 0.9750 - val_loss: 0.1097 - val_accuracy: 0.9689\n",
      "Epoch 31/50\n",
      "59/59 [==============================] - 0s 7ms/step - loss: 0.0925 - accuracy: 0.9760 - val_loss: 0.1066 - val_accuracy: 0.9693\n",
      "Epoch 32/50\n",
      "59/59 [==============================] - 0s 7ms/step - loss: 0.0896 - accuracy: 0.9766 - val_loss: 0.1048 - val_accuracy: 0.9696\n",
      "Epoch 33/50\n",
      "59/59 [==============================] - 0s 7ms/step - loss: 0.0867 - accuracy: 0.9776 - val_loss: 0.1024 - val_accuracy: 0.9704\n",
      "Epoch 34/50\n",
      "59/59 [==============================] - 0s 7ms/step - loss: 0.0842 - accuracy: 0.9785 - val_loss: 0.1001 - val_accuracy: 0.9712\n",
      "Epoch 35/50\n",
      "59/59 [==============================] - 0s 7ms/step - loss: 0.0816 - accuracy: 0.9787 - val_loss: 0.0990 - val_accuracy: 0.9714\n",
      "Epoch 36/50\n",
      "59/59 [==============================] - 0s 7ms/step - loss: 0.0791 - accuracy: 0.9799 - val_loss: 0.0967 - val_accuracy: 0.9720\n",
      "Epoch 37/50\n",
      "59/59 [==============================] - 0s 7ms/step - loss: 0.0768 - accuracy: 0.9800 - val_loss: 0.0949 - val_accuracy: 0.9728\n",
      "Epoch 38/50\n",
      "59/59 [==============================] - 0s 7ms/step - loss: 0.0746 - accuracy: 0.9812 - val_loss: 0.0933 - val_accuracy: 0.9732\n",
      "Epoch 39/50\n",
      "59/59 [==============================] - 0s 7ms/step - loss: 0.0724 - accuracy: 0.9817 - val_loss: 0.0925 - val_accuracy: 0.9731\n",
      "Epoch 40/50\n",
      "59/59 [==============================] - 0s 7ms/step - loss: 0.0702 - accuracy: 0.9821 - val_loss: 0.0915 - val_accuracy: 0.9733\n",
      "Epoch 41/50\n",
      "59/59 [==============================] - 0s 7ms/step - loss: 0.0682 - accuracy: 0.9828 - val_loss: 0.0893 - val_accuracy: 0.9740\n",
      "Epoch 42/50\n",
      "59/59 [==============================] - 0s 7ms/step - loss: 0.0663 - accuracy: 0.9833 - val_loss: 0.0876 - val_accuracy: 0.9743\n",
      "Epoch 43/50\n",
      "59/59 [==============================] - 0s 7ms/step - loss: 0.0643 - accuracy: 0.9838 - val_loss: 0.0868 - val_accuracy: 0.9747\n",
      "Epoch 44/50\n",
      "59/59 [==============================] - 0s 7ms/step - loss: 0.0626 - accuracy: 0.9842 - val_loss: 0.0854 - val_accuracy: 0.9744\n",
      "Epoch 45/50\n",
      "59/59 [==============================] - 0s 7ms/step - loss: 0.0609 - accuracy: 0.9847 - val_loss: 0.0841 - val_accuracy: 0.9752\n",
      "Epoch 46/50\n",
      "59/59 [==============================] - 0s 7ms/step - loss: 0.0593 - accuracy: 0.9853 - val_loss: 0.0831 - val_accuracy: 0.9740\n",
      "Epoch 47/50\n",
      "59/59 [==============================] - 0s 7ms/step - loss: 0.0577 - accuracy: 0.9858 - val_loss: 0.0820 - val_accuracy: 0.9760\n",
      "Epoch 48/50\n",
      "59/59 [==============================] - 0s 7ms/step - loss: 0.0560 - accuracy: 0.9863 - val_loss: 0.0817 - val_accuracy: 0.9753\n",
      "Epoch 49/50\n",
      "59/59 [==============================] - 0s 7ms/step - loss: 0.0545 - accuracy: 0.9866 - val_loss: 0.0803 - val_accuracy: 0.9759\n",
      "Epoch 50/50\n",
      "59/59 [==============================] - 0s 7ms/step - loss: 0.0531 - accuracy: 0.9871 - val_loss: 0.0800 - val_accuracy: 0.9763\n",
      "Epoch 1/50\n",
      "59/59 [==============================] - 0s 8ms/step - loss: 0.4743 - accuracy: 0.8701 - val_loss: 0.2265 - val_accuracy: 0.9343\n",
      "Epoch 2/50\n",
      "59/59 [==============================] - 0s 7ms/step - loss: 0.1928 - accuracy: 0.9461 - val_loss: 0.1585 - val_accuracy: 0.9550\n",
      "Epoch 3/50\n",
      "59/59 [==============================] - 0s 7ms/step - loss: 0.1395 - accuracy: 0.9610 - val_loss: 0.1258 - val_accuracy: 0.9631\n",
      "Epoch 4/50\n",
      "59/59 [==============================] - 0s 7ms/step - loss: 0.1072 - accuracy: 0.9702 - val_loss: 0.1077 - val_accuracy: 0.9691\n",
      "Epoch 5/50\n",
      "59/59 [==============================] - 0s 7ms/step - loss: 0.0832 - accuracy: 0.9778 - val_loss: 0.0900 - val_accuracy: 0.9737\n",
      "Epoch 6/50\n",
      "59/59 [==============================] - 0s 7ms/step - loss: 0.0673 - accuracy: 0.9817 - val_loss: 0.0835 - val_accuracy: 0.9749\n",
      "Epoch 7/50\n",
      "59/59 [==============================] - 0s 7ms/step - loss: 0.0569 - accuracy: 0.9847 - val_loss: 0.0776 - val_accuracy: 0.9773\n",
      "Epoch 8/50\n",
      "59/59 [==============================] - 0s 7ms/step - loss: 0.0473 - accuracy: 0.9877 - val_loss: 0.0726 - val_accuracy: 0.9781\n",
      "Epoch 9/50\n",
      "59/59 [==============================] - 0s 7ms/step - loss: 0.0392 - accuracy: 0.9900 - val_loss: 0.0673 - val_accuracy: 0.9791\n",
      "Epoch 10/50\n",
      "59/59 [==============================] - 0s 7ms/step - loss: 0.0335 - accuracy: 0.9919 - val_loss: 0.0632 - val_accuracy: 0.9797\n",
      "Epoch 11/50\n",
      "59/59 [==============================] - 0s 7ms/step - loss: 0.0284 - accuracy: 0.9935 - val_loss: 0.0631 - val_accuracy: 0.9800\n",
      "Epoch 12/50\n",
      "59/59 [==============================] - 0s 7ms/step - loss: 0.0242 - accuracy: 0.9949 - val_loss: 0.0619 - val_accuracy: 0.9810\n",
      "Epoch 13/50\n",
      "59/59 [==============================] - 0s 7ms/step - loss: 0.0209 - accuracy: 0.9957 - val_loss: 0.0604 - val_accuracy: 0.9808\n",
      "Epoch 14/50\n",
      "59/59 [==============================] - 0s 7ms/step - loss: 0.0179 - accuracy: 0.9969 - val_loss: 0.0596 - val_accuracy: 0.9810\n",
      "Epoch 15/50\n",
      "59/59 [==============================] - 0s 7ms/step - loss: 0.0152 - accuracy: 0.9976 - val_loss: 0.0591 - val_accuracy: 0.9811\n",
      "Epoch 16/50\n",
      "59/59 [==============================] - 0s 7ms/step - loss: 0.0132 - accuracy: 0.9979 - val_loss: 0.0585 - val_accuracy: 0.9811\n",
      "Epoch 17/50\n",
      "59/59 [==============================] - 0s 7ms/step - loss: 0.0114 - accuracy: 0.9986 - val_loss: 0.0595 - val_accuracy: 0.9807\n",
      "Epoch 18/50\n",
      "59/59 [==============================] - 0s 7ms/step - loss: 0.0098 - accuracy: 0.9990 - val_loss: 0.0584 - val_accuracy: 0.9817\n",
      "Epoch 19/50\n",
      "59/59 [==============================] - 0s 7ms/step - loss: 0.0086 - accuracy: 0.9991 - val_loss: 0.0572 - val_accuracy: 0.9809\n",
      "Epoch 20/50\n",
      "59/59 [==============================] - 0s 7ms/step - loss: 0.0076 - accuracy: 0.9993 - val_loss: 0.0588 - val_accuracy: 0.9816\n",
      "Epoch 21/50\n",
      "59/59 [==============================] - 0s 7ms/step - loss: 0.0065 - accuracy: 0.9996 - val_loss: 0.0606 - val_accuracy: 0.9805\n",
      "Epoch 22/50\n",
      "59/59 [==============================] - 0s 7ms/step - loss: 0.0056 - accuracy: 0.9997 - val_loss: 0.0601 - val_accuracy: 0.9799\n",
      "Epoch 23/50\n",
      "59/59 [==============================] - 0s 7ms/step - loss: 0.0051 - accuracy: 0.9997 - val_loss: 0.0582 - val_accuracy: 0.9807\n",
      "Epoch 24/50\n",
      "59/59 [==============================] - 0s 7ms/step - loss: 0.0044 - accuracy: 0.9999 - val_loss: 0.0591 - val_accuracy: 0.9807\n",
      "Epoch 25/50\n",
      "59/59 [==============================] - 0s 7ms/step - loss: 0.0039 - accuracy: 0.9998 - val_loss: 0.0597 - val_accuracy: 0.9806\n",
      "Epoch 26/50\n",
      "59/59 [==============================] - 0s 7ms/step - loss: 0.0035 - accuracy: 0.9999 - val_loss: 0.0595 - val_accuracy: 0.9811\n",
      "Epoch 27/50\n",
      "59/59 [==============================] - 0s 7ms/step - loss: 0.0032 - accuracy: 0.9999 - val_loss: 0.0600 - val_accuracy: 0.9808\n",
      "Epoch 28/50\n",
      "59/59 [==============================] - 0s 7ms/step - loss: 0.0029 - accuracy: 0.9999 - val_loss: 0.0597 - val_accuracy: 0.9813\n",
      "Epoch 29/50\n",
      "59/59 [==============================] - 0s 7ms/step - loss: 0.0026 - accuracy: 0.9999 - val_loss: 0.0606 - val_accuracy: 0.9812\n",
      "Epoch 30/50\n",
      "59/59 [==============================] - 0s 7ms/step - loss: 0.0024 - accuracy: 1.0000 - val_loss: 0.0615 - val_accuracy: 0.9809\n",
      "Epoch 31/50\n",
      "59/59 [==============================] - 0s 7ms/step - loss: 0.0022 - accuracy: 1.0000 - val_loss: 0.0610 - val_accuracy: 0.9812\n",
      "Epoch 32/50\n",
      "59/59 [==============================] - 0s 7ms/step - loss: 0.0019 - accuracy: 1.0000 - val_loss: 0.0613 - val_accuracy: 0.9814\n",
      "Epoch 33/50\n",
      "59/59 [==============================] - 0s 7ms/step - loss: 0.0018 - accuracy: 1.0000 - val_loss: 0.0612 - val_accuracy: 0.9812\n",
      "Epoch 34/50\n",
      "59/59 [==============================] - 0s 7ms/step - loss: 0.0016 - accuracy: 1.0000 - val_loss: 0.0615 - val_accuracy: 0.9814\n",
      "Epoch 35/50\n",
      "59/59 [==============================] - 0s 7ms/step - loss: 0.0015 - accuracy: 1.0000 - val_loss: 0.0620 - val_accuracy: 0.9814\n",
      "Epoch 36/50\n",
      "59/59 [==============================] - 0s 7ms/step - loss: 0.0014 - accuracy: 1.0000 - val_loss: 0.0629 - val_accuracy: 0.9811\n",
      "Epoch 37/50\n",
      "59/59 [==============================] - 0s 7ms/step - loss: 0.0013 - accuracy: 1.0000 - val_loss: 0.0618 - val_accuracy: 0.9818\n",
      "Epoch 38/50\n",
      "59/59 [==============================] - 0s 7ms/step - loss: 0.0012 - accuracy: 1.0000 - val_loss: 0.0630 - val_accuracy: 0.9813\n",
      "Epoch 39/50\n",
      "59/59 [==============================] - 0s 7ms/step - loss: 0.0011 - accuracy: 1.0000 - val_loss: 0.0638 - val_accuracy: 0.9809\n",
      "Epoch 40/50\n",
      "59/59 [==============================] - 0s 7ms/step - loss: 0.0011 - accuracy: 1.0000 - val_loss: 0.0632 - val_accuracy: 0.9814\n",
      "Epoch 41/50\n",
      "59/59 [==============================] - 0s 7ms/step - loss: 9.8643e-04 - accuracy: 1.0000 - val_loss: 0.0637 - val_accuracy: 0.9816\n",
      "Epoch 42/50\n",
      "59/59 [==============================] - 0s 7ms/step - loss: 9.4369e-04 - accuracy: 1.0000 - val_loss: 0.0642 - val_accuracy: 0.9815\n",
      "Epoch 43/50\n",
      "59/59 [==============================] - 0s 7ms/step - loss: 8.6678e-04 - accuracy: 1.0000 - val_loss: 0.0644 - val_accuracy: 0.9812\n",
      "Epoch 44/50\n",
      "59/59 [==============================] - 0s 7ms/step - loss: 8.1821e-04 - accuracy: 1.0000 - val_loss: 0.0649 - val_accuracy: 0.9818\n",
      "Epoch 45/50\n",
      "59/59 [==============================] - 0s 7ms/step - loss: 7.5557e-04 - accuracy: 1.0000 - val_loss: 0.0652 - val_accuracy: 0.9812\n",
      "Epoch 46/50\n",
      "59/59 [==============================] - 0s 7ms/step - loss: 7.1875e-04 - accuracy: 1.0000 - val_loss: 0.0656 - val_accuracy: 0.9813\n",
      "Epoch 47/50\n",
      "59/59 [==============================] - 0s 7ms/step - loss: 6.7946e-04 - accuracy: 1.0000 - val_loss: 0.0656 - val_accuracy: 0.9812\n",
      "Epoch 48/50\n",
      "59/59 [==============================] - 0s 7ms/step - loss: 6.3732e-04 - accuracy: 1.0000 - val_loss: 0.0661 - val_accuracy: 0.9808\n",
      "Epoch 49/50\n",
      "59/59 [==============================] - 0s 7ms/step - loss: 6.0430e-04 - accuracy: 1.0000 - val_loss: 0.0661 - val_accuracy: 0.9815\n",
      "Epoch 50/50\n",
      "59/59 [==============================] - 0s 7ms/step - loss: 5.7481e-04 - accuracy: 1.0000 - val_loss: 0.0660 - val_accuracy: 0.9816\n",
      "Epoch 1/50\n",
      "59/59 [==============================] - 0s 8ms/step - loss: 12.7587 - accuracy: 0.7530 - val_loss: 0.3564 - val_accuracy: 0.9185\n",
      "Epoch 2/50\n",
      "59/59 [==============================] - 0s 7ms/step - loss: 0.2850 - accuracy: 0.9258 - val_loss: 0.2310 - val_accuracy: 0.9416\n",
      "Epoch 3/50\n",
      "59/59 [==============================] - 0s 7ms/step - loss: 0.2075 - accuracy: 0.9447 - val_loss: 0.2154 - val_accuracy: 0.9442\n",
      "Epoch 4/50\n",
      "59/59 [==============================] - 0s 7ms/step - loss: 0.1820 - accuracy: 0.9501 - val_loss: 0.2193 - val_accuracy: 0.9419\n",
      "Epoch 5/50\n",
      "59/59 [==============================] - 0s 7ms/step - loss: 0.1648 - accuracy: 0.9548 - val_loss: 0.2324 - val_accuracy: 0.9439\n",
      "Epoch 6/50\n",
      "59/59 [==============================] - 0s 7ms/step - loss: 0.1596 - accuracy: 0.9568 - val_loss: 0.2114 - val_accuracy: 0.9538\n",
      "Epoch 7/50\n",
      "59/59 [==============================] - 0s 7ms/step - loss: 0.1488 - accuracy: 0.9596 - val_loss: 0.2200 - val_accuracy: 0.9501\n",
      "Epoch 8/50\n",
      "59/59 [==============================] - 0s 7ms/step - loss: 0.1485 - accuracy: 0.9606 - val_loss: 0.2226 - val_accuracy: 0.9504\n",
      "Epoch 9/50\n",
      "59/59 [==============================] - 0s 7ms/step - loss: 0.1390 - accuracy: 0.9633 - val_loss: 0.2548 - val_accuracy: 0.9447\n",
      "Epoch 10/50\n",
      "59/59 [==============================] - 0s 7ms/step - loss: 0.1405 - accuracy: 0.9618 - val_loss: 0.2319 - val_accuracy: 0.9530\n",
      "Epoch 11/50\n",
      "59/59 [==============================] - 0s 7ms/step - loss: 0.1386 - accuracy: 0.9639 - val_loss: 0.2634 - val_accuracy: 0.9491\n",
      "Epoch 12/50\n",
      "59/59 [==============================] - 0s 7ms/step - loss: 0.1384 - accuracy: 0.9633 - val_loss: 0.2266 - val_accuracy: 0.9529\n",
      "Epoch 13/50\n",
      "59/59 [==============================] - 0s 7ms/step - loss: 0.1154 - accuracy: 0.9696 - val_loss: 0.2623 - val_accuracy: 0.9495\n",
      "Epoch 14/50\n",
      "59/59 [==============================] - 0s 7ms/step - loss: 0.1199 - accuracy: 0.9690 - val_loss: 0.2626 - val_accuracy: 0.9534\n",
      "Epoch 15/50\n",
      "59/59 [==============================] - 0s 7ms/step - loss: 0.1212 - accuracy: 0.9680 - val_loss: 0.2668 - val_accuracy: 0.9543\n",
      "Epoch 16/50\n",
      "59/59 [==============================] - 0s 7ms/step - loss: 0.1147 - accuracy: 0.9697 - val_loss: 0.2531 - val_accuracy: 0.9576\n"
     ]
    },
    {
     "name": "stdout",
     "output_type": "stream",
     "text": [
      "Epoch 17/50\n",
      "59/59 [==============================] - 0s 7ms/step - loss: 0.1231 - accuracy: 0.9688 - val_loss: 0.2869 - val_accuracy: 0.9531\n",
      "Epoch 18/50\n",
      "59/59 [==============================] - 0s 7ms/step - loss: 0.1396 - accuracy: 0.9670 - val_loss: 0.3122 - val_accuracy: 0.9507\n",
      "Epoch 19/50\n",
      "59/59 [==============================] - 0s 7ms/step - loss: 0.1327 - accuracy: 0.9679 - val_loss: 0.2973 - val_accuracy: 0.9494\n",
      "Epoch 20/50\n",
      "59/59 [==============================] - 0s 7ms/step - loss: 0.1215 - accuracy: 0.9696 - val_loss: 0.3150 - val_accuracy: 0.9541\n",
      "Epoch 21/50\n",
      "59/59 [==============================] - 0s 7ms/step - loss: 0.1345 - accuracy: 0.9671 - val_loss: 0.3747 - val_accuracy: 0.9470\n",
      "Epoch 22/50\n",
      "59/59 [==============================] - 0s 7ms/step - loss: 0.1354 - accuracy: 0.9672 - val_loss: 0.2766 - val_accuracy: 0.9509\n",
      "Epoch 23/50\n",
      "59/59 [==============================] - 0s 7ms/step - loss: 0.1233 - accuracy: 0.9700 - val_loss: 0.2959 - val_accuracy: 0.9519\n",
      "Epoch 24/50\n",
      "59/59 [==============================] - 0s 7ms/step - loss: 0.1279 - accuracy: 0.9693 - val_loss: 0.3272 - val_accuracy: 0.9529\n",
      "Epoch 25/50\n",
      "59/59 [==============================] - 0s 7ms/step - loss: 0.1266 - accuracy: 0.9697 - val_loss: 0.3098 - val_accuracy: 0.9506\n",
      "Epoch 26/50\n",
      "59/59 [==============================] - 0s 7ms/step - loss: 0.1358 - accuracy: 0.9678 - val_loss: 0.3462 - val_accuracy: 0.9523\n",
      "Epoch 27/50\n",
      "59/59 [==============================] - 0s 7ms/step - loss: 0.1566 - accuracy: 0.9649 - val_loss: 0.3287 - val_accuracy: 0.9507\n",
      "Epoch 28/50\n",
      "59/59 [==============================] - 0s 7ms/step - loss: 0.1330 - accuracy: 0.9686 - val_loss: 0.3396 - val_accuracy: 0.9523\n",
      "Epoch 29/50\n",
      "59/59 [==============================] - 0s 7ms/step - loss: 0.1241 - accuracy: 0.9711 - val_loss: 0.3414 - val_accuracy: 0.9507\n",
      "Epoch 30/50\n",
      "59/59 [==============================] - 0s 7ms/step - loss: 0.1178 - accuracy: 0.9721 - val_loss: 0.3454 - val_accuracy: 0.9551\n",
      "Epoch 31/50\n",
      "59/59 [==============================] - 0s 7ms/step - loss: 0.1070 - accuracy: 0.9739 - val_loss: 0.3641 - val_accuracy: 0.9540\n",
      "Epoch 32/50\n",
      "59/59 [==============================] - 0s 7ms/step - loss: 0.1197 - accuracy: 0.9732 - val_loss: 0.3974 - val_accuracy: 0.9509\n",
      "Epoch 33/50\n",
      "59/59 [==============================] - 0s 7ms/step - loss: 0.1246 - accuracy: 0.9718 - val_loss: 0.3900 - val_accuracy: 0.9540\n",
      "Epoch 34/50\n",
      "59/59 [==============================] - 0s 7ms/step - loss: 0.1121 - accuracy: 0.9741 - val_loss: 0.3587 - val_accuracy: 0.9523\n",
      "Epoch 35/50\n",
      "59/59 [==============================] - 0s 7ms/step - loss: 0.1312 - accuracy: 0.9708 - val_loss: 0.4148 - val_accuracy: 0.9513\n",
      "Epoch 36/50\n",
      "59/59 [==============================] - 0s 7ms/step - loss: 0.1462 - accuracy: 0.9691 - val_loss: 0.3880 - val_accuracy: 0.9501\n",
      "Epoch 37/50\n",
      "59/59 [==============================] - 0s 7ms/step - loss: 0.1464 - accuracy: 0.9678 - val_loss: 0.4471 - val_accuracy: 0.9520\n",
      "Epoch 38/50\n",
      "59/59 [==============================] - 0s 7ms/step - loss: 0.1513 - accuracy: 0.9686 - val_loss: 0.4077 - val_accuracy: 0.9528\n",
      "Epoch 39/50\n",
      "59/59 [==============================] - 0s 7ms/step - loss: 0.1410 - accuracy: 0.9699 - val_loss: 0.4110 - val_accuracy: 0.9524\n",
      "Epoch 40/50\n",
      "59/59 [==============================] - 0s 7ms/step - loss: 0.1268 - accuracy: 0.9726 - val_loss: 0.4904 - val_accuracy: 0.9507\n",
      "Epoch 41/50\n",
      "59/59 [==============================] - 0s 7ms/step - loss: 0.1264 - accuracy: 0.9724 - val_loss: 0.3924 - val_accuracy: 0.9516\n",
      "Epoch 42/50\n",
      "59/59 [==============================] - 0s 7ms/step - loss: 0.1657 - accuracy: 0.9660 - val_loss: 0.5144 - val_accuracy: 0.9487\n",
      "Epoch 43/50\n",
      "59/59 [==============================] - 0s 7ms/step - loss: 0.1496 - accuracy: 0.9696 - val_loss: 0.5005 - val_accuracy: 0.9534\n",
      "Epoch 44/50\n",
      "59/59 [==============================] - 0s 7ms/step - loss: 0.1388 - accuracy: 0.9710 - val_loss: 0.4023 - val_accuracy: 0.9522\n",
      "Epoch 45/50\n",
      "59/59 [==============================] - 0s 7ms/step - loss: 0.1449 - accuracy: 0.9699 - val_loss: 0.4850 - val_accuracy: 0.9427\n",
      "Epoch 46/50\n",
      "59/59 [==============================] - 0s 7ms/step - loss: 0.1403 - accuracy: 0.9711 - val_loss: 0.4354 - val_accuracy: 0.9507\n",
      "Epoch 47/50\n",
      "59/59 [==============================] - 0s 7ms/step - loss: 0.1158 - accuracy: 0.9739 - val_loss: 0.4506 - val_accuracy: 0.9566\n",
      "Epoch 48/50\n",
      "59/59 [==============================] - 0s 7ms/step - loss: 0.1303 - accuracy: 0.9723 - val_loss: 0.5500 - val_accuracy: 0.9484\n",
      "Epoch 49/50\n",
      "59/59 [==============================] - 0s 7ms/step - loss: 0.1415 - accuracy: 0.9711 - val_loss: 0.4507 - val_accuracy: 0.9546\n",
      "Epoch 50/50\n",
      "59/59 [==============================] - 0s 7ms/step - loss: 0.1316 - accuracy: 0.9734 - val_loss: 0.4307 - val_accuracy: 0.9535\n"
     ]
    }
   ],
   "source": [
    "from keras.optimizers import Adam\n",
    "\n",
    "rates = [0.0001,0.001,0.1]\n",
    "nr = len(rates) \n",
    "val_acc_list = [[] for i in range(nr)]\n",
    "ir = -1\n",
    "\n",
    "for r in rates:\n",
    "    # Initialize the model and define the model architecture:\n",
    "    model = Sequential()\n",
    "    model.add(Dense(1000, input_dim=784, activation='relu'))\n",
    "    model.add(Dense(10, activation='softmax'))    \n",
    "    # Set up the learning rate of the Adam optimizer:\n",
    "    opt = Adam(lr=r)\n",
    "    # Compile and fit the model:\n",
    "    model.compile(loss='categorical_crossentropy', optimizer=opt, metrics=['accuracy'])\n",
    "    history = model.fit(X_train, y_train, validation_data=(X_test, y_test), epochs=50, batch_size=1024, verbose=1)\n",
    "    # Extract accuracy metrics for test datasets:\n",
    "    history_dict = history.history\n",
    "    val_acc = history_dict['val_accuracy']\n",
    "    # Save results in a list:\n",
    "    ir = ir+1\n",
    "    val_acc_list[ir].append(val_acc)\n",
    "    \n",
    "epochs = range(1, len(val_acc) + 1)"
   ]
  },
  {
   "cell_type": "code",
   "execution_count": 377,
   "metadata": {
    "scrolled": true
   },
   "outputs": [
    {
     "data": {
      "image/png": "[encoded data removed]",
      "text/plain": [
       "<Figure size 720x360 with 1 Axes>"
      ]
     },
     "metadata": {
      "needs_background": "light"
     },
     "output_type": "display_data"
    }
   ],
   "source": [
    "import matplotlib.pyplot as plt\n",
    "import matplotlib.cm as cm\n",
    "import numpy as np\n",
    "%matplotlib inline\n",
    "\n",
    "colors = iter(cm.rainbow(np.linspace(0,1,nr)))\n",
    "plt.figure(figsize=(10,5))\n",
    "ir = -1\n",
    "\n",
    "for r in rates:\n",
    "    ir = ir+1\n",
    "    val_acc = np.hstack(val_acc_list[ir])\n",
    "    plt.plot(epochs,val_acc,color=next(colors),linestyle='-',linewidth=3,label='lr='+str(r)[0:6])\n",
    "    \n",
    "plt.ylim(0.85,1.0)\n",
    "plt.title('Test accuracy',fontsize=14)\n",
    "plt.xlabel('epochs',fontsize=15)\n",
    "plt.ylabel('accuracy',fontsize=15)\n",
    "plt.gca().set_yticklabels(['{:.0f}%'.format(x*100) for x in plt.gca().get_yticks()]) \n",
    "plt.legend(loc=4,fontsize=15)\n",
    "plt.tick_params(axis='both',which='major',labelsize=12)\n",
    "plt.grid('off')\n",
    "plt.show()"
   ]
  },
  {
   "cell_type": "markdown",
   "metadata": {},
   "source": [
    "Note that the low-learning-rate model updates the weights slowly, thereby resulting in a *smoothly* reducing loss function, as well as a high accuracy, which was achieved slowly over a higher number of epochs.\n",
    "\n",
    "Alternatively, the *step-like* changes in loss values when the learning rate is higher are due to the loss values getting stuck in a local minima until the weight values change to optimal values. \n",
    "\n",
    "A lower learning rate gives a **better** possibility of arriving at the optimal weight values, as the weights are changed slowly but steadily in the right direction!!! "
   ]
  },
  {
   "cell_type": "markdown",
   "metadata": {},
   "source": [
    "## Impact of varying optimizers on network accuracy"
   ]
  },
  {
   "cell_type": "markdown",
   "metadata": {},
   "source": [
    "So far, in previous recipes, we considered the loss optimizer to be the *Adam* optimizer. However, there are multiple other variants, and a change in the optimizer is likely to impact the speed with which the model learns to fit the input and the output."
   ]
  },
  {
   "cell_type": "markdown",
   "metadata": {},
   "source": [
    "### Getting ready"
   ]
  },
  {
   "cell_type": "markdown",
   "metadata": {},
   "source": [
    "You can learn about the various optimizers here: <a href=\"https://keras.io/optimizers/\">keras optimizers</a>. \n",
    "\n",
    "Additionally, you can find the source code of each optimizer here: <a href=\"https:/github.com/keras-team/keras/blob/master/keras/optimizers.py/\">github keras optimizers</a>."
   ]
  },
  {
   "cell_type": "markdown",
   "metadata": {},
   "source": [
    "### How to do it..."
   ]
  },
  {
   "cell_type": "markdown",
   "metadata": {},
   "source": [
    "Now, let's see the impact of changing the optimizer on the MNIST dataset. "
   ]
  },
  {
   "cell_type": "markdown",
   "metadata": {},
   "source": [
    "1. Load the dataset and scale it:"
   ]
  },
  {
   "cell_type": "code",
   "execution_count": 378,
   "metadata": {},
   "outputs": [],
   "source": [
    "(X_train, y_train), (X_test, y_test) = mnist.load_data()\n",
    "num_pixels = X_train.shape[1] * X_train.shape[2]\n",
    "X_train = X_train.reshape(X_train.shape[0], num_pixels).astype('float32')\n",
    "X_test = X_test.reshape(X_test.shape[0], num_pixels).astype('float32')\n",
    "X_train = X_train/255\n",
    "X_test = X_test/255\n",
    "y_train = np_utils.to_categorical(y_train)\n",
    "y_test = np_utils.to_categorical(y_test)\n",
    "num_classes = y_test.shape[1]"
   ]
  },
  {
   "cell_type": "markdown",
   "metadata": {},
   "source": [
    "2. Run to see the effect of changing the optimizer (*Adam* vs *SGD*) on the training and test accuracy values!"
   ]
  },
  {
   "cell_type": "code",
   "execution_count": 393,
   "metadata": {
    "colab": {},
    "colab_type": "code",
    "id": "zI97Pn3BKpEC"
   },
   "outputs": [
    {
     "name": "stdout",
     "output_type": "stream",
     "text": [
      "Epoch 1/50\n",
      "59/59 [==============================] - 0s 8ms/step - loss: 0.4723 - accuracy: 0.8717 - val_loss: 0.2265 - val_accuracy: 0.9369\n",
      "Epoch 2/50\n",
      "59/59 [==============================] - 0s 7ms/step - loss: 0.1955 - accuracy: 0.9448 - val_loss: 0.1603 - val_accuracy: 0.9554\n",
      "Epoch 3/50\n",
      "59/59 [==============================] - 0s 7ms/step - loss: 0.1411 - accuracy: 0.9606 - val_loss: 0.1266 - val_accuracy: 0.9643\n",
      "Epoch 4/50\n",
      "59/59 [==============================] - 0s 7ms/step - loss: 0.1080 - accuracy: 0.9698 - val_loss: 0.1078 - val_accuracy: 0.9690\n",
      "Epoch 5/50\n",
      "59/59 [==============================] - 0s 7ms/step - loss: 0.0848 - accuracy: 0.9763 - val_loss: 0.0939 - val_accuracy: 0.9728\n",
      "Epoch 6/50\n",
      "59/59 [==============================] - 0s 7ms/step - loss: 0.0692 - accuracy: 0.9810 - val_loss: 0.0848 - val_accuracy: 0.9741\n",
      "Epoch 7/50\n",
      "59/59 [==============================] - 0s 7ms/step - loss: 0.0575 - accuracy: 0.9847 - val_loss: 0.0753 - val_accuracy: 0.9775\n",
      "Epoch 8/50\n",
      "59/59 [==============================] - 0s 7ms/step - loss: 0.0482 - accuracy: 0.9874 - val_loss: 0.0734 - val_accuracy: 0.9773\n",
      "Epoch 9/50\n",
      "59/59 [==============================] - 0s 7ms/step - loss: 0.0399 - accuracy: 0.9902 - val_loss: 0.0663 - val_accuracy: 0.9796\n",
      "Epoch 10/50\n",
      "59/59 [==============================] - 0s 7ms/step - loss: 0.0344 - accuracy: 0.9919 - val_loss: 0.0687 - val_accuracy: 0.9792\n",
      "Epoch 11/50\n",
      "59/59 [==============================] - 0s 7ms/step - loss: 0.0296 - accuracy: 0.9927 - val_loss: 0.0666 - val_accuracy: 0.9789\n",
      "Epoch 12/50\n",
      "59/59 [==============================] - 0s 7ms/step - loss: 0.0247 - accuracy: 0.9947 - val_loss: 0.0632 - val_accuracy: 0.9797\n",
      "Epoch 13/50\n",
      "59/59 [==============================] - 0s 7ms/step - loss: 0.0212 - accuracy: 0.9959 - val_loss: 0.0631 - val_accuracy: 0.9791\n",
      "Epoch 14/50\n",
      "59/59 [==============================] - 0s 7ms/step - loss: 0.0185 - accuracy: 0.9966 - val_loss: 0.0597 - val_accuracy: 0.9814\n",
      "Epoch 15/50\n",
      "59/59 [==============================] - 0s 7ms/step - loss: 0.0153 - accuracy: 0.9977 - val_loss: 0.0606 - val_accuracy: 0.9812\n",
      "Epoch 16/50\n",
      "59/59 [==============================] - 0s 7ms/step - loss: 0.0137 - accuracy: 0.9981 - val_loss: 0.0586 - val_accuracy: 0.9814\n",
      "Epoch 17/50\n",
      "59/59 [==============================] - 0s 7ms/step - loss: 0.0119 - accuracy: 0.9987 - val_loss: 0.0579 - val_accuracy: 0.9822\n",
      "Epoch 18/50\n",
      "59/59 [==============================] - 0s 7ms/step - loss: 0.0102 - accuracy: 0.9989 - val_loss: 0.0589 - val_accuracy: 0.9809\n",
      "Epoch 19/50\n",
      "59/59 [==============================] - 0s 7ms/step - loss: 0.0090 - accuracy: 0.9992 - val_loss: 0.0576 - val_accuracy: 0.9819\n",
      "Epoch 20/50\n",
      "59/59 [==============================] - 0s 7ms/step - loss: 0.0076 - accuracy: 0.9993 - val_loss: 0.0584 - val_accuracy: 0.9820\n",
      "Epoch 21/50\n",
      "59/59 [==============================] - 0s 7ms/step - loss: 0.0067 - accuracy: 0.9997 - val_loss: 0.0575 - val_accuracy: 0.9820\n",
      "Epoch 22/50\n",
      "59/59 [==============================] - 0s 7ms/step - loss: 0.0058 - accuracy: 0.9997 - val_loss: 0.0573 - val_accuracy: 0.9819\n",
      "Epoch 23/50\n",
      "59/59 [==============================] - 0s 7ms/step - loss: 0.0052 - accuracy: 0.9998 - val_loss: 0.0580 - val_accuracy: 0.9820\n",
      "Epoch 24/50\n",
      "59/59 [==============================] - 0s 7ms/step - loss: 0.0047 - accuracy: 0.9999 - val_loss: 0.0588 - val_accuracy: 0.9824\n",
      "Epoch 25/50\n",
      "59/59 [==============================] - 0s 7ms/step - loss: 0.0043 - accuracy: 0.9999 - val_loss: 0.0565 - val_accuracy: 0.9829\n",
      "Epoch 26/50\n",
      "59/59 [==============================] - 0s 7ms/step - loss: 0.0037 - accuracy: 0.9998 - val_loss: 0.0577 - val_accuracy: 0.9826\n",
      "Epoch 27/50\n",
      "59/59 [==============================] - 0s 7ms/step - loss: 0.0033 - accuracy: 0.9999 - val_loss: 0.0586 - val_accuracy: 0.9820\n",
      "Epoch 28/50\n",
      "59/59 [==============================] - 0s 7ms/step - loss: 0.0030 - accuracy: 0.9999 - val_loss: 0.0585 - val_accuracy: 0.9823\n",
      "Epoch 29/50\n",
      "59/59 [==============================] - 0s 7ms/step - loss: 0.0026 - accuracy: 1.0000 - val_loss: 0.0590 - val_accuracy: 0.9825\n",
      "Epoch 30/50\n",
      "59/59 [==============================] - 0s 7ms/step - loss: 0.0024 - accuracy: 1.0000 - val_loss: 0.0587 - val_accuracy: 0.9828\n",
      "Epoch 31/50\n",
      "59/59 [==============================] - 0s 7ms/step - loss: 0.0023 - accuracy: 1.0000 - val_loss: 0.0591 - val_accuracy: 0.9825\n",
      "Epoch 32/50\n",
      "59/59 [==============================] - 0s 7ms/step - loss: 0.0021 - accuracy: 1.0000 - val_loss: 0.0587 - val_accuracy: 0.9834\n",
      "Epoch 33/50\n",
      "59/59 [==============================] - 0s 7ms/step - loss: 0.0019 - accuracy: 1.0000 - val_loss: 0.0597 - val_accuracy: 0.9828\n",
      "Epoch 34/50\n",
      "59/59 [==============================] - 0s 7ms/step - loss: 0.0017 - accuracy: 1.0000 - val_loss: 0.0594 - val_accuracy: 0.9824\n",
      "Epoch 35/50\n",
      "59/59 [==============================] - 0s 7ms/step - loss: 0.0016 - accuracy: 1.0000 - val_loss: 0.0614 - val_accuracy: 0.9822\n",
      "Epoch 36/50\n",
      "59/59 [==============================] - 0s 7ms/step - loss: 0.0015 - accuracy: 1.0000 - val_loss: 0.0598 - val_accuracy: 0.9827\n",
      "Epoch 37/50\n",
      "59/59 [==============================] - 0s 7ms/step - loss: 0.0014 - accuracy: 1.0000 - val_loss: 0.0601 - val_accuracy: 0.9828\n",
      "Epoch 38/50\n",
      "59/59 [==============================] - 0s 7ms/step - loss: 0.0013 - accuracy: 1.0000 - val_loss: 0.0610 - val_accuracy: 0.9825\n",
      "Epoch 39/50\n",
      "59/59 [==============================] - 0s 7ms/step - loss: 0.0012 - accuracy: 1.0000 - val_loss: 0.0604 - val_accuracy: 0.9826\n",
      "Epoch 40/50\n",
      "59/59 [==============================] - 0s 7ms/step - loss: 0.0011 - accuracy: 1.0000 - val_loss: 0.0614 - val_accuracy: 0.9825\n",
      "Epoch 41/50\n",
      "59/59 [==============================] - 0s 7ms/step - loss: 0.0010 - accuracy: 1.0000 - val_loss: 0.0612 - val_accuracy: 0.9834\n",
      "Epoch 42/50\n",
      "59/59 [==============================] - 0s 7ms/step - loss: 9.9147e-04 - accuracy: 1.0000 - val_loss: 0.0614 - val_accuracy: 0.9824\n",
      "Epoch 43/50\n",
      "59/59 [==============================] - 0s 7ms/step - loss: 9.0829e-04 - accuracy: 1.0000 - val_loss: 0.0616 - val_accuracy: 0.9825\n",
      "Epoch 44/50\n",
      "59/59 [==============================] - 0s 7ms/step - loss: 8.6091e-04 - accuracy: 1.0000 - val_loss: 0.0622 - val_accuracy: 0.9827\n",
      "Epoch 45/50\n",
      "59/59 [==============================] - 0s 7ms/step - loss: 8.2035e-04 - accuracy: 1.0000 - val_loss: 0.0629 - val_accuracy: 0.9824\n",
      "Epoch 46/50\n",
      "59/59 [==============================] - 0s 7ms/step - loss: 7.7756e-04 - accuracy: 1.0000 - val_loss: 0.0633 - val_accuracy: 0.9826\n",
      "Epoch 47/50\n",
      "59/59 [==============================] - 0s 7ms/step - loss: 7.2041e-04 - accuracy: 1.0000 - val_loss: 0.0631 - val_accuracy: 0.9823\n",
      "Epoch 48/50\n",
      "59/59 [==============================] - 0s 7ms/step - loss: 6.7948e-04 - accuracy: 1.0000 - val_loss: 0.0640 - val_accuracy: 0.9827\n",
      "Epoch 49/50\n",
      "59/59 [==============================] - 0s 7ms/step - loss: 6.5951e-04 - accuracy: 1.0000 - val_loss: 0.0634 - val_accuracy: 0.9825\n",
      "Epoch 50/50\n",
      "59/59 [==============================] - 0s 7ms/step - loss: 6.1336e-04 - accuracy: 1.0000 - val_loss: 0.0640 - val_accuracy: 0.9825\n",
      "Epoch 1/50\n",
      "59/59 [==============================] - 0s 8ms/step - loss: 2.0121 - accuracy: 0.4530 - val_loss: 1.6828 - val_accuracy: 0.6786\n",
      "Epoch 2/50\n",
      "59/59 [==============================] - 0s 7ms/step - loss: 1.4842 - accuracy: 0.7315 - val_loss: 1.2686 - val_accuracy: 0.7803\n",
      "Epoch 3/50\n",
      "59/59 [==============================] - 0s 7ms/step - loss: 1.1589 - accuracy: 0.7919 - val_loss: 1.0153 - val_accuracy: 0.8151\n",
      "Epoch 4/50\n",
      "59/59 [==============================] - 0s 7ms/step - loss: 0.9571 - accuracy: 0.8209 - val_loss: 0.8561 - val_accuracy: 0.8363\n",
      "Epoch 5/50\n",
      "59/59 [==============================] - 0s 7ms/step - loss: 0.8265 - accuracy: 0.8371 - val_loss: 0.7503 - val_accuracy: 0.8517\n",
      "Epoch 6/50\n",
      "59/59 [==============================] - 0s 7ms/step - loss: 0.7370 - accuracy: 0.8485 - val_loss: 0.6758 - val_accuracy: 0.8612\n",
      "Epoch 7/50\n",
      "59/59 [==============================] - 0s 7ms/step - loss: 0.6724 - accuracy: 0.8558 - val_loss: 0.6209 - val_accuracy: 0.8692\n",
      "Epoch 8/50\n",
      "59/59 [==============================] - 0s 7ms/step - loss: 0.6237 - accuracy: 0.8619 - val_loss: 0.5788 - val_accuracy: 0.8746\n"
     ]
    },
    {
     "name": "stdout",
     "output_type": "stream",
     "text": [
      "Epoch 9/50\n",
      "59/59 [==============================] - 0s 6ms/step - loss: 0.5856 - accuracy: 0.8670 - val_loss: 0.5453 - val_accuracy: 0.8776\n",
      "Epoch 10/50\n",
      "59/59 [==============================] - 0s 6ms/step - loss: 0.5549 - accuracy: 0.8707 - val_loss: 0.5181 - val_accuracy: 0.8805\n",
      "Epoch 11/50\n",
      "59/59 [==============================] - 0s 7ms/step - loss: 0.5297 - accuracy: 0.8740 - val_loss: 0.4956 - val_accuracy: 0.8835\n",
      "Epoch 12/50\n",
      "59/59 [==============================] - 0s 7ms/step - loss: 0.5086 - accuracy: 0.8771 - val_loss: 0.4764 - val_accuracy: 0.8846\n",
      "Epoch 13/50\n",
      "59/59 [==============================] - 0s 7ms/step - loss: 0.4905 - accuracy: 0.8798 - val_loss: 0.4603 - val_accuracy: 0.8877\n",
      "Epoch 14/50\n",
      "59/59 [==============================] - 0s 6ms/step - loss: 0.4750 - accuracy: 0.8821 - val_loss: 0.4461 - val_accuracy: 0.8904\n",
      "Epoch 15/50\n",
      "59/59 [==============================] - 0s 6ms/step - loss: 0.4614 - accuracy: 0.8844 - val_loss: 0.4337 - val_accuracy: 0.8924\n",
      "Epoch 16/50\n",
      "59/59 [==============================] - 0s 6ms/step - loss: 0.4493 - accuracy: 0.8865 - val_loss: 0.4227 - val_accuracy: 0.8949\n",
      "Epoch 17/50\n",
      "59/59 [==============================] - 0s 7ms/step - loss: 0.4386 - accuracy: 0.8881 - val_loss: 0.4130 - val_accuracy: 0.8958\n",
      "Epoch 18/50\n",
      "59/59 [==============================] - 0s 6ms/step - loss: 0.4289 - accuracy: 0.8900 - val_loss: 0.4041 - val_accuracy: 0.8981\n",
      "Epoch 19/50\n",
      "59/59 [==============================] - 0s 6ms/step - loss: 0.4202 - accuracy: 0.8912 - val_loss: 0.3962 - val_accuracy: 0.8998\n",
      "Epoch 20/50\n",
      "59/59 [==============================] - 0s 6ms/step - loss: 0.4123 - accuracy: 0.8929 - val_loss: 0.3890 - val_accuracy: 0.9004\n",
      "Epoch 21/50\n",
      "59/59 [==============================] - 0s 6ms/step - loss: 0.4050 - accuracy: 0.8939 - val_loss: 0.3823 - val_accuracy: 0.9018\n",
      "Epoch 22/50\n",
      "59/59 [==============================] - 0s 6ms/step - loss: 0.3984 - accuracy: 0.8951 - val_loss: 0.3762 - val_accuracy: 0.9024\n",
      "Epoch 23/50\n",
      "59/59 [==============================] - 0s 6ms/step - loss: 0.3922 - accuracy: 0.8966 - val_loss: 0.3705 - val_accuracy: 0.9035\n",
      "Epoch 24/50\n",
      "59/59 [==============================] - 0s 6ms/step - loss: 0.3864 - accuracy: 0.8975 - val_loss: 0.3655 - val_accuracy: 0.9041\n",
      "Epoch 25/50\n",
      "59/59 [==============================] - 0s 6ms/step - loss: 0.3811 - accuracy: 0.8983 - val_loss: 0.3604 - val_accuracy: 0.9055\n",
      "Epoch 26/50\n",
      "59/59 [==============================] - 0s 6ms/step - loss: 0.3761 - accuracy: 0.8995 - val_loss: 0.3560 - val_accuracy: 0.9059\n",
      "Epoch 27/50\n",
      "59/59 [==============================] - 0s 7ms/step - loss: 0.3714 - accuracy: 0.9007 - val_loss: 0.3517 - val_accuracy: 0.9065\n",
      "Epoch 28/50\n",
      "59/59 [==============================] - 0s 6ms/step - loss: 0.3670 - accuracy: 0.9011 - val_loss: 0.3477 - val_accuracy: 0.9072\n",
      "Epoch 29/50\n",
      "59/59 [==============================] - 0s 6ms/step - loss: 0.3629 - accuracy: 0.9022 - val_loss: 0.3440 - val_accuracy: 0.9070\n",
      "Epoch 30/50\n",
      "59/59 [==============================] - 0s 6ms/step - loss: 0.3589 - accuracy: 0.9028 - val_loss: 0.3404 - val_accuracy: 0.9093\n",
      "Epoch 31/50\n",
      "59/59 [==============================] - 0s 6ms/step - loss: 0.3552 - accuracy: 0.9039 - val_loss: 0.3368 - val_accuracy: 0.9099\n",
      "Epoch 32/50\n",
      "59/59 [==============================] - 0s 6ms/step - loss: 0.3516 - accuracy: 0.9049 - val_loss: 0.3336 - val_accuracy: 0.9099\n",
      "Epoch 33/50\n",
      "59/59 [==============================] - 0s 7ms/step - loss: 0.3482 - accuracy: 0.9054 - val_loss: 0.3307 - val_accuracy: 0.9104\n",
      "Epoch 34/50\n",
      "59/59 [==============================] - 0s 6ms/step - loss: 0.3450 - accuracy: 0.9065 - val_loss: 0.3277 - val_accuracy: 0.9113\n",
      "Epoch 35/50\n",
      "59/59 [==============================] - 0s 6ms/step - loss: 0.3419 - accuracy: 0.9073 - val_loss: 0.3249 - val_accuracy: 0.9120\n",
      "Epoch 36/50\n",
      "59/59 [==============================] - 0s 6ms/step - loss: 0.3389 - accuracy: 0.9080 - val_loss: 0.3223 - val_accuracy: 0.9126\n",
      "Epoch 37/50\n",
      "59/59 [==============================] - 0s 6ms/step - loss: 0.3361 - accuracy: 0.9087 - val_loss: 0.3197 - val_accuracy: 0.9131\n",
      "Epoch 38/50\n",
      "59/59 [==============================] - 0s 7ms/step - loss: 0.3334 - accuracy: 0.9094 - val_loss: 0.3171 - val_accuracy: 0.9136\n",
      "Epoch 39/50\n",
      "59/59 [==============================] - 0s 6ms/step - loss: 0.3307 - accuracy: 0.9099 - val_loss: 0.3148 - val_accuracy: 0.9135\n",
      "Epoch 40/50\n",
      "59/59 [==============================] - 0s 7ms/step - loss: 0.3282 - accuracy: 0.9107 - val_loss: 0.3124 - val_accuracy: 0.9146\n",
      "Epoch 41/50\n",
      "59/59 [==============================] - 0s 7ms/step - loss: 0.3257 - accuracy: 0.9109 - val_loss: 0.3104 - val_accuracy: 0.9141\n",
      "Epoch 42/50\n",
      "59/59 [==============================] - 0s 7ms/step - loss: 0.3234 - accuracy: 0.9117 - val_loss: 0.3084 - val_accuracy: 0.9148\n",
      "Epoch 43/50\n",
      "59/59 [==============================] - 0s 7ms/step - loss: 0.3211 - accuracy: 0.9123 - val_loss: 0.3061 - val_accuracy: 0.9157\n",
      "Epoch 44/50\n",
      "59/59 [==============================] - 0s 6ms/step - loss: 0.3189 - accuracy: 0.9126 - val_loss: 0.3041 - val_accuracy: 0.9167\n",
      "Epoch 45/50\n",
      "59/59 [==============================] - 0s 6ms/step - loss: 0.3167 - accuracy: 0.9131 - val_loss: 0.3022 - val_accuracy: 0.9171\n",
      "Epoch 46/50\n",
      "59/59 [==============================] - 0s 6ms/step - loss: 0.3146 - accuracy: 0.9137 - val_loss: 0.3004 - val_accuracy: 0.9174\n",
      "Epoch 47/50\n",
      "59/59 [==============================] - 0s 7ms/step - loss: 0.3126 - accuracy: 0.9143 - val_loss: 0.2985 - val_accuracy: 0.9182\n",
      "Epoch 48/50\n",
      "59/59 [==============================] - 0s 6ms/step - loss: 0.3106 - accuracy: 0.9145 - val_loss: 0.2969 - val_accuracy: 0.9191\n",
      "Epoch 49/50\n",
      "59/59 [==============================] - 0s 7ms/step - loss: 0.3087 - accuracy: 0.9151 - val_loss: 0.2953 - val_accuracy: 0.9187\n",
      "Epoch 50/50\n",
      "59/59 [==============================] - 0s 6ms/step - loss: 0.3068 - accuracy: 0.9155 - val_loss: 0.2934 - val_accuracy: 0.9193\n"
     ]
    }
   ],
   "source": [
    "optims = ['adam','sgd']\n",
    "nop = len(optims) \n",
    "acc_list = [[] for i in range(nop)]\n",
    "val_acc_list = [[] for i in range(nop)]\n",
    "ir = -1\n",
    "\n",
    "for opt in optims:\n",
    "    # Initialize the model and define the model architecture:\n",
    "    model = Sequential()\n",
    "    model.add(Dense(1000, input_dim=784, activation='relu'))\n",
    "    model.add(Dense(10, activation='softmax'))    \n",
    "    # Compile and fit the model:\n",
    "    model.compile(loss='categorical_crossentropy', optimizer=opt, metrics=['accuracy'])\n",
    "    history = model.fit(X_train, y_train, validation_data=(X_test, y_test), epochs=50, batch_size=1024, verbose=1)\n",
    "    # Extract accuracy metrics for training and test datasets:\n",
    "    history_dict = history.history\n",
    "    acc = history_dict['accuracy']\n",
    "    val_acc = history_dict['val_accuracy']\n",
    "    # Save results in a list:\n",
    "    ir = ir+1\n",
    "    acc_list[ir].append(acc)\n",
    "    val_acc_list[ir].append(val_acc)\n",
    "    \n",
    "epochs = range(1, len(acc) + 1)"
   ]
  },
  {
   "cell_type": "code",
   "execution_count": 400,
   "metadata": {
    "scrolled": false
   },
   "outputs": [
    {
     "data": {
      "image/png": "[encoded data removed]",
      "text/plain": [
       "<Figure size 720x360 with 1 Axes>"
      ]
     },
     "metadata": {
      "needs_background": "light"
     },
     "output_type": "display_data"
    }
   ],
   "source": [
    "import matplotlib.pyplot as plt\n",
    "import matplotlib.cm as cm\n",
    "import numpy as np\n",
    "%matplotlib inline\n",
    "\n",
    "colors1 = iter(cm.rainbow(np.linspace(0,1,nop)))\n",
    "colors2 = iter(cm.rainbow(np.linspace(0,1,nop)))\n",
    "plt.figure(figsize=(10,5))\n",
    "ir = -1\n",
    "\n",
    "for opt in optims:\n",
    "    ir = ir+1\n",
    "    acc = np.hstack(acc_list[ir])\n",
    "    val_acc = np.hstack(val_acc_list[ir])\n",
    "    plt.plot(epochs,acc,color=next(colors1),linestyle='',marker='o',markersize=8,label=opt+' Training')\n",
    "    plt.plot(epochs,val_acc,color=next(colors2),linestyle='-',linewidth=2,label=opt+' Test')\n",
    "\n",
    "plt.ylim(0.45,1.01)\n",
    "plt.title('Training and Test accuracy',fontsize=14)\n",
    "plt.xlabel('epochs',fontsize=15)\n",
    "plt.ylabel('accuracy',fontsize=15)\n",
    "plt.gca().set_yticklabels(['{:.0f}%'.format(x*100) for x in plt.gca().get_yticks()]) \n",
    "plt.legend(loc=4,fontsize=15)\n",
    "plt.tick_params(axis='both',which='major',labelsize=12)\n",
    "plt.grid('off')\n",
    "plt.show()"
   ]
  },
  {
   "cell_type": "markdown",
   "metadata": {
    "colab_type": "text",
    "id": "hg5uG64Ev1DZ"
   },
   "source": [
    "## Understanding overfitting"
   ]
  },
  {
   "cell_type": "markdown",
   "metadata": {},
   "source": [
    "In the previous recipe using *Adam* optimizer, we have noticed that the training accuracy is ~100% while test accuracy is ~98%, which is a case of **overfitting**: after the fifth epoch, we are overoptimizing on the training data, and we end up learning representations that are specific to the training data and don’t generalize to data outside of the training set.\n",
    "\n",
    "Let's contrast two scenarios where we compare a histogram of the weights:\n",
    "* Model is run for 5 epochs \n",
    "* Model is run for 50 epochs "
   ]
  },
  {
   "cell_type": "markdown",
   "metadata": {},
   "source": [
    "### Scenario: 5 epochs "
   ]
  },
  {
   "cell_type": "code",
   "execution_count": 5,
   "metadata": {
    "colab": {
     "base_uri": "https://localhost:8080/",
     "height": 204
    },
    "colab_type": "code",
    "id": "ejzbtndsMuyC",
    "outputId": "cec37a6e-957c-4eaa-d008-a8bce3042609"
   },
   "outputs": [
    {
     "name": "stdout",
     "output_type": "stream",
     "text": [
      "Epoch 1/5\n",
      "59/59 [==============================] - 1s 9ms/step - loss: 0.4772 - accuracy: 0.8697 - val_loss: 0.2348 - val_accuracy: 0.9334\n",
      "Epoch 2/5\n",
      "59/59 [==============================] - 0s 7ms/step - loss: 0.1980 - accuracy: 0.9437 - val_loss: 0.1605 - val_accuracy: 0.9542\n",
      "Epoch 3/5\n",
      "59/59 [==============================] - 0s 7ms/step - loss: 0.1422 - accuracy: 0.9597 - val_loss: 0.1246 - val_accuracy: 0.9630\n",
      "Epoch 4/5\n",
      "59/59 [==============================] - 0s 7ms/step - loss: 0.1090 - accuracy: 0.9697 - val_loss: 0.1065 - val_accuracy: 0.9694\n",
      "Epoch 5/5\n",
      "59/59 [==============================] - 0s 7ms/step - loss: 0.0863 - accuracy: 0.9765 - val_loss: 0.0936 - val_accuracy: 0.9715\n"
     ]
    }
   ],
   "source": [
    "model = Sequential()\n",
    "model.add(Dense(1000, input_dim=784,activation='relu'))\n",
    "model.add(Dense(10, activation='softmax'))\n",
    "model.compile(loss='categorical_crossentropy', optimizer='adam', metrics=['accuracy'])\n",
    "history = model.fit(X_train, y_train, validation_data=(X_test, y_test), epochs=5, batch_size=1024, verbose=1)"
   ]
  },
  {
   "cell_type": "markdown",
   "metadata": {},
   "source": [
    "Plot the histogram of weights that connect the hidden layer to\n",
    "the output layer:"
   ]
  },
  {
   "cell_type": "code",
   "execution_count": 8,
   "metadata": {
    "colab": {
     "base_uri": "https://localhost:8080/",
     "height": 346
    },
    "colab_type": "code",
    "id": "E4SdBnTQNlpN",
    "outputId": "f36f6f03-5fe5-45b0-ad6b-7b96fc93ae4f"
   },
   "outputs": [
    {
     "data": {
      "image/png": "[encoded data removed]",
      "text/plain": [
       "<Figure size 432x288 with 1 Axes>"
      ]
     },
     "metadata": {
      "needs_background": "light"
     },
     "output_type": "display_data"
    }
   ],
   "source": [
    "plt.hist(model.get_weights()[2].flatten())\n",
    "plt.xlabel('Weight values')\n",
    "plt.ylabel('Frequency')\n",
    "plt.title('Histogram of weight values in 5 epochs scenario')\n",
    "plt.grid('off')"
   ]
  },
  {
   "cell_type": "markdown",
   "metadata": {},
   "source": [
    "### Scenario: 50 epochs (reference model) "
   ]
  },
  {
   "cell_type": "code",
   "execution_count": 9,
   "metadata": {
    "colab": {
     "base_uri": "https://localhost:8080/",
     "height": 204
    },
    "colab_type": "code",
    "id": "ejzbtndsMuyC",
    "outputId": "cec37a6e-957c-4eaa-d008-a8bce3042609"
   },
   "outputs": [
    {
     "name": "stdout",
     "output_type": "stream",
     "text": [
      "Epoch 1/50\n",
      "59/59 [==============================] - 0s 8ms/step - loss: 0.4793 - accuracy: 0.8692 - val_loss: 0.2259 - val_accuracy: 0.9361\n",
      "Epoch 2/50\n",
      "59/59 [==============================] - 0s 7ms/step - loss: 0.1960 - accuracy: 0.9445 - val_loss: 0.1622 - val_accuracy: 0.9528\n",
      "Epoch 3/50\n",
      "59/59 [==============================] - 0s 7ms/step - loss: 0.1396 - accuracy: 0.9610 - val_loss: 0.1258 - val_accuracy: 0.9637\n",
      "Epoch 4/50\n",
      "59/59 [==============================] - 0s 7ms/step - loss: 0.1057 - accuracy: 0.9707 - val_loss: 0.1062 - val_accuracy: 0.9693\n",
      "Epoch 5/50\n",
      "59/59 [==============================] - 0s 7ms/step - loss: 0.0842 - accuracy: 0.9764 - val_loss: 0.0934 - val_accuracy: 0.9724\n",
      "Epoch 6/50\n",
      "59/59 [==============================] - 0s 7ms/step - loss: 0.0694 - accuracy: 0.9807 - val_loss: 0.0872 - val_accuracy: 0.9736\n",
      "Epoch 7/50\n",
      "59/59 [==============================] - 0s 7ms/step - loss: 0.0567 - accuracy: 0.9850 - val_loss: 0.0779 - val_accuracy: 0.9749\n",
      "Epoch 8/50\n",
      "59/59 [==============================] - 0s 7ms/step - loss: 0.0465 - accuracy: 0.9880 - val_loss: 0.0712 - val_accuracy: 0.9781\n",
      "Epoch 9/50\n",
      "59/59 [==============================] - 0s 7ms/step - loss: 0.0394 - accuracy: 0.9898 - val_loss: 0.0711 - val_accuracy: 0.9775\n",
      "Epoch 10/50\n",
      "59/59 [==============================] - 0s 7ms/step - loss: 0.0334 - accuracy: 0.9918 - val_loss: 0.0657 - val_accuracy: 0.9796\n",
      "Epoch 11/50\n",
      "59/59 [==============================] - 0s 7ms/step - loss: 0.0289 - accuracy: 0.9934 - val_loss: 0.0652 - val_accuracy: 0.9790\n",
      "Epoch 12/50\n",
      "59/59 [==============================] - 0s 7ms/step - loss: 0.0238 - accuracy: 0.9952 - val_loss: 0.0627 - val_accuracy: 0.9802\n",
      "Epoch 13/50\n",
      "59/59 [==============================] - 0s 7ms/step - loss: 0.0213 - accuracy: 0.9957 - val_loss: 0.0630 - val_accuracy: 0.9800\n",
      "Epoch 14/50\n",
      "59/59 [==============================] - 0s 7ms/step - loss: 0.0177 - accuracy: 0.9966 - val_loss: 0.0612 - val_accuracy: 0.9796\n",
      "Epoch 15/50\n",
      "59/59 [==============================] - 0s 7ms/step - loss: 0.0148 - accuracy: 0.9977 - val_loss: 0.0613 - val_accuracy: 0.9807\n",
      "Epoch 16/50\n",
      "59/59 [==============================] - 0s 7ms/step - loss: 0.0130 - accuracy: 0.9981 - val_loss: 0.0602 - val_accuracy: 0.9815\n",
      "Epoch 17/50\n",
      "59/59 [==============================] - 0s 7ms/step - loss: 0.0113 - accuracy: 0.9987 - val_loss: 0.0577 - val_accuracy: 0.9817\n",
      "Epoch 18/50\n",
      "59/59 [==============================] - 0s 7ms/step - loss: 0.0097 - accuracy: 0.9990 - val_loss: 0.0581 - val_accuracy: 0.9813\n",
      "Epoch 19/50\n",
      "59/59 [==============================] - 0s 7ms/step - loss: 0.0083 - accuracy: 0.9991 - val_loss: 0.0592 - val_accuracy: 0.9813\n",
      "Epoch 20/50\n",
      "59/59 [==============================] - 0s 7ms/step - loss: 0.0072 - accuracy: 0.9995 - val_loss: 0.0584 - val_accuracy: 0.9822\n",
      "Epoch 21/50\n",
      "59/59 [==============================] - 0s 7ms/step - loss: 0.0065 - accuracy: 0.9995 - val_loss: 0.0578 - val_accuracy: 0.9818\n",
      "Epoch 22/50\n",
      "59/59 [==============================] - 0s 7ms/step - loss: 0.0056 - accuracy: 0.9997 - val_loss: 0.0579 - val_accuracy: 0.9827\n",
      "Epoch 23/50\n",
      "59/59 [==============================] - 0s 7ms/step - loss: 0.0050 - accuracy: 0.9998 - val_loss: 0.0575 - val_accuracy: 0.9818\n",
      "Epoch 24/50\n",
      "59/59 [==============================] - 0s 7ms/step - loss: 0.0043 - accuracy: 0.9998 - val_loss: 0.0582 - val_accuracy: 0.9825\n",
      "Epoch 25/50\n",
      "59/59 [==============================] - 0s 7ms/step - loss: 0.0038 - accuracy: 0.9999 - val_loss: 0.0584 - val_accuracy: 0.9819\n",
      "Epoch 26/50\n",
      "59/59 [==============================] - 0s 7ms/step - loss: 0.0035 - accuracy: 0.9999 - val_loss: 0.0587 - val_accuracy: 0.9817\n",
      "Epoch 27/50\n",
      "59/59 [==============================] - 0s 7ms/step - loss: 0.0031 - accuracy: 1.0000 - val_loss: 0.0589 - val_accuracy: 0.9821\n",
      "Epoch 28/50\n",
      "59/59 [==============================] - 0s 7ms/step - loss: 0.0028 - accuracy: 0.9999 - val_loss: 0.0591 - val_accuracy: 0.9820\n",
      "Epoch 29/50\n",
      "59/59 [==============================] - 0s 7ms/step - loss: 0.0026 - accuracy: 1.0000 - val_loss: 0.0600 - val_accuracy: 0.9817\n",
      "Epoch 30/50\n",
      "59/59 [==============================] - 0s 7ms/step - loss: 0.0023 - accuracy: 1.0000 - val_loss: 0.0605 - val_accuracy: 0.9821\n",
      "Epoch 31/50\n",
      "59/59 [==============================] - 0s 7ms/step - loss: 0.0022 - accuracy: 1.0000 - val_loss: 0.0598 - val_accuracy: 0.9825\n",
      "Epoch 32/50\n",
      "59/59 [==============================] - 0s 7ms/step - loss: 0.0019 - accuracy: 1.0000 - val_loss: 0.0596 - val_accuracy: 0.9821\n",
      "Epoch 33/50\n",
      "59/59 [==============================] - 0s 7ms/step - loss: 0.0018 - accuracy: 1.0000 - val_loss: 0.0609 - val_accuracy: 0.9820\n",
      "Epoch 34/50\n",
      "59/59 [==============================] - 0s 7ms/step - loss: 0.0017 - accuracy: 1.0000 - val_loss: 0.0610 - val_accuracy: 0.9823\n",
      "Epoch 35/50\n",
      "59/59 [==============================] - 0s 7ms/step - loss: 0.0015 - accuracy: 1.0000 - val_loss: 0.0609 - val_accuracy: 0.9821\n",
      "Epoch 36/50\n",
      "59/59 [==============================] - 0s 7ms/step - loss: 0.0014 - accuracy: 1.0000 - val_loss: 0.0611 - val_accuracy: 0.9820\n",
      "Epoch 37/50\n",
      "59/59 [==============================] - 0s 7ms/step - loss: 0.0013 - accuracy: 1.0000 - val_loss: 0.0614 - val_accuracy: 0.9819\n",
      "Epoch 38/50\n",
      "59/59 [==============================] - 0s 7ms/step - loss: 0.0012 - accuracy: 1.0000 - val_loss: 0.0620 - val_accuracy: 0.9816\n",
      "Epoch 39/50\n",
      "59/59 [==============================] - 0s 7ms/step - loss: 0.0012 - accuracy: 1.0000 - val_loss: 0.0621 - val_accuracy: 0.9820\n",
      "Epoch 40/50\n",
      "59/59 [==============================] - 0s 7ms/step - loss: 0.0010 - accuracy: 1.0000 - val_loss: 0.0622 - val_accuracy: 0.9827\n",
      "Epoch 41/50\n",
      "59/59 [==============================] - 0s 7ms/step - loss: 9.8476e-04 - accuracy: 1.0000 - val_loss: 0.0632 - val_accuracy: 0.9820\n",
      "Epoch 42/50\n",
      "59/59 [==============================] - 0s 7ms/step - loss: 9.3048e-04 - accuracy: 1.0000 - val_loss: 0.0626 - val_accuracy: 0.9820\n",
      "Epoch 43/50\n",
      "59/59 [==============================] - 0s 7ms/step - loss: 8.6576e-04 - accuracy: 1.0000 - val_loss: 0.0626 - val_accuracy: 0.9823\n",
      "Epoch 44/50\n",
      "59/59 [==============================] - 0s 7ms/step - loss: 8.2714e-04 - accuracy: 1.0000 - val_loss: 0.0632 - val_accuracy: 0.9817\n",
      "Epoch 45/50\n",
      "59/59 [==============================] - 0s 7ms/step - loss: 7.7042e-04 - accuracy: 1.0000 - val_loss: 0.0633 - val_accuracy: 0.9821\n",
      "Epoch 46/50\n",
      "59/59 [==============================] - 0s 7ms/step - loss: 7.3489e-04 - accuracy: 1.0000 - val_loss: 0.0638 - val_accuracy: 0.9819\n",
      "Epoch 47/50\n",
      "59/59 [==============================] - 0s 7ms/step - loss: 6.8729e-04 - accuracy: 1.0000 - val_loss: 0.0642 - val_accuracy: 0.9821\n",
      "Epoch 48/50\n",
      "59/59 [==============================] - 0s 7ms/step - loss: 6.4869e-04 - accuracy: 1.0000 - val_loss: 0.0643 - val_accuracy: 0.9821\n",
      "Epoch 49/50\n",
      "59/59 [==============================] - 0s 7ms/step - loss: 6.1493e-04 - accuracy: 1.0000 - val_loss: 0.0643 - val_accuracy: 0.9824\n",
      "Epoch 50/50\n",
      "59/59 [==============================] - 0s 7ms/step - loss: 5.8998e-04 - accuracy: 1.0000 - val_loss: 0.0649 - val_accuracy: 0.9817\n"
     ]
    }
   ],
   "source": [
    "ref_model = Sequential()\n",
    "ref_model.add(Dense(1000, input_dim=784,activation='relu'))\n",
    "ref_model.add(Dense(10, activation='softmax'))\n",
    "ref_model.compile(loss='categorical_crossentropy', optimizer='adam', metrics=['accuracy'])\n",
    "ref_history = ref_model.fit(X_train, y_train, validation_data=(X_test, y_test), epochs=50, batch_size=1024, verbose=1)"
   ]
  },
  {
   "cell_type": "code",
   "execution_count": 10,
   "metadata": {},
   "outputs": [],
   "source": [
    "ref_history_dict = ref_history.history\n",
    "ref_loss = ref_history_dict['loss']\n",
    "ref_val_loss = ref_history_dict['val_loss']\n",
    "ref_acc = ref_history_dict['accuracy']\n",
    "ref_val_acc = ref_history_dict['val_accuracy']\n",
    "epochs = range(1, len(ref_val_loss) + 1)"
   ]
  },
  {
   "cell_type": "code",
   "execution_count": 20,
   "metadata": {
    "scrolled": true
   },
   "outputs": [
    {
     "data": {
      "image/png": "[encoded data removed]",
      "text/plain": [
       "<Figure size 720x360 with 1 Axes>"
      ]
     },
     "metadata": {
      "needs_background": "light"
     },
     "output_type": "display_data"
    },
    {
     "data": {
      "image/png": "[encoded data removed]",
      "text/plain": [
       "<Figure size 720x360 with 1 Axes>"
      ]
     },
     "metadata": {
      "needs_background": "light"
     },
     "output_type": "display_data"
    }
   ],
   "source": [
    "import matplotlib.pyplot as plt\n",
    "%matplotlib inline\n",
    "\n",
    "plt.figure(figsize=(10,5))\n",
    "plt.subplot(211)\n",
    "plt.plot(epochs, ref_loss, 'bo', label='Training loss')\n",
    "plt.plot(epochs, ref_val_loss, 'r', label='Test loss')\n",
    "plt.title('Reference model',fontsize=16)\n",
    "plt.ylabel('Loss',fontsize=14)\n",
    "plt.legend(fontsize=14)\n",
    "plt.grid('off')\n",
    "plt.show()\n",
    "plt.figure(figsize=(10,5))\n",
    "plt.subplot(212)\n",
    "plt.plot(epochs, ref_acc, 'bo', label='Training accuracy')\n",
    "plt.plot(epochs, ref_val_acc, 'r', label='Test accuracy')\n",
    "plt.xlabel('Epochs',fontsize=14)\n",
    "plt.ylabel('Accuracy',fontsize=14)\n",
    "plt.gca().set_yticklabels(['{:.0f}%'.format(x*100) for x in plt.gca().get_yticks()]) \n",
    "plt.legend(fontsize=14)\n",
    "plt.grid('off')\n",
    "plt.show()"
   ]
  },
  {
   "cell_type": "markdown",
   "metadata": {},
   "source": [
    "Plot the histogram of weights that connect the hidden layer to\n",
    "the output layer:"
   ]
  },
  {
   "cell_type": "code",
   "execution_count": 11,
   "metadata": {
    "colab": {
     "base_uri": "https://localhost:8080/",
     "height": 346
    },
    "colab_type": "code",
    "id": "E4SdBnTQNlpN",
    "outputId": "f36f6f03-5fe5-45b0-ad6b-7b96fc93ae4f"
   },
   "outputs": [
    {
     "data": {
      "image/png": "[encoded data removed]",
      "text/plain": [
       "<Figure size 432x288 with 1 Axes>"
      ]
     },
     "metadata": {
      "needs_background": "light"
     },
     "output_type": "display_data"
    }
   ],
   "source": [
    "plt.hist(ref_model.get_weights()[2].flatten())\n",
    "plt.xlabel('Weight values')\n",
    "plt.ylabel('Frequency')\n",
    "plt.title('Histogram of weight values in 50 epochs scenario')\n",
    "plt.grid('off')"
   ]
  },
  {
   "cell_type": "markdown",
   "metadata": {},
   "source": [
    "### Problem With Large Weights\n",
    "\n",
    "The longer we train the network, the more specialized the weights will become to the training data, overfitting the training data. The weights will grow in size in order to handle the specifics of the examples seen in the training data.\n",
    "\n",
    "Large weights make the network *unstable*. Although the weight will be specialized to the training dataset, minor variation or statistical noise on the expected inputs will result in large differences in the output.\n",
    "\n",
    "A model with *large weights* is more complex than a model with *smaller weights*. It is a sign of a network that may be overly specialized to training data. Simpler models are less likely to overfit than complex ones. A *simple model* in this context is a model where the distribution of parameter values has less entropy.\n",
    "\n",
    "Having small weights or even zero weights for less relevant or irrelevant inputs to the network will allow the model to focus learning!"
   ]
  },
  {
   "cell_type": "markdown",
   "metadata": {
    "colab_type": "text",
    "id": "hg5uG64Ev1DZ"
   },
   "source": [
    "## Adding weight regularization to reduce overfitting"
   ]
  },
  {
   "cell_type": "markdown",
   "metadata": {},
   "source": [
    "A common way to mitigate overfitting is to put constraints on the complexity of a network by forcing its weights to take only small values, which makes the distribution of weight values more regular. This is called *weight regularization*, and it’s done by adding to the loss function of the network a cost associated with having large\n",
    "weights. This cost comes in two flavors:\n",
    "\n",
    "* *L1 regularization*: The cost added is proportional to the absolute value of the weight coefficients.\n",
    "* *L2 regularization*: The cost added is proportional to the square of the value of the weight coefficients.\n",
    "\n",
    "Regularization gives a **penalty** because we are *penalizing* the model proportional to the size of the weights!"
   ]
  },
  {
   "cell_type": "markdown",
   "metadata": {},
   "source": [
    "### Scenario: L2-regularized model"
   ]
  },
  {
   "cell_type": "markdown",
   "metadata": {},
   "source": [
    "In Keras, weight regularization is added by passing *weight regularizer instances* to layers as keyword arguments. Let’s add L2 weight regularization to the model:"
   ]
  },
  {
   "cell_type": "code",
   "execution_count": 39,
   "metadata": {
    "colab": {},
    "colab_type": "code",
    "id": "07C9i6lRO0fK"
   },
   "outputs": [],
   "source": [
    "from keras.regularizers import l2"
   ]
  },
  {
   "cell_type": "code",
   "execution_count": 68,
   "metadata": {
    "colab": {
     "base_uri": "https://localhost:8080/",
     "height": 1000
    },
    "colab_type": "code",
    "id": "2OjmvbdKO0dX",
    "outputId": "a36e8679-288f-4049-8f0a-ef4bcd25f146"
   },
   "outputs": [
    {
     "name": "stdout",
     "output_type": "stream",
     "text": [
      "Epoch 1/50\n",
      "59/59 [==============================] - 1s 9ms/step - loss: 1.0369 - accuracy: 0.8697 - val_loss: 0.5927 - val_accuracy: 0.9314\n",
      "Epoch 2/50\n",
      "59/59 [==============================] - 0s 8ms/step - loss: 0.4995 - accuracy: 0.9379 - val_loss: 0.4146 - val_accuracy: 0.9464\n",
      "Epoch 3/50\n",
      "59/59 [==============================] - 0s 8ms/step - loss: 0.3752 - accuracy: 0.9518 - val_loss: 0.3368 - val_accuracy: 0.9542\n",
      "Epoch 4/50\n",
      "59/59 [==============================] - 0s 8ms/step - loss: 0.3145 - accuracy: 0.9581 - val_loss: 0.2911 - val_accuracy: 0.9605\n",
      "Epoch 5/50\n",
      "59/59 [==============================] - 0s 8ms/step - loss: 0.2838 - accuracy: 0.9624 - val_loss: 0.2776 - val_accuracy: 0.9626\n",
      "Epoch 6/50\n",
      "59/59 [==============================] - 0s 8ms/step - loss: 0.2644 - accuracy: 0.9647 - val_loss: 0.2612 - val_accuracy: 0.9646\n",
      "Epoch 7/50\n",
      "59/59 [==============================] - 0s 8ms/step - loss: 0.2530 - accuracy: 0.9678 - val_loss: 0.2496 - val_accuracy: 0.9685\n",
      "Epoch 8/50\n",
      "59/59 [==============================] - 0s 8ms/step - loss: 0.2473 - accuracy: 0.9685 - val_loss: 0.2455 - val_accuracy: 0.9680\n",
      "Epoch 9/50\n",
      "59/59 [==============================] - 0s 8ms/step - loss: 0.2430 - accuracy: 0.9697 - val_loss: 0.2406 - val_accuracy: 0.9692\n",
      "Epoch 10/50\n",
      "59/59 [==============================] - 0s 8ms/step - loss: 0.2397 - accuracy: 0.9708 - val_loss: 0.2413 - val_accuracy: 0.9688\n",
      "Epoch 11/50\n",
      "59/59 [==============================] - 0s 8ms/step - loss: 0.2380 - accuracy: 0.9717 - val_loss: 0.2387 - val_accuracy: 0.9691\n",
      "Epoch 12/50\n",
      "59/59 [==============================] - 0s 8ms/step - loss: 0.2359 - accuracy: 0.9722 - val_loss: 0.2375 - val_accuracy: 0.9703\n",
      "Epoch 13/50\n",
      "59/59 [==============================] - 0s 8ms/step - loss: 0.2352 - accuracy: 0.9724 - val_loss: 0.2360 - val_accuracy: 0.9715\n",
      "Epoch 14/50\n",
      "59/59 [==============================] - 0s 8ms/step - loss: 0.2342 - accuracy: 0.9732 - val_loss: 0.2373 - val_accuracy: 0.9706\n",
      "Epoch 15/50\n",
      "59/59 [==============================] - 0s 8ms/step - loss: 0.2328 - accuracy: 0.9734 - val_loss: 0.2328 - val_accuracy: 0.9710\n",
      "Epoch 16/50\n",
      "59/59 [==============================] - 0s 8ms/step - loss: 0.2333 - accuracy: 0.9735 - val_loss: 0.2340 - val_accuracy: 0.9729\n",
      "Epoch 17/50\n",
      "59/59 [==============================] - 0s 8ms/step - loss: 0.2322 - accuracy: 0.9736 - val_loss: 0.2351 - val_accuracy: 0.9700\n",
      "Epoch 18/50\n",
      "59/59 [==============================] - 0s 8ms/step - loss: 0.2324 - accuracy: 0.9735 - val_loss: 0.2348 - val_accuracy: 0.9723\n",
      "Epoch 19/50\n",
      "59/59 [==============================] - 0s 8ms/step - loss: 0.2305 - accuracy: 0.9742 - val_loss: 0.2317 - val_accuracy: 0.9734\n",
      "Epoch 20/50\n",
      "59/59 [==============================] - 0s 8ms/step - loss: 0.2295 - accuracy: 0.9751 - val_loss: 0.2320 - val_accuracy: 0.9725\n",
      "Epoch 21/50\n",
      "59/59 [==============================] - 0s 8ms/step - loss: 0.2294 - accuracy: 0.9746 - val_loss: 0.2346 - val_accuracy: 0.9714\n",
      "Epoch 22/50\n",
      "59/59 [==============================] - 0s 8ms/step - loss: 0.2300 - accuracy: 0.9745 - val_loss: 0.2328 - val_accuracy: 0.9720\n",
      "Epoch 23/50\n",
      "59/59 [==============================] - 0s 8ms/step - loss: 0.2289 - accuracy: 0.9748 - val_loss: 0.2333 - val_accuracy: 0.9725\n",
      "Epoch 24/50\n",
      "59/59 [==============================] - 0s 8ms/step - loss: 0.2303 - accuracy: 0.9746 - val_loss: 0.2370 - val_accuracy: 0.9707\n",
      "Epoch 25/50\n",
      "59/59 [==============================] - 0s 8ms/step - loss: 0.2283 - accuracy: 0.9749 - val_loss: 0.2299 - val_accuracy: 0.9724\n",
      "Epoch 26/50\n",
      "59/59 [==============================] - 0s 8ms/step - loss: 0.2282 - accuracy: 0.9753 - val_loss: 0.2331 - val_accuracy: 0.9720\n",
      "Epoch 27/50\n",
      "59/59 [==============================] - 0s 8ms/step - loss: 0.2288 - accuracy: 0.9748 - val_loss: 0.2337 - val_accuracy: 0.9712\n",
      "Epoch 28/50\n",
      "59/59 [==============================] - 0s 8ms/step - loss: 0.2271 - accuracy: 0.9751 - val_loss: 0.2282 - val_accuracy: 0.9730\n",
      "Epoch 29/50\n",
      "59/59 [==============================] - 0s 8ms/step - loss: 0.2273 - accuracy: 0.9755 - val_loss: 0.2296 - val_accuracy: 0.9741\n",
      "Epoch 30/50\n",
      "59/59 [==============================] - 0s 8ms/step - loss: 0.2281 - accuracy: 0.9751 - val_loss: 0.2316 - val_accuracy: 0.9710\n",
      "Epoch 31/50\n",
      "59/59 [==============================] - 0s 8ms/step - loss: 0.2277 - accuracy: 0.9751 - val_loss: 0.2304 - val_accuracy: 0.9730\n",
      "Epoch 32/50\n",
      "59/59 [==============================] - 0s 8ms/step - loss: 0.2265 - accuracy: 0.9751 - val_loss: 0.2297 - val_accuracy: 0.9727\n",
      "Epoch 33/50\n",
      "59/59 [==============================] - 0s 8ms/step - loss: 0.2262 - accuracy: 0.9756 - val_loss: 0.2285 - val_accuracy: 0.9730\n",
      "Epoch 34/50\n",
      "59/59 [==============================] - 0s 8ms/step - loss: 0.2268 - accuracy: 0.9755 - val_loss: 0.2297 - val_accuracy: 0.9738\n",
      "Epoch 35/50\n",
      "59/59 [==============================] - 0s 8ms/step - loss: 0.2268 - accuracy: 0.9752 - val_loss: 0.2333 - val_accuracy: 0.9716\n",
      "Epoch 36/50\n",
      "59/59 [==============================] - 0s 8ms/step - loss: 0.2264 - accuracy: 0.9751 - val_loss: 0.2319 - val_accuracy: 0.9715\n",
      "Epoch 37/50\n",
      "59/59 [==============================] - 0s 8ms/step - loss: 0.2265 - accuracy: 0.9748 - val_loss: 0.2300 - val_accuracy: 0.9734\n",
      "Epoch 38/50\n",
      "59/59 [==============================] - 0s 8ms/step - loss: 0.2257 - accuracy: 0.9757 - val_loss: 0.2262 - val_accuracy: 0.9743\n",
      "Epoch 39/50\n",
      "59/59 [==============================] - 0s 8ms/step - loss: 0.2250 - accuracy: 0.9761 - val_loss: 0.2322 - val_accuracy: 0.9700\n",
      "Epoch 40/50\n",
      "59/59 [==============================] - 0s 8ms/step - loss: 0.2266 - accuracy: 0.9757 - val_loss: 0.2260 - val_accuracy: 0.9750\n",
      "Epoch 41/50\n",
      "59/59 [==============================] - 0s 8ms/step - loss: 0.2266 - accuracy: 0.9751 - val_loss: 0.2298 - val_accuracy: 0.9734\n",
      "Epoch 42/50\n",
      "59/59 [==============================] - 0s 8ms/step - loss: 0.2272 - accuracy: 0.9746 - val_loss: 0.2303 - val_accuracy: 0.9731\n",
      "Epoch 43/50\n",
      "59/59 [==============================] - 0s 8ms/step - loss: 0.2249 - accuracy: 0.9763 - val_loss: 0.2295 - val_accuracy: 0.9733\n",
      "Epoch 44/50\n",
      "59/59 [==============================] - 0s 8ms/step - loss: 0.2252 - accuracy: 0.9759 - val_loss: 0.2277 - val_accuracy: 0.9732\n",
      "Epoch 45/50\n",
      "59/59 [==============================] - 0s 8ms/step - loss: 0.2255 - accuracy: 0.9755 - val_loss: 0.2297 - val_accuracy: 0.9737\n",
      "Epoch 46/50\n",
      "59/59 [==============================] - 0s 8ms/step - loss: 0.2261 - accuracy: 0.9753 - val_loss: 0.2305 - val_accuracy: 0.9724\n",
      "Epoch 47/50\n",
      "59/59 [==============================] - 0s 8ms/step - loss: 0.2248 - accuracy: 0.9756 - val_loss: 0.2290 - val_accuracy: 0.9729\n",
      "Epoch 48/50\n",
      "59/59 [==============================] - 0s 8ms/step - loss: 0.2245 - accuracy: 0.9759 - val_loss: 0.2265 - val_accuracy: 0.9736\n",
      "Epoch 49/50\n",
      "59/59 [==============================] - 0s 8ms/step - loss: 0.2261 - accuracy: 0.9752 - val_loss: 0.2291 - val_accuracy: 0.9728\n",
      "Epoch 50/50\n",
      "59/59 [==============================] - 0s 8ms/step - loss: 0.2235 - accuracy: 0.9766 - val_loss: 0.2323 - val_accuracy: 0.9712\n"
     ]
    }
   ],
   "source": [
    "l2_model = Sequential()\n",
    "l2_model.add(Dense(1000, input_dim=784, activation='relu', kernel_regularizer=l2(0.001)))\n",
    "l2_model.add(Dense(10, activation='softmax', kernel_regularizer=l2(0.001)))\n",
    "l2_model.compile(loss='categorical_crossentropy', optimizer='adam', metrics=['accuracy'])\n",
    "l2_history = l2_model.fit(X_train, y_train, validation_data=(X_test, y_test), epochs=50, batch_size=1024, verbose=1)"
   ]
  },
  {
   "cell_type": "markdown",
   "metadata": {},
   "source": [
    "where `l2(0.001)` means every coefficient in the weight matrix of the layer will add `0.001*weight_coefficient_value` to the total loss of the network. Let's see the impact of the L2 regularization penalty on the training and test accuracy and loss values:"
   ]
  },
  {
   "cell_type": "code",
   "execution_count": 69,
   "metadata": {},
   "outputs": [],
   "source": [
    "l2_history_dict = l2_history.history\n",
    "l2_loss = l2_history_dict['loss']\n",
    "l2_val_loss = l2_history_dict['val_loss']\n",
    "l2_acc = l2_history_dict['accuracy']\n",
    "l2_val_acc = l2_history_dict['val_accuracy']\n",
    "epochs = range(1, len(l2_val_loss) + 1)"
   ]
  },
  {
   "cell_type": "code",
   "execution_count": 70,
   "metadata": {
    "scrolled": true
   },
   "outputs": [
    {
     "data": {
      "image/png": "[encoded data removed]",
      "text/plain": [
       "<Figure size 720x360 with 1 Axes>"
      ]
     },
     "metadata": {
      "needs_background": "light"
     },
     "output_type": "display_data"
    },
    {
     "data": {
      "image/png": "[encoded data removed]",
      "text/plain": [
       "<Figure size 720x360 with 1 Axes>"
      ]
     },
     "metadata": {
      "needs_background": "light"
     },
     "output_type": "display_data"
    }
   ],
   "source": [
    "import matplotlib.pyplot as plt\n",
    "%matplotlib inline\n",
    "\n",
    "plt.figure(figsize=(10,5))\n",
    "plt.subplot(211)\n",
    "plt.plot(epochs, l2_loss, 'bo', label='Training loss')\n",
    "plt.plot(epochs, l2_val_loss, 'r', label='Test loss')\n",
    "plt.title('L2-regularized model',fontsize=16)\n",
    "plt.ylabel('Loss',fontsize=14)\n",
    "plt.legend(fontsize=14)\n",
    "plt.grid('off')\n",
    "plt.show()\n",
    "plt.figure(figsize=(10,5))\n",
    "plt.subplot(212)\n",
    "plt.plot(epochs, l2_acc, 'bo', label='Training accuracy')\n",
    "plt.plot(epochs, l2_val_acc, 'r', label='Test accuracy')\n",
    "plt.xlabel('Epochs',fontsize=14)\n",
    "plt.ylabel('Accuracy',fontsize=14)\n",
    "plt.gca().set_yticklabels(['{:.0f}%'.format(x*100) for x in plt.gca().get_yticks()]) \n",
    "plt.legend(fontsize=14)\n",
    "plt.grid('off')\n",
    "plt.show()"
   ]
  },
  {
   "cell_type": "markdown",
   "metadata": {},
   "source": [
    "Plot the histogram of weights that connect the hidden layer to\n",
    "the output layer:"
   ]
  },
  {
   "cell_type": "code",
   "execution_count": 43,
   "metadata": {
    "colab": {
     "base_uri": "https://localhost:8080/",
     "height": 346
    },
    "colab_type": "code",
    "id": "E4SdBnTQNlpN",
    "outputId": "f36f6f03-5fe5-45b0-ad6b-7b96fc93ae4f"
   },
   "outputs": [
    {
     "data": {
      "image/png": "[encoded data removed]",
      "text/plain": [
       "<Figure size 432x288 with 1 Axes>"
      ]
     },
     "metadata": {
      "needs_background": "light"
     },
     "output_type": "display_data"
    }
   ],
   "source": [
    "plt.hist(l2_model.get_weights()[2].flatten())\n",
    "plt.xlabel('Weight values')\n",
    "plt.ylabel('Frequency')\n",
    "plt.title('Histogram of weight values when regularization is applied')\n",
    "plt.grid('off')"
   ]
  },
  {
   "cell_type": "markdown",
   "metadata": {},
   "source": [
    "We notice that:\n",
    "* The model with L2 regularization has become much more resistant to overfitting than the reference model.\n",
    "* Post regularization the training data accuracy reduces to 98%.\n",
    "* Post regularization the majority of weights are much closer to zero."
   ]
  },
  {
   "cell_type": "markdown",
   "metadata": {
    "colab_type": "text",
    "id": "Pc4w26FswEPs"
   },
   "source": [
    "## Applying dropout to reduce overfitting"
   ]
  },
  {
   "cell_type": "markdown",
   "metadata": {},
   "source": [
    "Dropout, applied to a layer, consists of randomly *dropping out* (setting to zero) a number of output features of the layer during training. Let’s say a given layer would normally return a vector `[0.2, 0.5, 1.3, 0.8, 1.1]` for a given input sample during training. After applying dropout, this vector will have a few zero entries distributed at random: for example, `[0, 0.5, 1.3, 0, 1.1]`. The *dropout rate* is the fraction of the features that are zeroed out; it’s usually set between `0.2` and `0.5`. At test time, no units are dropped out; instead, the layer’s output values are scaled down by a factor equal to the dropout rate, to balance for the fact that more units are active than at training time.\n",
    "\n",
    "The core idea is that introducing noise in the output values of a layer can break up happenstance patterns that are not significant, which the network would start memorizing if no noise was present."
   ]
  },
  {
   "cell_type": "markdown",
   "metadata": {},
   "source": [
    "### Scenario: Dropout-regularized model"
   ]
  },
  {
   "cell_type": "markdown",
   "metadata": {},
   "source": [
    "In Keras you can introduce dropout in a network via the `Dropout` layer, which gets applied to the output of layer:"
   ]
  },
  {
   "cell_type": "code",
   "execution_count": 52,
   "metadata": {
    "colab": {
     "base_uri": "https://localhost:8080/",
     "height": 1000
    },
    "colab_type": "code",
    "id": "Y-bbz-fhTe61",
    "outputId": "84f012f1-4119-4cd6-c0c0-8c498f9d12ab"
   },
   "outputs": [
    {
     "name": "stdout",
     "output_type": "stream",
     "text": [
      "Epoch 1/50\n",
      "59/59 [==============================] - 1s 11ms/step - loss: 0.6423 - accuracy: 0.8037 - val_loss: 0.2582 - val_accuracy: 0.9285\n",
      "Epoch 2/50\n",
      "59/59 [==============================] - 1s 9ms/step - loss: 0.2935 - accuracy: 0.9132 - val_loss: 0.1891 - val_accuracy: 0.9442\n",
      "Epoch 3/50\n",
      "59/59 [==============================] - 1s 9ms/step - loss: 0.2375 - accuracy: 0.9313 - val_loss: 0.1569 - val_accuracy: 0.9548\n",
      "Epoch 4/50\n",
      "59/59 [==============================] - 1s 9ms/step - loss: 0.2008 - accuracy: 0.9417 - val_loss: 0.1344 - val_accuracy: 0.9597\n",
      "Epoch 5/50\n",
      "59/59 [==============================] - 1s 9ms/step - loss: 0.1804 - accuracy: 0.9482 - val_loss: 0.1232 - val_accuracy: 0.9642\n",
      "Epoch 6/50\n",
      "59/59 [==============================] - 1s 9ms/step - loss: 0.1609 - accuracy: 0.9536 - val_loss: 0.1100 - val_accuracy: 0.9670\n",
      "Epoch 7/50\n",
      "59/59 [==============================] - 1s 9ms/step - loss: 0.1489 - accuracy: 0.9567 - val_loss: 0.1028 - val_accuracy: 0.9689\n",
      "Epoch 8/50\n",
      "59/59 [==============================] - 1s 9ms/step - loss: 0.1368 - accuracy: 0.9593 - val_loss: 0.0961 - val_accuracy: 0.9709\n",
      "Epoch 9/50\n",
      "59/59 [==============================] - 1s 9ms/step - loss: 0.1257 - accuracy: 0.9625 - val_loss: 0.0910 - val_accuracy: 0.9722\n",
      "Epoch 10/50\n",
      "59/59 [==============================] - 1s 8ms/step - loss: 0.1197 - accuracy: 0.9638 - val_loss: 0.0858 - val_accuracy: 0.9752\n",
      "Epoch 11/50\n",
      "59/59 [==============================] - 1s 9ms/step - loss: 0.1133 - accuracy: 0.9660 - val_loss: 0.0822 - val_accuracy: 0.9748\n",
      "Epoch 12/50\n",
      "59/59 [==============================] - 1s 9ms/step - loss: 0.1080 - accuracy: 0.9685 - val_loss: 0.0777 - val_accuracy: 0.9758\n",
      "Epoch 13/50\n",
      "59/59 [==============================] - 1s 9ms/step - loss: 0.1014 - accuracy: 0.9698 - val_loss: 0.0750 - val_accuracy: 0.9771\n",
      "Epoch 14/50\n",
      "59/59 [==============================] - 1s 9ms/step - loss: 0.0984 - accuracy: 0.9704 - val_loss: 0.0734 - val_accuracy: 0.9775\n",
      "Epoch 15/50\n",
      "59/59 [==============================] - 1s 9ms/step - loss: 0.0926 - accuracy: 0.9718 - val_loss: 0.0728 - val_accuracy: 0.9780\n",
      "Epoch 16/50\n",
      "59/59 [==============================] - 1s 9ms/step - loss: 0.0906 - accuracy: 0.9727 - val_loss: 0.0712 - val_accuracy: 0.9777\n",
      "Epoch 17/50\n",
      "59/59 [==============================] - 1s 9ms/step - loss: 0.0863 - accuracy: 0.9744 - val_loss: 0.0685 - val_accuracy: 0.9791\n",
      "Epoch 18/50\n",
      "59/59 [==============================] - 1s 9ms/step - loss: 0.0839 - accuracy: 0.9745 - val_loss: 0.0662 - val_accuracy: 0.9802\n",
      "Epoch 19/50\n",
      "59/59 [==============================] - 1s 9ms/step - loss: 0.0804 - accuracy: 0.9751 - val_loss: 0.0664 - val_accuracy: 0.9800\n",
      "Epoch 20/50\n",
      "59/59 [==============================] - 1s 9ms/step - loss: 0.0788 - accuracy: 0.9760 - val_loss: 0.0655 - val_accuracy: 0.9797\n",
      "Epoch 21/50\n",
      "59/59 [==============================] - 1s 9ms/step - loss: 0.0780 - accuracy: 0.9761 - val_loss: 0.0630 - val_accuracy: 0.9807\n",
      "Epoch 22/50\n",
      "59/59 [==============================] - 1s 9ms/step - loss: 0.0732 - accuracy: 0.9771 - val_loss: 0.0625 - val_accuracy: 0.9802\n",
      "Epoch 23/50\n",
      "59/59 [==============================] - 1s 9ms/step - loss: 0.0723 - accuracy: 0.9774 - val_loss: 0.0614 - val_accuracy: 0.9817\n",
      "Epoch 24/50\n",
      "59/59 [==============================] - 1s 9ms/step - loss: 0.0673 - accuracy: 0.9786 - val_loss: 0.0608 - val_accuracy: 0.9814\n",
      "Epoch 25/50\n",
      "59/59 [==============================] - 1s 9ms/step - loss: 0.0663 - accuracy: 0.9793 - val_loss: 0.0597 - val_accuracy: 0.9824\n",
      "Epoch 26/50\n",
      "59/59 [==============================] - 1s 9ms/step - loss: 0.0646 - accuracy: 0.9805 - val_loss: 0.0591 - val_accuracy: 0.9823\n",
      "Epoch 27/50\n",
      "59/59 [==============================] - 1s 9ms/step - loss: 0.0646 - accuracy: 0.9801 - val_loss: 0.0604 - val_accuracy: 0.9811\n",
      "Epoch 28/50\n",
      "59/59 [==============================] - 1s 9ms/step - loss: 0.0617 - accuracy: 0.9802 - val_loss: 0.0580 - val_accuracy: 0.9816\n",
      "Epoch 29/50\n",
      "59/59 [==============================] - 1s 9ms/step - loss: 0.0597 - accuracy: 0.9815 - val_loss: 0.0570 - val_accuracy: 0.9818\n",
      "Epoch 30/50\n",
      "59/59 [==============================] - 1s 9ms/step - loss: 0.0577 - accuracy: 0.9819 - val_loss: 0.0589 - val_accuracy: 0.9816\n",
      "Epoch 31/50\n",
      "59/59 [==============================] - 1s 9ms/step - loss: 0.0559 - accuracy: 0.9825 - val_loss: 0.0579 - val_accuracy: 0.9817\n",
      "Epoch 32/50\n",
      "59/59 [==============================] - 1s 9ms/step - loss: 0.0563 - accuracy: 0.9828 - val_loss: 0.0583 - val_accuracy: 0.9819\n",
      "Epoch 33/50\n",
      "59/59 [==============================] - 1s 9ms/step - loss: 0.0549 - accuracy: 0.9826 - val_loss: 0.0575 - val_accuracy: 0.9827\n",
      "Epoch 34/50\n",
      "59/59 [==============================] - 1s 9ms/step - loss: 0.0543 - accuracy: 0.9830 - val_loss: 0.0561 - val_accuracy: 0.9833\n",
      "Epoch 35/50\n",
      "59/59 [==============================] - 1s 9ms/step - loss: 0.0517 - accuracy: 0.9835 - val_loss: 0.0576 - val_accuracy: 0.9827\n",
      "Epoch 36/50\n",
      "59/59 [==============================] - 1s 9ms/step - loss: 0.0517 - accuracy: 0.9838 - val_loss: 0.0557 - val_accuracy: 0.9842\n",
      "Epoch 37/50\n",
      "59/59 [==============================] - 1s 9ms/step - loss: 0.0512 - accuracy: 0.9835 - val_loss: 0.0564 - val_accuracy: 0.9827\n",
      "Epoch 38/50\n",
      "59/59 [==============================] - 1s 9ms/step - loss: 0.0496 - accuracy: 0.9844 - val_loss: 0.0555 - val_accuracy: 0.9831\n",
      "Epoch 39/50\n",
      "59/59 [==============================] - 1s 9ms/step - loss: 0.0470 - accuracy: 0.9850 - val_loss: 0.0553 - val_accuracy: 0.9834\n",
      "Epoch 40/50\n",
      "59/59 [==============================] - 1s 9ms/step - loss: 0.0464 - accuracy: 0.9851 - val_loss: 0.0544 - val_accuracy: 0.9845\n",
      "Epoch 41/50\n",
      "59/59 [==============================] - 1s 9ms/step - loss: 0.0464 - accuracy: 0.9848 - val_loss: 0.0560 - val_accuracy: 0.9836\n",
      "Epoch 42/50\n",
      "59/59 [==============================] - 1s 9ms/step - loss: 0.0471 - accuracy: 0.9850 - val_loss: 0.0555 - val_accuracy: 0.9841\n",
      "Epoch 43/50\n",
      "59/59 [==============================] - 1s 9ms/step - loss: 0.0443 - accuracy: 0.9856 - val_loss: 0.0554 - val_accuracy: 0.9836\n",
      "Epoch 44/50\n",
      "59/59 [==============================] - 1s 9ms/step - loss: 0.0440 - accuracy: 0.9854 - val_loss: 0.0531 - val_accuracy: 0.9846\n",
      "Epoch 45/50\n",
      "59/59 [==============================] - 1s 9ms/step - loss: 0.0442 - accuracy: 0.9857 - val_loss: 0.0556 - val_accuracy: 0.9833\n",
      "Epoch 46/50\n",
      "59/59 [==============================] - 1s 9ms/step - loss: 0.0433 - accuracy: 0.9859 - val_loss: 0.0549 - val_accuracy: 0.9836\n",
      "Epoch 47/50\n",
      "59/59 [==============================] - 1s 9ms/step - loss: 0.0423 - accuracy: 0.9862 - val_loss: 0.0530 - val_accuracy: 0.9845\n",
      "Epoch 48/50\n",
      "59/59 [==============================] - 1s 9ms/step - loss: 0.0414 - accuracy: 0.9858 - val_loss: 0.0545 - val_accuracy: 0.9840\n",
      "Epoch 49/50\n",
      "59/59 [==============================] - 1s 9ms/step - loss: 0.0416 - accuracy: 0.9862 - val_loss: 0.0566 - val_accuracy: 0.9840\n",
      "Epoch 50/50\n",
      "59/59 [==============================] - 0s 8ms/step - loss: 0.0398 - accuracy: 0.9868 - val_loss: 0.0558 - val_accuracy: 0.9830\n"
     ]
    }
   ],
   "source": [
    "dr_model = Sequential()\n",
    "dr_model.add(Dense(1000, input_dim=784, activation='relu'))\n",
    "dr_model.add(Dropout(0.8))\n",
    "dr_model.add(Dense(10, activation='softmax'))\n",
    "dr_model.compile(loss='categorical_crossentropy', optimizer='adam', metrics=['accuracy'])\n",
    "dr_history = dr_model.fit(X_train, y_train, validation_data=(X_test, y_test), epochs=50, batch_size=1024, verbose=1)"
   ]
  },
  {
   "cell_type": "code",
   "execution_count": 53,
   "metadata": {},
   "outputs": [],
   "source": [
    "dr_history_dict = dr_history.history\n",
    "dr_loss = dr_history_dict['loss']\n",
    "dr_val_loss = dr_history_dict['val_loss']\n",
    "dr_acc = dr_history_dict['accuracy']\n",
    "dr_val_acc = dr_history_dict['val_accuracy']\n",
    "epochs = range(1, len(dr_val_loss) + 1)"
   ]
  },
  {
   "cell_type": "code",
   "execution_count": 54,
   "metadata": {
    "scrolled": true
   },
   "outputs": [
    {
     "data": {
      "image/png": "[encoded data removed]",
      "text/plain": [
       "<Figure size 720x360 with 1 Axes>"
      ]
     },
     "metadata": {
      "needs_background": "light"
     },
     "output_type": "display_data"
    },
    {
     "data": {
      "image/png": "[encoded data removed]",
      "text/plain": [
       "<Figure size 720x360 with 1 Axes>"
      ]
     },
     "metadata": {
      "needs_background": "light"
     },
     "output_type": "display_data"
    }
   ],
   "source": [
    "import matplotlib.pyplot as plt\n",
    "%matplotlib inline\n",
    "\n",
    "plt.figure(figsize=(10,5))\n",
    "plt.subplot(211)\n",
    "plt.plot(epochs, dr_loss, 'bo', label='Training loss')\n",
    "plt.plot(epochs, dr_val_loss, 'r', label='Test loss')\n",
    "plt.title('Dropout-regularized model',fontsize=16)\n",
    "plt.ylabel('Loss',fontsize=14)\n",
    "plt.legend(fontsize=14)\n",
    "plt.grid('off')\n",
    "plt.show()\n",
    "plt.figure(figsize=(10,5))\n",
    "plt.subplot(212)\n",
    "plt.plot(epochs, dr_acc, 'bo', label='Training accuracy')\n",
    "plt.plot(epochs, dr_val_acc, 'r', label='Test accuracy')\n",
    "plt.xlabel('Epochs',fontsize=14)\n",
    "plt.ylabel('Accuracy',fontsize=14)\n",
    "plt.gca().set_yticklabels(['{:.0f}%'.format(x*100) for x in plt.gca().get_yticks()]) \n",
    "plt.legend(fontsize=14)\n",
    "plt.grid('off')\n",
    "plt.show()"
   ]
  },
  {
   "cell_type": "markdown",
   "metadata": {},
   "source": [
    "Plot the histogram of weights that connect the hidden layer to\n",
    "the output layer:"
   ]
  },
  {
   "cell_type": "code",
   "execution_count": 55,
   "metadata": {
    "colab": {
     "base_uri": "https://localhost:8080/",
     "height": 346
    },
    "colab_type": "code",
    "id": "E4SdBnTQNlpN",
    "outputId": "f36f6f03-5fe5-45b0-ad6b-7b96fc93ae4f"
   },
   "outputs": [
    {
     "data": {
      "image/png": "[encoded data removed]",
      "text/plain": [
       "<Figure size 432x288 with 1 Axes>"
      ]
     },
     "metadata": {
      "needs_background": "light"
     },
     "output_type": "display_data"
    }
   ],
   "source": [
    "plt.hist(dr_model.get_weights()[2].flatten())\n",
    "plt.xlabel('Weight values')\n",
    "plt.ylabel('Frequency')\n",
    "plt.title('Histogram of weight values when dropout is applied')\n",
    "plt.grid('off')"
   ]
  },
  {
   "cell_type": "markdown",
   "metadata": {},
   "source": [
    "Again, this is a clear improvement over the reference network!"
   ]
  },
  {
   "cell_type": "markdown",
   "metadata": {
    "colab_type": "text",
    "id": "hg5uG64Ev1DZ"
   },
   "source": [
    "## Adding batch normalization"
   ]
  },
  {
   "cell_type": "markdown",
   "metadata": {},
   "source": [
    "In a previous section on the scaling dataset, we learned that optimization is slow when the *input data* is not scaled. Note that this phenomenon (high input values resulting in a slow optimization) holds true when *hidden layer values* are large as well!\n",
    "\n",
    "**Batch normalization** comes to the rescue in this scenario: previous examples normalized data before feeding it into models. But *data normalization* should be a concern after every transformation operated by the network!\n",
    "\n",
    "A common form of data normalization is one we have already mentioned: centering the data on `0` by subtracting the mean from the data, and giving the data a unit standard deviation by dividing the data by its standard deviation. In effect, this makes the assumption that the data follows a normal (or Gaussian) distribution:\n",
    "\n",
    "<div class=\"alert alert-block alert-warning\">\n",
    "<tt>normalized_data = (data - np.mean(data, axis=...)) / np.std(data, axis=...)</tt>\n",
    "</div>\n",
    "\n",
    "Batch normalization is a type of layer (`BatchNormalization` in Keras) which can adaptively normalize data even as the mean and variance change over time during training. The main effect of batch normalization is that it helps with gradient propagation and thus allows for deeper networks. "
   ]
  },
  {
   "cell_type": "markdown",
   "metadata": {},
   "source": [
    "### How to do it..."
   ]
  },
  {
   "cell_type": "markdown",
   "metadata": {},
   "source": [
    "1. Import the `BatchNormalization` method:"
   ]
  },
  {
   "cell_type": "code",
   "execution_count": 61,
   "metadata": {},
   "outputs": [],
   "source": [
    "from keras.layers.normalization import BatchNormalization"
   ]
  },
  {
   "cell_type": "markdown",
   "metadata": {},
   "source": [
    "2. Instantiate a model and build the same architecture as we built when using the regularization technique. The only addition is that we perform batch normalization in a hidden layer:"
   ]
  },
  {
   "cell_type": "code",
   "execution_count": 64,
   "metadata": {
    "colab": {
     "base_uri": "https://localhost:8080/",
     "height": 3434
    },
    "colab_type": "code",
    "id": "SEtPeuB8qcnO",
    "outputId": "0d9f5e26-ae05-44d8-f483-5bdf57623d05"
   },
   "outputs": [
    {
     "name": "stdout",
     "output_type": "stream",
     "text": [
      "Epoch 1/50\n",
      "59/59 [==============================] - 1s 13ms/step - loss: 0.9490 - accuracy: 0.9095 - val_loss: 1.3398 - val_accuracy: 0.9010\n",
      "Epoch 2/50\n",
      "59/59 [==============================] - 1s 12ms/step - loss: 0.4995 - accuracy: 0.9742 - val_loss: 1.0368 - val_accuracy: 0.9550\n",
      "Epoch 3/50\n",
      "59/59 [==============================] - 1s 12ms/step - loss: 0.3574 - accuracy: 0.9854 - val_loss: 0.8229 - val_accuracy: 0.9589\n",
      "Epoch 4/50\n",
      "59/59 [==============================] - 1s 12ms/step - loss: 0.2692 - accuracy: 0.9901 - val_loss: 0.6171 - val_accuracy: 0.9667\n",
      "Epoch 5/50\n",
      "59/59 [==============================] - 1s 12ms/step - loss: 0.2073 - accuracy: 0.9934 - val_loss: 0.4810 - val_accuracy: 0.9708\n",
      "Epoch 6/50\n",
      "59/59 [==============================] - 1s 12ms/step - loss: 0.1664 - accuracy: 0.9946 - val_loss: 0.3400 - val_accuracy: 0.9685\n",
      "Epoch 7/50\n",
      "59/59 [==============================] - 1s 12ms/step - loss: 0.1394 - accuracy: 0.9946 - val_loss: 0.2691 - val_accuracy: 0.9748\n",
      "Epoch 8/50\n",
      "59/59 [==============================] - 1s 12ms/step - loss: 0.1227 - accuracy: 0.9945 - val_loss: 0.1933 - val_accuracy: 0.9787\n",
      "Epoch 9/50\n",
      "59/59 [==============================] - 1s 12ms/step - loss: 0.1119 - accuracy: 0.9942 - val_loss: 0.1859 - val_accuracy: 0.9731\n",
      "Epoch 10/50\n",
      "59/59 [==============================] - 1s 12ms/step - loss: 0.1016 - accuracy: 0.9941 - val_loss: 0.1675 - val_accuracy: 0.9736\n",
      "Epoch 11/50\n",
      "59/59 [==============================] - 1s 12ms/step - loss: 0.0971 - accuracy: 0.9942 - val_loss: 0.1426 - val_accuracy: 0.9773\n",
      "Epoch 12/50\n",
      "59/59 [==============================] - 1s 12ms/step - loss: 0.0915 - accuracy: 0.9940 - val_loss: 0.1399 - val_accuracy: 0.9786\n",
      "Epoch 13/50\n",
      "59/59 [==============================] - 1s 12ms/step - loss: 0.0840 - accuracy: 0.9951 - val_loss: 0.1329 - val_accuracy: 0.9780\n",
      "Epoch 14/50\n",
      "59/59 [==============================] - 1s 12ms/step - loss: 0.0802 - accuracy: 0.9950 - val_loss: 0.1277 - val_accuracy: 0.9793\n",
      "Epoch 15/50\n",
      "59/59 [==============================] - 1s 12ms/step - loss: 0.0749 - accuracy: 0.9959 - val_loss: 0.1253 - val_accuracy: 0.9787\n",
      "Epoch 16/50\n",
      "59/59 [==============================] - 1s 12ms/step - loss: 0.0761 - accuracy: 0.9948 - val_loss: 0.1405 - val_accuracy: 0.9732\n",
      "Epoch 17/50\n",
      "59/59 [==============================] - 1s 12ms/step - loss: 0.0768 - accuracy: 0.9944 - val_loss: 0.1225 - val_accuracy: 0.9799\n",
      "Epoch 18/50\n",
      "59/59 [==============================] - 1s 12ms/step - loss: 0.0752 - accuracy: 0.9951 - val_loss: 0.1281 - val_accuracy: 0.9764\n",
      "Epoch 19/50\n",
      "59/59 [==============================] - 1s 12ms/step - loss: 0.0721 - accuracy: 0.9955 - val_loss: 0.1227 - val_accuracy: 0.9776\n",
      "Epoch 20/50\n",
      "59/59 [==============================] - 1s 12ms/step - loss: 0.0732 - accuracy: 0.9946 - val_loss: 0.1409 - val_accuracy: 0.9729\n",
      "Epoch 21/50\n",
      "59/59 [==============================] - 1s 12ms/step - loss: 0.0750 - accuracy: 0.9947 - val_loss: 0.1239 - val_accuracy: 0.9775\n",
      "Epoch 22/50\n",
      "59/59 [==============================] - 1s 12ms/step - loss: 0.0746 - accuracy: 0.9945 - val_loss: 0.1279 - val_accuracy: 0.9765\n",
      "Epoch 23/50\n",
      "59/59 [==============================] - 1s 12ms/step - loss: 0.0739 - accuracy: 0.9948 - val_loss: 0.1288 - val_accuracy: 0.9767\n",
      "Epoch 24/50\n",
      "59/59 [==============================] - 1s 12ms/step - loss: 0.0725 - accuracy: 0.9949 - val_loss: 0.1440 - val_accuracy: 0.9719\n",
      "Epoch 25/50\n",
      "59/59 [==============================] - 1s 12ms/step - loss: 0.0726 - accuracy: 0.9948 - val_loss: 0.1294 - val_accuracy: 0.9774\n",
      "Epoch 26/50\n",
      "59/59 [==============================] - 1s 12ms/step - loss: 0.0702 - accuracy: 0.9954 - val_loss: 0.1184 - val_accuracy: 0.9794\n",
      "Epoch 27/50\n",
      "59/59 [==============================] - 1s 12ms/step - loss: 0.0653 - accuracy: 0.9964 - val_loss: 0.1189 - val_accuracy: 0.9779\n",
      "Epoch 28/50\n",
      "59/59 [==============================] - 1s 12ms/step - loss: 0.0656 - accuracy: 0.9956 - val_loss: 0.1237 - val_accuracy: 0.9770\n",
      "Epoch 29/50\n",
      "59/59 [==============================] - 1s 12ms/step - loss: 0.0727 - accuracy: 0.9938 - val_loss: 0.1247 - val_accuracy: 0.9784\n",
      "Epoch 30/50\n",
      "59/59 [==============================] - 1s 12ms/step - loss: 0.0740 - accuracy: 0.9942 - val_loss: 0.1243 - val_accuracy: 0.9771\n",
      "Epoch 31/50\n",
      "59/59 [==============================] - 1s 12ms/step - loss: 0.0693 - accuracy: 0.9954 - val_loss: 0.1218 - val_accuracy: 0.9766\n",
      "Epoch 32/50\n",
      "59/59 [==============================] - 1s 12ms/step - loss: 0.0678 - accuracy: 0.9951 - val_loss: 0.1311 - val_accuracy: 0.9751\n",
      "Epoch 33/50\n",
      "59/59 [==============================] - 1s 12ms/step - loss: 0.0677 - accuracy: 0.9957 - val_loss: 0.1194 - val_accuracy: 0.9780\n",
      "Epoch 34/50\n",
      "59/59 [==============================] - 1s 12ms/step - loss: 0.0638 - accuracy: 0.9959 - val_loss: 0.1183 - val_accuracy: 0.9781\n",
      "Epoch 35/50\n",
      "59/59 [==============================] - 1s 12ms/step - loss: 0.0642 - accuracy: 0.9954 - val_loss: 0.1339 - val_accuracy: 0.9726\n",
      "Epoch 36/50\n",
      "59/59 [==============================] - 1s 12ms/step - loss: 0.0669 - accuracy: 0.9953 - val_loss: 0.1194 - val_accuracy: 0.9784\n",
      "Epoch 37/50\n",
      "59/59 [==============================] - 1s 12ms/step - loss: 0.0653 - accuracy: 0.9954 - val_loss: 0.1232 - val_accuracy: 0.9756\n",
      "Epoch 38/50\n",
      "59/59 [==============================] - 1s 12ms/step - loss: 0.0660 - accuracy: 0.9952 - val_loss: 0.1259 - val_accuracy: 0.9758\n",
      "Epoch 39/50\n",
      "59/59 [==============================] - 1s 12ms/step - loss: 0.0656 - accuracy: 0.9955 - val_loss: 0.1160 - val_accuracy: 0.9767\n",
      "Epoch 40/50\n",
      "59/59 [==============================] - 1s 12ms/step - loss: 0.0629 - accuracy: 0.9961 - val_loss: 0.1079 - val_accuracy: 0.9815\n",
      "Epoch 41/50\n",
      "59/59 [==============================] - 1s 12ms/step - loss: 0.0605 - accuracy: 0.9961 - val_loss: 0.1181 - val_accuracy: 0.9779\n",
      "Epoch 42/50\n",
      "59/59 [==============================] - 1s 12ms/step - loss: 0.0607 - accuracy: 0.9960 - val_loss: 0.1289 - val_accuracy: 0.9729\n",
      "Epoch 43/50\n",
      "59/59 [==============================] - 1s 12ms/step - loss: 0.0647 - accuracy: 0.9951 - val_loss: 0.1273 - val_accuracy: 0.9736\n",
      "Epoch 44/50\n",
      "59/59 [==============================] - 1s 12ms/step - loss: 0.0637 - accuracy: 0.9956 - val_loss: 0.1235 - val_accuracy: 0.9758\n",
      "Epoch 45/50\n",
      "59/59 [==============================] - 1s 12ms/step - loss: 0.0617 - accuracy: 0.9961 - val_loss: 0.1207 - val_accuracy: 0.9767\n",
      "Epoch 46/50\n",
      "59/59 [==============================] - 1s 12ms/step - loss: 0.0612 - accuracy: 0.9958 - val_loss: 0.1223 - val_accuracy: 0.9764\n",
      "Epoch 47/50\n",
      "59/59 [==============================] - 1s 11ms/step - loss: 0.0631 - accuracy: 0.9955 - val_loss: 0.1211 - val_accuracy: 0.9780\n",
      "Epoch 48/50\n",
      "59/59 [==============================] - 1s 12ms/step - loss: 0.0589 - accuracy: 0.9967 - val_loss: 0.1265 - val_accuracy: 0.9716\n",
      "Epoch 49/50\n",
      "59/59 [==============================] - 1s 12ms/step - loss: 0.0605 - accuracy: 0.9955 - val_loss: 0.1346 - val_accuracy: 0.9705\n",
      "Epoch 50/50\n",
      "59/59 [==============================] - 1s 12ms/step - loss: 0.0632 - accuracy: 0.9952 - val_loss: 0.1175 - val_accuracy: 0.9790\n"
     ]
    }
   ],
   "source": [
    "from keras.regularizers import l2\n",
    "from keras.optimizers import Adam\n",
    "\n",
    "bat_model = Sequential()\n",
    "bat_model.add(Dense(1000, input_dim=784, activation='relu', kernel_regularizer = l2(0.001)))\n",
    "bat_model.add(BatchNormalization())\n",
    "bat_model.add(Dense(10, activation='softmax', kernel_regularizer = l2(0.001)))\n",
    "bat_model.compile(loss='categorical_crossentropy', optimizer='adam', metrics=['accuracy'])\n",
    "bat_history = bat_model.fit(X_train, y_train, validation_data=(X_test, y_test), epochs=50, batch_size=1024, verbose=1)"
   ]
  },
  {
   "cell_type": "code",
   "execution_count": 65,
   "metadata": {},
   "outputs": [],
   "source": [
    "bat_history_dict = bat_history.history\n",
    "bat_loss = bat_history_dict['loss']\n",
    "bat_val_loss = bat_history_dict['val_loss']\n",
    "bat_acc = bat_history_dict['accuracy']\n",
    "bat_val_acc = bat_history_dict['val_accuracy']\n",
    "epochs = range(1, len(bat_val_loss) + 1)"
   ]
  },
  {
   "cell_type": "code",
   "execution_count": 71,
   "metadata": {
    "scrolled": true
   },
   "outputs": [
    {
     "data": {
      "image/png": "[encoded data removed]",
      "text/plain": [
       "<Figure size 720x360 with 1 Axes>"
      ]
     },
     "metadata": {
      "needs_background": "light"
     },
     "output_type": "display_data"
    },
    {
     "data": {
      "image/png": "[encoded data removed]",
      "text/plain": [
       "<Figure size 720x360 with 1 Axes>"
      ]
     },
     "metadata": {
      "needs_background": "light"
     },
     "output_type": "display_data"
    }
   ],
   "source": [
    "import matplotlib.pyplot as plt\n",
    "%matplotlib inline\n",
    "\n",
    "plt.figure(figsize=(10,5))\n",
    "plt.subplot(211)\n",
    "plt.plot(epochs, l2_loss, 'go', label='L2-regularized model')\n",
    "plt.plot(epochs, bat_loss, 'mo', label='L2-regularized model with batch normalization')\n",
    "plt.title('Training loss',fontsize=16)\n",
    "plt.ylabel('Loss',fontsize=14)\n",
    "plt.legend(fontsize=14)\n",
    "plt.grid('off')\n",
    "plt.show()\n",
    "plt.figure(figsize=(10,5))\n",
    "plt.subplot(212)\n",
    "plt.plot(epochs, l2_acc, 'go', label='L2-regularized model')\n",
    "plt.plot(epochs, bat_acc, 'mo', label='L2-regularized model with batch normalization')\n",
    "plt.title('Training accuracy',fontsize=16)\n",
    "plt.xlabel('Epochs',fontsize=14)\n",
    "plt.ylabel('Accuracy',fontsize=14)\n",
    "plt.gca().set_yticklabels(['{:.0f}%'.format(x*100) for x in plt.gca().get_yticks()]) \n",
    "plt.legend(fontsize=14)\n",
    "plt.grid('off')\n",
    "plt.show()"
   ]
  },
  {
   "cell_type": "markdown",
   "metadata": {},
   "source": [
    "Thus, batch normalization results in much faster training!"
   ]
  },
  {
   "cell_type": "code",
   "execution_count": 1,
   "metadata": {},
   "outputs": [
    {
     "data": {
      "text/html": [
       "<link href='http://fonts.googleapis.com/css?family=Alegreya+Sans:100,300,400,500,700,800,900,100italic,300italic,400italic,500italic,700italic,800italic,900italic' rel='stylesheet' type='text/css'>\n",
       "<link href='http://fonts.googleapis.com/css?family=Arvo:400,700,400italic' rel='stylesheet' type='text/css'>\n",
       "<link href='http://fonts.googleapis.com/css?family=PT+Mono' rel='stylesheet' type='text/css'>\n",
       "<link href='http://fonts.googleapis.com/css?family=Shadows+Into+Light' rel='stylesheet' type='text/css'>\n",
       "<link href='http://fonts.googleapis.com/css?family=Nixie+One' rel='stylesheet' type='text/css'>\n",
       "<link href='https://fonts.googleapis.com/css?family=Source+Code+Pro' rel='stylesheet' type='text/css'>\n",
       "<style>\n",
       "\n",
       "@font-face {\n",
       "    font-family: \"Computer Modern\";\n",
       "    src: url('http://mirrors.ctan.org/fonts/cm-unicode/fonts/otf/cmunss.otf');\n",
       "}\n",
       "\n",
       "#notebook_panel { /* main background */\n",
       "    background: rgb(245,245,245);\n",
       "}\n",
       "\n",
       "div.cell { /* set cell width */\n",
       "    width: 750px;\n",
       "}\n",
       "\n",
       "div #notebook { /* centre the content */\n",
       "    background: #fff; /* white background for content */\n",
       "    width: 1000px;\n",
       "    margin: auto;\n",
       "    padding-left: 0em;\n",
       "}\n",
       "\n",
       "#notebook li { /* More space between bullet points */\n",
       "    margin-top:0.8em;\n",
       "}\n",
       "\n",
       "/* draw border around running cells */\n",
       "div.cell.border-box-sizing.code_cell.running { \n",
       "    border: 1px solid #111;\n",
       "}\n",
       "\n",
       "/* Put a solid color box around each cell and its output, visually linking them*/\n",
       "div.cell.code_cell {\n",
       "    background-color: rgb(256,256,256); \n",
       "    border-radius: 0px; \n",
       "    padding: 0.5em;\n",
       "    margin-left:1em;\n",
       "    margin-top: 1em;\n",
       "}\n",
       "\n",
       "div.text_cell_render{\n",
       "    font-family: 'Alegreya Sans' sans-serif;\n",
       "    line-height: 140%;\n",
       "    font-size: 105%;\n",
       "    font-weight: 400;\n",
       "    width:600px;\n",
       "    margin-left:auto;\n",
       "    margin-right:auto;\n",
       "}\n",
       "\n",
       "\n",
       "/* Formatting for header cells */\n",
       ".text_cell_render h1 {\n",
       "    font-family: 'Nixie One', serif;\n",
       "    font-style:regular;\n",
       "    font-weight: 400;    \n",
       "    font-size: 40pt;\n",
       "    line-height: 100%;\n",
       "    color: rgb(0,51,102);\n",
       "    margin-bottom: 0.5em;\n",
       "    margin-top: 0.5em;\n",
       "    display: block;\n",
       "}\n",
       "\n",
       ".text_cell_render h2 {\n",
       "    font-family: 'Nixie One', serif;\n",
       "    font-weight: 400;\n",
       "    font-size: 25pt;\n",
       "    line-height: 100%;\n",
       "    color: rgb(0,51,102);\n",
       "    margin-bottom: 0.1em;\n",
       "    margin-top: 0.3em;\n",
       "    display: block;\n",
       "}\t\n",
       "\n",
       ".text_cell_render h3 {\n",
       "    font-family: 'Nixie One', serif;\n",
       "    margin-top:16px;\n",
       "    font-size: 17pt;\n",
       "    font-weight: 600;\n",
       "    margin-bottom: 3px;\n",
       "    font-style: regular;\n",
       "    color: rgb(102,102,0);\n",
       "}\n",
       "\n",
       ".text_cell_render h4 {    /*Use this for captions*/\n",
       "    font-family: 'Nixie One', serif;\n",
       "    font-size: 10pt;\n",
       "    text-align: center;\n",
       "    margin-top: 0em;\n",
       "    margin-bottom: 2em;\n",
       "    font-style: regular;\n",
       "}\n",
       "\n",
       ".text_cell_render h5 {  /*Use this for small titles*/\n",
       "    font-family: 'Nixie One', sans-serif;\n",
       "    font-weight: 400;\n",
       "    font-size: 11pt;\n",
       "    color: rgb(163,0,0);\n",
       "    font-style: italic;\n",
       "    margin-bottom: .1em;\n",
       "    margin-top: 0.8em;\n",
       "    display: block;\n",
       "}\n",
       "\n",
       ".text_cell_render h6 { /*use this for copyright note*/\n",
       "    font-family: 'PT Mono', sans-serif;\n",
       "    font-weight: 300;\n",
       "    font-size: 4pt;\n",
       "    line-height: 100%;\n",
       "    color: grey;\n",
       "    margin-bottom: 1px;\n",
       "    margin-top: 1px;\n",
       "}\n",
       "\n",
       ".CodeMirror{\n",
       "    font-family: \"Source Code Pro\";\n",
       "    font-size: 110%;\n",
       "}\n",
       "\n",
       ".alert-box {\n",
       "    padding:10px 10px 10px 36px;\n",
       "    margin:5px;\n",
       "}\n",
       "\n",
       ".success {\n",
       "    color:#666600;\n",
       "    background:rgb(240,242,229);\n",
       "}\n",
       "</style>\n",
       "\n",
       "<script>\n",
       "    MathJax.Hub.Config({\n",
       "                        TeX: {\n",
       "                            extensions: [\"AMSmath.js\"],\n",
       "                            equationNumbers: { autoNumber: \"AMS\", useLabelIds: true}\n",
       "                            },\n",
       "                        tex2jax: {\n",
       "                            inlineMath: [ ['$','$'], [\"\\\\(\",\"\\\\)\"] ],\n",
       "                            displayMath: [ ['$$','$$'], [\"\\\\[\",\"\\\\]\"] ]\n",
       "                            },\n",
       "                        displayAlign: 'center', // Change this to 'center' to center equations.\n",
       "                        \"HTML-CSS\": {\n",
       "                            styles: {'.MathJax_Display': {\"margin\": 4}}\n",
       "                            }\n",
       "                        });\n",
       "    MathJax.Hub.Queue(\n",
       "                      [\"resetEquationNumbers\", MathJax.InputJax.TeX],\n",
       "                      [\"PreProcess\", MathJax.Hub],\n",
       "                      [\"Reprocess\", MathJax.Hub]\n",
       "                     );\n",
       "</script>\n"
      ],
      "text/plain": [
       "<IPython.core.display.HTML object>"
      ]
     },
     "execution_count": 1,
     "metadata": {},
     "output_type": "execute_result"
    }
   ],
   "source": [
    "from IPython.core.display import HTML\n",
    "css_file = '.././styles/numericalmoocstyle.css'\n",
    "HTML(open(css_file, 'r').read())"
   ]
  }
 ],
 "metadata": {
  "colab": {
   "collapsed_sections": [],
   "name": "Neural_network_working_details.ipynb",
   "provenance": []
  },
  "kernelspec": {
   "display_name": "Python 3",
   "language": "python",
   "name": "python3"
  },
  "language_info": {
   "codemirror_mode": {
    "name": "ipython",
    "version": 3
   },
   "file_extension": ".py",
   "mimetype": "text/x-python",
   "name": "python",
   "nbconvert_exporter": "python",
   "pygments_lexer": "ipython3",
   "version": "3.8.5"
  }
 },
 "nbformat": 4,
 "nbformat_minor": 1
}
