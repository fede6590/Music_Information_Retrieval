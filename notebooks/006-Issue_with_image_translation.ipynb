{
 "cells": [
  {
   "cell_type": "markdown",
   "metadata": {},
   "source": [
    "# Building a Deep Convolutional Neural Network\n",
    "\n",
    "## Introduction\n",
    "\n",
    "In the previous chapter (cuadernos 004 a 005), we looked at a *traditional* deep **feedforward neural network**. One of the limitations of this *traditional* neural network is that it is not **translation-invariant**, that is, a cat image in the upper-right corner of an image would be considered different from an image that has a cat in the center of the image. Additionally, *traditional* neural networks are affected by the **scale** of an object. If the object is big in the majority of the images and a new image has the same object in it but with a smaller scale (occupies a smaller portion of the image), traditional neural networks are likely to fail in classifying the image. \n",
    "\n",
    "**Convolutional Neural Networks (CNNs)** are used to deal with such issues. Given that a CNN is able to deal with translation in images and also the scale of images, it is considered a lot more useful in object classification/detection. In this chapter, we will get into the following:\n",
    "\n",
    "* Inaccuracy of traditional neural network when images are translated;\n",
    "* Building a CNN from scratch using Python;\n",
    "* Using CNNs to improve image classification on a MNIST dataset;\n",
    "* Implementing data augmentation to improve network accuracy;\n",
    "* Gender classification using CNNs."
   ]
  },
  {
   "cell_type": "markdown",
   "metadata": {},
   "source": [
    "## Inaccuracy of traditional neural networks when images are translated\n",
    "\n",
    "Let's go through the following scenario: \n",
    "\n",
    "* Build a NN model to predict labels from the MNIST dataset;\n",
    "* Consider all images that have a label of 1 and take an average of all of them (generating an *average 1 image*);\n",
    "* Predict the label of the generated *average 1 image* using traditional NN; \n",
    "* Translate the *average 1 image* by $n$ pixels to the left or right;\n",
    "* Make a prediction of the translated image using our traditional NN model."
   ]
  },
  {
   "cell_type": "markdown",
   "metadata": {},
   "source": [
    "### How to do it..."
   ]
  },
  {
   "cell_type": "markdown",
   "metadata": {},
   "source": [
    "1. Download and extract the train and test MNIST dataset: "
   ]
  },
  {
   "cell_type": "code",
   "execution_count": 1,
   "metadata": {},
   "outputs": [],
   "source": [
    "from keras.models import Sequential\n",
    "from keras.layers import Dense\n",
    "from keras.layers import Dropout\n",
    "from keras.utils import np_utils"
   ]
  },
  {
   "cell_type": "code",
   "execution_count": 2,
   "metadata": {},
   "outputs": [],
   "source": [
    "import numpy as np\n",
    "import matplotlib.pyplot as plt\n",
    "%matplotlib inline"
   ]
  },
  {
   "cell_type": "code",
   "execution_count": 3,
   "metadata": {},
   "outputs": [],
   "source": [
    "from keras.datasets import mnist\n",
    "(X_train, y_train), (X_test, y_test) = mnist.load_data()"
   ]
  },
  {
   "cell_type": "markdown",
   "metadata": {},
   "source": [
    "2. Fetch the training set corresponding to label `1` only:"
   ]
  },
  {
   "cell_type": "code",
   "execution_count": 4,
   "metadata": {},
   "outputs": [],
   "source": [
    "X_train1 = X_train[y_train==1]"
   ]
  },
  {
   "cell_type": "markdown",
   "metadata": {},
   "source": [
    "3. Reshape and normalize the original dataset:"
   ]
  },
  {
   "cell_type": "code",
   "execution_count": 5,
   "metadata": {
    "colab": {},
    "colab_type": "code",
    "id": "FQeQXn0bSFAC"
   },
   "outputs": [],
   "source": [
    "num_pixels = X_train.shape[1] * X_train.shape[2]\n",
    "X_train = X_train.reshape(X_train.shape[0],num_pixels).astype('float32')\n",
    "X_test = X_test.reshape(X_test.shape[0],num_pixels).astype('float32')\n",
    "X_train = X_train / 255\n",
    "X_test = X_test / 255"
   ]
  },
  {
   "cell_type": "markdown",
   "metadata": {},
   "source": [
    "4. One-hot encode the output labels: "
   ]
  },
  {
   "cell_type": "code",
   "execution_count": 6,
   "metadata": {
    "colab": {},
    "colab_type": "code",
    "id": "v3L-4XgRSGNY"
   },
   "outputs": [],
   "source": [
    "y_train = np_utils.to_categorical(y_train)\n",
    "y_test = np_utils.to_categorical(y_test)\n",
    "num_classes = y_train.shape[1]"
   ]
  },
  {
   "cell_type": "markdown",
   "metadata": {},
   "source": [
    "5. Build, compile and fit a model:"
   ]
  },
  {
   "cell_type": "code",
   "execution_count": 7,
   "metadata": {
    "colab": {
     "base_uri": "https://localhost:8080/",
     "height": 326
    },
    "colab_type": "code",
    "id": "mA06Oi-uSHcq",
    "outputId": "e04dd280-18df-4f00-8b39-4cd5f2b819d8",
    "scrolled": true
   },
   "outputs": [
    {
     "name": "stdout",
     "output_type": "stream",
     "text": [
      "Epoch 1/5\n",
      "59/59 [==============================] - 2s 27ms/step - loss: 0.8366 - accuracy: 0.7801 - val_loss: 0.2297 - val_accuracy: 0.9342\n",
      "Epoch 2/5\n",
      "59/59 [==============================] - 1s 16ms/step - loss: 0.2090 - accuracy: 0.9406 - val_loss: 0.1643 - val_accuracy: 0.9520\n",
      "Epoch 3/5\n",
      "59/59 [==============================] - 1s 17ms/step - loss: 0.1476 - accuracy: 0.9590 - val_loss: 0.1274 - val_accuracy: 0.9637\n",
      "Epoch 4/5\n",
      "59/59 [==============================] - 1s 17ms/step - loss: 0.1145 - accuracy: 0.9674 - val_loss: 0.1088 - val_accuracy: 0.9671\n",
      "Epoch 5/5\n",
      "59/59 [==============================] - 1s 17ms/step - loss: 0.0870 - accuracy: 0.9764 - val_loss: 0.0904 - val_accuracy: 0.9737\n"
     ]
    }
   ],
   "source": [
    "model = Sequential()\n",
    "model.add(Dense(1000, input_dim=num_pixels, activation='relu'))\n",
    "model.add(Dense(num_classes, activation='softmax'))\n",
    "model.compile(loss='categorical_crossentropy', optimizer='adam',metrics=['accuracy'])\n",
    "history = model.fit(X_train, y_train, validation_data=(X_test, y_test),epochs=5, batch_size=1024, verbose=1)"
   ]
  },
  {
   "cell_type": "markdown",
   "metadata": {},
   "source": [
    "6. Generate and plot the *average 1 image* from the training set obtained in step 2. In the following code, we take an average pixel value at each pixel location of images that have a label of 1:"
   ]
  },
  {
   "cell_type": "code",
   "execution_count": 8,
   "metadata": {},
   "outputs": [
    {
     "data": {
      "text/plain": [
       "(6742, 28, 28)"
      ]
     },
     "execution_count": 8,
     "metadata": {},
     "output_type": "execute_result"
    }
   ],
   "source": [
    "X_train1.shape"
   ]
  },
  {
   "cell_type": "code",
   "execution_count": 9,
   "metadata": {
    "colab": {
     "base_uri": "https://localhost:8080/",
     "height": 282
    },
    "colab_type": "code",
    "id": "Zr4afnIkSIre",
    "outputId": "b44990bd-0afa-4b30-ed4a-4d0a5bda8a85",
    "scrolled": false
   },
   "outputs": [
    {
     "data": {
      "image/png": "[encoded data removed]",
      "text/plain": [
       "<Figure size 432x288 with 1 Axes>"
      ]
     },
     "metadata": {
      "needs_background": "light"
     },
     "output_type": "display_data"
    }
   ],
   "source": [
    "pic=np.zeros((28,28))\n",
    "for i in range(X_train1.shape[0]):\n",
    "    pic=pic+X_train1[i,:,:]\n",
    "pic=(pic/X_train1.shape[0])\n",
    "plt.imshow(pic);"
   ]
  },
  {
   "cell_type": "markdown",
   "metadata": {},
   "source": [
    "Note that the more yellow the pixel is, the more often people have written on top of the pixel, and the less yellow (more blue) the pixel, the less often people have written on top of the pixel. Also, note that the pixel in the middle is the yellowest! (i.e. most people would be writing over the middle pixels."
   ]
  },
  {
   "cell_type": "markdown",
   "metadata": {},
   "source": [
    "7. Predict the label of the image using the built model. Firstly, we use the `predict` method to calculate the expected output:"
   ]
  },
  {
   "cell_type": "code",
   "execution_count": 10,
   "metadata": {},
   "outputs": [],
   "source": [
    "X_avg = pic.reshape(1,num_pixels)/255"
   ]
  },
  {
   "cell_type": "code",
   "execution_count": 11,
   "metadata": {},
   "outputs": [
    {
     "name": "stdout",
     "output_type": "stream",
     "text": [
      "(1, 10)\n",
      "[[5.3360061e-05 9.6113276e-01 1.7452780e-03 2.9902654e-03 2.8800243e-04\n",
      "  7.0115342e-04 3.3435054e-04 1.1328172e-03 3.0962024e-02 6.6001288e-04]]\n"
     ]
    }
   ],
   "source": [
    "pred = model.predict(X_avg)\n",
    "print(np.shape(pred))\n",
    "print(pred)"
   ]
  },
  {
   "cell_type": "markdown",
   "metadata": {},
   "source": [
    "Lastly, we obtain the index that has the highest probability value:"
   ]
  },
  {
   "cell_type": "code",
   "execution_count": 12,
   "metadata": {},
   "outputs": [
    {
     "name": "stdout",
     "output_type": "stream",
     "text": [
      "1\n",
      "0.96113276\n"
     ]
    }
   ],
   "source": [
    "val = np.argmax(pred)\n",
    "print(val)\n",
    "print(pred[0,val])"
   ]
  },
  {
   "cell_type": "markdown",
   "metadata": {},
   "source": [
    "### Scenario 1\n",
    "\n",
    "Let's create a new image where the original image is translated by 1\n",
    "pixel toward the left. In the following code, we loop through the columns of the image and copy the pixel values of the next column to the current column:"
   ]
  },
  {
   "cell_type": "code",
   "execution_count": 13,
   "metadata": {
    "colab": {
     "base_uri": "https://localhost:8080/",
     "height": 265
    },
    "colab_type": "code",
    "id": "wrIicP5lSQwi",
    "outputId": "20dd8c6f-e7a0-48b1-ff09-cba671588676"
   },
   "outputs": [
    {
     "data": {
      "image/png": "[encoded data removed]",
      "text/plain": [
       "<Figure size 432x288 with 1 Axes>"
      ]
     },
     "metadata": {
      "needs_background": "light"
     },
     "output_type": "display_data"
    }
   ],
   "source": [
    "pic1=np.zeros((28,28))\n",
    "for i in range(pic.shape[0]-1):\n",
    "    pic1[:,i]=pic[:,i+1]\n",
    "plt.imshow(pic1);"
   ]
  },
  {
   "cell_type": "markdown",
   "metadata": {},
   "source": [
    "Predict the label of the new image using the built model:"
   ]
  },
  {
   "cell_type": "code",
   "execution_count": 14,
   "metadata": {},
   "outputs": [
    {
     "name": "stdout",
     "output_type": "stream",
     "text": [
      "1\n",
      "0.6800499\n"
     ]
    }
   ],
   "source": [
    "X_avg1 = pic1.reshape(1,num_pixels)/255\n",
    "pred1 = model.predict(X_avg1)\n",
    "val1 = np.argmax(pred1)\n",
    "print(val1)\n",
    "print(pred1[0,val1])"
   ]
  },
  {
   "cell_type": "markdown",
   "metadata": {},
   "source": [
    "We obtain a prediction of 1, albeit with a **lower probability** value as compared to the case without translation."
   ]
  },
  {
   "cell_type": "markdown",
   "metadata": {},
   "source": [
    "### Scenario 2\n",
    "\n",
    "A new image is created in which the pixels of the original image are shifted by 2 pixels to the right:"
   ]
  },
  {
   "cell_type": "code",
   "execution_count": 15,
   "metadata": {
    "colab": {
     "base_uri": "https://localhost:8080/",
     "height": 265
    },
    "colab_type": "code",
    "id": "wrIicP5lSQwi",
    "outputId": "20dd8c6f-e7a0-48b1-ff09-cba671588676"
   },
   "outputs": [
    {
     "data": {
      "image/png": "[encoded data removed]",
      "text/plain": [
       "<Figure size 432x288 with 1 Axes>"
      ]
     },
     "metadata": {
      "needs_background": "light"
     },
     "output_type": "display_data"
    }
   ],
   "source": [
    "pic2=np.zeros((28,28))\n",
    "for i in np.arange(2,pic.shape[0]):\n",
    "    pic2[:,i]=pic[:,i-2]\n",
    "plt.imshow(pic2);"
   ]
  },
  {
   "cell_type": "markdown",
   "metadata": {},
   "source": [
    "Predict the label of the new image using the built model:"
   ]
  },
  {
   "cell_type": "code",
   "execution_count": 16,
   "metadata": {},
   "outputs": [
    {
     "name": "stdout",
     "output_type": "stream",
     "text": [
      "3\n",
      "0.3863075\n"
     ]
    }
   ],
   "source": [
    "X_avg2 = pic2.reshape(1,num_pixels)/255\n",
    "pred2 = model.predict(X_avg2)\n",
    "val2 = np.argmax(pred2)\n",
    "print(val2)\n",
    "print(pred2[0,val2])"
   ]
  },
  {
   "cell_type": "markdown",
   "metadata": {},
   "source": [
    "We see that the prediction is **incorrect** with an output of 3. This is the problem that we will be addressing by using a CNN !!! "
   ]
  }
 ],
 "metadata": {
  "colab": {
   "collapsed_sections": [],
   "name": "Neural_network_working_details.ipynb",
   "provenance": []
  },
  "kernelspec": {
   "display_name": "Python 3",
   "language": "python",
   "name": "python3"
  },
  "language_info": {
   "codemirror_mode": {
    "name": "ipython",
    "version": 3
   },
   "file_extension": ".py",
   "mimetype": "text/x-python",
   "name": "python",
   "nbconvert_exporter": "python",
   "pygments_lexer": "ipython3",
   "version": "3.8.5"
  }
 },
 "nbformat": 4,
 "nbformat_minor": 1
}
