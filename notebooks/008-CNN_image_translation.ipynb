{
 "cells": [
  {
   "cell_type": "markdown",
   "metadata": {},
   "source": [
    "# Building a Deep Convolutional Neural Network\n",
    "\n",
    "## CNNs to improve accuracy in the case of image translation\n",
    "\n",
    "In the previous sections (cuadernos 006 y 007), we learned about the issue of translation in images and how a CNN works. In this section, we will leverage that knowledge toward improving prediction accuracy when an image is translated. \n",
    "\n"
   ]
  },
  {
   "cell_type": "markdown",
   "metadata": {},
   "source": [
    "### How to do it..."
   ]
  },
  {
   "cell_type": "markdown",
   "metadata": {},
   "source": [
    "1. Download and extract the train and test MNIST dataset: "
   ]
  },
  {
   "cell_type": "code",
   "execution_count": 11,
   "metadata": {},
   "outputs": [],
   "source": [
    "from keras.models import Sequential\n",
    "from keras.layers import Dense\n",
    "from keras.layers import Dropout\n",
    "from keras.layers import Conv2D, MaxPooling2D, Flatten\n",
    "from keras.utils import np_utils"
   ]
  },
  {
   "cell_type": "code",
   "execution_count": 13,
   "metadata": {},
   "outputs": [],
   "source": [
    "from keras.datasets import mnist\n",
    "(X_train, y_train), (X_test, y_test) = mnist.load_data()"
   ]
  },
  {
   "cell_type": "markdown",
   "metadata": {},
   "source": [
    "2. Reshape the input dataset so that each input image is represented in the format of `number of samples x height x width x number of channels`:"
   ]
  },
  {
   "cell_type": "code",
   "execution_count": 14,
   "metadata": {},
   "outputs": [],
   "source": [
    "X_train = X_train.reshape(X_train.shape[0],X_train.shape[1],X_train.shape[2],1).astype('float32')\n",
    "X_test = X_test.reshape(X_test.shape[0],X_test.shape[1],X_test.shape[2],1).astype('float32')"
   ]
  },
  {
   "cell_type": "code",
   "execution_count": 15,
   "metadata": {},
   "outputs": [
    {
     "data": {
      "text/plain": [
       "(60000, 28, 28, 1)"
      ]
     },
     "execution_count": 15,
     "metadata": {},
     "output_type": "execute_result"
    }
   ],
   "source": [
    "X_train.shape"
   ]
  },
  {
   "cell_type": "markdown",
   "metadata": {},
   "source": [
    "3. Scale the input dataset:"
   ]
  },
  {
   "cell_type": "code",
   "execution_count": 16,
   "metadata": {},
   "outputs": [],
   "source": [
    "X_train = X_train / 255\n",
    "X_test = X_test / 255"
   ]
  },
  {
   "cell_type": "markdown",
   "metadata": {},
   "source": [
    "4. One-hot encode the output labels: "
   ]
  },
  {
   "cell_type": "code",
   "execution_count": 17,
   "metadata": {
    "colab": {},
    "colab_type": "code",
    "id": "v3L-4XgRSGNY"
   },
   "outputs": [],
   "source": [
    "y_train = np_utils.to_categorical(y_train)\n",
    "y_test = np_utils.to_categorical(y_test)\n",
    "num_classes = y_train.shape[1]"
   ]
  },
  {
   "cell_type": "code",
   "execution_count": 18,
   "metadata": {
    "scrolled": true
   },
   "outputs": [
    {
     "data": {
      "text/plain": [
       "(60000, 10)"
      ]
     },
     "execution_count": 18,
     "metadata": {},
     "output_type": "execute_result"
    }
   ],
   "source": [
    "y_train.shape"
   ]
  },
  {
   "cell_type": "markdown",
   "metadata": {},
   "source": [
    "5. Instantiate the model:"
   ]
  },
  {
   "cell_type": "code",
   "execution_count": 19,
   "metadata": {},
   "outputs": [],
   "source": [
    "model = Sequential()"
   ]
  },
  {
   "cell_type": "markdown",
   "metadata": {},
   "source": [
    "6. Perform the *convolution* operation:"
   ]
  },
  {
   "cell_type": "code",
   "execution_count": 20,
   "metadata": {},
   "outputs": [],
   "source": [
    "model.add(Conv2D(10, (3,3), input_shape=(28,28,1), activation='relu'))"
   ]
  },
  {
   "cell_type": "markdown",
   "metadata": {},
   "source": [
    "In the preceding step, we perform a `2D` convolution on input data where we have `10` filters of size `3 x 3`. Additionally, given that this is the first layer, we specify the input shape. Finally, we perform `ReLU` activation on top of the output of the convolution.\n",
    "\n",
    "The output of the convolution operation in this scenario is `26 x 26 x 10` in shape, as the matrix multiplication of weights with input would yield a `26 x 26` matrix."
   ]
  },
  {
   "cell_type": "markdown",
   "metadata": {},
   "source": [
    "7. Add a layer that performs a *max pooling* operation:"
   ]
  },
  {
   "cell_type": "code",
   "execution_count": 21,
   "metadata": {},
   "outputs": [],
   "source": [
    "model.add(MaxPooling2D(pool_size=(2,2)))"
   ]
  },
  {
   "cell_type": "markdown",
   "metadata": {},
   "source": [
    "In the preceding step, we perform *max pooling* on top of the output obtained from the previous layer, where the pool size is `2 x 2`. This means that the maximum value in a subset of size `2 x 2` from the image is calculated. "
   ]
  },
  {
   "cell_type": "markdown",
   "metadata": {},
   "source": [
    "8. Flatten the output from the pooling layer: "
   ]
  },
  {
   "cell_type": "code",
   "execution_count": 22,
   "metadata": {},
   "outputs": [],
   "source": [
    "model.add(Flatten())"
   ]
  },
  {
   "cell_type": "markdown",
   "metadata": {},
   "source": [
    "9. Feed the last output 1D vector into a stack of Dense layers. Here, we firstly connect the output of the flatten layer to a hidden layer that has `1000` units. Finally, the hidden layer is connected to an output that has `10` values (as there are 10 columns in the vectors created by the `to_categorical` method):"
   ]
  },
  {
   "cell_type": "code",
   "execution_count": 23,
   "metadata": {},
   "outputs": [],
   "source": [
    "model.add(Dense(1000, activation='relu'))\n",
    "model.add(Dense(num_classes, activation='softmax'))"
   ]
  },
  {
   "cell_type": "markdown",
   "metadata": {},
   "source": [
    "10. The preceding model architecture can be visualized as follows:"
   ]
  },
  {
   "cell_type": "code",
   "execution_count": 24,
   "metadata": {
    "scrolled": false
   },
   "outputs": [
    {
     "name": "stdout",
     "output_type": "stream",
     "text": [
      "Model: \"sequential_1\"\n",
      "_________________________________________________________________\n",
      "Layer (type)                 Output Shape              Param #   \n",
      "=================================================================\n",
      "conv2d_1 (Conv2D)            (None, 26, 26, 10)        100       \n",
      "_________________________________________________________________\n",
      "max_pooling2d (MaxPooling2D) (None, 13, 13, 10)        0         \n",
      "_________________________________________________________________\n",
      "flatten (Flatten)            (None, 1690)              0         \n",
      "_________________________________________________________________\n",
      "dense (Dense)                (None, 1000)              1691000   \n",
      "_________________________________________________________________\n",
      "dense_1 (Dense)              (None, 10)                10010     \n",
      "=================================================================\n",
      "Total params: 1,701,110\n",
      "Trainable params: 1,701,110\n",
      "Non-trainable params: 0\n",
      "_________________________________________________________________\n"
     ]
    }
   ],
   "source": [
    "model.summary()"
   ]
  },
  {
   "cell_type": "markdown",
   "metadata": {},
   "source": [
    "Note that there are `100` parameters in the *convolution layer* as each of the `10` filters of size `3 x 3` would have `9` weights and `1` bias term. \n",
    "\n",
    "As we see, the number of parameters in the *first dense layer* is `1691000`, as the `1690` input units are connected to `1000` hidden units, resulting in `1690*1000` weight values and `1000` bias values.\n",
    "\n",
    "Similarly, the *output layer* has `10` outputs, which are connected to each of the `1000` hidden units, resulting in `1000*10` weight values and `10` biases (a total of `10010` parameters)."
   ]
  },
  {
   "cell_type": "markdown",
   "metadata": {},
   "source": [
    "11. Compile the model:"
   ]
  },
  {
   "cell_type": "code",
   "execution_count": 25,
   "metadata": {},
   "outputs": [],
   "source": [
    "model.compile(loss='categorical_crossentropy', optimizer='adam', metrics=['accuracy'])"
   ]
  },
  {
   "cell_type": "markdown",
   "metadata": {},
   "source": [
    "12. Fit the model:"
   ]
  },
  {
   "cell_type": "code",
   "execution_count": 26,
   "metadata": {
    "colab": {
     "base_uri": "https://localhost:8080/",
     "height": 714
    },
    "colab_type": "code",
    "id": "_CPX8FNrC2Qq",
    "outputId": "8a9200e7-1ed6-4f51-ea25-65dcfd0657f1",
    "scrolled": true
   },
   "outputs": [
    {
     "name": "stdout",
     "output_type": "stream",
     "text": [
      "Epoch 1/20\n",
      "59/59 [==============================] - 10s 151ms/step - loss: 0.9138 - accuracy: 0.7857 - val_loss: 0.1809 - val_accuracy: 0.9461\n",
      "Epoch 2/20\n",
      "59/59 [==============================] - 8s 144ms/step - loss: 0.1553 - accuracy: 0.9548 - val_loss: 0.1060 - val_accuracy: 0.9687\n",
      "Epoch 3/20\n",
      "59/59 [==============================] - 9s 145ms/step - loss: 0.0977 - accuracy: 0.9725 - val_loss: 0.0740 - val_accuracy: 0.9783\n",
      "Epoch 4/20\n",
      "59/59 [==============================] - 8s 144ms/step - loss: 0.0685 - accuracy: 0.9805 - val_loss: 0.0673 - val_accuracy: 0.9794\n",
      "Epoch 5/20\n",
      "59/59 [==============================] - 8s 143ms/step - loss: 0.0596 - accuracy: 0.9827 - val_loss: 0.0580 - val_accuracy: 0.9808\n",
      "Epoch 6/20\n",
      "59/59 [==============================] - 8s 135ms/step - loss: 0.0468 - accuracy: 0.9867 - val_loss: 0.0516 - val_accuracy: 0.9835\n",
      "Epoch 7/20\n",
      "59/59 [==============================] - 8s 144ms/step - loss: 0.0393 - accuracy: 0.9887 - val_loss: 0.0527 - val_accuracy: 0.9831\n",
      "Epoch 8/20\n",
      "59/59 [==============================] - 8s 138ms/step - loss: 0.0349 - accuracy: 0.9902 - val_loss: 0.0501 - val_accuracy: 0.9832\n",
      "Epoch 9/20\n",
      "59/59 [==============================] - 8s 138ms/step - loss: 0.0302 - accuracy: 0.9914 - val_loss: 0.0457 - val_accuracy: 0.9848\n",
      "Epoch 10/20\n",
      "59/59 [==============================] - 8s 142ms/step - loss: 0.0229 - accuracy: 0.9945 - val_loss: 0.0428 - val_accuracy: 0.9869\n",
      "Epoch 11/20\n",
      "59/59 [==============================] - 8s 138ms/step - loss: 0.0201 - accuracy: 0.9946 - val_loss: 0.0436 - val_accuracy: 0.9865\n",
      "Epoch 12/20\n",
      "59/59 [==============================] - 9s 145ms/step - loss: 0.0175 - accuracy: 0.9959 - val_loss: 0.0416 - val_accuracy: 0.9864\n",
      "Epoch 13/20\n",
      "59/59 [==============================] - 8s 142ms/step - loss: 0.0161 - accuracy: 0.9959 - val_loss: 0.0474 - val_accuracy: 0.9847\n",
      "Epoch 14/20\n",
      "59/59 [==============================] - 8s 141ms/step - loss: 0.0146 - accuracy: 0.9962 - val_loss: 0.0405 - val_accuracy: 0.9867\n",
      "Epoch 15/20\n",
      "59/59 [==============================] - 8s 142ms/step - loss: 0.0102 - accuracy: 0.9979 - val_loss: 0.0419 - val_accuracy: 0.9878\n",
      "Epoch 16/20\n",
      "59/59 [==============================] - 8s 141ms/step - loss: 0.0097 - accuracy: 0.9982 - val_loss: 0.0415 - val_accuracy: 0.9873\n",
      "Epoch 17/20\n",
      "59/59 [==============================] - 8s 138ms/step - loss: 0.0085 - accuracy: 0.9982 - val_loss: 0.0416 - val_accuracy: 0.9877\n",
      "Epoch 18/20\n",
      "59/59 [==============================] - 8s 144ms/step - loss: 0.0069 - accuracy: 0.9991 - val_loss: 0.0416 - val_accuracy: 0.9869\n",
      "Epoch 19/20\n",
      "59/59 [==============================] - 8s 139ms/step - loss: 0.0051 - accuracy: 0.9995 - val_loss: 0.0467 - val_accuracy: 0.9860\n",
      "Epoch 20/20\n",
      "59/59 [==============================] - 8s 139ms/step - loss: 0.0046 - accuracy: 0.9995 - val_loss: 0.0448 - val_accuracy: 0.9875\n"
     ]
    }
   ],
   "source": [
    "history = model.fit(X_train, y_train, validation_data=(X_test, y_test), epochs=20, batch_size=1024, verbose=1)"
   ]
  },
  {
   "cell_type": "markdown",
   "metadata": {},
   "source": [
    "13. Extract loss and accuracy metrics for both training and test datasets over different epochs:"
   ]
  },
  {
   "cell_type": "code",
   "execution_count": 28,
   "metadata": {
    "colab": {},
    "colab_type": "code",
    "id": "WgWFTNnkOTeF"
   },
   "outputs": [],
   "source": [
    "history_dict = history.history\n",
    "loss_values = history_dict['loss']\n",
    "val_loss_values = history_dict['val_loss']\n",
    "acc_values = history_dict['accuracy']\n",
    "val_acc_values = history_dict['val_accuracy']\n",
    "epochs = range(1, len(val_loss_values) + 1)"
   ]
  },
  {
   "cell_type": "markdown",
   "metadata": {},
   "source": [
    "And now visualize!"
   ]
  },
  {
   "cell_type": "code",
   "execution_count": 34,
   "metadata": {
    "colab": {
     "base_uri": "https://localhost:8080/",
     "height": 388
    },
    "colab_type": "code",
    "id": "JeNQDfCnOMo_",
    "outputId": "03337eed-8686-457b-b9ca-2fcf3b5f1ef8"
   },
   "outputs": [
    {
     "data": {
      "image/png": "[encoded data removed]",
      "text/plain": [
       "<Figure size 432x288 with 1 Axes>"
      ]
     },
     "metadata": {
      "needs_background": "light"
     },
     "output_type": "display_data"
    },
    {
     "data": {
      "image/png": "[encoded data removed]",
      "text/plain": [
       "<Figure size 432x288 with 1 Axes>"
      ]
     },
     "metadata": {
      "needs_background": "light"
     },
     "output_type": "display_data"
    }
   ],
   "source": [
    "import matplotlib.pyplot as plt\n",
    "%matplotlib inline\n",
    "plt.subplot(211)\n",
    "plt.plot(epochs, loss_values, 'bo', label='Training loss')\n",
    "plt.plot(epochs, val_loss_values, 'r', label='Test loss')\n",
    "plt.title('Training and test loss')\n",
    "plt.xlabel('Epochs')\n",
    "plt.ylabel('Loss')\n",
    "plt.legend()\n",
    "plt.grid('off')\n",
    "plt.show()\n",
    "plt.subplot(212)\n",
    "plt.plot(epochs, acc_values, 'bo', label='Training accuracy')\n",
    "plt.plot(epochs, val_acc_values, 'r', label='Test accuracy')\n",
    "plt.title('Training and test accuracy')\n",
    "plt.xlabel('Epochs')\n",
    "plt.ylabel('Accuracy')\n",
    "plt.gca().set_yticks(plt.gca().get_yticks())\n",
    "plt.gca().set_yticklabels(['{:.0f}%'.format(x*100) for x in plt.gca().get_yticks()]) \n",
    "plt.legend()\n",
    "plt.grid('off')\n",
    "plt.show()"
   ]
  },
  {
   "cell_type": "markdown",
   "metadata": {},
   "source": [
    "14. Fetch the training set corresponding to label `1` only:"
   ]
  },
  {
   "cell_type": "code",
   "execution_count": 43,
   "metadata": {},
   "outputs": [
    {
     "data": {
      "text/plain": [
       "(6742, 28, 28, 1)"
      ]
     },
     "execution_count": 43,
     "metadata": {},
     "output_type": "execute_result"
    }
   ],
   "source": [
    "X_train1 = X_train[y_train[:,1]==1]\n",
    "X_train1.shape"
   ]
  },
  {
   "cell_type": "markdown",
   "metadata": {},
   "source": [
    "15. Generate and plot the *average 1 image* from the training set obtained in the previous step. In the following code, we take an average pixel value at each pixel location of images that have a label of 1:"
   ]
  },
  {
   "cell_type": "code",
   "execution_count": 44,
   "metadata": {
    "colab": {
     "base_uri": "https://localhost:8080/",
     "height": 282
    },
    "colab_type": "code",
    "id": "Zr4afnIkSIre",
    "outputId": "b44990bd-0afa-4b30-ed4a-4d0a5bda8a85"
   },
   "outputs": [
    {
     "data": {
      "image/png": "[encoded data removed]",
      "text/plain": [
       "<Figure size 432x288 with 1 Axes>"
      ]
     },
     "metadata": {
      "needs_background": "light"
     },
     "output_type": "display_data"
    }
   ],
   "source": [
    "pic=np.zeros((28,28))\n",
    "for i in range(X_train1.shape[0]):\n",
    "    pic=pic+X_train1[i,:,:,0]\n",
    "pic=(pic/X_train1.shape[0])\n",
    "plt.imshow(pic);"
   ]
  },
  {
   "cell_type": "markdown",
   "metadata": {},
   "source": [
    "16. Predict the label of the image using the built model. Firstly, we use the `predict` method to calculate the expected output:"
   ]
  },
  {
   "cell_type": "code",
   "execution_count": 47,
   "metadata": {},
   "outputs": [],
   "source": [
    "X_avg = pic.reshape(1,28,28,1)"
   ]
  },
  {
   "cell_type": "code",
   "execution_count": 48,
   "metadata": {},
   "outputs": [
    {
     "name": "stdout",
     "output_type": "stream",
     "text": [
      "(1, 10)\n",
      "[[5.4165794e-06 9.9984467e-01 8.1296253e-05 7.2950629e-06 4.7674216e-06\n",
      "  1.4513024e-06 6.2501050e-07 3.0022726e-05 2.1796905e-05 2.6748678e-06]]\n"
     ]
    }
   ],
   "source": [
    "pred = model.predict(X_avg)\n",
    "print(np.shape(pred))\n",
    "print(pred)"
   ]
  },
  {
   "cell_type": "markdown",
   "metadata": {},
   "source": [
    "Lastly, we obtain the index that has the highest probability value:"
   ]
  },
  {
   "cell_type": "code",
   "execution_count": 49,
   "metadata": {},
   "outputs": [
    {
     "name": "stdout",
     "output_type": "stream",
     "text": [
      "1\n",
      "0.9998447\n"
     ]
    }
   ],
   "source": [
    "val = np.argmax(pred)\n",
    "print(val)\n",
    "print(pred[0,val])"
   ]
  },
  {
   "cell_type": "markdown",
   "metadata": {},
   "source": [
    "### Scenario 1\n",
    "\n",
    "Let's create a new image where the original image is translated by 1\n",
    "pixel toward the left. In the following code, we loop through the columns of the image and copy the pixel values of the next column to the current column:"
   ]
  },
  {
   "cell_type": "code",
   "execution_count": 51,
   "metadata": {
    "colab": {
     "base_uri": "https://localhost:8080/",
     "height": 265
    },
    "colab_type": "code",
    "id": "wrIicP5lSQwi",
    "outputId": "20dd8c6f-e7a0-48b1-ff09-cba671588676"
   },
   "outputs": [
    {
     "data": {
      "image/png": "[encoded data removed]",
      "text/plain": [
       "<Figure size 432x288 with 1 Axes>"
      ]
     },
     "metadata": {
      "needs_background": "light"
     },
     "output_type": "display_data"
    }
   ],
   "source": [
    "pic1=np.zeros((28,28))\n",
    "for i in range(pic.shape[0]-1):\n",
    "    pic1[:,i]=pic[:,i+1]\n",
    "plt.imshow(pic1);"
   ]
  },
  {
   "cell_type": "markdown",
   "metadata": {},
   "source": [
    "Predict the label of the new image using the built CNN model:"
   ]
  },
  {
   "cell_type": "code",
   "execution_count": 52,
   "metadata": {},
   "outputs": [
    {
     "name": "stdout",
     "output_type": "stream",
     "text": [
      "1\n",
      "0.9969693\n"
     ]
    }
   ],
   "source": [
    "X_avg1 = pic1.reshape(1,28,28,1)\n",
    "pred1 = model.predict(X_avg1)\n",
    "val1 = np.argmax(pred1)\n",
    "print(val1)\n",
    "print(pred1[0,val1])"
   ]
  },
  {
   "cell_type": "markdown",
   "metadata": {},
   "source": [
    "We obtain a prediction of 1, with a **close probability** value as compared to the case without translation. Remember that the prediction was obtained with a *lower probability* value in this scenario when using our traditional NN model (value of 0.6800499)!!!"
   ]
  },
  {
   "cell_type": "markdown",
   "metadata": {},
   "source": [
    "### Scenario 2\n",
    "\n",
    "A new image is created in which the pixels of the original image are shifted by 2 pixels to the right:"
   ]
  },
  {
   "cell_type": "code",
   "execution_count": 53,
   "metadata": {
    "colab": {
     "base_uri": "https://localhost:8080/",
     "height": 265
    },
    "colab_type": "code",
    "id": "wrIicP5lSQwi",
    "outputId": "20dd8c6f-e7a0-48b1-ff09-cba671588676"
   },
   "outputs": [
    {
     "data": {
      "image/png": "[encoded data removed]",
      "text/plain": [
       "<Figure size 432x288 with 1 Axes>"
      ]
     },
     "metadata": {
      "needs_background": "light"
     },
     "output_type": "display_data"
    }
   ],
   "source": [
    "pic2=np.zeros((28,28))\n",
    "for i in np.arange(2,pic.shape[0]):\n",
    "    pic2[:,i]=pic[:,i-2]\n",
    "plt.imshow(pic2);"
   ]
  },
  {
   "cell_type": "markdown",
   "metadata": {},
   "source": [
    "Predict the label of the new image using the built CNN model:"
   ]
  },
  {
   "cell_type": "code",
   "execution_count": 55,
   "metadata": {},
   "outputs": [
    {
     "name": "stdout",
     "output_type": "stream",
     "text": [
      "1\n",
      "0.9957111\n"
     ]
    }
   ],
   "source": [
    "X_avg2 = pic2.reshape(1,28,28,1)\n",
    "pred2 = model.predict(X_avg2)\n",
    "val2 = np.argmax(pred2)\n",
    "print(val2)\n",
    "print(pred2[0,val2])"
   ]
  },
  {
   "cell_type": "markdown",
   "metadata": {},
   "source": [
    "We see that the prediction is **correct** (output of 1). Remember that the prediction was *incorrect* in this scenario when using our traditional NN model (output of 3)!!!"
   ]
  }
 ],
 "metadata": {
  "colab": {
   "collapsed_sections": [],
   "name": "Neural_network_working_details.ipynb",
   "provenance": []
  },
  "kernelspec": {
   "display_name": "Python 3",
   "language": "python",
   "name": "python3"
  },
  "language_info": {
   "codemirror_mode": {
    "name": "ipython",
    "version": 3
   },
   "file_extension": ".py",
   "mimetype": "text/x-python",
   "name": "python",
   "nbconvert_exporter": "python",
   "pygments_lexer": "ipython3",
   "version": "3.8.5"
  }
 },
 "nbformat": 4,
 "nbformat_minor": 1
}
