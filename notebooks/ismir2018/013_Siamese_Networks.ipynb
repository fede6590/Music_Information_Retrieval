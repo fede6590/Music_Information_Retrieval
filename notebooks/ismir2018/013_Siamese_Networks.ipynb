{
 "cells": [
  {
   "cell_type": "markdown",
   "metadata": {},
   "source": [
    "# Finding Similar Songs - Part 2: Siamese Networks\n",
    "\n",
    "In the first part of this tutorial we have introduced the traditional **distance based approach** to similarity estimations. The main idea is that features are extracted from the audio content. These features are numeric descriptions of semantically relevant information. An example for a high-level feature is the *number of beats per minute* which is a description for the tempo of a song. \n",
    "\n",
    "Music **feature-sets** are more abstract and describe the spectral or rhythmical distribution of energy. These are not single but vectors of numbers. Thus, a song is semantically described by this vector and if the set of extracted features spans over various music characteristics such as *rhythm*, *timbre*, *harmonics*, *complexity*, etc. then calculating the similarity of the vector's numbers is considered to be an approximation of **music similarity**. Thus, the lower the numerical distance between two vectors, the higher their acoustic similarity. They mainly depend on the selected sets of features and on the similarity metric chosen to compare their values.\n",
    "\n",
    "In the second part of this tutorial we are now focussing on an approach, where the feature representation as well as the similarity function is learned from the underlying dataset."
   ]
  },
  {
   "cell_type": "markdown",
   "metadata": {},
   "source": [
    "## Requirements"
   ]
  },
  {
   "cell_type": "code",
   "execution_count": 52,
   "metadata": {
    "ExecuteTime": {
     "end_time": "2017-08-24T10:20:32.488000Z",
     "start_time": "2017-08-24T10:20:32.483000Z"
    },
    "scrolled": true
   },
   "outputs": [
    {
     "name": "stderr",
     "output_type": "stream",
     "text": [
      "<ipython-input-52-2fdcfc6526d2>:17: FutureWarning: Passing a negative integer is deprecated in version 1.0 and will not be supported in future version. Instead, use None to not limit the column width.\n",
      "  pd.set_option('display.max_colwidth', -1)\n"
     ]
    }
   ],
   "source": [
    "# visualization\n",
    "%matplotlib inline\n",
    "import matplotlib\n",
    "import matplotlib.pyplot as plt\n",
    "matplotlib.style.use('ggplot')\n",
    "import seaborn as sns\n",
    "\n",
    "# numeric and scientific processing\n",
    "import numpy as np\n",
    "import pandas as pd\n",
    "\n",
    "# misc\n",
    "import os\n",
    "import progressbar\n",
    "\n",
    "from IPython.display import HTML, display\n",
    "pd.set_option('display.max_colwidth', -1)\n",
    "\n",
    "# Deep Learning\n",
    "from keras.models       import Model\n",
    "from keras.layers       import Input, Lambda, Dense, Conv2D, Flatten, MaxPooling2D, Concatenate\n",
    "from keras.layers       import Dropout, BatchNormalization, GaussianNoise\n",
    "from keras.optimizers   import Nadam, SGD, Adam, RMSprop\n",
    "from keras.constraints  import unit_norm\n",
    "from keras.regularizers import l2\n",
    "from keras import backend as K\n",
    "import tensorflow as tf\n",
    "\n",
    "# Machine Learning preprocessing \n",
    "from sklearn import preprocessing"
   ]
  },
  {
   "cell_type": "markdown",
   "metadata": {},
   "source": [
    "## Loading Data"
   ]
  },
  {
   "cell_type": "markdown",
   "metadata": {},
   "source": [
    "Download and extract the dataset on `SPECTROGRAM_PATH`. "
   ]
  },
  {
   "cell_type": "code",
   "execution_count": 53,
   "metadata": {},
   "outputs": [],
   "source": [
    "SPECTROGRAM_PATH = '../../../Machine-Learning/ismir2018/ISMIR2018_tut_melspecs_subset'\n",
    "METADATA_PATH = '../../../Machine-Learning/ismir2018/metadata'\n",
    "AUDIO_PATH = '../../../Machine-Learning/ismir2018/magnatagatune_audiofiles_subset'\n",
    "\n",
    "# here, %s will be replaced by 'genres'\n",
    "SPECTROGRAM_FILE_PATTERN = os.path.join(SPECTROGRAM_PATH,'ISMIR2018_tut_melspecs_part_1_%s_subset.npz')\n",
    "LABEL_FILE_PATTERN = os.path.join(METADATA_PATH,'ismir2018_tut_part_1_%s_labels_subset.csv') \n",
    "\n",
    "METADATA_FILE = os.path.join(METADATA_PATH,'ismir2018_tut_part_1_genres_metadata_subset.csv')"
   ]
  },
  {
   "cell_type": "markdown",
   "metadata": {},
   "source": [
    "### Load Feature Data"
   ]
  },
  {
   "cell_type": "markdown",
   "metadata": {},
   "source": [
    "We already have pre-processed the audio files and extracted Mel spectrograms. We load these from a Numpy .npz file, which contains the spectrograms and also the associated clip ids:"
   ]
  },
  {
   "cell_type": "code",
   "execution_count": 54,
   "metadata": {},
   "outputs": [
    {
     "data": {
      "text/plain": [
       "(1998, 80, 80)"
      ]
     },
     "execution_count": 54,
     "metadata": {},
     "output_type": "execute_result"
    }
   ],
   "source": [
    "task = 'genres'\n",
    "SPECTROGRAM_FILE = SPECTROGRAM_FILE_PATTERN % task\n",
    "\n",
    "npz = np.load(SPECTROGRAM_FILE)\n",
    "melspecs = npz['features']\n",
    "clip_id = npz['clip_id']\n",
    "\n",
    "# check how many spectrograms we have and their dimensions\n",
    "melspecs.shape"
   ]
  },
  {
   "cell_type": "code",
   "execution_count": 55,
   "metadata": {},
   "outputs": [
    {
     "data": {
      "text/plain": [
       "1998"
      ]
     },
     "execution_count": 55,
     "metadata": {},
     "output_type": "execute_result"
    }
   ],
   "source": [
    "# check whether we have the same number of clip ids\n",
    "len(clip_id)"
   ]
  },
  {
   "cell_type": "code",
   "execution_count": 56,
   "metadata": {},
   "outputs": [
    {
     "data": {
      "text/html": [
       "<div>\n",
       "<style scoped>\n",
       "    .dataframe tbody tr th:only-of-type {\n",
       "        vertical-align: middle;\n",
       "    }\n",
       "\n",
       "    .dataframe tbody tr th {\n",
       "        vertical-align: top;\n",
       "    }\n",
       "\n",
       "    .dataframe thead th {\n",
       "        text-align: right;\n",
       "    }\n",
       "</style>\n",
       "<table border=\"1\" class=\"dataframe\">\n",
       "  <thead>\n",
       "    <tr style=\"text-align: right;\">\n",
       "      <th></th>\n",
       "      <th>featurespace_id</th>\n",
       "      <th>clip_id</th>\n",
       "    </tr>\n",
       "  </thead>\n",
       "  <tbody>\n",
       "    <tr>\n",
       "      <th>0</th>\n",
       "      <td>0</td>\n",
       "      <td>41797</td>\n",
       "    </tr>\n",
       "    <tr>\n",
       "      <th>1</th>\n",
       "      <td>1</td>\n",
       "      <td>38338</td>\n",
       "    </tr>\n",
       "    <tr>\n",
       "      <th>2</th>\n",
       "      <td>2</td>\n",
       "      <td>34335</td>\n",
       "    </tr>\n",
       "    <tr>\n",
       "      <th>3</th>\n",
       "      <td>3</td>\n",
       "      <td>25542</td>\n",
       "    </tr>\n",
       "    <tr>\n",
       "      <th>4</th>\n",
       "      <td>4</td>\n",
       "      <td>38344</td>\n",
       "    </tr>\n",
       "    <tr>\n",
       "      <th>...</th>\n",
       "      <td>...</td>\n",
       "      <td>...</td>\n",
       "    </tr>\n",
       "    <tr>\n",
       "      <th>1993</th>\n",
       "      <td>1993</td>\n",
       "      <td>29845</td>\n",
       "    </tr>\n",
       "    <tr>\n",
       "      <th>1994</th>\n",
       "      <td>1994</td>\n",
       "      <td>20711</td>\n",
       "    </tr>\n",
       "    <tr>\n",
       "      <th>1995</th>\n",
       "      <td>1995</td>\n",
       "      <td>5644</td>\n",
       "    </tr>\n",
       "    <tr>\n",
       "      <th>1996</th>\n",
       "      <td>1996</td>\n",
       "      <td>34175</td>\n",
       "    </tr>\n",
       "    <tr>\n",
       "      <th>1997</th>\n",
       "      <td>1997</td>\n",
       "      <td>41667</td>\n",
       "    </tr>\n",
       "  </tbody>\n",
       "</table>\n",
       "<p>1998 rows × 2 columns</p>\n",
       "</div>"
      ],
      "text/plain": [
       "      featurespace_id  clip_id\n",
       "0     0                41797  \n",
       "1     1                38338  \n",
       "2     2                34335  \n",
       "3     3                25542  \n",
       "4     4                38344  \n",
       "...  ..                  ...  \n",
       "1993  1993             29845  \n",
       "1994  1994             20711  \n",
       "1995  1995             5644   \n",
       "1996  1996             34175  \n",
       "1997  1997             41667  \n",
       "\n",
       "[1998 rows x 2 columns]"
      ]
     },
     "execution_count": 56,
     "metadata": {},
     "output_type": "execute_result"
    }
   ],
   "source": [
    "# create a dataframe that associates the index order of the spectrograms with the clip ids\n",
    "feature_metadata = pd.DataFrame({'featurespace_id':np.arange(melspecs.shape[0]),\n",
    "                                 'clip_id'        :clip_id})\n",
    "\n",
    "# dataframe\n",
    "feature_metadata"
   ]
  },
  {
   "cell_type": "markdown",
   "metadata": {},
   "source": [
    "Show a Mel Spectrogram ... just for illustration!!!"
   ]
  },
  {
   "cell_type": "code",
   "execution_count": 57,
   "metadata": {
    "scrolled": true
   },
   "outputs": [
    {
     "data": {
      "image/png": "[encoded data removed]",
      "text/plain": [
       "<Figure size 432x288 with 1 Axes>"
      ]
     },
     "metadata": {},
     "output_type": "display_data"
    }
   ],
   "source": [
    "i = 10\n",
    "spec = melspecs[i]\n",
    "\n",
    "fig = plt.imshow(spec, origin='lower', aspect='auto')\n",
    "fig.set_cmap('jet')\n",
    "fig.axes.get_xaxis().set_visible(False)\n",
    "fig.axes.get_yaxis().set_visible(False)"
   ]
  },
  {
   "cell_type": "markdown",
   "metadata": {},
   "source": [
    "### Standardization\n",
    "\n",
    "<b>Always standardize</b> the data before feeding it into the Neural Network! (unless we use BatchNormalization in our Neural Network).\n",
    "\n",
    "Standardization refers to shifting the distribution of each attribute to have a mean of zero and a standard deviation of one (unit variance).\n",
    "\n",
    "We use the [StandardScaler](https://scikit-learn.org/stable/modules/generated/sklearn.preprocessing.StandardScaler.html) from the *scikit-learn* package for our purpose.\n",
    "As it works typically on vector data, we have to vectorize (i.e. reshape) our matrices first, and then reshape again to the original shape. We created a convenience function for that:"
   ]
  },
  {
   "cell_type": "code",
   "execution_count": 58,
   "metadata": {},
   "outputs": [],
   "source": [
    "def standardize(data):\n",
    "    # vectorize before standardization \n",
    "    N, ydim, xdim = data.shape\n",
    "    data = data.reshape(N, xdim*ydim)\n",
    "\n",
    "    # standardize features by removing the mean and scaling to unit variance\n",
    "    scaler = preprocessing.StandardScaler()\n",
    "    data = scaler.fit_transform(data)\n",
    "\n",
    "    # reshape to original shape\n",
    "    return data.reshape(N, ydim, xdim)"
   ]
  },
  {
   "cell_type": "code",
   "execution_count": 59,
   "metadata": {},
   "outputs": [
    {
     "data": {
      "text/plain": [
       "(1998, 80, 80)"
      ]
     },
     "execution_count": 59,
     "metadata": {},
     "output_type": "execute_result"
    }
   ],
   "source": [
    "melspecs = standardize(melspecs)\n",
    "\n",
    "# verify that the shape is again the same as before\n",
    "melspecs.shape "
   ]
  },
  {
   "cell_type": "markdown",
   "metadata": {},
   "source": [
    "Add the layer-dimension to the feature-space (required by the convolutional neural networks). Only one layer added => **mono-channel audio**:"
   ]
  },
  {
   "cell_type": "code",
   "execution_count": 60,
   "metadata": {},
   "outputs": [
    {
     "data": {
      "text/plain": [
       "(1998, 80, 80, 1)"
      ]
     },
     "execution_count": 60,
     "metadata": {},
     "output_type": "execute_result"
    }
   ],
   "source": [
    "melspecs = np.expand_dims(melspecs, 3)\n",
    "melspecs.shape "
   ]
  },
  {
   "cell_type": "markdown",
   "metadata": {},
   "source": [
    "### Load Metadata"
   ]
  },
  {
   "cell_type": "code",
   "execution_count": 61,
   "metadata": {},
   "outputs": [
    {
     "data": {
      "text/plain": [
       "(1998, 10)"
      ]
     },
     "execution_count": 61,
     "metadata": {},
     "output_type": "execute_result"
    }
   ],
   "source": [
    "metadata = pd.read_csv(METADATA_FILE, index_col=0)\n",
    "metadata.shape"
   ]
  },
  {
   "cell_type": "code",
   "execution_count": 62,
   "metadata": {
    "scrolled": true
   },
   "outputs": [
    {
     "data": {
      "text/html": [
       "<div>\n",
       "<style scoped>\n",
       "    .dataframe tbody tr th:only-of-type {\n",
       "        vertical-align: middle;\n",
       "    }\n",
       "\n",
       "    .dataframe tbody tr th {\n",
       "        vertical-align: top;\n",
       "    }\n",
       "\n",
       "    .dataframe thead th {\n",
       "        text-align: right;\n",
       "    }\n",
       "</style>\n",
       "<table border=\"1\" class=\"dataframe\">\n",
       "  <thead>\n",
       "    <tr style=\"text-align: right;\">\n",
       "      <th></th>\n",
       "      <th>clip_id</th>\n",
       "      <th>mp3_path</th>\n",
       "      <th>track_number</th>\n",
       "      <th>title</th>\n",
       "      <th>artist</th>\n",
       "      <th>album</th>\n",
       "      <th>url</th>\n",
       "      <th>segmentStart</th>\n",
       "      <th>segmentEnd</th>\n",
       "      <th>original_url</th>\n",
       "    </tr>\n",
       "  </thead>\n",
       "  <tbody>\n",
       "    <tr>\n",
       "      <th>19072</th>\n",
       "      <td>41797</td>\n",
       "      <td>D:/Research/Data/MIR/MagnaTagATune/mp3_full/f/jackalopes-jacksploitation-10-i_wanna_beer_sandwich-59-88.mp3</td>\n",
       "      <td>10</td>\n",
       "      <td>(I wanna) beer sandwich</td>\n",
       "      <td>Jackalopes</td>\n",
       "      <td>Jacksploitation</td>\n",
       "      <td>http://www.magnatune.com/artists/albums/jackalopes-jacksploit/</td>\n",
       "      <td>59</td>\n",
       "      <td>88</td>\n",
       "      <td>http://he3.magnatune.com/all/10-(I%20wanna)%20beer%20sandwich-Jackalopes.mp3</td>\n",
       "    </tr>\n",
       "    <tr>\n",
       "      <th>17487</th>\n",
       "      <td>38338</td>\n",
       "      <td>D:/Research/Data/MIR/MagnaTagATune/mp3_full/6/ralph_meulenbroeks-gambomania-09-a_question_tobias_hume-59-88.mp3</td>\n",
       "      <td>9</td>\n",
       "      <td>-A Question (Tobias Hume)-</td>\n",
       "      <td>Ralph Meulenbroeks</td>\n",
       "      <td>Gambomania</td>\n",
       "      <td>http://www.magnatune.com/artists/albums/meulenbroeks-gambomania/</td>\n",
       "      <td>59</td>\n",
       "      <td>88</td>\n",
       "      <td>http://he3.magnatune.com/all/09--A%20Question%20(Tobias%20Hume)--Ralph%20Meulenbroeks.mp3</td>\n",
       "    </tr>\n",
       "    <tr>\n",
       "      <th>15668</th>\n",
       "      <td>34335</td>\n",
       "      <td>D:/Research/Data/MIR/MagnaTagATune/mp3_full/0/rocket_city_riot-last_of_the_pleasure_seekers-08-all_i_got-30-59.mp3</td>\n",
       "      <td>8</td>\n",
       "      <td>-All I Got-</td>\n",
       "      <td>Rocket City Riot</td>\n",
       "      <td>Last Of The Pleasure Seekers</td>\n",
       "      <td>http://www.magnatune.com/artists/albums/rocketcity-pleasure/</td>\n",
       "      <td>30</td>\n",
       "      <td>59</td>\n",
       "      <td>http://he3.magnatune.com/all/08--All%20I%20Got--Rocket%20City%20Riot.mp3</td>\n",
       "    </tr>\n",
       "    <tr>\n",
       "      <th>11610</th>\n",
       "      <td>25542</td>\n",
       "      <td>D:/Research/Data/MIR/MagnaTagATune/mp3_full/9/philharmonia_baroque_orchestra-jake_heggie__to_hell_and_back-06-annes_decision-59-88.mp3</td>\n",
       "      <td>6</td>\n",
       "      <td>-Anne's Decision-</td>\n",
       "      <td>Philharmonia Baroque Orchestra</td>\n",
       "      <td>Jake Heggie - To Hell and Back</td>\n",
       "      <td>http://www.magnatune.com/artists/albums/pb-heggie/</td>\n",
       "      <td>59</td>\n",
       "      <td>88</td>\n",
       "      <td>http://he3.magnatune.com/all/06--Anne's%20Decision--Philharmonia%20Baroque%20Orchestra.mp3</td>\n",
       "    </tr>\n",
       "    <tr>\n",
       "      <th>17489</th>\n",
       "      <td>38344</td>\n",
       "      <td>D:/Research/Data/MIR/MagnaTagATune/mp3_full/f/the_headroom_project-jetuton_andawai-09-anu_de_dilaho-88-117.mp3</td>\n",
       "      <td>9</td>\n",
       "      <td>-Anu de Dilaho-</td>\n",
       "      <td>The Headroom Project</td>\n",
       "      <td>Jetuton Andawai</td>\n",
       "      <td>http://www.magnatune.com/artists/albums/headroom-jetuton/</td>\n",
       "      <td>88</td>\n",
       "      <td>117</td>\n",
       "      <td>http://he3.magnatune.com/all/09--Anu%20de%20Dilaho--The%20Headroom%20Project.mp3</td>\n",
       "    </tr>\n",
       "    <tr>\n",
       "      <th>...</th>\n",
       "      <td>...</td>\n",
       "      <td>...</td>\n",
       "      <td>...</td>\n",
       "      <td>...</td>\n",
       "      <td>...</td>\n",
       "      <td>...</td>\n",
       "      <td>...</td>\n",
       "      <td>...</td>\n",
       "      <td>...</td>\n",
       "      <td>...</td>\n",
       "    </tr>\n",
       "    <tr>\n",
       "      <th>13597</th>\n",
       "      <td>29845</td>\n",
       "      <td>D:/Research/Data/MIR/MagnaTagATune/mp3_full/4/music_of_the_spheres-music_of_the_spheres-06-von_biber_passacaglia_for_solo_violins-30-59.mp3</td>\n",
       "      <td>6</td>\n",
       "      <td>von Biber_ Passacaglia for solo violins</td>\n",
       "      <td>Music of the Spheres</td>\n",
       "      <td>Music of the Spheres</td>\n",
       "      <td>http://www.magnatune.com/artists/albums/spheres-spheres/</td>\n",
       "      <td>30</td>\n",
       "      <td>59</td>\n",
       "      <td>http://he3.magnatune.com/all/06-von%20Biber_%20Passacaglia%20for%20solo%20violins-Music%20of%20the%20Spheres.mp3</td>\n",
       "    </tr>\n",
       "    <tr>\n",
       "      <th>9433</th>\n",
       "      <td>20711</td>\n",
       "      <td>D:/Research/Data/MIR/MagnaTagATune/mp3_full/4/music_of_the_spheres-music_of_the_spheres-04-von_biber_sonata_i_in_a_major-30-59.mp3</td>\n",
       "      <td>4</td>\n",
       "      <td>von Biber_ Sonata I in A Major</td>\n",
       "      <td>Music of the Spheres</td>\n",
       "      <td>Music of the Spheres</td>\n",
       "      <td>http://www.magnatune.com/artists/albums/spheres-spheres/</td>\n",
       "      <td>30</td>\n",
       "      <td>59</td>\n",
       "      <td>http://he3.magnatune.com/all/04-von%20Biber_%20Sonata%20I%20in%20A%20Major-Music%20of%20the%20Spheres.mp3</td>\n",
       "    </tr>\n",
       "    <tr>\n",
       "      <th>2579</th>\n",
       "      <td>5644</td>\n",
       "      <td>D:/Research/Data/MIR/MagnaTagATune/mp3_full/6/drop_trio-cezanne-01-wallawalla-117-146.mp3</td>\n",
       "      <td>1</td>\n",
       "      <td>wallawalla</td>\n",
       "      <td>Drop Trio</td>\n",
       "      <td>Cezanne</td>\n",
       "      <td>http://www.magnatune.com/artists/albums/droptrio-cezanne/</td>\n",
       "      <td>117</td>\n",
       "      <td>146</td>\n",
       "      <td>http://he3.magnatune.com/all/01-wallawalla-Drop%20Trio.mp3</td>\n",
       "    </tr>\n",
       "    <tr>\n",
       "      <th>15587</th>\n",
       "      <td>34175</td>\n",
       "      <td>D:/Research/Data/MIR/MagnaTagATune/mp3_full/a/mr_gelatine-electroluv-07-wallguitar-30-59.mp3</td>\n",
       "      <td>7</td>\n",
       "      <td>wallguitar</td>\n",
       "      <td>Mr Gelatine</td>\n",
       "      <td>Electroluv</td>\n",
       "      <td>http://www.magnatune.com/artists/albums/gelatine-electroluv/</td>\n",
       "      <td>30</td>\n",
       "      <td>59</td>\n",
       "      <td>http://he3.magnatune.com/all/07-wallguitar-Mr%20Gelatine.mp3</td>\n",
       "    </tr>\n",
       "    <tr>\n",
       "      <th>19000</th>\n",
       "      <td>41667</td>\n",
       "      <td>D:/Research/Data/MIR/MagnaTagATune/mp3_full/6/drop_trio-cezanne-09-wet_dog-30-59.mp3</td>\n",
       "      <td>9</td>\n",
       "      <td>wet dog</td>\n",
       "      <td>Drop Trio</td>\n",
       "      <td>Cezanne</td>\n",
       "      <td>http://www.magnatune.com/artists/albums/droptrio-cezanne/</td>\n",
       "      <td>30</td>\n",
       "      <td>59</td>\n",
       "      <td>http://he3.magnatune.com/all/09-wet%20dog-Drop%20Trio.mp3</td>\n",
       "    </tr>\n",
       "  </tbody>\n",
       "</table>\n",
       "<p>1998 rows × 10 columns</p>\n",
       "</div>"
      ],
      "text/plain": [
       "       clip_id  \\\n",
       "19072  41797     \n",
       "17487  38338     \n",
       "15668  34335     \n",
       "11610  25542     \n",
       "17489  38344     \n",
       "...      ...     \n",
       "13597  29845     \n",
       "9433   20711     \n",
       "2579   5644      \n",
       "15587  34175     \n",
       "19000  41667     \n",
       "\n",
       "                                                                                                                                          mp3_path  \\\n",
       "19072  D:/Research/Data/MIR/MagnaTagATune/mp3_full/f/jackalopes-jacksploitation-10-i_wanna_beer_sandwich-59-88.mp3                                   \n",
       "17487  D:/Research/Data/MIR/MagnaTagATune/mp3_full/6/ralph_meulenbroeks-gambomania-09-a_question_tobias_hume-59-88.mp3                               \n",
       "15668  D:/Research/Data/MIR/MagnaTagATune/mp3_full/0/rocket_city_riot-last_of_the_pleasure_seekers-08-all_i_got-30-59.mp3                            \n",
       "11610  D:/Research/Data/MIR/MagnaTagATune/mp3_full/9/philharmonia_baroque_orchestra-jake_heggie__to_hell_and_back-06-annes_decision-59-88.mp3        \n",
       "17489  D:/Research/Data/MIR/MagnaTagATune/mp3_full/f/the_headroom_project-jetuton_andawai-09-anu_de_dilaho-88-117.mp3                                \n",
       "...                                                                                                               ...                                \n",
       "13597  D:/Research/Data/MIR/MagnaTagATune/mp3_full/4/music_of_the_spheres-music_of_the_spheres-06-von_biber_passacaglia_for_solo_violins-30-59.mp3   \n",
       "9433   D:/Research/Data/MIR/MagnaTagATune/mp3_full/4/music_of_the_spheres-music_of_the_spheres-04-von_biber_sonata_i_in_a_major-30-59.mp3            \n",
       "2579   D:/Research/Data/MIR/MagnaTagATune/mp3_full/6/drop_trio-cezanne-01-wallawalla-117-146.mp3                                                     \n",
       "15587  D:/Research/Data/MIR/MagnaTagATune/mp3_full/a/mr_gelatine-electroluv-07-wallguitar-30-59.mp3                                                  \n",
       "19000  D:/Research/Data/MIR/MagnaTagATune/mp3_full/6/drop_trio-cezanne-09-wet_dog-30-59.mp3                                                          \n",
       "\n",
       "       track_number                                    title  \\\n",
       "19072  10            (I wanna) beer sandwich                   \n",
       "17487  9             -A Question (Tobias Hume)-                \n",
       "15668  8             -All I Got-                               \n",
       "11610  6             -Anne's Decision-                         \n",
       "17489  9             -Anu de Dilaho-                           \n",
       "...   ..                         ...                           \n",
       "13597  6             von Biber_ Passacaglia for solo violins   \n",
       "9433   4             von Biber_ Sonata I in A Major            \n",
       "2579   1             wallawalla                                \n",
       "15587  7             wallguitar                                \n",
       "19000  9             wet dog                                   \n",
       "\n",
       "                               artist                           album  \\\n",
       "19072  Jackalopes                      Jacksploitation                  \n",
       "17487  Ralph Meulenbroeks              Gambomania                       \n",
       "15668  Rocket City Riot                Last Of The Pleasure Seekers     \n",
       "11610  Philharmonia Baroque Orchestra  Jake Heggie - To Hell and Back   \n",
       "17489  The Headroom Project            Jetuton Andawai                  \n",
       "...                     ...                        ...                  \n",
       "13597  Music of the Spheres            Music of the Spheres             \n",
       "9433   Music of the Spheres            Music of the Spheres             \n",
       "2579   Drop Trio                       Cezanne                          \n",
       "15587  Mr Gelatine                     Electroluv                       \n",
       "19000  Drop Trio                       Cezanne                          \n",
       "\n",
       "                                                                    url  \\\n",
       "19072  http://www.magnatune.com/artists/albums/jackalopes-jacksploit/     \n",
       "17487  http://www.magnatune.com/artists/albums/meulenbroeks-gambomania/   \n",
       "15668  http://www.magnatune.com/artists/albums/rocketcity-pleasure/       \n",
       "11610  http://www.magnatune.com/artists/albums/pb-heggie/                 \n",
       "17489  http://www.magnatune.com/artists/albums/headroom-jetuton/          \n",
       "...                                                          ...          \n",
       "13597  http://www.magnatune.com/artists/albums/spheres-spheres/           \n",
       "9433   http://www.magnatune.com/artists/albums/spheres-spheres/           \n",
       "2579   http://www.magnatune.com/artists/albums/droptrio-cezanne/          \n",
       "15587  http://www.magnatune.com/artists/albums/gelatine-electroluv/       \n",
       "19000  http://www.magnatune.com/artists/albums/droptrio-cezanne/          \n",
       "\n",
       "       segmentStart  segmentEnd  \\\n",
       "19072  59            88           \n",
       "17487  59            88           \n",
       "15668  30            59           \n",
       "11610  59            88           \n",
       "17489  88            117          \n",
       "...    ..            ...          \n",
       "13597  30            59           \n",
       "9433   30            59           \n",
       "2579   117           146          \n",
       "15587  30            59           \n",
       "19000  30            59           \n",
       "\n",
       "                                                                                                           original_url  \n",
       "19072  http://he3.magnatune.com/all/10-(I%20wanna)%20beer%20sandwich-Jackalopes.mp3                                      \n",
       "17487  http://he3.magnatune.com/all/09--A%20Question%20(Tobias%20Hume)--Ralph%20Meulenbroeks.mp3                         \n",
       "15668  http://he3.magnatune.com/all/08--All%20I%20Got--Rocket%20City%20Riot.mp3                                          \n",
       "11610  http://he3.magnatune.com/all/06--Anne's%20Decision--Philharmonia%20Baroque%20Orchestra.mp3                        \n",
       "17489  http://he3.magnatune.com/all/09--Anu%20de%20Dilaho--The%20Headroom%20Project.mp3                                  \n",
       "...                                                                                 ...                                  \n",
       "13597  http://he3.magnatune.com/all/06-von%20Biber_%20Passacaglia%20for%20solo%20violins-Music%20of%20the%20Spheres.mp3  \n",
       "9433   http://he3.magnatune.com/all/04-von%20Biber_%20Sonata%20I%20in%20A%20Major-Music%20of%20the%20Spheres.mp3         \n",
       "2579   http://he3.magnatune.com/all/01-wallawalla-Drop%20Trio.mp3                                                        \n",
       "15587  http://he3.magnatune.com/all/07-wallguitar-Mr%20Gelatine.mp3                                                      \n",
       "19000  http://he3.magnatune.com/all/09-wet%20dog-Drop%20Trio.mp3                                                         \n",
       "\n",
       "[1998 rows x 10 columns]"
      ]
     },
     "execution_count": 62,
     "metadata": {},
     "output_type": "execute_result"
    }
   ],
   "source": [
    "# dataframe\n",
    "metadata"
   ]
  },
  {
   "cell_type": "markdown",
   "metadata": {},
   "source": [
    "#### Change filename of Metadata"
   ]
  },
  {
   "cell_type": "code",
   "execution_count": 63,
   "metadata": {},
   "outputs": [
    {
     "data": {
      "text/html": [
       "<div>\n",
       "<style scoped>\n",
       "    .dataframe tbody tr th:only-of-type {\n",
       "        vertical-align: middle;\n",
       "    }\n",
       "\n",
       "    .dataframe tbody tr th {\n",
       "        vertical-align: top;\n",
       "    }\n",
       "\n",
       "    .dataframe thead th {\n",
       "        text-align: right;\n",
       "    }\n",
       "</style>\n",
       "<table border=\"1\" class=\"dataframe\">\n",
       "  <thead>\n",
       "    <tr style=\"text-align: right;\">\n",
       "      <th></th>\n",
       "      <th>clip_id</th>\n",
       "      <th>mp3_path</th>\n",
       "      <th>track_number</th>\n",
       "      <th>title</th>\n",
       "      <th>artist</th>\n",
       "      <th>album</th>\n",
       "      <th>url</th>\n",
       "      <th>segmentStart</th>\n",
       "      <th>segmentEnd</th>\n",
       "      <th>original_url</th>\n",
       "    </tr>\n",
       "  </thead>\n",
       "  <tbody>\n",
       "    <tr>\n",
       "      <th>19072</th>\n",
       "      <td>41797</td>\n",
       "      <td>../../../Machine-Learning/ismir2018/magnatagatune_audiofiles_subset/mp3_full/f/jackalopes-jacksploitation-10-i_wanna_beer_sandwich-59-88.mp3</td>\n",
       "      <td>10</td>\n",
       "      <td>(I wanna) beer sandwich</td>\n",
       "      <td>Jackalopes</td>\n",
       "      <td>Jacksploitation</td>\n",
       "      <td>http://www.magnatune.com/artists/albums/jackalopes-jacksploit/</td>\n",
       "      <td>59</td>\n",
       "      <td>88</td>\n",
       "      <td>http://he3.magnatune.com/all/10-(I%20wanna)%20beer%20sandwich-Jackalopes.mp3</td>\n",
       "    </tr>\n",
       "    <tr>\n",
       "      <th>17487</th>\n",
       "      <td>38338</td>\n",
       "      <td>../../../Machine-Learning/ismir2018/magnatagatune_audiofiles_subset/mp3_full/6/ralph_meulenbroeks-gambomania-09-a_question_tobias_hume-59-88.mp3</td>\n",
       "      <td>9</td>\n",
       "      <td>-A Question (Tobias Hume)-</td>\n",
       "      <td>Ralph Meulenbroeks</td>\n",
       "      <td>Gambomania</td>\n",
       "      <td>http://www.magnatune.com/artists/albums/meulenbroeks-gambomania/</td>\n",
       "      <td>59</td>\n",
       "      <td>88</td>\n",
       "      <td>http://he3.magnatune.com/all/09--A%20Question%20(Tobias%20Hume)--Ralph%20Meulenbroeks.mp3</td>\n",
       "    </tr>\n",
       "    <tr>\n",
       "      <th>15668</th>\n",
       "      <td>34335</td>\n",
       "      <td>../../../Machine-Learning/ismir2018/magnatagatune_audiofiles_subset/mp3_full/0/rocket_city_riot-last_of_the_pleasure_seekers-08-all_i_got-30-59.mp3</td>\n",
       "      <td>8</td>\n",
       "      <td>-All I Got-</td>\n",
       "      <td>Rocket City Riot</td>\n",
       "      <td>Last Of The Pleasure Seekers</td>\n",
       "      <td>http://www.magnatune.com/artists/albums/rocketcity-pleasure/</td>\n",
       "      <td>30</td>\n",
       "      <td>59</td>\n",
       "      <td>http://he3.magnatune.com/all/08--All%20I%20Got--Rocket%20City%20Riot.mp3</td>\n",
       "    </tr>\n",
       "    <tr>\n",
       "      <th>11610</th>\n",
       "      <td>25542</td>\n",
       "      <td>../../../Machine-Learning/ismir2018/magnatagatune_audiofiles_subset/mp3_full/9/philharmonia_baroque_orchestra-jake_heggie__to_hell_and_back-06-annes_decision-59-88.mp3</td>\n",
       "      <td>6</td>\n",
       "      <td>-Anne's Decision-</td>\n",
       "      <td>Philharmonia Baroque Orchestra</td>\n",
       "      <td>Jake Heggie - To Hell and Back</td>\n",
       "      <td>http://www.magnatune.com/artists/albums/pb-heggie/</td>\n",
       "      <td>59</td>\n",
       "      <td>88</td>\n",
       "      <td>http://he3.magnatune.com/all/06--Anne's%20Decision--Philharmonia%20Baroque%20Orchestra.mp3</td>\n",
       "    </tr>\n",
       "    <tr>\n",
       "      <th>17489</th>\n",
       "      <td>38344</td>\n",
       "      <td>../../../Machine-Learning/ismir2018/magnatagatune_audiofiles_subset/mp3_full/f/the_headroom_project-jetuton_andawai-09-anu_de_dilaho-88-117.mp3</td>\n",
       "      <td>9</td>\n",
       "      <td>-Anu de Dilaho-</td>\n",
       "      <td>The Headroom Project</td>\n",
       "      <td>Jetuton Andawai</td>\n",
       "      <td>http://www.magnatune.com/artists/albums/headroom-jetuton/</td>\n",
       "      <td>88</td>\n",
       "      <td>117</td>\n",
       "      <td>http://he3.magnatune.com/all/09--Anu%20de%20Dilaho--The%20Headroom%20Project.mp3</td>\n",
       "    </tr>\n",
       "    <tr>\n",
       "      <th>...</th>\n",
       "      <td>...</td>\n",
       "      <td>...</td>\n",
       "      <td>...</td>\n",
       "      <td>...</td>\n",
       "      <td>...</td>\n",
       "      <td>...</td>\n",
       "      <td>...</td>\n",
       "      <td>...</td>\n",
       "      <td>...</td>\n",
       "      <td>...</td>\n",
       "    </tr>\n",
       "    <tr>\n",
       "      <th>13597</th>\n",
       "      <td>29845</td>\n",
       "      <td>../../../Machine-Learning/ismir2018/magnatagatune_audiofiles_subset/mp3_full/4/music_of_the_spheres-music_of_the_spheres-06-von_biber_passacaglia_for_solo_violins-30-59.mp3</td>\n",
       "      <td>6</td>\n",
       "      <td>von Biber_ Passacaglia for solo violins</td>\n",
       "      <td>Music of the Spheres</td>\n",
       "      <td>Music of the Spheres</td>\n",
       "      <td>http://www.magnatune.com/artists/albums/spheres-spheres/</td>\n",
       "      <td>30</td>\n",
       "      <td>59</td>\n",
       "      <td>http://he3.magnatune.com/all/06-von%20Biber_%20Passacaglia%20for%20solo%20violins-Music%20of%20the%20Spheres.mp3</td>\n",
       "    </tr>\n",
       "    <tr>\n",
       "      <th>9433</th>\n",
       "      <td>20711</td>\n",
       "      <td>../../../Machine-Learning/ismir2018/magnatagatune_audiofiles_subset/mp3_full/4/music_of_the_spheres-music_of_the_spheres-04-von_biber_sonata_i_in_a_major-30-59.mp3</td>\n",
       "      <td>4</td>\n",
       "      <td>von Biber_ Sonata I in A Major</td>\n",
       "      <td>Music of the Spheres</td>\n",
       "      <td>Music of the Spheres</td>\n",
       "      <td>http://www.magnatune.com/artists/albums/spheres-spheres/</td>\n",
       "      <td>30</td>\n",
       "      <td>59</td>\n",
       "      <td>http://he3.magnatune.com/all/04-von%20Biber_%20Sonata%20I%20in%20A%20Major-Music%20of%20the%20Spheres.mp3</td>\n",
       "    </tr>\n",
       "    <tr>\n",
       "      <th>2579</th>\n",
       "      <td>5644</td>\n",
       "      <td>../../../Machine-Learning/ismir2018/magnatagatune_audiofiles_subset/mp3_full/6/drop_trio-cezanne-01-wallawalla-117-146.mp3</td>\n",
       "      <td>1</td>\n",
       "      <td>wallawalla</td>\n",
       "      <td>Drop Trio</td>\n",
       "      <td>Cezanne</td>\n",
       "      <td>http://www.magnatune.com/artists/albums/droptrio-cezanne/</td>\n",
       "      <td>117</td>\n",
       "      <td>146</td>\n",
       "      <td>http://he3.magnatune.com/all/01-wallawalla-Drop%20Trio.mp3</td>\n",
       "    </tr>\n",
       "    <tr>\n",
       "      <th>15587</th>\n",
       "      <td>34175</td>\n",
       "      <td>../../../Machine-Learning/ismir2018/magnatagatune_audiofiles_subset/mp3_full/a/mr_gelatine-electroluv-07-wallguitar-30-59.mp3</td>\n",
       "      <td>7</td>\n",
       "      <td>wallguitar</td>\n",
       "      <td>Mr Gelatine</td>\n",
       "      <td>Electroluv</td>\n",
       "      <td>http://www.magnatune.com/artists/albums/gelatine-electroluv/</td>\n",
       "      <td>30</td>\n",
       "      <td>59</td>\n",
       "      <td>http://he3.magnatune.com/all/07-wallguitar-Mr%20Gelatine.mp3</td>\n",
       "    </tr>\n",
       "    <tr>\n",
       "      <th>19000</th>\n",
       "      <td>41667</td>\n",
       "      <td>../../../Machine-Learning/ismir2018/magnatagatune_audiofiles_subset/mp3_full/6/drop_trio-cezanne-09-wet_dog-30-59.mp3</td>\n",
       "      <td>9</td>\n",
       "      <td>wet dog</td>\n",
       "      <td>Drop Trio</td>\n",
       "      <td>Cezanne</td>\n",
       "      <td>http://www.magnatune.com/artists/albums/droptrio-cezanne/</td>\n",
       "      <td>30</td>\n",
       "      <td>59</td>\n",
       "      <td>http://he3.magnatune.com/all/09-wet%20dog-Drop%20Trio.mp3</td>\n",
       "    </tr>\n",
       "  </tbody>\n",
       "</table>\n",
       "<p>1998 rows × 10 columns</p>\n",
       "</div>"
      ],
      "text/plain": [
       "       clip_id  \\\n",
       "19072  41797     \n",
       "17487  38338     \n",
       "15668  34335     \n",
       "11610  25542     \n",
       "17489  38344     \n",
       "...      ...     \n",
       "13597  29845     \n",
       "9433   20711     \n",
       "2579   5644      \n",
       "15587  34175     \n",
       "19000  41667     \n",
       "\n",
       "                                                                                                                                                                           mp3_path  \\\n",
       "19072  ../../../Machine-Learning/ismir2018/magnatagatune_audiofiles_subset/mp3_full/f/jackalopes-jacksploitation-10-i_wanna_beer_sandwich-59-88.mp3                                   \n",
       "17487  ../../../Machine-Learning/ismir2018/magnatagatune_audiofiles_subset/mp3_full/6/ralph_meulenbroeks-gambomania-09-a_question_tobias_hume-59-88.mp3                               \n",
       "15668  ../../../Machine-Learning/ismir2018/magnatagatune_audiofiles_subset/mp3_full/0/rocket_city_riot-last_of_the_pleasure_seekers-08-all_i_got-30-59.mp3                            \n",
       "11610  ../../../Machine-Learning/ismir2018/magnatagatune_audiofiles_subset/mp3_full/9/philharmonia_baroque_orchestra-jake_heggie__to_hell_and_back-06-annes_decision-59-88.mp3        \n",
       "17489  ../../../Machine-Learning/ismir2018/magnatagatune_audiofiles_subset/mp3_full/f/the_headroom_project-jetuton_andawai-09-anu_de_dilaho-88-117.mp3                                \n",
       "...                                                                                                                                                ...                                \n",
       "13597  ../../../Machine-Learning/ismir2018/magnatagatune_audiofiles_subset/mp3_full/4/music_of_the_spheres-music_of_the_spheres-06-von_biber_passacaglia_for_solo_violins-30-59.mp3   \n",
       "9433   ../../../Machine-Learning/ismir2018/magnatagatune_audiofiles_subset/mp3_full/4/music_of_the_spheres-music_of_the_spheres-04-von_biber_sonata_i_in_a_major-30-59.mp3            \n",
       "2579   ../../../Machine-Learning/ismir2018/magnatagatune_audiofiles_subset/mp3_full/6/drop_trio-cezanne-01-wallawalla-117-146.mp3                                                     \n",
       "15587  ../../../Machine-Learning/ismir2018/magnatagatune_audiofiles_subset/mp3_full/a/mr_gelatine-electroluv-07-wallguitar-30-59.mp3                                                  \n",
       "19000  ../../../Machine-Learning/ismir2018/magnatagatune_audiofiles_subset/mp3_full/6/drop_trio-cezanne-09-wet_dog-30-59.mp3                                                          \n",
       "\n",
       "       track_number                                    title  \\\n",
       "19072  10            (I wanna) beer sandwich                   \n",
       "17487  9             -A Question (Tobias Hume)-                \n",
       "15668  8             -All I Got-                               \n",
       "11610  6             -Anne's Decision-                         \n",
       "17489  9             -Anu de Dilaho-                           \n",
       "...   ..                         ...                           \n",
       "13597  6             von Biber_ Passacaglia for solo violins   \n",
       "9433   4             von Biber_ Sonata I in A Major            \n",
       "2579   1             wallawalla                                \n",
       "15587  7             wallguitar                                \n",
       "19000  9             wet dog                                   \n",
       "\n",
       "                               artist                           album  \\\n",
       "19072  Jackalopes                      Jacksploitation                  \n",
       "17487  Ralph Meulenbroeks              Gambomania                       \n",
       "15668  Rocket City Riot                Last Of The Pleasure Seekers     \n",
       "11610  Philharmonia Baroque Orchestra  Jake Heggie - To Hell and Back   \n",
       "17489  The Headroom Project            Jetuton Andawai                  \n",
       "...                     ...                        ...                  \n",
       "13597  Music of the Spheres            Music of the Spheres             \n",
       "9433   Music of the Spheres            Music of the Spheres             \n",
       "2579   Drop Trio                       Cezanne                          \n",
       "15587  Mr Gelatine                     Electroluv                       \n",
       "19000  Drop Trio                       Cezanne                          \n",
       "\n",
       "                                                                    url  \\\n",
       "19072  http://www.magnatune.com/artists/albums/jackalopes-jacksploit/     \n",
       "17487  http://www.magnatune.com/artists/albums/meulenbroeks-gambomania/   \n",
       "15668  http://www.magnatune.com/artists/albums/rocketcity-pleasure/       \n",
       "11610  http://www.magnatune.com/artists/albums/pb-heggie/                 \n",
       "17489  http://www.magnatune.com/artists/albums/headroom-jetuton/          \n",
       "...                                                          ...          \n",
       "13597  http://www.magnatune.com/artists/albums/spheres-spheres/           \n",
       "9433   http://www.magnatune.com/artists/albums/spheres-spheres/           \n",
       "2579   http://www.magnatune.com/artists/albums/droptrio-cezanne/          \n",
       "15587  http://www.magnatune.com/artists/albums/gelatine-electroluv/       \n",
       "19000  http://www.magnatune.com/artists/albums/droptrio-cezanne/          \n",
       "\n",
       "       segmentStart  segmentEnd  \\\n",
       "19072  59            88           \n",
       "17487  59            88           \n",
       "15668  30            59           \n",
       "11610  59            88           \n",
       "17489  88            117          \n",
       "...    ..            ...          \n",
       "13597  30            59           \n",
       "9433   30            59           \n",
       "2579   117           146          \n",
       "15587  30            59           \n",
       "19000  30            59           \n",
       "\n",
       "                                                                                                           original_url  \n",
       "19072  http://he3.magnatune.com/all/10-(I%20wanna)%20beer%20sandwich-Jackalopes.mp3                                      \n",
       "17487  http://he3.magnatune.com/all/09--A%20Question%20(Tobias%20Hume)--Ralph%20Meulenbroeks.mp3                         \n",
       "15668  http://he3.magnatune.com/all/08--All%20I%20Got--Rocket%20City%20Riot.mp3                                          \n",
       "11610  http://he3.magnatune.com/all/06--Anne's%20Decision--Philharmonia%20Baroque%20Orchestra.mp3                        \n",
       "17489  http://he3.magnatune.com/all/09--Anu%20de%20Dilaho--The%20Headroom%20Project.mp3                                  \n",
       "...                                                                                 ...                                  \n",
       "13597  http://he3.magnatune.com/all/06-von%20Biber_%20Passacaglia%20for%20solo%20violins-Music%20of%20the%20Spheres.mp3  \n",
       "9433   http://he3.magnatune.com/all/04-von%20Biber_%20Sonata%20I%20in%20A%20Major-Music%20of%20the%20Spheres.mp3         \n",
       "2579   http://he3.magnatune.com/all/01-wallawalla-Drop%20Trio.mp3                                                        \n",
       "15587  http://he3.magnatune.com/all/07-wallguitar-Mr%20Gelatine.mp3                                                      \n",
       "19000  http://he3.magnatune.com/all/09-wet%20dog-Drop%20Trio.mp3                                                         \n",
       "\n",
       "[1998 rows x 10 columns]"
      ]
     },
     "execution_count": 63,
     "metadata": {},
     "output_type": "execute_result"
    }
   ],
   "source": [
    "raiz_old = 'D:/Research/Data/MIR/MagnaTagATune'\n",
    "raiz_new = AUDIO_PATH\n",
    "i = -1\n",
    "\n",
    "for fn in metadata.mp3_path:\n",
    "    fn_new = fn.replace(raiz_old,raiz_new)\n",
    "    i = i+1\n",
    "    metadata.iloc[i,1] = fn_new\n",
    "    #metadata.mp3_path.iloc[i] = fn_new # tira WARNING\n",
    "    \n",
    "metadata"
   ]
  },
  {
   "cell_type": "markdown",
   "metadata": {},
   "source": [
    "#### Check if files exist"
   ]
  },
  {
   "cell_type": "code",
   "execution_count": 64,
   "metadata": {},
   "outputs": [
    {
     "data": {
      "text/plain": [
       "1998"
      ]
     },
     "execution_count": 64,
     "metadata": {},
     "output_type": "execute_result"
    }
   ],
   "source": [
    "file_exist_mask = [os.path.exists(fn) for fn in metadata.mp3_path]\n",
    "np.sum(file_exist_mask)"
   ]
  },
  {
   "cell_type": "markdown",
   "metadata": {},
   "source": [
    "### Align Meta-data and Feature-data"
   ]
  },
  {
   "cell_type": "code",
   "execution_count": 65,
   "metadata": {
    "scrolled": true
   },
   "outputs": [
    {
     "data": {
      "text/html": [
       "<div>\n",
       "<style scoped>\n",
       "    .dataframe tbody tr th:only-of-type {\n",
       "        vertical-align: middle;\n",
       "    }\n",
       "\n",
       "    .dataframe tbody tr th {\n",
       "        vertical-align: top;\n",
       "    }\n",
       "\n",
       "    .dataframe thead th {\n",
       "        text-align: right;\n",
       "    }\n",
       "</style>\n",
       "<table border=\"1\" class=\"dataframe\">\n",
       "  <thead>\n",
       "    <tr style=\"text-align: right;\">\n",
       "      <th></th>\n",
       "      <th>clip_id</th>\n",
       "      <th>mp3_path</th>\n",
       "      <th>track_number</th>\n",
       "      <th>title</th>\n",
       "      <th>artist</th>\n",
       "      <th>album</th>\n",
       "      <th>url</th>\n",
       "      <th>segmentStart</th>\n",
       "      <th>segmentEnd</th>\n",
       "      <th>original_url</th>\n",
       "      <th>featurespace_id</th>\n",
       "    </tr>\n",
       "    <tr>\n",
       "      <th>index</th>\n",
       "      <th></th>\n",
       "      <th></th>\n",
       "      <th></th>\n",
       "      <th></th>\n",
       "      <th></th>\n",
       "      <th></th>\n",
       "      <th></th>\n",
       "      <th></th>\n",
       "      <th></th>\n",
       "      <th></th>\n",
       "      <th></th>\n",
       "    </tr>\n",
       "  </thead>\n",
       "  <tbody>\n",
       "    <tr>\n",
       "      <th>19072</th>\n",
       "      <td>41797</td>\n",
       "      <td>../../../Machine-Learning/ismir2018/magnatagatune_audiofiles_subset/mp3_full/f/jackalopes-jacksploitation-10-i_wanna_beer_sandwich-59-88.mp3</td>\n",
       "      <td>10</td>\n",
       "      <td>(I wanna) beer sandwich</td>\n",
       "      <td>Jackalopes</td>\n",
       "      <td>Jacksploitation</td>\n",
       "      <td>http://www.magnatune.com/artists/albums/jackalopes-jacksploit/</td>\n",
       "      <td>59</td>\n",
       "      <td>88</td>\n",
       "      <td>http://he3.magnatune.com/all/10-(I%20wanna)%20beer%20sandwich-Jackalopes.mp3</td>\n",
       "      <td>0</td>\n",
       "    </tr>\n",
       "    <tr>\n",
       "      <th>17487</th>\n",
       "      <td>38338</td>\n",
       "      <td>../../../Machine-Learning/ismir2018/magnatagatune_audiofiles_subset/mp3_full/6/ralph_meulenbroeks-gambomania-09-a_question_tobias_hume-59-88.mp3</td>\n",
       "      <td>9</td>\n",
       "      <td>-A Question (Tobias Hume)-</td>\n",
       "      <td>Ralph Meulenbroeks</td>\n",
       "      <td>Gambomania</td>\n",
       "      <td>http://www.magnatune.com/artists/albums/meulenbroeks-gambomania/</td>\n",
       "      <td>59</td>\n",
       "      <td>88</td>\n",
       "      <td>http://he3.magnatune.com/all/09--A%20Question%20(Tobias%20Hume)--Ralph%20Meulenbroeks.mp3</td>\n",
       "      <td>1</td>\n",
       "    </tr>\n",
       "    <tr>\n",
       "      <th>15668</th>\n",
       "      <td>34335</td>\n",
       "      <td>../../../Machine-Learning/ismir2018/magnatagatune_audiofiles_subset/mp3_full/0/rocket_city_riot-last_of_the_pleasure_seekers-08-all_i_got-30-59.mp3</td>\n",
       "      <td>8</td>\n",
       "      <td>-All I Got-</td>\n",
       "      <td>Rocket City Riot</td>\n",
       "      <td>Last Of The Pleasure Seekers</td>\n",
       "      <td>http://www.magnatune.com/artists/albums/rocketcity-pleasure/</td>\n",
       "      <td>30</td>\n",
       "      <td>59</td>\n",
       "      <td>http://he3.magnatune.com/all/08--All%20I%20Got--Rocket%20City%20Riot.mp3</td>\n",
       "      <td>2</td>\n",
       "    </tr>\n",
       "    <tr>\n",
       "      <th>11610</th>\n",
       "      <td>25542</td>\n",
       "      <td>../../../Machine-Learning/ismir2018/magnatagatune_audiofiles_subset/mp3_full/9/philharmonia_baroque_orchestra-jake_heggie__to_hell_and_back-06-annes_decision-59-88.mp3</td>\n",
       "      <td>6</td>\n",
       "      <td>-Anne's Decision-</td>\n",
       "      <td>Philharmonia Baroque Orchestra</td>\n",
       "      <td>Jake Heggie - To Hell and Back</td>\n",
       "      <td>http://www.magnatune.com/artists/albums/pb-heggie/</td>\n",
       "      <td>59</td>\n",
       "      <td>88</td>\n",
       "      <td>http://he3.magnatune.com/all/06--Anne's%20Decision--Philharmonia%20Baroque%20Orchestra.mp3</td>\n",
       "      <td>3</td>\n",
       "    </tr>\n",
       "    <tr>\n",
       "      <th>17489</th>\n",
       "      <td>38344</td>\n",
       "      <td>../../../Machine-Learning/ismir2018/magnatagatune_audiofiles_subset/mp3_full/f/the_headroom_project-jetuton_andawai-09-anu_de_dilaho-88-117.mp3</td>\n",
       "      <td>9</td>\n",
       "      <td>-Anu de Dilaho-</td>\n",
       "      <td>The Headroom Project</td>\n",
       "      <td>Jetuton Andawai</td>\n",
       "      <td>http://www.magnatune.com/artists/albums/headroom-jetuton/</td>\n",
       "      <td>88</td>\n",
       "      <td>117</td>\n",
       "      <td>http://he3.magnatune.com/all/09--Anu%20de%20Dilaho--The%20Headroom%20Project.mp3</td>\n",
       "      <td>4</td>\n",
       "    </tr>\n",
       "    <tr>\n",
       "      <th>...</th>\n",
       "      <td>...</td>\n",
       "      <td>...</td>\n",
       "      <td>...</td>\n",
       "      <td>...</td>\n",
       "      <td>...</td>\n",
       "      <td>...</td>\n",
       "      <td>...</td>\n",
       "      <td>...</td>\n",
       "      <td>...</td>\n",
       "      <td>...</td>\n",
       "      <td>...</td>\n",
       "    </tr>\n",
       "    <tr>\n",
       "      <th>13597</th>\n",
       "      <td>29845</td>\n",
       "      <td>../../../Machine-Learning/ismir2018/magnatagatune_audiofiles_subset/mp3_full/4/music_of_the_spheres-music_of_the_spheres-06-von_biber_passacaglia_for_solo_violins-30-59.mp3</td>\n",
       "      <td>6</td>\n",
       "      <td>von Biber_ Passacaglia for solo violins</td>\n",
       "      <td>Music of the Spheres</td>\n",
       "      <td>Music of the Spheres</td>\n",
       "      <td>http://www.magnatune.com/artists/albums/spheres-spheres/</td>\n",
       "      <td>30</td>\n",
       "      <td>59</td>\n",
       "      <td>http://he3.magnatune.com/all/06-von%20Biber_%20Passacaglia%20for%20solo%20violins-Music%20of%20the%20Spheres.mp3</td>\n",
       "      <td>1993</td>\n",
       "    </tr>\n",
       "    <tr>\n",
       "      <th>9433</th>\n",
       "      <td>20711</td>\n",
       "      <td>../../../Machine-Learning/ismir2018/magnatagatune_audiofiles_subset/mp3_full/4/music_of_the_spheres-music_of_the_spheres-04-von_biber_sonata_i_in_a_major-30-59.mp3</td>\n",
       "      <td>4</td>\n",
       "      <td>von Biber_ Sonata I in A Major</td>\n",
       "      <td>Music of the Spheres</td>\n",
       "      <td>Music of the Spheres</td>\n",
       "      <td>http://www.magnatune.com/artists/albums/spheres-spheres/</td>\n",
       "      <td>30</td>\n",
       "      <td>59</td>\n",
       "      <td>http://he3.magnatune.com/all/04-von%20Biber_%20Sonata%20I%20in%20A%20Major-Music%20of%20the%20Spheres.mp3</td>\n",
       "      <td>1994</td>\n",
       "    </tr>\n",
       "    <tr>\n",
       "      <th>2579</th>\n",
       "      <td>5644</td>\n",
       "      <td>../../../Machine-Learning/ismir2018/magnatagatune_audiofiles_subset/mp3_full/6/drop_trio-cezanne-01-wallawalla-117-146.mp3</td>\n",
       "      <td>1</td>\n",
       "      <td>wallawalla</td>\n",
       "      <td>Drop Trio</td>\n",
       "      <td>Cezanne</td>\n",
       "      <td>http://www.magnatune.com/artists/albums/droptrio-cezanne/</td>\n",
       "      <td>117</td>\n",
       "      <td>146</td>\n",
       "      <td>http://he3.magnatune.com/all/01-wallawalla-Drop%20Trio.mp3</td>\n",
       "      <td>1995</td>\n",
       "    </tr>\n",
       "    <tr>\n",
       "      <th>15587</th>\n",
       "      <td>34175</td>\n",
       "      <td>../../../Machine-Learning/ismir2018/magnatagatune_audiofiles_subset/mp3_full/a/mr_gelatine-electroluv-07-wallguitar-30-59.mp3</td>\n",
       "      <td>7</td>\n",
       "      <td>wallguitar</td>\n",
       "      <td>Mr Gelatine</td>\n",
       "      <td>Electroluv</td>\n",
       "      <td>http://www.magnatune.com/artists/albums/gelatine-electroluv/</td>\n",
       "      <td>30</td>\n",
       "      <td>59</td>\n",
       "      <td>http://he3.magnatune.com/all/07-wallguitar-Mr%20Gelatine.mp3</td>\n",
       "      <td>1996</td>\n",
       "    </tr>\n",
       "    <tr>\n",
       "      <th>19000</th>\n",
       "      <td>41667</td>\n",
       "      <td>../../../Machine-Learning/ismir2018/magnatagatune_audiofiles_subset/mp3_full/6/drop_trio-cezanne-09-wet_dog-30-59.mp3</td>\n",
       "      <td>9</td>\n",
       "      <td>wet dog</td>\n",
       "      <td>Drop Trio</td>\n",
       "      <td>Cezanne</td>\n",
       "      <td>http://www.magnatune.com/artists/albums/droptrio-cezanne/</td>\n",
       "      <td>30</td>\n",
       "      <td>59</td>\n",
       "      <td>http://he3.magnatune.com/all/09-wet%20dog-Drop%20Trio.mp3</td>\n",
       "      <td>1997</td>\n",
       "    </tr>\n",
       "  </tbody>\n",
       "</table>\n",
       "<p>1998 rows × 11 columns</p>\n",
       "</div>"
      ],
      "text/plain": [
       "       clip_id  \\\n",
       "index            \n",
       "19072  41797     \n",
       "17487  38338     \n",
       "15668  34335     \n",
       "11610  25542     \n",
       "17489  38344     \n",
       "...      ...     \n",
       "13597  29845     \n",
       "9433   20711     \n",
       "2579   5644      \n",
       "15587  34175     \n",
       "19000  41667     \n",
       "\n",
       "                                                                                                                                                                           mp3_path  \\\n",
       "index                                                                                                                                                                                 \n",
       "19072  ../../../Machine-Learning/ismir2018/magnatagatune_audiofiles_subset/mp3_full/f/jackalopes-jacksploitation-10-i_wanna_beer_sandwich-59-88.mp3                                   \n",
       "17487  ../../../Machine-Learning/ismir2018/magnatagatune_audiofiles_subset/mp3_full/6/ralph_meulenbroeks-gambomania-09-a_question_tobias_hume-59-88.mp3                               \n",
       "15668  ../../../Machine-Learning/ismir2018/magnatagatune_audiofiles_subset/mp3_full/0/rocket_city_riot-last_of_the_pleasure_seekers-08-all_i_got-30-59.mp3                            \n",
       "11610  ../../../Machine-Learning/ismir2018/magnatagatune_audiofiles_subset/mp3_full/9/philharmonia_baroque_orchestra-jake_heggie__to_hell_and_back-06-annes_decision-59-88.mp3        \n",
       "17489  ../../../Machine-Learning/ismir2018/magnatagatune_audiofiles_subset/mp3_full/f/the_headroom_project-jetuton_andawai-09-anu_de_dilaho-88-117.mp3                                \n",
       "...                                                                                                                                                                        ...        \n",
       "13597  ../../../Machine-Learning/ismir2018/magnatagatune_audiofiles_subset/mp3_full/4/music_of_the_spheres-music_of_the_spheres-06-von_biber_passacaglia_for_solo_violins-30-59.mp3   \n",
       "9433   ../../../Machine-Learning/ismir2018/magnatagatune_audiofiles_subset/mp3_full/4/music_of_the_spheres-music_of_the_spheres-04-von_biber_sonata_i_in_a_major-30-59.mp3            \n",
       "2579   ../../../Machine-Learning/ismir2018/magnatagatune_audiofiles_subset/mp3_full/6/drop_trio-cezanne-01-wallawalla-117-146.mp3                                                     \n",
       "15587  ../../../Machine-Learning/ismir2018/magnatagatune_audiofiles_subset/mp3_full/a/mr_gelatine-electroluv-07-wallguitar-30-59.mp3                                                  \n",
       "19000  ../../../Machine-Learning/ismir2018/magnatagatune_audiofiles_subset/mp3_full/6/drop_trio-cezanne-09-wet_dog-30-59.mp3                                                          \n",
       "\n",
       "       track_number                                    title  \\\n",
       "index                                                          \n",
       "19072  10            (I wanna) beer sandwich                   \n",
       "17487  9             -A Question (Tobias Hume)-                \n",
       "15668  8             -All I Got-                               \n",
       "11610  6             -Anne's Decision-                         \n",
       "17489  9             -Anu de Dilaho-                           \n",
       "...   ..                           ...                         \n",
       "13597  6             von Biber_ Passacaglia for solo violins   \n",
       "9433   4             von Biber_ Sonata I in A Major            \n",
       "2579   1             wallawalla                                \n",
       "15587  7             wallguitar                                \n",
       "19000  9             wet dog                                   \n",
       "\n",
       "                               artist                           album  \\\n",
       "index                                                                   \n",
       "19072  Jackalopes                      Jacksploitation                  \n",
       "17487  Ralph Meulenbroeks              Gambomania                       \n",
       "15668  Rocket City Riot                Last Of The Pleasure Seekers     \n",
       "11610  Philharmonia Baroque Orchestra  Jake Heggie - To Hell and Back   \n",
       "17489  The Headroom Project            Jetuton Andawai                  \n",
       "...                               ...                             ...   \n",
       "13597  Music of the Spheres            Music of the Spheres             \n",
       "9433   Music of the Spheres            Music of the Spheres             \n",
       "2579   Drop Trio                       Cezanne                          \n",
       "15587  Mr Gelatine                     Electroluv                       \n",
       "19000  Drop Trio                       Cezanne                          \n",
       "\n",
       "                                                                    url  \\\n",
       "index                                                                     \n",
       "19072  http://www.magnatune.com/artists/albums/jackalopes-jacksploit/     \n",
       "17487  http://www.magnatune.com/artists/albums/meulenbroeks-gambomania/   \n",
       "15668  http://www.magnatune.com/artists/albums/rocketcity-pleasure/       \n",
       "11610  http://www.magnatune.com/artists/albums/pb-heggie/                 \n",
       "17489  http://www.magnatune.com/artists/albums/headroom-jetuton/          \n",
       "...                                                   ...                 \n",
       "13597  http://www.magnatune.com/artists/albums/spheres-spheres/           \n",
       "9433   http://www.magnatune.com/artists/albums/spheres-spheres/           \n",
       "2579   http://www.magnatune.com/artists/albums/droptrio-cezanne/          \n",
       "15587  http://www.magnatune.com/artists/albums/gelatine-electroluv/       \n",
       "19000  http://www.magnatune.com/artists/albums/droptrio-cezanne/          \n",
       "\n",
       "       segmentStart  segmentEnd  \\\n",
       "index                             \n",
       "19072  59            88           \n",
       "17487  59            88           \n",
       "15668  30            59           \n",
       "11610  59            88           \n",
       "17489  88            117          \n",
       "...    ..            ..           \n",
       "13597  30            59           \n",
       "9433   30            59           \n",
       "2579   117           146          \n",
       "15587  30            59           \n",
       "19000  30            59           \n",
       "\n",
       "                                                                                                           original_url  \\\n",
       "index                                                                                                                     \n",
       "19072  http://he3.magnatune.com/all/10-(I%20wanna)%20beer%20sandwich-Jackalopes.mp3                                       \n",
       "17487  http://he3.magnatune.com/all/09--A%20Question%20(Tobias%20Hume)--Ralph%20Meulenbroeks.mp3                          \n",
       "15668  http://he3.magnatune.com/all/08--All%20I%20Got--Rocket%20City%20Riot.mp3                                           \n",
       "11610  http://he3.magnatune.com/all/06--Anne's%20Decision--Philharmonia%20Baroque%20Orchestra.mp3                         \n",
       "17489  http://he3.magnatune.com/all/09--Anu%20de%20Dilaho--The%20Headroom%20Project.mp3                                   \n",
       "...                                                                                           ...                         \n",
       "13597  http://he3.magnatune.com/all/06-von%20Biber_%20Passacaglia%20for%20solo%20violins-Music%20of%20the%20Spheres.mp3   \n",
       "9433   http://he3.magnatune.com/all/04-von%20Biber_%20Sonata%20I%20in%20A%20Major-Music%20of%20the%20Spheres.mp3          \n",
       "2579   http://he3.magnatune.com/all/01-wallawalla-Drop%20Trio.mp3                                                         \n",
       "15587  http://he3.magnatune.com/all/07-wallguitar-Mr%20Gelatine.mp3                                                       \n",
       "19000  http://he3.magnatune.com/all/09-wet%20dog-Drop%20Trio.mp3                                                          \n",
       "\n",
       "       featurespace_id  \n",
       "index                   \n",
       "19072  0                \n",
       "17487  1                \n",
       "15668  2                \n",
       "11610  3                \n",
       "17489  4                \n",
       "...   ..                \n",
       "13597  1993             \n",
       "9433   1994             \n",
       "2579   1995             \n",
       "15587  1996             \n",
       "19000  1997             \n",
       "\n",
       "[1998 rows x 11 columns]"
      ]
     },
     "execution_count": 65,
     "metadata": {},
     "output_type": "execute_result"
    }
   ],
   "source": [
    "metadata = metadata.reset_index()\n",
    "metadata = metadata.merge(feature_metadata, left_on='clip_id', right_on='clip_id', how='inner', left_index=True, right_index=False)\n",
    "metadata = metadata.set_index('index')\n",
    "metadata"
   ]
  },
  {
   "cell_type": "markdown",
   "metadata": {},
   "source": [
    "### Add Media-Player to Metadata"
   ]
  },
  {
   "cell_type": "markdown",
   "metadata": {},
   "source": [
    "#### Ejemplo: Integrar Objeto de audio en Jupyter\n",
    "\n",
    "<audio src=\"../../../Machine-Learning/ismir2018/magnatagatune_audiofiles_subset/mp3_full/f/jackalopes-jacksploitation-10-i_wanna_beer_sandwich-59-88.mp3\" type=\"audio/mpeg\" controls=\"controls\"></audio>"
   ]
  },
  {
   "cell_type": "markdown",
   "metadata": {},
   "source": [
    "#### Ahora en los Metadatos!"
   ]
  },
  {
   "cell_type": "code",
   "execution_count": 66,
   "metadata": {
    "scrolled": true
   },
   "outputs": [
    {
     "data": {
      "text/html": [
       "<div>\n",
       "<style scoped>\n",
       "    .dataframe tbody tr th:only-of-type {\n",
       "        vertical-align: middle;\n",
       "    }\n",
       "\n",
       "    .dataframe tbody tr th {\n",
       "        vertical-align: top;\n",
       "    }\n",
       "\n",
       "    .dataframe thead th {\n",
       "        text-align: right;\n",
       "    }\n",
       "</style>\n",
       "<table border=\"1\" class=\"dataframe\">\n",
       "  <thead>\n",
       "    <tr style=\"text-align: right;\">\n",
       "      <th></th>\n",
       "      <th>clip_id</th>\n",
       "      <th>mp3_path</th>\n",
       "      <th>track_number</th>\n",
       "      <th>title</th>\n",
       "      <th>artist</th>\n",
       "      <th>album</th>\n",
       "      <th>url</th>\n",
       "      <th>segmentStart</th>\n",
       "      <th>segmentEnd</th>\n",
       "      <th>original_url</th>\n",
       "      <th>featurespace_id</th>\n",
       "      <th>player</th>\n",
       "    </tr>\n",
       "    <tr>\n",
       "      <th>index</th>\n",
       "      <th></th>\n",
       "      <th></th>\n",
       "      <th></th>\n",
       "      <th></th>\n",
       "      <th></th>\n",
       "      <th></th>\n",
       "      <th></th>\n",
       "      <th></th>\n",
       "      <th></th>\n",
       "      <th></th>\n",
       "      <th></th>\n",
       "      <th></th>\n",
       "    </tr>\n",
       "  </thead>\n",
       "  <tbody>\n",
       "    <tr>\n",
       "      <th>19072</th>\n",
       "      <td>41797</td>\n",
       "      <td>../../../Machine-Learning/ismir2018/magnatagatune_audiofiles_subset/mp3_full/f/jackalopes-jacksploitation-10-i_wanna_beer_sandwich-59-88.mp3</td>\n",
       "      <td>10</td>\n",
       "      <td>(I wanna) beer sandwich</td>\n",
       "      <td>Jackalopes</td>\n",
       "      <td>Jacksploitation</td>\n",
       "      <td>http://www.magnatune.com/artists/albums/jackalopes-jacksploit/</td>\n",
       "      <td>59</td>\n",
       "      <td>88</td>\n",
       "      <td>http://he3.magnatune.com/all/10-(I%20wanna)%20beer%20sandwich-Jackalopes.mp3</td>\n",
       "      <td>0</td>\n",
       "      <td>&lt;audio src=\"../../../Machine-Learning/ismir2018/magnatagatune_audiofiles_subset/mp3_full/f/jackalopes-jacksploitation-10-i_wanna_beer_sandwich-59-88.mp3\" type=\"audio/mpeg\" controls=\"controls\"&gt;&lt;/audio&gt;</td>\n",
       "    </tr>\n",
       "    <tr>\n",
       "      <th>17487</th>\n",
       "      <td>38338</td>\n",
       "      <td>../../../Machine-Learning/ismir2018/magnatagatune_audiofiles_subset/mp3_full/6/ralph_meulenbroeks-gambomania-09-a_question_tobias_hume-59-88.mp3</td>\n",
       "      <td>9</td>\n",
       "      <td>-A Question (Tobias Hume)-</td>\n",
       "      <td>Ralph Meulenbroeks</td>\n",
       "      <td>Gambomania</td>\n",
       "      <td>http://www.magnatune.com/artists/albums/meulenbroeks-gambomania/</td>\n",
       "      <td>59</td>\n",
       "      <td>88</td>\n",
       "      <td>http://he3.magnatune.com/all/09--A%20Question%20(Tobias%20Hume)--Ralph%20Meulenbroeks.mp3</td>\n",
       "      <td>1</td>\n",
       "      <td>&lt;audio src=\"../../../Machine-Learning/ismir2018/magnatagatune_audiofiles_subset/mp3_full/6/ralph_meulenbroeks-gambomania-09-a_question_tobias_hume-59-88.mp3\" type=\"audio/mpeg\" controls=\"controls\"&gt;&lt;/audio&gt;</td>\n",
       "    </tr>\n",
       "    <tr>\n",
       "      <th>15668</th>\n",
       "      <td>34335</td>\n",
       "      <td>../../../Machine-Learning/ismir2018/magnatagatune_audiofiles_subset/mp3_full/0/rocket_city_riot-last_of_the_pleasure_seekers-08-all_i_got-30-59.mp3</td>\n",
       "      <td>8</td>\n",
       "      <td>-All I Got-</td>\n",
       "      <td>Rocket City Riot</td>\n",
       "      <td>Last Of The Pleasure Seekers</td>\n",
       "      <td>http://www.magnatune.com/artists/albums/rocketcity-pleasure/</td>\n",
       "      <td>30</td>\n",
       "      <td>59</td>\n",
       "      <td>http://he3.magnatune.com/all/08--All%20I%20Got--Rocket%20City%20Riot.mp3</td>\n",
       "      <td>2</td>\n",
       "      <td>&lt;audio src=\"../../../Machine-Learning/ismir2018/magnatagatune_audiofiles_subset/mp3_full/0/rocket_city_riot-last_of_the_pleasure_seekers-08-all_i_got-30-59.mp3\" type=\"audio/mpeg\" controls=\"controls\"&gt;&lt;/audio&gt;</td>\n",
       "    </tr>\n",
       "    <tr>\n",
       "      <th>11610</th>\n",
       "      <td>25542</td>\n",
       "      <td>../../../Machine-Learning/ismir2018/magnatagatune_audiofiles_subset/mp3_full/9/philharmonia_baroque_orchestra-jake_heggie__to_hell_and_back-06-annes_decision-59-88.mp3</td>\n",
       "      <td>6</td>\n",
       "      <td>-Anne's Decision-</td>\n",
       "      <td>Philharmonia Baroque Orchestra</td>\n",
       "      <td>Jake Heggie - To Hell and Back</td>\n",
       "      <td>http://www.magnatune.com/artists/albums/pb-heggie/</td>\n",
       "      <td>59</td>\n",
       "      <td>88</td>\n",
       "      <td>http://he3.magnatune.com/all/06--Anne's%20Decision--Philharmonia%20Baroque%20Orchestra.mp3</td>\n",
       "      <td>3</td>\n",
       "      <td>&lt;audio src=\"../../../Machine-Learning/ismir2018/magnatagatune_audiofiles_subset/mp3_full/9/philharmonia_baroque_orchestra-jake_heggie__to_hell_and_back-06-annes_decision-59-88.mp3\" type=\"audio/mpeg\" controls=\"controls\"&gt;&lt;/audio&gt;</td>\n",
       "    </tr>\n",
       "    <tr>\n",
       "      <th>17489</th>\n",
       "      <td>38344</td>\n",
       "      <td>../../../Machine-Learning/ismir2018/magnatagatune_audiofiles_subset/mp3_full/f/the_headroom_project-jetuton_andawai-09-anu_de_dilaho-88-117.mp3</td>\n",
       "      <td>9</td>\n",
       "      <td>-Anu de Dilaho-</td>\n",
       "      <td>The Headroom Project</td>\n",
       "      <td>Jetuton Andawai</td>\n",
       "      <td>http://www.magnatune.com/artists/albums/headroom-jetuton/</td>\n",
       "      <td>88</td>\n",
       "      <td>117</td>\n",
       "      <td>http://he3.magnatune.com/all/09--Anu%20de%20Dilaho--The%20Headroom%20Project.mp3</td>\n",
       "      <td>4</td>\n",
       "      <td>&lt;audio src=\"../../../Machine-Learning/ismir2018/magnatagatune_audiofiles_subset/mp3_full/f/the_headroom_project-jetuton_andawai-09-anu_de_dilaho-88-117.mp3\" type=\"audio/mpeg\" controls=\"controls\"&gt;&lt;/audio&gt;</td>\n",
       "    </tr>\n",
       "    <tr>\n",
       "      <th>...</th>\n",
       "      <td>...</td>\n",
       "      <td>...</td>\n",
       "      <td>...</td>\n",
       "      <td>...</td>\n",
       "      <td>...</td>\n",
       "      <td>...</td>\n",
       "      <td>...</td>\n",
       "      <td>...</td>\n",
       "      <td>...</td>\n",
       "      <td>...</td>\n",
       "      <td>...</td>\n",
       "      <td>...</td>\n",
       "    </tr>\n",
       "    <tr>\n",
       "      <th>13597</th>\n",
       "      <td>29845</td>\n",
       "      <td>../../../Machine-Learning/ismir2018/magnatagatune_audiofiles_subset/mp3_full/4/music_of_the_spheres-music_of_the_spheres-06-von_biber_passacaglia_for_solo_violins-30-59.mp3</td>\n",
       "      <td>6</td>\n",
       "      <td>von Biber_ Passacaglia for solo violins</td>\n",
       "      <td>Music of the Spheres</td>\n",
       "      <td>Music of the Spheres</td>\n",
       "      <td>http://www.magnatune.com/artists/albums/spheres-spheres/</td>\n",
       "      <td>30</td>\n",
       "      <td>59</td>\n",
       "      <td>http://he3.magnatune.com/all/06-von%20Biber_%20Passacaglia%20for%20solo%20violins-Music%20of%20the%20Spheres.mp3</td>\n",
       "      <td>1993</td>\n",
       "      <td>&lt;audio src=\"../../../Machine-Learning/ismir2018/magnatagatune_audiofiles_subset/mp3_full/4/music_of_the_spheres-music_of_the_spheres-06-von_biber_passacaglia_for_solo_violins-30-59.mp3\" type=\"audio/mpeg\" controls=\"controls\"&gt;&lt;/audio&gt;</td>\n",
       "    </tr>\n",
       "    <tr>\n",
       "      <th>9433</th>\n",
       "      <td>20711</td>\n",
       "      <td>../../../Machine-Learning/ismir2018/magnatagatune_audiofiles_subset/mp3_full/4/music_of_the_spheres-music_of_the_spheres-04-von_biber_sonata_i_in_a_major-30-59.mp3</td>\n",
       "      <td>4</td>\n",
       "      <td>von Biber_ Sonata I in A Major</td>\n",
       "      <td>Music of the Spheres</td>\n",
       "      <td>Music of the Spheres</td>\n",
       "      <td>http://www.magnatune.com/artists/albums/spheres-spheres/</td>\n",
       "      <td>30</td>\n",
       "      <td>59</td>\n",
       "      <td>http://he3.magnatune.com/all/04-von%20Biber_%20Sonata%20I%20in%20A%20Major-Music%20of%20the%20Spheres.mp3</td>\n",
       "      <td>1994</td>\n",
       "      <td>&lt;audio src=\"../../../Machine-Learning/ismir2018/magnatagatune_audiofiles_subset/mp3_full/4/music_of_the_spheres-music_of_the_spheres-04-von_biber_sonata_i_in_a_major-30-59.mp3\" type=\"audio/mpeg\" controls=\"controls\"&gt;&lt;/audio&gt;</td>\n",
       "    </tr>\n",
       "    <tr>\n",
       "      <th>2579</th>\n",
       "      <td>5644</td>\n",
       "      <td>../../../Machine-Learning/ismir2018/magnatagatune_audiofiles_subset/mp3_full/6/drop_trio-cezanne-01-wallawalla-117-146.mp3</td>\n",
       "      <td>1</td>\n",
       "      <td>wallawalla</td>\n",
       "      <td>Drop Trio</td>\n",
       "      <td>Cezanne</td>\n",
       "      <td>http://www.magnatune.com/artists/albums/droptrio-cezanne/</td>\n",
       "      <td>117</td>\n",
       "      <td>146</td>\n",
       "      <td>http://he3.magnatune.com/all/01-wallawalla-Drop%20Trio.mp3</td>\n",
       "      <td>1995</td>\n",
       "      <td>&lt;audio src=\"../../../Machine-Learning/ismir2018/magnatagatune_audiofiles_subset/mp3_full/6/drop_trio-cezanne-01-wallawalla-117-146.mp3\" type=\"audio/mpeg\" controls=\"controls\"&gt;&lt;/audio&gt;</td>\n",
       "    </tr>\n",
       "    <tr>\n",
       "      <th>15587</th>\n",
       "      <td>34175</td>\n",
       "      <td>../../../Machine-Learning/ismir2018/magnatagatune_audiofiles_subset/mp3_full/a/mr_gelatine-electroluv-07-wallguitar-30-59.mp3</td>\n",
       "      <td>7</td>\n",
       "      <td>wallguitar</td>\n",
       "      <td>Mr Gelatine</td>\n",
       "      <td>Electroluv</td>\n",
       "      <td>http://www.magnatune.com/artists/albums/gelatine-electroluv/</td>\n",
       "      <td>30</td>\n",
       "      <td>59</td>\n",
       "      <td>http://he3.magnatune.com/all/07-wallguitar-Mr%20Gelatine.mp3</td>\n",
       "      <td>1996</td>\n",
       "      <td>&lt;audio src=\"../../../Machine-Learning/ismir2018/magnatagatune_audiofiles_subset/mp3_full/a/mr_gelatine-electroluv-07-wallguitar-30-59.mp3\" type=\"audio/mpeg\" controls=\"controls\"&gt;&lt;/audio&gt;</td>\n",
       "    </tr>\n",
       "    <tr>\n",
       "      <th>19000</th>\n",
       "      <td>41667</td>\n",
       "      <td>../../../Machine-Learning/ismir2018/magnatagatune_audiofiles_subset/mp3_full/6/drop_trio-cezanne-09-wet_dog-30-59.mp3</td>\n",
       "      <td>9</td>\n",
       "      <td>wet dog</td>\n",
       "      <td>Drop Trio</td>\n",
       "      <td>Cezanne</td>\n",
       "      <td>http://www.magnatune.com/artists/albums/droptrio-cezanne/</td>\n",
       "      <td>30</td>\n",
       "      <td>59</td>\n",
       "      <td>http://he3.magnatune.com/all/09-wet%20dog-Drop%20Trio.mp3</td>\n",
       "      <td>1997</td>\n",
       "      <td>&lt;audio src=\"../../../Machine-Learning/ismir2018/magnatagatune_audiofiles_subset/mp3_full/6/drop_trio-cezanne-09-wet_dog-30-59.mp3\" type=\"audio/mpeg\" controls=\"controls\"&gt;&lt;/audio&gt;</td>\n",
       "    </tr>\n",
       "  </tbody>\n",
       "</table>\n",
       "<p>1998 rows × 12 columns</p>\n",
       "</div>"
      ],
      "text/plain": [
       "       clip_id  \\\n",
       "index            \n",
       "19072  41797     \n",
       "17487  38338     \n",
       "15668  34335     \n",
       "11610  25542     \n",
       "17489  38344     \n",
       "...      ...     \n",
       "13597  29845     \n",
       "9433   20711     \n",
       "2579   5644      \n",
       "15587  34175     \n",
       "19000  41667     \n",
       "\n",
       "                                                                                                                                                                           mp3_path  \\\n",
       "index                                                                                                                                                                                 \n",
       "19072  ../../../Machine-Learning/ismir2018/magnatagatune_audiofiles_subset/mp3_full/f/jackalopes-jacksploitation-10-i_wanna_beer_sandwich-59-88.mp3                                   \n",
       "17487  ../../../Machine-Learning/ismir2018/magnatagatune_audiofiles_subset/mp3_full/6/ralph_meulenbroeks-gambomania-09-a_question_tobias_hume-59-88.mp3                               \n",
       "15668  ../../../Machine-Learning/ismir2018/magnatagatune_audiofiles_subset/mp3_full/0/rocket_city_riot-last_of_the_pleasure_seekers-08-all_i_got-30-59.mp3                            \n",
       "11610  ../../../Machine-Learning/ismir2018/magnatagatune_audiofiles_subset/mp3_full/9/philharmonia_baroque_orchestra-jake_heggie__to_hell_and_back-06-annes_decision-59-88.mp3        \n",
       "17489  ../../../Machine-Learning/ismir2018/magnatagatune_audiofiles_subset/mp3_full/f/the_headroom_project-jetuton_andawai-09-anu_de_dilaho-88-117.mp3                                \n",
       "...                                                                                                                                                                        ...        \n",
       "13597  ../../../Machine-Learning/ismir2018/magnatagatune_audiofiles_subset/mp3_full/4/music_of_the_spheres-music_of_the_spheres-06-von_biber_passacaglia_for_solo_violins-30-59.mp3   \n",
       "9433   ../../../Machine-Learning/ismir2018/magnatagatune_audiofiles_subset/mp3_full/4/music_of_the_spheres-music_of_the_spheres-04-von_biber_sonata_i_in_a_major-30-59.mp3            \n",
       "2579   ../../../Machine-Learning/ismir2018/magnatagatune_audiofiles_subset/mp3_full/6/drop_trio-cezanne-01-wallawalla-117-146.mp3                                                     \n",
       "15587  ../../../Machine-Learning/ismir2018/magnatagatune_audiofiles_subset/mp3_full/a/mr_gelatine-electroluv-07-wallguitar-30-59.mp3                                                  \n",
       "19000  ../../../Machine-Learning/ismir2018/magnatagatune_audiofiles_subset/mp3_full/6/drop_trio-cezanne-09-wet_dog-30-59.mp3                                                          \n",
       "\n",
       "       track_number                                    title  \\\n",
       "index                                                          \n",
       "19072  10            (I wanna) beer sandwich                   \n",
       "17487  9             -A Question (Tobias Hume)-                \n",
       "15668  8             -All I Got-                               \n",
       "11610  6             -Anne's Decision-                         \n",
       "17489  9             -Anu de Dilaho-                           \n",
       "...   ..                           ...                         \n",
       "13597  6             von Biber_ Passacaglia for solo violins   \n",
       "9433   4             von Biber_ Sonata I in A Major            \n",
       "2579   1             wallawalla                                \n",
       "15587  7             wallguitar                                \n",
       "19000  9             wet dog                                   \n",
       "\n",
       "                               artist                           album  \\\n",
       "index                                                                   \n",
       "19072  Jackalopes                      Jacksploitation                  \n",
       "17487  Ralph Meulenbroeks              Gambomania                       \n",
       "15668  Rocket City Riot                Last Of The Pleasure Seekers     \n",
       "11610  Philharmonia Baroque Orchestra  Jake Heggie - To Hell and Back   \n",
       "17489  The Headroom Project            Jetuton Andawai                  \n",
       "...                               ...                             ...   \n",
       "13597  Music of the Spheres            Music of the Spheres             \n",
       "9433   Music of the Spheres            Music of the Spheres             \n",
       "2579   Drop Trio                       Cezanne                          \n",
       "15587  Mr Gelatine                     Electroluv                       \n",
       "19000  Drop Trio                       Cezanne                          \n",
       "\n",
       "                                                                    url  \\\n",
       "index                                                                     \n",
       "19072  http://www.magnatune.com/artists/albums/jackalopes-jacksploit/     \n",
       "17487  http://www.magnatune.com/artists/albums/meulenbroeks-gambomania/   \n",
       "15668  http://www.magnatune.com/artists/albums/rocketcity-pleasure/       \n",
       "11610  http://www.magnatune.com/artists/albums/pb-heggie/                 \n",
       "17489  http://www.magnatune.com/artists/albums/headroom-jetuton/          \n",
       "...                                                   ...                 \n",
       "13597  http://www.magnatune.com/artists/albums/spheres-spheres/           \n",
       "9433   http://www.magnatune.com/artists/albums/spheres-spheres/           \n",
       "2579   http://www.magnatune.com/artists/albums/droptrio-cezanne/          \n",
       "15587  http://www.magnatune.com/artists/albums/gelatine-electroluv/       \n",
       "19000  http://www.magnatune.com/artists/albums/droptrio-cezanne/          \n",
       "\n",
       "       segmentStart  segmentEnd  \\\n",
       "index                             \n",
       "19072  59            88           \n",
       "17487  59            88           \n",
       "15668  30            59           \n",
       "11610  59            88           \n",
       "17489  88            117          \n",
       "...    ..            ..           \n",
       "13597  30            59           \n",
       "9433   30            59           \n",
       "2579   117           146          \n",
       "15587  30            59           \n",
       "19000  30            59           \n",
       "\n",
       "                                                                                                           original_url  \\\n",
       "index                                                                                                                     \n",
       "19072  http://he3.magnatune.com/all/10-(I%20wanna)%20beer%20sandwich-Jackalopes.mp3                                       \n",
       "17487  http://he3.magnatune.com/all/09--A%20Question%20(Tobias%20Hume)--Ralph%20Meulenbroeks.mp3                          \n",
       "15668  http://he3.magnatune.com/all/08--All%20I%20Got--Rocket%20City%20Riot.mp3                                           \n",
       "11610  http://he3.magnatune.com/all/06--Anne's%20Decision--Philharmonia%20Baroque%20Orchestra.mp3                         \n",
       "17489  http://he3.magnatune.com/all/09--Anu%20de%20Dilaho--The%20Headroom%20Project.mp3                                   \n",
       "...                                                                                           ...                         \n",
       "13597  http://he3.magnatune.com/all/06-von%20Biber_%20Passacaglia%20for%20solo%20violins-Music%20of%20the%20Spheres.mp3   \n",
       "9433   http://he3.magnatune.com/all/04-von%20Biber_%20Sonata%20I%20in%20A%20Major-Music%20of%20the%20Spheres.mp3          \n",
       "2579   http://he3.magnatune.com/all/01-wallawalla-Drop%20Trio.mp3                                                         \n",
       "15587  http://he3.magnatune.com/all/07-wallguitar-Mr%20Gelatine.mp3                                                       \n",
       "19000  http://he3.magnatune.com/all/09-wet%20dog-Drop%20Trio.mp3                                                          \n",
       "\n",
       "       featurespace_id  \\\n",
       "index                    \n",
       "19072  0                 \n",
       "17487  1                 \n",
       "15668  2                 \n",
       "11610  3                 \n",
       "17489  4                 \n",
       "...   ..                 \n",
       "13597  1993              \n",
       "9433   1994              \n",
       "2579   1995              \n",
       "15587  1996              \n",
       "19000  1997              \n",
       "\n",
       "                                                                                                                                                                                                                                         player  \n",
       "index                                                                                                                                                                                                                                            \n",
       "19072  <audio src=\"../../../Machine-Learning/ismir2018/magnatagatune_audiofiles_subset/mp3_full/f/jackalopes-jacksploitation-10-i_wanna_beer_sandwich-59-88.mp3\" type=\"audio/mpeg\" controls=\"controls\"></audio>                                  \n",
       "17487  <audio src=\"../../../Machine-Learning/ismir2018/magnatagatune_audiofiles_subset/mp3_full/6/ralph_meulenbroeks-gambomania-09-a_question_tobias_hume-59-88.mp3\" type=\"audio/mpeg\" controls=\"controls\"></audio>                              \n",
       "15668  <audio src=\"../../../Machine-Learning/ismir2018/magnatagatune_audiofiles_subset/mp3_full/0/rocket_city_riot-last_of_the_pleasure_seekers-08-all_i_got-30-59.mp3\" type=\"audio/mpeg\" controls=\"controls\"></audio>                           \n",
       "11610  <audio src=\"../../../Machine-Learning/ismir2018/magnatagatune_audiofiles_subset/mp3_full/9/philharmonia_baroque_orchestra-jake_heggie__to_hell_and_back-06-annes_decision-59-88.mp3\" type=\"audio/mpeg\" controls=\"controls\"></audio>       \n",
       "17489  <audio src=\"../../../Machine-Learning/ismir2018/magnatagatune_audiofiles_subset/mp3_full/f/the_headroom_project-jetuton_andawai-09-anu_de_dilaho-88-117.mp3\" type=\"audio/mpeg\" controls=\"controls\"></audio>                               \n",
       "...                                                                                                                                                                                                                                    ...       \n",
       "13597  <audio src=\"../../../Machine-Learning/ismir2018/magnatagatune_audiofiles_subset/mp3_full/4/music_of_the_spheres-music_of_the_spheres-06-von_biber_passacaglia_for_solo_violins-30-59.mp3\" type=\"audio/mpeg\" controls=\"controls\"></audio>  \n",
       "9433   <audio src=\"../../../Machine-Learning/ismir2018/magnatagatune_audiofiles_subset/mp3_full/4/music_of_the_spheres-music_of_the_spheres-04-von_biber_sonata_i_in_a_major-30-59.mp3\" type=\"audio/mpeg\" controls=\"controls\"></audio>           \n",
       "2579   <audio src=\"../../../Machine-Learning/ismir2018/magnatagatune_audiofiles_subset/mp3_full/6/drop_trio-cezanne-01-wallawalla-117-146.mp3\" type=\"audio/mpeg\" controls=\"controls\"></audio>                                                    \n",
       "15587  <audio src=\"../../../Machine-Learning/ismir2018/magnatagatune_audiofiles_subset/mp3_full/a/mr_gelatine-electroluv-07-wallguitar-30-59.mp3\" type=\"audio/mpeg\" controls=\"controls\"></audio>                                                 \n",
       "19000  <audio src=\"../../../Machine-Learning/ismir2018/magnatagatune_audiofiles_subset/mp3_full/6/drop_trio-cezanne-09-wet_dog-30-59.mp3\" type=\"audio/mpeg\" controls=\"controls\"></audio>                                                         \n",
       "\n",
       "[1998 rows x 12 columns]"
      ]
     },
     "execution_count": 66,
     "metadata": {},
     "output_type": "execute_result"
    }
   ],
   "source": [
    "metadata['player'] = '<audio src=\"' + metadata.mp3_path + '\" type=\"audio/mpeg\" controls=\"controls\"></audio>'\n",
    "metadata"
   ]
  },
  {
   "cell_type": "markdown",
   "metadata": {},
   "source": [
    "### Example\n",
    "Use Jupyter display functions to enable HTML5 audio in pandas dataframe: "
   ]
  },
  {
   "cell_type": "code",
   "execution_count": 67,
   "metadata": {
    "scrolled": true
   },
   "outputs": [
    {
     "data": {
      "text/html": [
       "<table border=\"1\" class=\"dataframe\">\n",
       "  <thead>\n",
       "    <tr style=\"text-align: right;\">\n",
       "      <th></th>\n",
       "      <th>title</th>\n",
       "      <th>player</th>\n",
       "    </tr>\n",
       "    <tr>\n",
       "      <th>index</th>\n",
       "      <th></th>\n",
       "      <th></th>\n",
       "    </tr>\n",
       "  </thead>\n",
       "  <tbody>\n",
       "    <tr>\n",
       "      <th>19072</th>\n",
       "      <td>(I wanna) beer sandwich</td>\n",
       "      <td><audio src=\"../../../Machine-Learning/ismir2018/magnatagatune_audiofiles_subset/mp3_full/f/jackalopes-jacksploitation-10-i_wanna_beer_sandwich-59-88.mp3\" type=\"audio/mpeg\" controls=\"controls\"></audio></td>\n",
       "    </tr>\n",
       "    <tr>\n",
       "      <th>17487</th>\n",
       "      <td>-A Question (Tobias Hume)-</td>\n",
       "      <td><audio src=\"../../../Machine-Learning/ismir2018/magnatagatune_audiofiles_subset/mp3_full/6/ralph_meulenbroeks-gambomania-09-a_question_tobias_hume-59-88.mp3\" type=\"audio/mpeg\" controls=\"controls\"></audio></td>\n",
       "    </tr>\n",
       "    <tr>\n",
       "      <th>15668</th>\n",
       "      <td>-All I Got-</td>\n",
       "      <td><audio src=\"../../../Machine-Learning/ismir2018/magnatagatune_audiofiles_subset/mp3_full/0/rocket_city_riot-last_of_the_pleasure_seekers-08-all_i_got-30-59.mp3\" type=\"audio/mpeg\" controls=\"controls\"></audio></td>\n",
       "    </tr>\n",
       "  </tbody>\n",
       "</table>"
      ],
      "text/plain": [
       "<IPython.core.display.HTML object>"
      ]
     },
     "execution_count": 67,
     "metadata": {},
     "output_type": "execute_result"
    }
   ],
   "source": [
    "HTML(metadata.iloc[:3][['title', 'player']].to_html(escape=False))"
   ]
  },
  {
   "cell_type": "markdown",
   "metadata": {},
   "source": [
    "### Load Label Data"
   ]
  },
  {
   "cell_type": "code",
   "execution_count": 68,
   "metadata": {},
   "outputs": [
    {
     "data": {
      "text/plain": [
       "(1998, 8)"
      ]
     },
     "execution_count": 68,
     "metadata": {},
     "output_type": "execute_result"
    }
   ],
   "source": [
    "task = 'genres'\n",
    "CSV_FILE = LABEL_FILE_PATTERN % task\n",
    "\n",
    "label_metadata = pd.read_csv(CSV_FILE, index_col=0)\n",
    "label_metadata.shape"
   ]
  },
  {
   "cell_type": "code",
   "execution_count": 69,
   "metadata": {
    "scrolled": true
   },
   "outputs": [
    {
     "data": {
      "text/html": [
       "<div>\n",
       "<style scoped>\n",
       "    .dataframe tbody tr th:only-of-type {\n",
       "        vertical-align: middle;\n",
       "    }\n",
       "\n",
       "    .dataframe tbody tr th {\n",
       "        vertical-align: top;\n",
       "    }\n",
       "\n",
       "    .dataframe thead th {\n",
       "        text-align: right;\n",
       "    }\n",
       "</style>\n",
       "<table border=\"1\" class=\"dataframe\">\n",
       "  <thead>\n",
       "    <tr style=\"text-align: right;\">\n",
       "      <th></th>\n",
       "      <th>classical</th>\n",
       "      <th>country</th>\n",
       "      <th>jazz</th>\n",
       "      <th>pop</th>\n",
       "      <th>rock</th>\n",
       "      <th>techno</th>\n",
       "      <th>blues</th>\n",
       "      <th>dance</th>\n",
       "    </tr>\n",
       "  </thead>\n",
       "  <tbody>\n",
       "    <tr>\n",
       "      <th>19072</th>\n",
       "      <td>0</td>\n",
       "      <td>0</td>\n",
       "      <td>0</td>\n",
       "      <td>0</td>\n",
       "      <td>1</td>\n",
       "      <td>0</td>\n",
       "      <td>0</td>\n",
       "      <td>0</td>\n",
       "    </tr>\n",
       "    <tr>\n",
       "      <th>17487</th>\n",
       "      <td>1</td>\n",
       "      <td>0</td>\n",
       "      <td>0</td>\n",
       "      <td>0</td>\n",
       "      <td>0</td>\n",
       "      <td>0</td>\n",
       "      <td>0</td>\n",
       "      <td>0</td>\n",
       "    </tr>\n",
       "    <tr>\n",
       "      <th>15668</th>\n",
       "      <td>0</td>\n",
       "      <td>0</td>\n",
       "      <td>0</td>\n",
       "      <td>0</td>\n",
       "      <td>1</td>\n",
       "      <td>0</td>\n",
       "      <td>0</td>\n",
       "      <td>0</td>\n",
       "    </tr>\n",
       "    <tr>\n",
       "      <th>11610</th>\n",
       "      <td>1</td>\n",
       "      <td>0</td>\n",
       "      <td>0</td>\n",
       "      <td>0</td>\n",
       "      <td>0</td>\n",
       "      <td>0</td>\n",
       "      <td>0</td>\n",
       "      <td>0</td>\n",
       "    </tr>\n",
       "    <tr>\n",
       "      <th>17489</th>\n",
       "      <td>0</td>\n",
       "      <td>0</td>\n",
       "      <td>0</td>\n",
       "      <td>0</td>\n",
       "      <td>0</td>\n",
       "      <td>1</td>\n",
       "      <td>0</td>\n",
       "      <td>0</td>\n",
       "    </tr>\n",
       "    <tr>\n",
       "      <th>...</th>\n",
       "      <td>...</td>\n",
       "      <td>...</td>\n",
       "      <td>...</td>\n",
       "      <td>...</td>\n",
       "      <td>...</td>\n",
       "      <td>...</td>\n",
       "      <td>...</td>\n",
       "      <td>...</td>\n",
       "    </tr>\n",
       "    <tr>\n",
       "      <th>13597</th>\n",
       "      <td>1</td>\n",
       "      <td>0</td>\n",
       "      <td>0</td>\n",
       "      <td>0</td>\n",
       "      <td>0</td>\n",
       "      <td>0</td>\n",
       "      <td>0</td>\n",
       "      <td>0</td>\n",
       "    </tr>\n",
       "    <tr>\n",
       "      <th>9433</th>\n",
       "      <td>1</td>\n",
       "      <td>0</td>\n",
       "      <td>0</td>\n",
       "      <td>0</td>\n",
       "      <td>0</td>\n",
       "      <td>0</td>\n",
       "      <td>0</td>\n",
       "      <td>0</td>\n",
       "    </tr>\n",
       "    <tr>\n",
       "      <th>2579</th>\n",
       "      <td>0</td>\n",
       "      <td>0</td>\n",
       "      <td>1</td>\n",
       "      <td>0</td>\n",
       "      <td>0</td>\n",
       "      <td>0</td>\n",
       "      <td>0</td>\n",
       "      <td>0</td>\n",
       "    </tr>\n",
       "    <tr>\n",
       "      <th>15587</th>\n",
       "      <td>0</td>\n",
       "      <td>0</td>\n",
       "      <td>0</td>\n",
       "      <td>0</td>\n",
       "      <td>0</td>\n",
       "      <td>1</td>\n",
       "      <td>0</td>\n",
       "      <td>0</td>\n",
       "    </tr>\n",
       "    <tr>\n",
       "      <th>19000</th>\n",
       "      <td>0</td>\n",
       "      <td>0</td>\n",
       "      <td>1</td>\n",
       "      <td>0</td>\n",
       "      <td>0</td>\n",
       "      <td>0</td>\n",
       "      <td>0</td>\n",
       "      <td>0</td>\n",
       "    </tr>\n",
       "  </tbody>\n",
       "</table>\n",
       "<p>1998 rows × 8 columns</p>\n",
       "</div>"
      ],
      "text/plain": [
       "       classical  country  jazz  pop  rock  techno  blues  dance\n",
       "19072  0          0        0     0    1     0       0      0    \n",
       "17487  1          0        0     0    0     0       0      0    \n",
       "15668  0          0        0     0    1     0       0      0    \n",
       "11610  1          0        0     0    0     0       0      0    \n",
       "17489  0          0        0     0    0     1       0      0    \n",
       "...   ..         ..       ..    ..   ..    ..      ..     ..    \n",
       "13597  1          0        0     0    0     0       0      0    \n",
       "9433   1          0        0     0    0     0       0      0    \n",
       "2579   0          0        1     0    0     0       0      0    \n",
       "15587  0          0        0     0    0     1       0      0    \n",
       "19000  0          0        1     0    0     0       0      0    \n",
       "\n",
       "[1998 rows x 8 columns]"
      ]
     },
     "execution_count": 69,
     "metadata": {},
     "output_type": "execute_result"
    }
   ],
   "source": [
    "# dataframe\n",
    "label_metadata"
   ]
  },
  {
   "cell_type": "code",
   "execution_count": 70,
   "metadata": {
    "scrolled": true
   },
   "outputs": [
    {
     "data": {
      "text/plain": [
       "classical    999\n",
       "country      72 \n",
       "jazz         90 \n",
       "pop          94 \n",
       "rock         379\n",
       "techno       341\n",
       "blues        9  \n",
       "dance        14 \n",
       "dtype: int64"
      ]
     },
     "execution_count": 70,
     "metadata": {},
     "output_type": "execute_result"
    }
   ],
   "source": [
    "# how many tracks per genre\n",
    "label_metadata.sum()"
   ]
  },
  {
   "cell_type": "markdown",
   "metadata": {},
   "source": [
    "## Siamese Networks\n",
    "\n",
    "A Siamese Neural Network (SNN) is a neural network architecture where two inputs are fed into the same stack of network layers. The shared layers are \"similar\" to Siamese Twins. By feeding two inputs to the shared layers, two representations are generated which can be used for comparison. To train the network according a certain task, it requires labelled data. To learn a similarity function, these labels should indicate if the two inputs are similar or dissimilar.\n",
    "\n",
    "<img src=\"../../images/siamese-network-flow.png\" width=\"700px\" alt=\"\" align=\"left\">\n",
    "<br clear=\"all\" />\n",
    "\n",
    "### Data Pairs\n",
    "The siamese network is based on 2 *branches*. These branches are architecturally identical and share the same weights. The basic functionality is that one branch accepts a **similar** data pair spectrogram as an input while the other accepts a **dissimilar** data pair spectrogram as an input. Every datapoint (track) is used as the ‘reference’ to generate 5 positive and 5 negative ‘difference’ pairs. \n",
    "We generate pairs using the following rules:\n",
    "* 5 Positive Pairs:\n",
    "  * The reference track itself\n",
    "  * 4 positive matches from a random selection of the most similar tracks (`label_diff == 0`)\n",
    "* 5 Negative Pairs:\n",
    "  * The reference track itself\n",
    "  * 4 negative matches from a random selection of the least similar tracks (`label_diff != 0`)\n",
    "\n",
    "### Contrastive Loss\n",
    "Finally, the model calculates the euclidean distance between the two generated representations. A **contrastive loss** is used, to optimize the learned similarity.\n",
    "\n",
    "It is a **distance-based** loss function as opposed to more conventional error-prediction losses. This loss is used to learn embeddings in which two similar points have a low Euclidean distance and two dissimilar points have a large Euclidean distance.\n",
    "\n",
    "It measures the **cost of data pairs**. Its objective is to *minimize* the distance between similar data and to *separate* any two dissimilar data with a distance margin:"
   ]
  },
  {
   "cell_type": "code",
   "execution_count": 71,
   "metadata": {},
   "outputs": [],
   "source": [
    "def contrastive_loss(y_true, y_pred):\n",
    "    margin = 1\n",
    "    # explicitly cast the true class label data type to the predicted class label data type\n",
    "    y_true = tf.cast(y_true, y_pred.dtype)\n",
    "    \n",
    "    # calculate the contrastive loss between the true labels and the predicted labels\n",
    "    squaredPreds = K.square(y_pred)\n",
    "    squaredMargin = K.square(K.maximum(margin - y_pred, 0))\n",
    "    loss = K.mean(y_true * squaredPreds + (1 - y_true) * squaredMargin)\n",
    "    \n",
    "    return loss"
   ]
  },
  {
   "cell_type": "markdown",
   "metadata": {},
   "source": [
    "This loss *encourages* the embedding to be close to each other for the samples of the same label and the embedding to be far apart at least by the *margin constant* for the samples of different labels. We expect:\n",
    "* `y_true`: the ground-truth labels from our dataset. A value of **1** indicates that the two images in the pair are of the same class, while a value of **0** indicates that the images belong to two different classes. It is to be provided as 1-D integer Tensor with shape `[batch_size]` of **binary labels**,\n",
    "* `y_pred`: the predictions from our siamese network (i.e., distances between the image pairs). Must be 1-D float Tensor with shape `[batch_size]` of **euclidean distances** between two embedding matrices with shape `[batch_size, hidden_size]`."
   ]
  },
  {
   "cell_type": "markdown",
   "metadata": {},
   "source": [
    "### Similarity\n",
    "To calculate the similarity between a seed image and the rest of the collection, the model is applied to predict the distance between this seed image and every other. The result is a list of distances which has to be sorted descendingly."
   ]
  },
  {
   "cell_type": "markdown",
   "metadata": {},
   "source": [
    "### Euclidean Distance\n",
    "Firstly, we define a **distance measure** to compare the two representations. We will be using the well known Euclidean distance:"
   ]
  },
  {
   "cell_type": "code",
   "execution_count": 72,
   "metadata": {},
   "outputs": [],
   "source": [
    "def euclidean_distance(vects):\n",
    "    x, y = vects\n",
    "    return K.sqrt(K.maximum(K.sum(K.square(x - y), axis=1, keepdims=True), K.epsilon()))"
   ]
  },
  {
   "cell_type": "markdown",
   "metadata": {},
   "source": [
    "### The Siamese Network Architecture\n",
    "\n",
    "Now we define the Siamese Network Architecture. It consists of two fully connected layers. These layers are shared among the \"Siamese twins\". The network takes two inputs. One goes to the left twin, the other to the right one. The Euclidean distance of the output of each twin is calculated which is the final output of the model.\n",
    "\n",
    "**NOTA 1**: the [Concatenate layer](https://keras.io/api/layers/merging_layers/concatenate/) takes as input a list of tensors, all of the same shape except for the concatenation axis, and returns a single tensor that is the concatenation of all inputs.\n",
    "\n",
    "**NOTA 2**: the [Lambda layer](https://keras.io/api/layers/core_layers/lambda/) exists so that arbitrary expressions can be used as a Layer. Arguments:\n",
    "* Function to be evaluated. Takes input tensor as first argument.\n",
    "* Expected output shape from function."
   ]
  },
  {
   "cell_type": "code",
   "execution_count": 73,
   "metadata": {},
   "outputs": [],
   "source": [
    "def create_siamese_network():\n",
    "\n",
    "    # --- input layers\n",
    "    input_ref = Input((80,80,1), name=\"input_ref\") # reference track\n",
    "    input_dif = Input((80,80,1), name=\"input_dif\") # different track\n",
    "    \n",
    "    # --- input pre-processing\n",
    "    gn = GaussianNoise(0.2, name=\"gauss_noise\")    # add noise to input during training to avoid overfitting\n",
    "    bn = BatchNormalization(name=\"bnorm_input\")    # normalize input\n",
    "\n",
    "    # --- CNN-Stack A\n",
    "    cnn_a_1 = Conv2D(16, (21,11), \n",
    "                     padding            = \"same\", \n",
    "                     activation         = \"relu\", \n",
    "                     kernel_regularizer = l2(0.0001), \n",
    "                     name               = \"conv_a\")\n",
    "    \n",
    "    cnn_a_2 = MaxPooling2D((20,4), name = \"max_pooling_a\")\n",
    "    cnn_a_3 = BatchNormalization(  name = \"bnorm_a\")\n",
    "    cnn_a_4 = Flatten(             name = \"flatten_a\")\n",
    "\n",
    "    # --- CNN-Stack B\n",
    "    cnn_b_1 = Conv2D(16, (11,21), \n",
    "                     padding            = \"same\", \n",
    "                     activation         = \"relu\", \n",
    "                     kernel_regularizer = l2(0.0001), \n",
    "                     name               = \"conv_b\")\n",
    "    \n",
    "    cnn_b_2 = MaxPooling2D((4,20), name = \"max_pooling_b\")\n",
    "    cnn_b_3 = BatchNormalization(  name = \"bnorm_b\")\n",
    "    cnn_b_4 = Flatten(             name = \"flatten_b\")\n",
    "\n",
    "    # --- merge parallel CNN Stacks\n",
    "    mrg = Concatenate(axis=1, name=\"concatenate\")\n",
    "\n",
    "    # --- Fully connected layer => learned representation layer\n",
    "    hidden_layer = Dense(256, activation=\"elu\", kernel_constraint=unit_norm())\n",
    "    \n",
    "    # --- function to assemble shared layers\n",
    "    def get_shared_dnn(m_input):\n",
    "        shared_cnn_a = cnn_a_4(cnn_a_3(cnn_a_2(cnn_a_1(bn(gn(m_input))))))\n",
    "        shared_cnn_b = cnn_b_4(cnn_b_3(cnn_b_2(cnn_b_1(bn(gn(m_input))))))\n",
    "\n",
    "        return hidden_layer(mrg([shared_cnn_a,shared_cnn_b]))\n",
    "\n",
    "    # --- instantiate shared layers\n",
    "    siamese_ref = get_shared_dnn(input_ref)\n",
    "    siamese_dif = get_shared_dnn(input_dif)\n",
    "\n",
    "    # --- calculate dissimilarity\n",
    "    dist  = Lambda(euclidean_distance, output_shape=lambda x: x[0])([siamese_ref, siamese_dif])\n",
    "    \n",
    "    # --- build model\n",
    "    model = Model(inputs=[input_ref, input_dif], outputs=dist)\n",
    "    \n",
    "    return model"
   ]
  },
  {
   "cell_type": "code",
   "execution_count": 74,
   "metadata": {},
   "outputs": [
    {
     "name": "stdout",
     "output_type": "stream",
     "text": [
      "Model: \"model_2\"\n",
      "__________________________________________________________________________________________________\n",
      "Layer (type)                    Output Shape         Param #     Connected to                     \n",
      "==================================================================================================\n",
      "input_ref (InputLayer)          [(None, 80, 80, 1)]  0                                            \n",
      "__________________________________________________________________________________________________\n",
      "input_dif (InputLayer)          [(None, 80, 80, 1)]  0                                            \n",
      "__________________________________________________________________________________________________\n",
      "gauss_noise (GaussianNoise)     (None, 80, 80, 1)    0           input_ref[0][0]                  \n",
      "                                                                 input_ref[0][0]                  \n",
      "                                                                 input_dif[0][0]                  \n",
      "                                                                 input_dif[0][0]                  \n",
      "__________________________________________________________________________________________________\n",
      "bnorm_input (BatchNormalization (None, 80, 80, 1)    4           gauss_noise[0][0]                \n",
      "                                                                 gauss_noise[1][0]                \n",
      "                                                                 gauss_noise[2][0]                \n",
      "                                                                 gauss_noise[3][0]                \n",
      "__________________________________________________________________________________________________\n",
      "conv_a (Conv2D)                 (None, 80, 80, 16)   3712        bnorm_input[0][0]                \n",
      "                                                                 bnorm_input[2][0]                \n",
      "__________________________________________________________________________________________________\n",
      "conv_b (Conv2D)                 (None, 80, 80, 16)   3712        bnorm_input[1][0]                \n",
      "                                                                 bnorm_input[3][0]                \n",
      "__________________________________________________________________________________________________\n",
      "max_pooling_a (MaxPooling2D)    (None, 4, 20, 16)    0           conv_a[0][0]                     \n",
      "                                                                 conv_a[1][0]                     \n",
      "__________________________________________________________________________________________________\n",
      "max_pooling_b (MaxPooling2D)    (None, 20, 4, 16)    0           conv_b[0][0]                     \n",
      "                                                                 conv_b[1][0]                     \n",
      "__________________________________________________________________________________________________\n",
      "bnorm_a (BatchNormalization)    (None, 4, 20, 16)    64          max_pooling_a[0][0]              \n",
      "                                                                 max_pooling_a[1][0]              \n",
      "__________________________________________________________________________________________________\n",
      "bnorm_b (BatchNormalization)    (None, 20, 4, 16)    64          max_pooling_b[0][0]              \n",
      "                                                                 max_pooling_b[1][0]              \n",
      "__________________________________________________________________________________________________\n",
      "flatten_a (Flatten)             (None, 1280)         0           bnorm_a[0][0]                    \n",
      "                                                                 bnorm_a[1][0]                    \n",
      "__________________________________________________________________________________________________\n",
      "flatten_b (Flatten)             (None, 1280)         0           bnorm_b[0][0]                    \n",
      "                                                                 bnorm_b[1][0]                    \n",
      "__________________________________________________________________________________________________\n",
      "concatenate (Concatenate)       (None, 2560)         0           flatten_a[0][0]                  \n",
      "                                                                 flatten_b[0][0]                  \n",
      "                                                                 flatten_a[1][0]                  \n",
      "                                                                 flatten_b[1][0]                  \n",
      "__________________________________________________________________________________________________\n",
      "dense_2 (Dense)                 (None, 256)          655616      concatenate[0][0]                \n",
      "                                                                 concatenate[1][0]                \n",
      "__________________________________________________________________________________________________\n",
      "lambda_2 (Lambda)               (None, 1)            0           dense_2[0][0]                    \n",
      "                                                                 dense_2[1][0]                    \n",
      "==================================================================================================\n",
      "Total params: 663,172\n",
      "Trainable params: 663,106\n",
      "Non-trainable params: 66\n",
      "__________________________________________________________________________________________________\n"
     ]
    }
   ],
   "source": [
    "model = create_siamese_network()\n",
    "model.summary()"
   ]
  },
  {
   "cell_type": "markdown",
   "metadata": {},
   "source": [
    "We convert the model to dot format and save it to a file:"
   ]
  },
  {
   "cell_type": "code",
   "execution_count": 75,
   "metadata": {},
   "outputs": [
    {
     "data": {
      "image/png": "[encoded data removed]",
      "text/plain": [
       "<IPython.core.display.Image object>"
      ]
     },
     "execution_count": 75,
     "metadata": {},
     "output_type": "execute_result"
    }
   ],
   "source": [
    "from keras.utils.vis_utils import plot_model\n",
    "\n",
    "plot_model(model, to_file='../../images/013_Siamese_Networks_model.png', show_shapes=True, show_layer_names=True, dpi=300)"
   ]
  },
  {
   "cell_type": "markdown",
   "metadata": {},
   "source": [
    "### Create Data-Pairs\n",
    "\n",
    "Now we have to prepare and partition the input data. Because it is a **pair-wise comparison approach**, we have to create pairs of input instances with sequentially one row containing the reference track and a similar example and the consecutive row containing the reference track and a dissimilar example."
   ]
  },
  {
   "cell_type": "code",
   "execution_count": 76,
   "metadata": {},
   "outputs": [],
   "source": [
    "def create_pairs(feature_data, metadata, labels, num_triplets_per_track):\n",
    "    \n",
    "    data_ref  = []\n",
    "    data_dif  = []\n",
    "    gt_labels = []\n",
    "    \n",
    "    pbar = progressbar.ProgressBar(max_value=metadata.shape[0])\n",
    "        \n",
    "    for row_id, q_track in pbar(metadata.iterrows()):\n",
    "        \n",
    "        for _ in range(num_triplets_per_track):\n",
    "            \n",
    "            label_diff = np.abs(labels - labels.loc[row_id]).sum(axis=1)\n",
    "            \n",
    "            similar_instances    = label_diff[label_diff == 0]\n",
    "            dissimilar_instances = label_diff[label_diff != 0] \n",
    "            \n",
    "            # search similar and dissimilar examples\n",
    "            pos_example_idx      = similar_instances.sample(1).index.values[0]\n",
    "            neg_example_idx      = dissimilar_instances.sample(1).index.values[0]\n",
    "            \n",
    "            # create feature triplets\n",
    "            feat_id_ref          = metadata.loc[row_id].featurespace_id\n",
    "            feat_id_pos          = metadata.loc[pos_example_idx].featurespace_id\n",
    "            feat_id_neg          = metadata.loc[neg_example_idx].featurespace_id\n",
    "            \n",
    "            # genuine pair\n",
    "            data_ref.append(feature_data[feat_id_ref])\n",
    "            data_dif.append(feature_data[feat_id_pos])\n",
    "            gt_labels.append(1)\n",
    "            \n",
    "            # impostor pair\n",
    "            data_ref.append(feature_data[feat_id_ref])\n",
    "            data_dif.append(feature_data[feat_id_neg])\n",
    "            gt_labels.append(0)\n",
    "\n",
    "    return [np.asarray(data_ref), np.asarray(data_dif)], np.asarray(gt_labels)"
   ]
  },
  {
   "cell_type": "markdown",
   "metadata": {},
   "source": [
    "#### EXPLICACION DE LA FUNCION `create_pairs`"
   ]
  },
  {
   "cell_type": "code",
   "execution_count": 77,
   "metadata": {},
   "outputs": [
    {
     "data": {
      "text/html": [
       "<div>\n",
       "<style scoped>\n",
       "    .dataframe tbody tr th:only-of-type {\n",
       "        vertical-align: middle;\n",
       "    }\n",
       "\n",
       "    .dataframe tbody tr th {\n",
       "        vertical-align: top;\n",
       "    }\n",
       "\n",
       "    .dataframe thead th {\n",
       "        text-align: right;\n",
       "    }\n",
       "</style>\n",
       "<table border=\"1\" class=\"dataframe\">\n",
       "  <thead>\n",
       "    <tr style=\"text-align: right;\">\n",
       "      <th></th>\n",
       "      <th>classical</th>\n",
       "      <th>country</th>\n",
       "      <th>jazz</th>\n",
       "      <th>pop</th>\n",
       "      <th>rock</th>\n",
       "      <th>techno</th>\n",
       "      <th>blues</th>\n",
       "      <th>dance</th>\n",
       "    </tr>\n",
       "  </thead>\n",
       "  <tbody>\n",
       "    <tr>\n",
       "      <th>19072</th>\n",
       "      <td>0</td>\n",
       "      <td>0</td>\n",
       "      <td>0</td>\n",
       "      <td>0</td>\n",
       "      <td>1</td>\n",
       "      <td>0</td>\n",
       "      <td>0</td>\n",
       "      <td>0</td>\n",
       "    </tr>\n",
       "    <tr>\n",
       "      <th>17487</th>\n",
       "      <td>1</td>\n",
       "      <td>0</td>\n",
       "      <td>0</td>\n",
       "      <td>0</td>\n",
       "      <td>0</td>\n",
       "      <td>0</td>\n",
       "      <td>0</td>\n",
       "      <td>0</td>\n",
       "    </tr>\n",
       "    <tr>\n",
       "      <th>15668</th>\n",
       "      <td>0</td>\n",
       "      <td>0</td>\n",
       "      <td>0</td>\n",
       "      <td>0</td>\n",
       "      <td>1</td>\n",
       "      <td>0</td>\n",
       "      <td>0</td>\n",
       "      <td>0</td>\n",
       "    </tr>\n",
       "    <tr>\n",
       "      <th>11610</th>\n",
       "      <td>1</td>\n",
       "      <td>0</td>\n",
       "      <td>0</td>\n",
       "      <td>0</td>\n",
       "      <td>0</td>\n",
       "      <td>0</td>\n",
       "      <td>0</td>\n",
       "      <td>0</td>\n",
       "    </tr>\n",
       "    <tr>\n",
       "      <th>17489</th>\n",
       "      <td>0</td>\n",
       "      <td>0</td>\n",
       "      <td>0</td>\n",
       "      <td>0</td>\n",
       "      <td>0</td>\n",
       "      <td>1</td>\n",
       "      <td>0</td>\n",
       "      <td>0</td>\n",
       "    </tr>\n",
       "    <tr>\n",
       "      <th>...</th>\n",
       "      <td>...</td>\n",
       "      <td>...</td>\n",
       "      <td>...</td>\n",
       "      <td>...</td>\n",
       "      <td>...</td>\n",
       "      <td>...</td>\n",
       "      <td>...</td>\n",
       "      <td>...</td>\n",
       "    </tr>\n",
       "    <tr>\n",
       "      <th>13597</th>\n",
       "      <td>1</td>\n",
       "      <td>0</td>\n",
       "      <td>0</td>\n",
       "      <td>0</td>\n",
       "      <td>0</td>\n",
       "      <td>0</td>\n",
       "      <td>0</td>\n",
       "      <td>0</td>\n",
       "    </tr>\n",
       "    <tr>\n",
       "      <th>9433</th>\n",
       "      <td>1</td>\n",
       "      <td>0</td>\n",
       "      <td>0</td>\n",
       "      <td>0</td>\n",
       "      <td>0</td>\n",
       "      <td>0</td>\n",
       "      <td>0</td>\n",
       "      <td>0</td>\n",
       "    </tr>\n",
       "    <tr>\n",
       "      <th>2579</th>\n",
       "      <td>0</td>\n",
       "      <td>0</td>\n",
       "      <td>1</td>\n",
       "      <td>0</td>\n",
       "      <td>0</td>\n",
       "      <td>0</td>\n",
       "      <td>0</td>\n",
       "      <td>0</td>\n",
       "    </tr>\n",
       "    <tr>\n",
       "      <th>15587</th>\n",
       "      <td>0</td>\n",
       "      <td>0</td>\n",
       "      <td>0</td>\n",
       "      <td>0</td>\n",
       "      <td>0</td>\n",
       "      <td>1</td>\n",
       "      <td>0</td>\n",
       "      <td>0</td>\n",
       "    </tr>\n",
       "    <tr>\n",
       "      <th>19000</th>\n",
       "      <td>0</td>\n",
       "      <td>0</td>\n",
       "      <td>1</td>\n",
       "      <td>0</td>\n",
       "      <td>0</td>\n",
       "      <td>0</td>\n",
       "      <td>0</td>\n",
       "      <td>0</td>\n",
       "    </tr>\n",
       "  </tbody>\n",
       "</table>\n",
       "<p>1998 rows × 8 columns</p>\n",
       "</div>"
      ],
      "text/plain": [
       "       classical  country  jazz  pop  rock  techno  blues  dance\n",
       "19072  0          0        0     0    1     0       0      0    \n",
       "17487  1          0        0     0    0     0       0      0    \n",
       "15668  0          0        0     0    1     0       0      0    \n",
       "11610  1          0        0     0    0     0       0      0    \n",
       "17489  0          0        0     0    0     1       0      0    \n",
       "...   ..         ..       ..    ..   ..    ..      ..     ..    \n",
       "13597  1          0        0     0    0     0       0      0    \n",
       "9433   1          0        0     0    0     0       0      0    \n",
       "2579   0          0        1     0    0     0       0      0    \n",
       "15587  0          0        0     0    0     1       0      0    \n",
       "19000  0          0        1     0    0     0       0      0    \n",
       "\n",
       "[1998 rows x 8 columns]"
      ]
     },
     "execution_count": 77,
     "metadata": {},
     "output_type": "execute_result"
    }
   ],
   "source": [
    "labels = label_metadata\n",
    "labels"
   ]
  },
  {
   "cell_type": "code",
   "execution_count": 78,
   "metadata": {},
   "outputs": [
    {
     "data": {
      "text/html": [
       "<div>\n",
       "<style scoped>\n",
       "    .dataframe tbody tr th:only-of-type {\n",
       "        vertical-align: middle;\n",
       "    }\n",
       "\n",
       "    .dataframe tbody tr th {\n",
       "        vertical-align: top;\n",
       "    }\n",
       "\n",
       "    .dataframe thead th {\n",
       "        text-align: right;\n",
       "    }\n",
       "</style>\n",
       "<table border=\"1\" class=\"dataframe\">\n",
       "  <thead>\n",
       "    <tr style=\"text-align: right;\">\n",
       "      <th></th>\n",
       "      <th>classical</th>\n",
       "      <th>country</th>\n",
       "      <th>jazz</th>\n",
       "      <th>pop</th>\n",
       "      <th>rock</th>\n",
       "      <th>techno</th>\n",
       "      <th>blues</th>\n",
       "      <th>dance</th>\n",
       "    </tr>\n",
       "  </thead>\n",
       "  <tbody>\n",
       "    <tr>\n",
       "      <th>19072</th>\n",
       "      <td>0</td>\n",
       "      <td>0</td>\n",
       "      <td>0</td>\n",
       "      <td>0</td>\n",
       "      <td>0</td>\n",
       "      <td>0</td>\n",
       "      <td>0</td>\n",
       "      <td>0</td>\n",
       "    </tr>\n",
       "    <tr>\n",
       "      <th>17487</th>\n",
       "      <td>1</td>\n",
       "      <td>0</td>\n",
       "      <td>0</td>\n",
       "      <td>0</td>\n",
       "      <td>1</td>\n",
       "      <td>0</td>\n",
       "      <td>0</td>\n",
       "      <td>0</td>\n",
       "    </tr>\n",
       "    <tr>\n",
       "      <th>15668</th>\n",
       "      <td>0</td>\n",
       "      <td>0</td>\n",
       "      <td>0</td>\n",
       "      <td>0</td>\n",
       "      <td>0</td>\n",
       "      <td>0</td>\n",
       "      <td>0</td>\n",
       "      <td>0</td>\n",
       "    </tr>\n",
       "    <tr>\n",
       "      <th>11610</th>\n",
       "      <td>1</td>\n",
       "      <td>0</td>\n",
       "      <td>0</td>\n",
       "      <td>0</td>\n",
       "      <td>1</td>\n",
       "      <td>0</td>\n",
       "      <td>0</td>\n",
       "      <td>0</td>\n",
       "    </tr>\n",
       "    <tr>\n",
       "      <th>17489</th>\n",
       "      <td>0</td>\n",
       "      <td>0</td>\n",
       "      <td>0</td>\n",
       "      <td>0</td>\n",
       "      <td>1</td>\n",
       "      <td>1</td>\n",
       "      <td>0</td>\n",
       "      <td>0</td>\n",
       "    </tr>\n",
       "    <tr>\n",
       "      <th>...</th>\n",
       "      <td>...</td>\n",
       "      <td>...</td>\n",
       "      <td>...</td>\n",
       "      <td>...</td>\n",
       "      <td>...</td>\n",
       "      <td>...</td>\n",
       "      <td>...</td>\n",
       "      <td>...</td>\n",
       "    </tr>\n",
       "    <tr>\n",
       "      <th>13597</th>\n",
       "      <td>1</td>\n",
       "      <td>0</td>\n",
       "      <td>0</td>\n",
       "      <td>0</td>\n",
       "      <td>1</td>\n",
       "      <td>0</td>\n",
       "      <td>0</td>\n",
       "      <td>0</td>\n",
       "    </tr>\n",
       "    <tr>\n",
       "      <th>9433</th>\n",
       "      <td>1</td>\n",
       "      <td>0</td>\n",
       "      <td>0</td>\n",
       "      <td>0</td>\n",
       "      <td>1</td>\n",
       "      <td>0</td>\n",
       "      <td>0</td>\n",
       "      <td>0</td>\n",
       "    </tr>\n",
       "    <tr>\n",
       "      <th>2579</th>\n",
       "      <td>0</td>\n",
       "      <td>0</td>\n",
       "      <td>1</td>\n",
       "      <td>0</td>\n",
       "      <td>1</td>\n",
       "      <td>0</td>\n",
       "      <td>0</td>\n",
       "      <td>0</td>\n",
       "    </tr>\n",
       "    <tr>\n",
       "      <th>15587</th>\n",
       "      <td>0</td>\n",
       "      <td>0</td>\n",
       "      <td>0</td>\n",
       "      <td>0</td>\n",
       "      <td>1</td>\n",
       "      <td>1</td>\n",
       "      <td>0</td>\n",
       "      <td>0</td>\n",
       "    </tr>\n",
       "    <tr>\n",
       "      <th>19000</th>\n",
       "      <td>0</td>\n",
       "      <td>0</td>\n",
       "      <td>1</td>\n",
       "      <td>0</td>\n",
       "      <td>1</td>\n",
       "      <td>0</td>\n",
       "      <td>0</td>\n",
       "      <td>0</td>\n",
       "    </tr>\n",
       "  </tbody>\n",
       "</table>\n",
       "<p>1998 rows × 8 columns</p>\n",
       "</div>"
      ],
      "text/plain": [
       "       classical  country  jazz  pop  rock  techno  blues  dance\n",
       "19072  0          0        0     0    0     0       0      0    \n",
       "17487  1          0        0     0    1     0       0      0    \n",
       "15668  0          0        0     0    0     0       0      0    \n",
       "11610  1          0        0     0    1     0       0      0    \n",
       "17489  0          0        0     0    1     1       0      0    \n",
       "...   ..         ..       ..    ..   ..    ..      ..     ..    \n",
       "13597  1          0        0     0    1     0       0      0    \n",
       "9433   1          0        0     0    1     0       0      0    \n",
       "2579   0          0        1     0    1     0       0      0    \n",
       "15587  0          0        0     0    1     1       0      0    \n",
       "19000  0          0        1     0    1     0       0      0    \n",
       "\n",
       "[1998 rows x 8 columns]"
      ]
     },
     "execution_count": 78,
     "metadata": {},
     "output_type": "execute_result"
    }
   ],
   "source": [
    "row_id = 19072\n",
    "labels_diff = np.abs(labels - labels.loc[row_id])\n",
    "labels_diff "
   ]
  },
  {
   "cell_type": "code",
   "execution_count": 79,
   "metadata": {
    "scrolled": true
   },
   "outputs": [
    {
     "data": {
      "text/plain": [
       "19072    0\n",
       "17487    2\n",
       "15668    0\n",
       "11610    2\n",
       "17489    2\n",
       "        ..\n",
       "13597    2\n",
       "9433     2\n",
       "2579     2\n",
       "15587    2\n",
       "19000    2\n",
       "Length: 1998, dtype: int64"
      ]
     },
     "execution_count": 79,
     "metadata": {},
     "output_type": "execute_result"
    }
   ],
   "source": [
    "label_diff = labels_diff.sum(axis=1)\n",
    "label_diff"
   ]
  },
  {
   "cell_type": "code",
   "execution_count": 80,
   "metadata": {},
   "outputs": [
    {
     "data": {
      "text/plain": [
       "19072    0\n",
       "15668    0\n",
       "5153     0\n",
       "17495    0\n",
       "7417     0\n",
       "        ..\n",
       "17890    0\n",
       "24427    0\n",
       "14780    0\n",
       "13537    0\n",
       "17363    0\n",
       "Length: 379, dtype: int64"
      ]
     },
     "execution_count": 80,
     "metadata": {},
     "output_type": "execute_result"
    }
   ],
   "source": [
    "similar_instances = label_diff[label_diff == 0]\n",
    "similar_instances"
   ]
  },
  {
   "cell_type": "code",
   "execution_count": 81,
   "metadata": {},
   "outputs": [
    {
     "data": {
      "text/plain": [
       "17487    2\n",
       "11610    2\n",
       "17489    2\n",
       "2689     2\n",
       "17491    2\n",
       "        ..\n",
       "13597    2\n",
       "9433     2\n",
       "2579     2\n",
       "15587    2\n",
       "19000    2\n",
       "Length: 1619, dtype: int64"
      ]
     },
     "execution_count": 81,
     "metadata": {},
     "output_type": "execute_result"
    }
   ],
   "source": [
    "dissimilar_instances = label_diff[label_diff != 0]\n",
    "dissimilar_instances"
   ]
  },
  {
   "cell_type": "code",
   "execution_count": 82,
   "metadata": {},
   "outputs": [
    {
     "data": {
      "text/plain": [
       "5993"
      ]
     },
     "execution_count": 82,
     "metadata": {},
     "output_type": "execute_result"
    }
   ],
   "source": [
    "# search a similar random sample\n",
    "pos_example_idx = similar_instances.sample(1).index.values[0]\n",
    "pos_example_idx"
   ]
  },
  {
   "cell_type": "code",
   "execution_count": 83,
   "metadata": {},
   "outputs": [
    {
     "data": {
      "text/plain": [
       "20130"
      ]
     },
     "execution_count": 83,
     "metadata": {},
     "output_type": "execute_result"
    }
   ],
   "source": [
    "# search a dissimilar random sample\n",
    "neg_example_idx = dissimilar_instances.sample(1).index.values[0]\n",
    "neg_example_idx"
   ]
  },
  {
   "cell_type": "code",
   "execution_count": 84,
   "metadata": {},
   "outputs": [
    {
     "data": {
      "text/plain": [
       "(0, 677, 1469)"
      ]
     },
     "execution_count": 84,
     "metadata": {},
     "output_type": "execute_result"
    }
   ],
   "source": [
    "# create a feature triplet\n",
    "feat_id_ref = metadata.loc[row_id].featurespace_id\n",
    "feat_id_pos = metadata.loc[pos_example_idx].featurespace_id\n",
    "feat_id_neg = metadata.loc[neg_example_idx].featurespace_id\n",
    "feat_id_ref, feat_id_pos, feat_id_neg"
   ]
  },
  {
   "cell_type": "code",
   "execution_count": 85,
   "metadata": {},
   "outputs": [],
   "source": [
    "feature_data = melspecs\n",
    "data_ref  = []\n",
    "data_dif  = []\n",
    "gt_labels = []\n",
    "\n",
    "# positive data pair + paired label --> one row\n",
    "data_ref.append(feature_data[feat_id_ref])\n",
    "data_dif.append(feature_data[feat_id_pos])\n",
    "gt_labels.append(1)\n",
    "\n",
    "# negative data pair + paired label --> consecutive row\n",
    "data_ref.append(feature_data[feat_id_ref])\n",
    "data_dif.append(feature_data[feat_id_neg])\n",
    "gt_labels.append(0)\n",
    "\n",
    "# data pair --> CASE row_id=19072, num_triplets_per_track=1\n",
    "data_pairs = [np.asarray(data_ref), np.asarray(data_dif)]"
   ]
  },
  {
   "cell_type": "code",
   "execution_count": 86,
   "metadata": {},
   "outputs": [
    {
     "data": {
      "text/plain": [
       "(1998, 80, 80, 1)"
      ]
     },
     "execution_count": 86,
     "metadata": {},
     "output_type": "execute_result"
    }
   ],
   "source": [
    "feature_data.shape"
   ]
  },
  {
   "cell_type": "code",
   "execution_count": 87,
   "metadata": {},
   "outputs": [
    {
     "data": {
      "text/plain": [
       "(2, 80, 80, 1)"
      ]
     },
     "execution_count": 87,
     "metadata": {},
     "output_type": "execute_result"
    }
   ],
   "source": [
    "np.shape(data_ref)"
   ]
  },
  {
   "cell_type": "code",
   "execution_count": 88,
   "metadata": {},
   "outputs": [
    {
     "data": {
      "text/plain": [
       "(2, 80, 80, 1)"
      ]
     },
     "execution_count": 88,
     "metadata": {},
     "output_type": "execute_result"
    }
   ],
   "source": [
    "np.shape(data_dif)"
   ]
  },
  {
   "cell_type": "code",
   "execution_count": 89,
   "metadata": {},
   "outputs": [
    {
     "data": {
      "text/plain": [
       "(2,)"
      ]
     },
     "execution_count": 89,
     "metadata": {},
     "output_type": "execute_result"
    }
   ],
   "source": [
    "np.shape(gt_labels)"
   ]
  },
  {
   "cell_type": "code",
   "execution_count": 90,
   "metadata": {},
   "outputs": [
    {
     "data": {
      "text/plain": [
       "(2, 2, 80, 80, 1)"
      ]
     },
     "execution_count": 90,
     "metadata": {},
     "output_type": "execute_result"
    }
   ],
   "source": [
    "np.shape(data_pairs)"
   ]
  },
  {
   "cell_type": "markdown",
   "metadata": {},
   "source": [
    "#### EXECUTE THE FUNCTION `create_pairs`"
   ]
  },
  {
   "cell_type": "code",
   "execution_count": 91,
   "metadata": {},
   "outputs": [
    {
     "name": "stderr",
     "output_type": "stream",
     "text": [
      "100% (1998 of 1998) |####################| Elapsed Time: 0:00:11 Time:  0:00:11\n"
     ]
    }
   ],
   "source": [
    "data_pairs, paired_labels = create_pairs(melspecs, metadata, label_metadata, 5)"
   ]
  },
  {
   "cell_type": "code",
   "execution_count": 92,
   "metadata": {},
   "outputs": [
    {
     "name": "stdout",
     "output_type": "stream",
     "text": [
      "(2, 19980, 80, 80, 1)\n",
      "(19980,)\n"
     ]
    }
   ],
   "source": [
    "# check - how many instances have we created? --> 2*5*1998\n",
    "print(np.shape(data_pairs))\n",
    "print(np.shape(paired_labels))"
   ]
  },
  {
   "cell_type": "markdown",
   "metadata": {},
   "source": [
    "### Prepare the Siamese Neural Network"
   ]
  },
  {
   "cell_type": "code",
   "execution_count": 93,
   "metadata": {},
   "outputs": [],
   "source": [
    "# define the model\n",
    "model_orig = create_siamese_network()\n",
    "\n",
    "# define the optimizer\n",
    "opt = Adam(lr=0.0001, decay=0.001)\n",
    "\n",
    "# compile the model\n",
    "model_orig.compile(loss=contrastive_loss, optimizer=opt)"
   ]
  },
  {
   "cell_type": "markdown",
   "metadata": {},
   "source": [
    "Try casting the input data and labels to `float32`:"
   ]
  },
  {
   "cell_type": "code",
   "execution_count": 94,
   "metadata": {},
   "outputs": [
    {
     "data": {
      "text/plain": [
       "dtype('float32')"
      ]
     },
     "execution_count": 94,
     "metadata": {},
     "output_type": "execute_result"
    }
   ],
   "source": [
    "data_pairs[0].dtype"
   ]
  },
  {
   "cell_type": "code",
   "execution_count": 95,
   "metadata": {},
   "outputs": [
    {
     "data": {
      "text/plain": [
       "dtype('int64')"
      ]
     },
     "execution_count": 95,
     "metadata": {},
     "output_type": "execute_result"
    }
   ],
   "source": [
    "paired_labels.dtype"
   ]
  },
  {
   "cell_type": "code",
   "execution_count": 96,
   "metadata": {},
   "outputs": [
    {
     "data": {
      "text/plain": [
       "dtype('float32')"
      ]
     },
     "execution_count": 96,
     "metadata": {},
     "output_type": "execute_result"
    }
   ],
   "source": [
    "paired_labels = paired_labels.astype(np.float32)\n",
    "paired_labels.dtype"
   ]
  },
  {
   "cell_type": "markdown",
   "metadata": {},
   "source": [
    "### Train the Siamese Neural Network"
   ]
  },
  {
   "cell_type": "code",
   "execution_count": 97,
   "metadata": {},
   "outputs": [
    {
     "name": "stdout",
     "output_type": "stream",
     "text": [
      "Epoch 1/10\n",
      "281/281 [==============================] - 539s 2s/step - loss: 36.0768 - val_loss: 5.1846\n",
      "Epoch 2/10\n",
      "281/281 [==============================] - 498s 2s/step - loss: 3.6978 - val_loss: 1.8926\n",
      "Epoch 3/10\n",
      "281/281 [==============================] - 525s 2s/step - loss: 1.3436 - val_loss: 1.0043\n",
      "Epoch 4/10\n",
      "281/281 [==============================] - 505s 2s/step - loss: 0.7473 - val_loss: 0.6832\n",
      "Epoch 5/10\n",
      "281/281 [==============================] - 492s 2s/step - loss: 0.5268 - val_loss: 0.5391\n",
      "Epoch 6/10\n",
      "281/281 [==============================] - 487s 2s/step - loss: 0.4281 - val_loss: 0.4646\n",
      "Epoch 7/10\n",
      "281/281 [==============================] - 518s 2s/step - loss: 0.3812 - val_loss: 0.4208\n",
      "Epoch 8/10\n",
      "281/281 [==============================] - 533s 2s/step - loss: 0.3427 - val_loss: 0.3927\n",
      "Epoch 9/10\n",
      "281/281 [==============================] - 551s 2s/step - loss: 0.3243 - val_loss: 0.3720\n",
      "Epoch 10/10\n",
      "281/281 [==============================] - 545s 2s/step - loss: 0.3083 - val_loss: 0.3564\n"
     ]
    }
   ],
   "source": [
    "# Input data --> list of arrays \n",
    "train_set = [data_pairs[0][:-2000], data_pairs[1][:-2000]]\n",
    "\n",
    "# Target data\n",
    "train_classes = paired_labels[:-2000]\n",
    "\n",
    "# Data on which to evaluate the loss at the end of each epoch\n",
    "vali_data = ([data_pairs[0][-2000:], data_pairs[1][-2000:]], paired_labels[-2000:])\n",
    "\n",
    "# fit the model\n",
    "model_orig.fit(train_set, train_classes, batch_size=64, verbose=1, epochs=10, shuffle=False, validation_data=vali_data);"
   ]
  },
  {
   "cell_type": "markdown",
   "metadata": {},
   "source": [
    "Save model weights:"
   ]
  },
  {
   "cell_type": "code",
   "execution_count": 98,
   "metadata": {},
   "outputs": [],
   "source": [
    "model_orig.save_weights('../../models/013_Siamese_Network.h5')"
   ]
  },
  {
   "cell_type": "markdown",
   "metadata": {},
   "source": [
    "**NOTA:** Keras model can be saved [during and after training](https://androidkt.com/how-to-save-and-load-model-weights-in-keras/). Using a saved model we can resume training where it left off and avoid long training times, or we can share the model so others can recreate the work. Let’s load the weights from the `.h5` file:"
   ]
  },
  {
   "cell_type": "code",
   "execution_count": 99,
   "metadata": {},
   "outputs": [],
   "source": [
    "model_orig.load_weights('../../models/013_Siamese_Network.h5')"
   ]
  },
  {
   "cell_type": "markdown",
   "metadata": {},
   "source": [
    "### Evaluate\n",
    "\n",
    "Now that we have a trained model, we want to evaluate its performance. The following function calculates the distances between a given query track and all other tracks of the collection. The result is a list of distances where the smallest distance corresponds to the most similar track. The list is sorted in ascending order and the top-ten similar tracks are presented below the information of the query track. "
   ]
  },
  {
   "cell_type": "code",
   "execution_count": 100,
   "metadata": {},
   "outputs": [],
   "source": [
    "def similar(model, query_idx):\n",
    "\n",
    "    ref_cols = ['artist','title','album']\n",
    "    print(metadata.iloc[query_idx][ref_cols])\n",
    "    \n",
    "    feat_idx = metadata.iloc[query_idx].featurespace_id\n",
    "    \n",
    "    # given query track\n",
    "    ref_feat = melspecs[feat_idx]\n",
    "    \n",
    "    # add track-dimension to ref_feat\n",
    "    ref_feat1 = np.expand_dims(ref_feat, 0)\n",
    "    \n",
    "    # repeat matrix values along track-dimension --> 1998 repetitions for each element\n",
    "    nrep = melspecs.shape[0]\n",
    "    ref_feat2 = np.repeat(ref_feat1, nrep, axis=0)\n",
    "    \n",
    "    # calculate predicted distances between query track and all others\n",
    "    res = model.predict([ref_feat2, melspecs])\n",
    "\n",
    "    # reshape\n",
    "    res = res.flatten()\n",
    "    \n",
    "    # get sorted indexes in ascending order (smallest distance to query track first)\n",
    "    si = np.argsort(res)\n",
    "    \n",
    "    # output filter\n",
    "    display_cols = ['artist','title','album','player']\n",
    "    \n",
    "    return HTML(metadata.set_index('featurespace_id').loc[si[:11]][display_cols].to_html(escape=False))"
   ]
  },
  {
   "cell_type": "markdown",
   "metadata": {},
   "source": [
    "#### EXPLICACION DE LA FUNCION `similar`"
   ]
  },
  {
   "cell_type": "code",
   "execution_count": 101,
   "metadata": {},
   "outputs": [
    {
     "name": "stdout",
     "output_type": "stream",
     "text": [
      "artist    Rocket City Riot            \n",
      "title     -All I Got-                 \n",
      "album     Last Of The Pleasure Seekers\n",
      "Name: 15668, dtype: object\n"
     ]
    }
   ],
   "source": [
    "query_idx = 2 # given query track index\n",
    "ref_cols = ['artist','title','album']\n",
    "print(metadata.iloc[query_idx][ref_cols])"
   ]
  },
  {
   "cell_type": "code",
   "execution_count": 102,
   "metadata": {},
   "outputs": [
    {
     "data": {
      "text/plain": [
       "2"
      ]
     },
     "execution_count": 102,
     "metadata": {},
     "output_type": "execute_result"
    }
   ],
   "source": [
    "feat_idx = metadata.iloc[query_idx].featurespace_id\n",
    "feat_idx"
   ]
  },
  {
   "cell_type": "code",
   "execution_count": 103,
   "metadata": {
    "scrolled": true
   },
   "outputs": [
    {
     "name": "stdout",
     "output_type": "stream",
     "text": [
      "(1998, 80, 80, 1)\n",
      "(80, 80, 1)\n",
      "(1, 80, 80, 1)\n",
      "(1998, 80, 80, 1)\n"
     ]
    }
   ],
   "source": [
    "print(melspecs.shape)\n",
    "\n",
    "# given query track\n",
    "ref_feat = melspecs[feat_idx]\n",
    "print(ref_feat.shape)\n",
    "\n",
    "# add track-dimension to ref_feat\n",
    "ref_feat1 = np.expand_dims(ref_feat, 0)\n",
    "print(ref_feat1.shape)\n",
    "\n",
    "# repeat matrix values along track-dimension --> 1998 repetitions for each element\n",
    "nrep = melspecs.shape[0]\n",
    "ref_feat2 = np.repeat(ref_feat1, nrep, axis=0)\n",
    "print(ref_feat2.shape)"
   ]
  },
  {
   "cell_type": "code",
   "execution_count": 104,
   "metadata": {},
   "outputs": [
    {
     "name": "stdout",
     "output_type": "stream",
     "text": [
      "(1998, 1)\n",
      "(1998,)\n",
      "[   2  411  761 ...  572 1837 1983]\n"
     ]
    }
   ],
   "source": [
    "# calculate predicted distances between query track and all others\n",
    "res = model_orig.predict([ref_feat2, melspecs])\n",
    "print(res.shape)\n",
    "\n",
    "# reshape\n",
    "res = res.flatten()\n",
    "print(res.shape)\n",
    "\n",
    "# get sorted indexes in ascending order (smallest distance to query track first)\n",
    "si = np.argsort(res)\n",
    "print(si)"
   ]
  },
  {
   "cell_type": "code",
   "execution_count": 105,
   "metadata": {
    "scrolled": true
   },
   "outputs": [
    {
     "data": {
      "text/html": [
       "<table border=\"1\" class=\"dataframe\">\n",
       "  <thead>\n",
       "    <tr style=\"text-align: right;\">\n",
       "      <th></th>\n",
       "      <th>artist</th>\n",
       "      <th>title</th>\n",
       "      <th>album</th>\n",
       "      <th>player</th>\n",
       "    </tr>\n",
       "    <tr>\n",
       "      <th>featurespace_id</th>\n",
       "      <th></th>\n",
       "      <th></th>\n",
       "      <th></th>\n",
       "      <th></th>\n",
       "    </tr>\n",
       "  </thead>\n",
       "  <tbody>\n",
       "    <tr>\n",
       "      <th>2</th>\n",
       "      <td>Rocket City Riot</td>\n",
       "      <td>-All I Got-</td>\n",
       "      <td>Last Of The Pleasure Seekers</td>\n",
       "      <td><audio src=\"../../../Machine-Learning/ismir2018/magnatagatune_audiofiles_subset/mp3_full/0/rocket_city_riot-last_of_the_pleasure_seekers-08-all_i_got-30-59.mp3\" type=\"audio/mpeg\" controls=\"controls\"></audio></td>\n",
       "    </tr>\n",
       "    <tr>\n",
       "      <th>411</th>\n",
       "      <td>Electric Frankenstein</td>\n",
       "      <td>Deal With It</td>\n",
       "      <td>Conquers The World</td>\n",
       "      <td><audio src=\"../../../Machine-Learning/ismir2018/magnatagatune_audiofiles_subset/mp3_full/6/electric_frankenstein-conquers_the_world-05-deal_with_it-88-117.mp3\" type=\"audio/mpeg\" controls=\"controls\"></audio></td>\n",
       "    </tr>\n",
       "    <tr>\n",
       "      <th>761</th>\n",
       "      <td>Hybris</td>\n",
       "      <td>If We Descended</td>\n",
       "      <td>The First Words</td>\n",
       "      <td><audio src=\"../../../Machine-Learning/ismir2018/magnatagatune_audiofiles_subset/mp3_full/8/hybris-the_first_words-09-if_we_descended-30-59.mp3\" type=\"audio/mpeg\" controls=\"controls\"></audio></td>\n",
       "    </tr>\n",
       "    <tr>\n",
       "      <th>1113</th>\n",
       "      <td>Electric Frankenstein</td>\n",
       "      <td>Out there (F-Word)</td>\n",
       "      <td>Sick Songs</td>\n",
       "      <td><audio src=\"../../../Machine-Learning/ismir2018/magnatagatune_audiofiles_subset/mp3_full/d/electric_frankenstein-sick_songs-10-out_there_fword-30-59.mp3\" type=\"audio/mpeg\" controls=\"controls\"></audio></td>\n",
       "    </tr>\n",
       "    <tr>\n",
       "      <th>1581</th>\n",
       "      <td>The Wretch</td>\n",
       "      <td>Spinal rape</td>\n",
       "      <td>Ambulatory</td>\n",
       "      <td><audio src=\"../../../Machine-Learning/ismir2018/magnatagatune_audiofiles_subset/mp3_full/9/the_wretch-ambulatory-07-spinal_rape-30-59.mp3\" type=\"audio/mpeg\" controls=\"controls\"></audio></td>\n",
       "    </tr>\n",
       "    <tr>\n",
       "      <th>1712</th>\n",
       "      <td>Electric Frankenstein</td>\n",
       "      <td>Teenage Shutdown</td>\n",
       "      <td>The Time Is Now</td>\n",
       "      <td><audio src=\"../../../Machine-Learning/ismir2018/magnatagatune_audiofiles_subset/mp3_full/a/electric_frankenstein-the_time_is_now-01-teenage_shutdown-30-59.mp3\" type=\"audio/mpeg\" controls=\"controls\"></audio></td>\n",
       "    </tr>\n",
       "    <tr>\n",
       "      <th>109</th>\n",
       "      <td>The West Exit</td>\n",
       "      <td>All right now</td>\n",
       "      <td>Nocturne</td>\n",
       "      <td><audio src=\"../../../Machine-Learning/ismir2018/magnatagatune_audiofiles_subset/mp3_full/d/the_west_exit-nocturne-11-all_right_now-88-117.mp3\" type=\"audio/mpeg\" controls=\"controls\"></audio></td>\n",
       "    </tr>\n",
       "    <tr>\n",
       "      <th>524</th>\n",
       "      <td>MRDC</td>\n",
       "      <td>Evolution</td>\n",
       "      <td>Timecode</td>\n",
       "      <td><audio src=\"../../../Machine-Learning/ismir2018/magnatagatune_audiofiles_subset/mp3_full/2/mrdc-timecode-04-evolution-30-59.mp3\" type=\"audio/mpeg\" controls=\"controls\"></audio></td>\n",
       "    </tr>\n",
       "    <tr>\n",
       "      <th>1024</th>\n",
       "      <td>Rocket City Riot</td>\n",
       "      <td>My Baby Loves Me</td>\n",
       "      <td>Middle Age Suicide</td>\n",
       "      <td><audio src=\"../../../Machine-Learning/ismir2018/magnatagatune_audiofiles_subset/mp3_full/0/rocket_city_riot-middle_age_suicide-08-my_baby_loves_me-59-88.mp3\" type=\"audio/mpeg\" controls=\"controls\"></audio></td>\n",
       "    </tr>\n",
       "    <tr>\n",
       "      <th>1380</th>\n",
       "      <td>Rebel Rebel</td>\n",
       "      <td>Science Vixen</td>\n",
       "      <td>Explode Into Space</td>\n",
       "      <td><audio src=\"../../../Machine-Learning/ismir2018/magnatagatune_audiofiles_subset/mp3_full/b/rebel_rebel-explode_into_space-05-science_vixen-30-59.mp3\" type=\"audio/mpeg\" controls=\"controls\"></audio></td>\n",
       "    </tr>\n",
       "    <tr>\n",
       "      <th>1598</th>\n",
       "      <td>Jade Leary</td>\n",
       "      <td>Still Wanting (After The Flood)</td>\n",
       "      <td>And Come the Sirens</td>\n",
       "      <td><audio src=\"../../../Machine-Learning/ismir2018/magnatagatune_audiofiles_subset/mp3_full/a/jade_leary-and_come_the_sirens-02-still_wanting_after_the_flood-30-59.mp3\" type=\"audio/mpeg\" controls=\"controls\"></audio></td>\n",
       "    </tr>\n",
       "  </tbody>\n",
       "</table>"
      ],
      "text/plain": [
       "<IPython.core.display.HTML object>"
      ]
     },
     "execution_count": 105,
     "metadata": {},
     "output_type": "execute_result"
    }
   ],
   "source": [
    "# output filter\n",
    "display_cols = ['artist','title','album','player']\n",
    "\n",
    "# use Jupyter display functions to enable HTML5 audio in pandas dataframe\n",
    "HTML(metadata.set_index('featurespace_id').loc[si[:11]][display_cols].to_html(escape=False))"
   ]
  },
  {
   "cell_type": "markdown",
   "metadata": {},
   "source": [
    "#### EXECUTE THE FUNCTION `similar`\n",
    "Now let's check the results for some individual tracks by supplying the index to our dataset:"
   ]
  },
  {
   "cell_type": "code",
   "execution_count": 106,
   "metadata": {},
   "outputs": [
    {
     "name": "stdout",
     "output_type": "stream",
     "text": [
      "artist    Rocket City Riot            \n",
      "title     -All I Got-                 \n",
      "album     Last Of The Pleasure Seekers\n",
      "Name: 15668, dtype: object\n"
     ]
    },
    {
     "data": {
      "text/html": [
       "<table border=\"1\" class=\"dataframe\">\n",
       "  <thead>\n",
       "    <tr style=\"text-align: right;\">\n",
       "      <th></th>\n",
       "      <th>artist</th>\n",
       "      <th>title</th>\n",
       "      <th>album</th>\n",
       "      <th>player</th>\n",
       "    </tr>\n",
       "    <tr>\n",
       "      <th>featurespace_id</th>\n",
       "      <th></th>\n",
       "      <th></th>\n",
       "      <th></th>\n",
       "      <th></th>\n",
       "    </tr>\n",
       "  </thead>\n",
       "  <tbody>\n",
       "    <tr>\n",
       "      <th>2</th>\n",
       "      <td>Rocket City Riot</td>\n",
       "      <td>-All I Got-</td>\n",
       "      <td>Last Of The Pleasure Seekers</td>\n",
       "      <td><audio src=\"../../../Machine-Learning/ismir2018/magnatagatune_audiofiles_subset/mp3_full/0/rocket_city_riot-last_of_the_pleasure_seekers-08-all_i_got-30-59.mp3\" type=\"audio/mpeg\" controls=\"controls\"></audio></td>\n",
       "    </tr>\n",
       "    <tr>\n",
       "      <th>411</th>\n",
       "      <td>Electric Frankenstein</td>\n",
       "      <td>Deal With It</td>\n",
       "      <td>Conquers The World</td>\n",
       "      <td><audio src=\"../../../Machine-Learning/ismir2018/magnatagatune_audiofiles_subset/mp3_full/6/electric_frankenstein-conquers_the_world-05-deal_with_it-88-117.mp3\" type=\"audio/mpeg\" controls=\"controls\"></audio></td>\n",
       "    </tr>\n",
       "    <tr>\n",
       "      <th>761</th>\n",
       "      <td>Hybris</td>\n",
       "      <td>If We Descended</td>\n",
       "      <td>The First Words</td>\n",
       "      <td><audio src=\"../../../Machine-Learning/ismir2018/magnatagatune_audiofiles_subset/mp3_full/8/hybris-the_first_words-09-if_we_descended-30-59.mp3\" type=\"audio/mpeg\" controls=\"controls\"></audio></td>\n",
       "    </tr>\n",
       "    <tr>\n",
       "      <th>1113</th>\n",
       "      <td>Electric Frankenstein</td>\n",
       "      <td>Out there (F-Word)</td>\n",
       "      <td>Sick Songs</td>\n",
       "      <td><audio src=\"../../../Machine-Learning/ismir2018/magnatagatune_audiofiles_subset/mp3_full/d/electric_frankenstein-sick_songs-10-out_there_fword-30-59.mp3\" type=\"audio/mpeg\" controls=\"controls\"></audio></td>\n",
       "    </tr>\n",
       "    <tr>\n",
       "      <th>1581</th>\n",
       "      <td>The Wretch</td>\n",
       "      <td>Spinal rape</td>\n",
       "      <td>Ambulatory</td>\n",
       "      <td><audio src=\"../../../Machine-Learning/ismir2018/magnatagatune_audiofiles_subset/mp3_full/9/the_wretch-ambulatory-07-spinal_rape-30-59.mp3\" type=\"audio/mpeg\" controls=\"controls\"></audio></td>\n",
       "    </tr>\n",
       "    <tr>\n",
       "      <th>1712</th>\n",
       "      <td>Electric Frankenstein</td>\n",
       "      <td>Teenage Shutdown</td>\n",
       "      <td>The Time Is Now</td>\n",
       "      <td><audio src=\"../../../Machine-Learning/ismir2018/magnatagatune_audiofiles_subset/mp3_full/a/electric_frankenstein-the_time_is_now-01-teenage_shutdown-30-59.mp3\" type=\"audio/mpeg\" controls=\"controls\"></audio></td>\n",
       "    </tr>\n",
       "    <tr>\n",
       "      <th>109</th>\n",
       "      <td>The West Exit</td>\n",
       "      <td>All right now</td>\n",
       "      <td>Nocturne</td>\n",
       "      <td><audio src=\"../../../Machine-Learning/ismir2018/magnatagatune_audiofiles_subset/mp3_full/d/the_west_exit-nocturne-11-all_right_now-88-117.mp3\" type=\"audio/mpeg\" controls=\"controls\"></audio></td>\n",
       "    </tr>\n",
       "    <tr>\n",
       "      <th>524</th>\n",
       "      <td>MRDC</td>\n",
       "      <td>Evolution</td>\n",
       "      <td>Timecode</td>\n",
       "      <td><audio src=\"../../../Machine-Learning/ismir2018/magnatagatune_audiofiles_subset/mp3_full/2/mrdc-timecode-04-evolution-30-59.mp3\" type=\"audio/mpeg\" controls=\"controls\"></audio></td>\n",
       "    </tr>\n",
       "    <tr>\n",
       "      <th>1024</th>\n",
       "      <td>Rocket City Riot</td>\n",
       "      <td>My Baby Loves Me</td>\n",
       "      <td>Middle Age Suicide</td>\n",
       "      <td><audio src=\"../../../Machine-Learning/ismir2018/magnatagatune_audiofiles_subset/mp3_full/0/rocket_city_riot-middle_age_suicide-08-my_baby_loves_me-59-88.mp3\" type=\"audio/mpeg\" controls=\"controls\"></audio></td>\n",
       "    </tr>\n",
       "    <tr>\n",
       "      <th>1380</th>\n",
       "      <td>Rebel Rebel</td>\n",
       "      <td>Science Vixen</td>\n",
       "      <td>Explode Into Space</td>\n",
       "      <td><audio src=\"../../../Machine-Learning/ismir2018/magnatagatune_audiofiles_subset/mp3_full/b/rebel_rebel-explode_into_space-05-science_vixen-30-59.mp3\" type=\"audio/mpeg\" controls=\"controls\"></audio></td>\n",
       "    </tr>\n",
       "    <tr>\n",
       "      <th>1598</th>\n",
       "      <td>Jade Leary</td>\n",
       "      <td>Still Wanting (After The Flood)</td>\n",
       "      <td>And Come the Sirens</td>\n",
       "      <td><audio src=\"../../../Machine-Learning/ismir2018/magnatagatune_audiofiles_subset/mp3_full/a/jade_leary-and_come_the_sirens-02-still_wanting_after_the_flood-30-59.mp3\" type=\"audio/mpeg\" controls=\"controls\"></audio></td>\n",
       "    </tr>\n",
       "  </tbody>\n",
       "</table>"
      ],
      "text/plain": [
       "<IPython.core.display.HTML object>"
      ]
     },
     "execution_count": 106,
     "metadata": {},
     "output_type": "execute_result"
    }
   ],
   "source": [
    "similar(model_orig, 2)"
   ]
  },
  {
   "cell_type": "markdown",
   "metadata": {},
   "source": [
    "## Improve Performance through prior Knowledge\n",
    "\n",
    "The original approach only uses *genuine* and *impostor* pairs and does not consider any further prior knowledge. In that sense if two tracks belong to the same playlist, they are considered similar, if not, they are not. But, because we have chosen genre-playlists, there are genres that are more similar than others. This is of course highly subjective and depends on the listening behaviour and experience of a listener.\n",
    "\n",
    "The following list represents a possible interpretation of genre similarities:"
   ]
  },
  {
   "cell_type": "code",
   "execution_count": 107,
   "metadata": {},
   "outputs": [],
   "source": [
    "sim = [[[\"blues\",      \"blues\"],     1.0],\n",
    "       [[\"blues\",      \"classical\"], 0.0],\n",
    "       [[\"blues\",      \"country\"],   0.8],\n",
    "       [[\"blues\",      \"jazz\"],      0.3],\n",
    "       [[\"blues\",      \"pop\"],       0.0],\n",
    "       [[\"blues\",      \"rock\"],      0.1],\n",
    "       [[\"blues\",      \"techno\"],    0.0],\n",
    "       [[\"classical\",  \"classical\"], 1.0],\n",
    "       [[\"classical\",  \"country\"],   0.0],\n",
    "       [[\"classical\",  \"jazz\"],      0.0],\n",
    "       [[\"classical\",  \"pop\"],       0.0],\n",
    "       [[\"classical\",  \"rock\"],      0.0],\n",
    "       [[\"classical\",  \"techno\"],    0.0],\n",
    "       [[\"country\",    \"country\"],   1.0],\n",
    "       [[\"country\",    \"jazz\"],      0.1],\n",
    "       [[\"country\",    \"pop\"],       0.2],\n",
    "       [[\"country\",    \"rock\"],      0.3],\n",
    "       [[\"country\",    \"techno\"],    0.0],\n",
    "       [[\"jazz\",       \"jazz\"],      1.0],\n",
    "       [[\"jazz\",       \"pop\"],       0.0],\n",
    "       [[\"jazz\",       \"rock\"],      0.1],\n",
    "       [[\"jazz\",       \"techno\"],    0.0],\n",
    "       [[\"pop\",        \"pop\"],       1.0],\n",
    "       [[\"pop\",        \"rock\"],      0.2],\n",
    "       [[\"pop\",        \"techno\"],    0.8],\n",
    "       [[\"rock\",       \"rock\"],      1.0],\n",
    "       [[\"rock\",       \"techno\"],    0.0],\n",
    "       [[\"techno\",     \"techno\"],    1.0]]"
   ]
  },
  {
   "cell_type": "code",
   "execution_count": 108,
   "metadata": {},
   "outputs": [
    {
     "name": "stderr",
     "output_type": "stream",
     "text": [
      "/home/ale/miniconda3/lib/python3.8/site-packages/numpy/core/_asarray.py:102: VisibleDeprecationWarning: Creating an ndarray from ragged nested sequences (which is a list-or-tuple of lists-or-tuples-or ndarrays with different lengths or shapes) is deprecated. If you meant to do this, you must specify 'dtype=object' when creating the ndarray.\n",
      "  return array(a, dtype, copy=False, order=order)\n"
     ]
    },
    {
     "data": {
      "text/plain": [
       "(28, 2)"
      ]
     },
     "execution_count": 108,
     "metadata": {},
     "output_type": "execute_result"
    }
   ],
   "source": [
    "np.shape(sim)"
   ]
  },
  {
   "cell_type": "markdown",
   "metadata": {},
   "source": [
    "The following code creates a symmetric lookup-table from the list above:"
   ]
  },
  {
   "cell_type": "code",
   "execution_count": 109,
   "metadata": {},
   "outputs": [
    {
     "name": "stdout",
     "output_type": "stream",
     "text": [
      "blues blues 1.0\n",
      "blues classical 0.0\n",
      "blues country 0.8\n",
      "blues jazz 0.3\n",
      "blues pop 0.0\n",
      "blues rock 0.1\n",
      "blues techno 0.0\n",
      "classical classical 1.0\n",
      "classical country 0.0\n",
      "classical jazz 0.0\n",
      "classical pop 0.0\n",
      "classical rock 0.0\n",
      "classical techno 0.0\n",
      "country country 1.0\n",
      "country jazz 0.1\n",
      "country pop 0.2\n",
      "country rock 0.3\n",
      "country techno 0.0\n",
      "jazz jazz 1.0\n",
      "jazz pop 0.0\n",
      "jazz rock 0.1\n",
      "jazz techno 0.0\n",
      "pop pop 1.0\n",
      "pop rock 0.2\n",
      "pop techno 0.8\n",
      "rock rock 1.0\n",
      "rock techno 0.0\n",
      "techno techno 1.0\n"
     ]
    },
    {
     "data": {
      "text/html": [
       "<div>\n",
       "<style scoped>\n",
       "    .dataframe tbody tr th:only-of-type {\n",
       "        vertical-align: middle;\n",
       "    }\n",
       "\n",
       "    .dataframe tbody tr th {\n",
       "        vertical-align: top;\n",
       "    }\n",
       "\n",
       "    .dataframe thead th {\n",
       "        text-align: right;\n",
       "    }\n",
       "</style>\n",
       "<table border=\"1\" class=\"dataframe\">\n",
       "  <thead>\n",
       "    <tr style=\"text-align: right;\">\n",
       "      <th></th>\n",
       "      <th>classical</th>\n",
       "      <th>country</th>\n",
       "      <th>jazz</th>\n",
       "      <th>pop</th>\n",
       "      <th>rock</th>\n",
       "      <th>techno</th>\n",
       "      <th>blues</th>\n",
       "      <th>dance</th>\n",
       "    </tr>\n",
       "  </thead>\n",
       "  <tbody>\n",
       "    <tr>\n",
       "      <th>classical</th>\n",
       "      <td>1.0</td>\n",
       "      <td>0.0</td>\n",
       "      <td>0.0</td>\n",
       "      <td>0.0</td>\n",
       "      <td>0.0</td>\n",
       "      <td>0.0</td>\n",
       "      <td>0.0</td>\n",
       "      <td>0.0</td>\n",
       "    </tr>\n",
       "    <tr>\n",
       "      <th>country</th>\n",
       "      <td>0.0</td>\n",
       "      <td>1.0</td>\n",
       "      <td>0.1</td>\n",
       "      <td>0.2</td>\n",
       "      <td>0.3</td>\n",
       "      <td>0.0</td>\n",
       "      <td>0.8</td>\n",
       "      <td>0.0</td>\n",
       "    </tr>\n",
       "    <tr>\n",
       "      <th>jazz</th>\n",
       "      <td>0.0</td>\n",
       "      <td>0.1</td>\n",
       "      <td>1.0</td>\n",
       "      <td>0.0</td>\n",
       "      <td>0.1</td>\n",
       "      <td>0.0</td>\n",
       "      <td>0.3</td>\n",
       "      <td>0.0</td>\n",
       "    </tr>\n",
       "    <tr>\n",
       "      <th>pop</th>\n",
       "      <td>0.0</td>\n",
       "      <td>0.2</td>\n",
       "      <td>0.0</td>\n",
       "      <td>1.0</td>\n",
       "      <td>0.2</td>\n",
       "      <td>0.8</td>\n",
       "      <td>0.0</td>\n",
       "      <td>0.0</td>\n",
       "    </tr>\n",
       "    <tr>\n",
       "      <th>rock</th>\n",
       "      <td>0.0</td>\n",
       "      <td>0.3</td>\n",
       "      <td>0.1</td>\n",
       "      <td>0.2</td>\n",
       "      <td>1.0</td>\n",
       "      <td>0.0</td>\n",
       "      <td>0.1</td>\n",
       "      <td>0.0</td>\n",
       "    </tr>\n",
       "    <tr>\n",
       "      <th>techno</th>\n",
       "      <td>0.0</td>\n",
       "      <td>0.0</td>\n",
       "      <td>0.0</td>\n",
       "      <td>0.8</td>\n",
       "      <td>0.0</td>\n",
       "      <td>1.0</td>\n",
       "      <td>0.0</td>\n",
       "      <td>0.0</td>\n",
       "    </tr>\n",
       "    <tr>\n",
       "      <th>blues</th>\n",
       "      <td>0.0</td>\n",
       "      <td>0.8</td>\n",
       "      <td>0.3</td>\n",
       "      <td>0.0</td>\n",
       "      <td>0.1</td>\n",
       "      <td>0.0</td>\n",
       "      <td>1.0</td>\n",
       "      <td>0.0</td>\n",
       "    </tr>\n",
       "    <tr>\n",
       "      <th>dance</th>\n",
       "      <td>0.0</td>\n",
       "      <td>0.0</td>\n",
       "      <td>0.0</td>\n",
       "      <td>0.0</td>\n",
       "      <td>0.0</td>\n",
       "      <td>0.0</td>\n",
       "      <td>0.0</td>\n",
       "      <td>1.0</td>\n",
       "    </tr>\n",
       "  </tbody>\n",
       "</table>\n",
       "</div>"
      ],
      "text/plain": [
       "           classical  country  jazz  pop  rock  techno  blues  dance\n",
       "classical  1.0        0.0      0.0   0.0  0.0   0.0     0.0    0.0  \n",
       "country    0.0        1.0      0.1   0.2  0.3   0.0     0.8    0.0  \n",
       "jazz       0.0        0.1      1.0   0.0  0.1   0.0     0.3    0.0  \n",
       "pop        0.0        0.2      0.0   1.0  0.2   0.8     0.0    0.0  \n",
       "rock       0.0        0.3      0.1   0.2  1.0   0.0     0.1    0.0  \n",
       "techno     0.0        0.0      0.0   0.8  0.0   1.0     0.0    0.0  \n",
       "blues      0.0        0.8      0.3   0.0  0.1   0.0     1.0    0.0  \n",
       "dance      0.0        0.0      0.0   0.0  0.0   0.0     0.0    1.0  "
      ]
     },
     "execution_count": 109,
     "metadata": {},
     "output_type": "execute_result"
    }
   ],
   "source": [
    "# get all playlist-names from our dataset\n",
    "playlist_names = [pl for pl in labels.columns]\n",
    "\n",
    "# create the lookup-table\n",
    "Npl = len(labels.columns)\n",
    "playlist_similarities = pd.DataFrame(np.zeros((Npl,Npl)), \n",
    "                                     index   = playlist_names, \n",
    "                                     columns = playlist_names)\n",
    "\n",
    "# self-similarity\n",
    "for i in range(Npl):\n",
    "    for j in range(Npl):\n",
    "        if i == j:\n",
    "            playlist_similarities.iloc[i,j] = 1.0\n",
    "\n",
    "# genre-similarities\n",
    "for s in sim:\n",
    "    print(s[0][0],s[0][1],s[1])\n",
    "    playlist_similarities.loc[s[0][0],s[0][1]] = s[1]\n",
    "    playlist_similarities.loc[s[0][1],s[0][0]] = s[1]\n",
    "\n",
    "# show results\n",
    "playlist_similarities "
   ]
  },
  {
   "cell_type": "markdown",
   "metadata": {},
   "source": [
    "### Create Data-Pairs with similarities\n",
    "\n",
    "With this lookup-table we can create more accurate input pairs. Instead of similar/dissimilar (`label=1/0`) we can now apply the supplied similarites."
   ]
  },
  {
   "cell_type": "code",
   "execution_count": 110,
   "metadata": {},
   "outputs": [],
   "source": [
    "def create_pairs_with_sims(feature_data, metadata, labels, playlist_similarities, num_triplets_per_track):\n",
    "    \n",
    "    data_ref  = []\n",
    "    data_dif  = []\n",
    "    gt_labels = []\n",
    "    \n",
    "    pbar = progressbar.ProgressBar(max_value=metadata.shape[0])\n",
    "        \n",
    "    for row_id, q_track in pbar(metadata.iterrows()):\n",
    "        \n",
    "        for _ in range(num_triplets_per_track):\n",
    "            \n",
    "            label_diff = np.abs(labels - labels.loc[row_id]).sum(axis=1)\n",
    "            \n",
    "            similar_instances    = label_diff[label_diff == 0]\n",
    "            dissimilar_instances = label_diff[label_diff != 0] \n",
    "            \n",
    "            # search similar and dissimilar examples\n",
    "            pos_example_idx      = similar_instances.sample(1).index.values[0]\n",
    "            neg_example_idx      = dissimilar_instances.sample(1).index.values[0]\n",
    "            \n",
    "            # create feature triplets\n",
    "            feat_id_ref          = metadata.loc[row_id].featurespace_id\n",
    "            feat_id_pos          = metadata.loc[pos_example_idx].featurespace_id\n",
    "            feat_id_neg          = metadata.loc[neg_example_idx].featurespace_id\n",
    "\n",
    "            # playlist of reference\n",
    "            play_ref = labels.loc[row_id].idxmax(axis=1)            \n",
    "            \n",
    "            # playlist of similar sample\n",
    "            play_dif_pos = labels.loc[pos_example_idx].idxmax(axis=1) \n",
    "            \n",
    "            # playlist of dissimilar sample\n",
    "            play_dif_neg = labels.loc[neg_example_idx].idxmax(axis=1)\n",
    "\n",
    "            # genuine pair\n",
    "            data_ref.append(feature_data[feat_id_ref])\n",
    "            data_dif.append(feature_data[feat_id_pos])\n",
    "            \n",
    "            # genre-similarity (lookup-table) between REF and SIMILAR\n",
    "            label = playlist_similarities.loc[play_ref,play_dif_pos]\n",
    "            gt_labels.append(label)\n",
    "\n",
    "            # impostor pair with similarity\n",
    "            data_ref.append(feature_data[feat_id_ref])\n",
    "            data_dif.append(feature_data[feat_id_neg])\n",
    "            \n",
    "            # genre-similarity (lookup-table) between REF and DISSIMILAR\n",
    "            label = playlist_similarities.loc[play_ref,play_dif_neg]\n",
    "            gt_labels.append(label)\n",
    "\n",
    "    return [np.asarray(data_ref), np.asarray(data_dif)], np.asarray(gt_labels)"
   ]
  },
  {
   "cell_type": "markdown",
   "metadata": {},
   "source": [
    "#### EXPLICACION DE LA FUNCION `create_pairs_with_sims`"
   ]
  },
  {
   "cell_type": "code",
   "execution_count": 111,
   "metadata": {},
   "outputs": [
    {
     "data": {
      "text/html": [
       "<div>\n",
       "<style scoped>\n",
       "    .dataframe tbody tr th:only-of-type {\n",
       "        vertical-align: middle;\n",
       "    }\n",
       "\n",
       "    .dataframe tbody tr th {\n",
       "        vertical-align: top;\n",
       "    }\n",
       "\n",
       "    .dataframe thead th {\n",
       "        text-align: right;\n",
       "    }\n",
       "</style>\n",
       "<table border=\"1\" class=\"dataframe\">\n",
       "  <thead>\n",
       "    <tr style=\"text-align: right;\">\n",
       "      <th></th>\n",
       "      <th>classical</th>\n",
       "      <th>country</th>\n",
       "      <th>jazz</th>\n",
       "      <th>pop</th>\n",
       "      <th>rock</th>\n",
       "      <th>techno</th>\n",
       "      <th>blues</th>\n",
       "      <th>dance</th>\n",
       "    </tr>\n",
       "  </thead>\n",
       "  <tbody>\n",
       "    <tr>\n",
       "      <th>19072</th>\n",
       "      <td>0</td>\n",
       "      <td>0</td>\n",
       "      <td>0</td>\n",
       "      <td>0</td>\n",
       "      <td>1</td>\n",
       "      <td>0</td>\n",
       "      <td>0</td>\n",
       "      <td>0</td>\n",
       "    </tr>\n",
       "    <tr>\n",
       "      <th>17487</th>\n",
       "      <td>1</td>\n",
       "      <td>0</td>\n",
       "      <td>0</td>\n",
       "      <td>0</td>\n",
       "      <td>0</td>\n",
       "      <td>0</td>\n",
       "      <td>0</td>\n",
       "      <td>0</td>\n",
       "    </tr>\n",
       "    <tr>\n",
       "      <th>15668</th>\n",
       "      <td>0</td>\n",
       "      <td>0</td>\n",
       "      <td>0</td>\n",
       "      <td>0</td>\n",
       "      <td>1</td>\n",
       "      <td>0</td>\n",
       "      <td>0</td>\n",
       "      <td>0</td>\n",
       "    </tr>\n",
       "    <tr>\n",
       "      <th>11610</th>\n",
       "      <td>1</td>\n",
       "      <td>0</td>\n",
       "      <td>0</td>\n",
       "      <td>0</td>\n",
       "      <td>0</td>\n",
       "      <td>0</td>\n",
       "      <td>0</td>\n",
       "      <td>0</td>\n",
       "    </tr>\n",
       "    <tr>\n",
       "      <th>17489</th>\n",
       "      <td>0</td>\n",
       "      <td>0</td>\n",
       "      <td>0</td>\n",
       "      <td>0</td>\n",
       "      <td>0</td>\n",
       "      <td>1</td>\n",
       "      <td>0</td>\n",
       "      <td>0</td>\n",
       "    </tr>\n",
       "    <tr>\n",
       "      <th>...</th>\n",
       "      <td>...</td>\n",
       "      <td>...</td>\n",
       "      <td>...</td>\n",
       "      <td>...</td>\n",
       "      <td>...</td>\n",
       "      <td>...</td>\n",
       "      <td>...</td>\n",
       "      <td>...</td>\n",
       "    </tr>\n",
       "    <tr>\n",
       "      <th>13597</th>\n",
       "      <td>1</td>\n",
       "      <td>0</td>\n",
       "      <td>0</td>\n",
       "      <td>0</td>\n",
       "      <td>0</td>\n",
       "      <td>0</td>\n",
       "      <td>0</td>\n",
       "      <td>0</td>\n",
       "    </tr>\n",
       "    <tr>\n",
       "      <th>9433</th>\n",
       "      <td>1</td>\n",
       "      <td>0</td>\n",
       "      <td>0</td>\n",
       "      <td>0</td>\n",
       "      <td>0</td>\n",
       "      <td>0</td>\n",
       "      <td>0</td>\n",
       "      <td>0</td>\n",
       "    </tr>\n",
       "    <tr>\n",
       "      <th>2579</th>\n",
       "      <td>0</td>\n",
       "      <td>0</td>\n",
       "      <td>1</td>\n",
       "      <td>0</td>\n",
       "      <td>0</td>\n",
       "      <td>0</td>\n",
       "      <td>0</td>\n",
       "      <td>0</td>\n",
       "    </tr>\n",
       "    <tr>\n",
       "      <th>15587</th>\n",
       "      <td>0</td>\n",
       "      <td>0</td>\n",
       "      <td>0</td>\n",
       "      <td>0</td>\n",
       "      <td>0</td>\n",
       "      <td>1</td>\n",
       "      <td>0</td>\n",
       "      <td>0</td>\n",
       "    </tr>\n",
       "    <tr>\n",
       "      <th>19000</th>\n",
       "      <td>0</td>\n",
       "      <td>0</td>\n",
       "      <td>1</td>\n",
       "      <td>0</td>\n",
       "      <td>0</td>\n",
       "      <td>0</td>\n",
       "      <td>0</td>\n",
       "      <td>0</td>\n",
       "    </tr>\n",
       "  </tbody>\n",
       "</table>\n",
       "<p>1998 rows × 8 columns</p>\n",
       "</div>"
      ],
      "text/plain": [
       "       classical  country  jazz  pop  rock  techno  blues  dance\n",
       "19072  0          0        0     0    1     0       0      0    \n",
       "17487  1          0        0     0    0     0       0      0    \n",
       "15668  0          0        0     0    1     0       0      0    \n",
       "11610  1          0        0     0    0     0       0      0    \n",
       "17489  0          0        0     0    0     1       0      0    \n",
       "...   ..         ..       ..    ..   ..    ..      ..     ..    \n",
       "13597  1          0        0     0    0     0       0      0    \n",
       "9433   1          0        0     0    0     0       0      0    \n",
       "2579   0          0        1     0    0     0       0      0    \n",
       "15587  0          0        0     0    0     1       0      0    \n",
       "19000  0          0        1     0    0     0       0      0    \n",
       "\n",
       "[1998 rows x 8 columns]"
      ]
     },
     "execution_count": 111,
     "metadata": {},
     "output_type": "execute_result"
    }
   ],
   "source": [
    "labels = label_metadata\n",
    "labels"
   ]
  },
  {
   "cell_type": "code",
   "execution_count": 112,
   "metadata": {},
   "outputs": [
    {
     "data": {
      "text/html": [
       "<div>\n",
       "<style scoped>\n",
       "    .dataframe tbody tr th:only-of-type {\n",
       "        vertical-align: middle;\n",
       "    }\n",
       "\n",
       "    .dataframe tbody tr th {\n",
       "        vertical-align: top;\n",
       "    }\n",
       "\n",
       "    .dataframe thead th {\n",
       "        text-align: right;\n",
       "    }\n",
       "</style>\n",
       "<table border=\"1\" class=\"dataframe\">\n",
       "  <thead>\n",
       "    <tr style=\"text-align: right;\">\n",
       "      <th></th>\n",
       "      <th>classical</th>\n",
       "      <th>country</th>\n",
       "      <th>jazz</th>\n",
       "      <th>pop</th>\n",
       "      <th>rock</th>\n",
       "      <th>techno</th>\n",
       "      <th>blues</th>\n",
       "      <th>dance</th>\n",
       "    </tr>\n",
       "  </thead>\n",
       "  <tbody>\n",
       "    <tr>\n",
       "      <th>19072</th>\n",
       "      <td>0</td>\n",
       "      <td>0</td>\n",
       "      <td>0</td>\n",
       "      <td>0</td>\n",
       "      <td>0</td>\n",
       "      <td>0</td>\n",
       "      <td>0</td>\n",
       "      <td>0</td>\n",
       "    </tr>\n",
       "    <tr>\n",
       "      <th>17487</th>\n",
       "      <td>1</td>\n",
       "      <td>0</td>\n",
       "      <td>0</td>\n",
       "      <td>0</td>\n",
       "      <td>1</td>\n",
       "      <td>0</td>\n",
       "      <td>0</td>\n",
       "      <td>0</td>\n",
       "    </tr>\n",
       "    <tr>\n",
       "      <th>15668</th>\n",
       "      <td>0</td>\n",
       "      <td>0</td>\n",
       "      <td>0</td>\n",
       "      <td>0</td>\n",
       "      <td>0</td>\n",
       "      <td>0</td>\n",
       "      <td>0</td>\n",
       "      <td>0</td>\n",
       "    </tr>\n",
       "    <tr>\n",
       "      <th>11610</th>\n",
       "      <td>1</td>\n",
       "      <td>0</td>\n",
       "      <td>0</td>\n",
       "      <td>0</td>\n",
       "      <td>1</td>\n",
       "      <td>0</td>\n",
       "      <td>0</td>\n",
       "      <td>0</td>\n",
       "    </tr>\n",
       "    <tr>\n",
       "      <th>17489</th>\n",
       "      <td>0</td>\n",
       "      <td>0</td>\n",
       "      <td>0</td>\n",
       "      <td>0</td>\n",
       "      <td>1</td>\n",
       "      <td>1</td>\n",
       "      <td>0</td>\n",
       "      <td>0</td>\n",
       "    </tr>\n",
       "    <tr>\n",
       "      <th>...</th>\n",
       "      <td>...</td>\n",
       "      <td>...</td>\n",
       "      <td>...</td>\n",
       "      <td>...</td>\n",
       "      <td>...</td>\n",
       "      <td>...</td>\n",
       "      <td>...</td>\n",
       "      <td>...</td>\n",
       "    </tr>\n",
       "    <tr>\n",
       "      <th>13597</th>\n",
       "      <td>1</td>\n",
       "      <td>0</td>\n",
       "      <td>0</td>\n",
       "      <td>0</td>\n",
       "      <td>1</td>\n",
       "      <td>0</td>\n",
       "      <td>0</td>\n",
       "      <td>0</td>\n",
       "    </tr>\n",
       "    <tr>\n",
       "      <th>9433</th>\n",
       "      <td>1</td>\n",
       "      <td>0</td>\n",
       "      <td>0</td>\n",
       "      <td>0</td>\n",
       "      <td>1</td>\n",
       "      <td>0</td>\n",
       "      <td>0</td>\n",
       "      <td>0</td>\n",
       "    </tr>\n",
       "    <tr>\n",
       "      <th>2579</th>\n",
       "      <td>0</td>\n",
       "      <td>0</td>\n",
       "      <td>1</td>\n",
       "      <td>0</td>\n",
       "      <td>1</td>\n",
       "      <td>0</td>\n",
       "      <td>0</td>\n",
       "      <td>0</td>\n",
       "    </tr>\n",
       "    <tr>\n",
       "      <th>15587</th>\n",
       "      <td>0</td>\n",
       "      <td>0</td>\n",
       "      <td>0</td>\n",
       "      <td>0</td>\n",
       "      <td>1</td>\n",
       "      <td>1</td>\n",
       "      <td>0</td>\n",
       "      <td>0</td>\n",
       "    </tr>\n",
       "    <tr>\n",
       "      <th>19000</th>\n",
       "      <td>0</td>\n",
       "      <td>0</td>\n",
       "      <td>1</td>\n",
       "      <td>0</td>\n",
       "      <td>1</td>\n",
       "      <td>0</td>\n",
       "      <td>0</td>\n",
       "      <td>0</td>\n",
       "    </tr>\n",
       "  </tbody>\n",
       "</table>\n",
       "<p>1998 rows × 8 columns</p>\n",
       "</div>"
      ],
      "text/plain": [
       "       classical  country  jazz  pop  rock  techno  blues  dance\n",
       "19072  0          0        0     0    0     0       0      0    \n",
       "17487  1          0        0     0    1     0       0      0    \n",
       "15668  0          0        0     0    0     0       0      0    \n",
       "11610  1          0        0     0    1     0       0      0    \n",
       "17489  0          0        0     0    1     1       0      0    \n",
       "...   ..         ..       ..    ..   ..    ..      ..     ..    \n",
       "13597  1          0        0     0    1     0       0      0    \n",
       "9433   1          0        0     0    1     0       0      0    \n",
       "2579   0          0        1     0    1     0       0      0    \n",
       "15587  0          0        0     0    1     1       0      0    \n",
       "19000  0          0        1     0    1     0       0      0    \n",
       "\n",
       "[1998 rows x 8 columns]"
      ]
     },
     "execution_count": 112,
     "metadata": {},
     "output_type": "execute_result"
    }
   ],
   "source": [
    "row_id = 19072\n",
    "labels_diff = np.abs(labels - labels.loc[row_id])\n",
    "labels_diff "
   ]
  },
  {
   "cell_type": "code",
   "execution_count": 113,
   "metadata": {
    "scrolled": true
   },
   "outputs": [
    {
     "data": {
      "text/plain": [
       "19072    0\n",
       "17487    2\n",
       "15668    0\n",
       "11610    2\n",
       "17489    2\n",
       "        ..\n",
       "13597    2\n",
       "9433     2\n",
       "2579     2\n",
       "15587    2\n",
       "19000    2\n",
       "Length: 1998, dtype: int64"
      ]
     },
     "execution_count": 113,
     "metadata": {},
     "output_type": "execute_result"
    }
   ],
   "source": [
    "label_diff = labels_diff.sum(axis=1)\n",
    "label_diff"
   ]
  },
  {
   "cell_type": "code",
   "execution_count": 114,
   "metadata": {},
   "outputs": [
    {
     "data": {
      "text/plain": [
       "19072    0\n",
       "15668    0\n",
       "5153     0\n",
       "17495    0\n",
       "7417     0\n",
       "        ..\n",
       "17890    0\n",
       "24427    0\n",
       "14780    0\n",
       "13537    0\n",
       "17363    0\n",
       "Length: 379, dtype: int64"
      ]
     },
     "execution_count": 114,
     "metadata": {},
     "output_type": "execute_result"
    }
   ],
   "source": [
    "similar_instances = label_diff[label_diff == 0]\n",
    "similar_instances"
   ]
  },
  {
   "cell_type": "code",
   "execution_count": 115,
   "metadata": {},
   "outputs": [
    {
     "data": {
      "text/plain": [
       "17487    2\n",
       "11610    2\n",
       "17489    2\n",
       "2689     2\n",
       "17491    2\n",
       "        ..\n",
       "13597    2\n",
       "9433     2\n",
       "2579     2\n",
       "15587    2\n",
       "19000    2\n",
       "Length: 1619, dtype: int64"
      ]
     },
     "execution_count": 115,
     "metadata": {},
     "output_type": "execute_result"
    }
   ],
   "source": [
    "dissimilar_instances = label_diff[label_diff != 0]\n",
    "dissimilar_instances"
   ]
  },
  {
   "cell_type": "code",
   "execution_count": 116,
   "metadata": {},
   "outputs": [
    {
     "data": {
      "text/plain": [
       "5504"
      ]
     },
     "execution_count": 116,
     "metadata": {},
     "output_type": "execute_result"
    }
   ],
   "source": [
    "# search a similar random sample\n",
    "pos_example_idx = similar_instances.sample(1).index.values[0]\n",
    "pos_example_idx"
   ]
  },
  {
   "cell_type": "code",
   "execution_count": 117,
   "metadata": {},
   "outputs": [
    {
     "data": {
      "text/plain": [
       "5053"
      ]
     },
     "execution_count": 117,
     "metadata": {},
     "output_type": "execute_result"
    }
   ],
   "source": [
    "# search a dissimilar random sample\n",
    "neg_example_idx = dissimilar_instances.sample(1).index.values[0]\n",
    "neg_example_idx"
   ]
  },
  {
   "cell_type": "code",
   "execution_count": 118,
   "metadata": {},
   "outputs": [
    {
     "data": {
      "text/plain": [
       "(0, 272, 1926)"
      ]
     },
     "execution_count": 118,
     "metadata": {},
     "output_type": "execute_result"
    }
   ],
   "source": [
    "# create a feature triplet\n",
    "feat_id_ref = metadata.loc[row_id].featurespace_id\n",
    "feat_id_pos = metadata.loc[pos_example_idx].featurespace_id\n",
    "feat_id_neg = metadata.loc[neg_example_idx].featurespace_id\n",
    "feat_id_ref, feat_id_pos, feat_id_neg"
   ]
  },
  {
   "cell_type": "code",
   "execution_count": 119,
   "metadata": {},
   "outputs": [],
   "source": [
    "feature_data = melspecs\n",
    "data_ref  = []\n",
    "data_dif  = []\n",
    "gt_labels = []"
   ]
  },
  {
   "cell_type": "code",
   "execution_count": 120,
   "metadata": {},
   "outputs": [
    {
     "data": {
      "text/plain": [
       "classical    0\n",
       "country      0\n",
       "jazz         0\n",
       "pop          0\n",
       "rock         1\n",
       "techno       0\n",
       "blues        0\n",
       "dance        0\n",
       "Name: 19072, dtype: int64"
      ]
     },
     "execution_count": 120,
     "metadata": {},
     "output_type": "execute_result"
    }
   ],
   "source": [
    "# label of reference\n",
    "labels.loc[row_id]"
   ]
  },
  {
   "cell_type": "code",
   "execution_count": 121,
   "metadata": {},
   "outputs": [
    {
     "data": {
      "text/plain": [
       "'rock'"
      ]
     },
     "execution_count": 121,
     "metadata": {},
     "output_type": "execute_result"
    }
   ],
   "source": [
    "# playlist of reference\n",
    "play_ref = labels.loc[row_id].idxmax(axis=1)\n",
    "play_ref"
   ]
  },
  {
   "cell_type": "code",
   "execution_count": 122,
   "metadata": {},
   "outputs": [
    {
     "data": {
      "text/plain": [
       "'rock'"
      ]
     },
     "execution_count": 122,
     "metadata": {},
     "output_type": "execute_result"
    }
   ],
   "source": [
    "# playlist of similar sample\n",
    "play_dif = labels.loc[pos_example_idx].idxmax(axis=1)\n",
    "play_dif"
   ]
  },
  {
   "cell_type": "code",
   "execution_count": 123,
   "metadata": {},
   "outputs": [
    {
     "data": {
      "text/plain": [
       "1.0"
      ]
     },
     "execution_count": 123,
     "metadata": {},
     "output_type": "execute_result"
    }
   ],
   "source": [
    "# supplied genre-similarity (lookup-table) between REF and SIMILAR\n",
    "label = playlist_similarities.loc[play_ref,play_dif]\n",
    "label"
   ]
  },
  {
   "cell_type": "code",
   "execution_count": 124,
   "metadata": {},
   "outputs": [],
   "source": [
    "# positive data pair + paired label --> one row\n",
    "data_ref.append(feature_data[feat_id_ref])\n",
    "data_dif.append(feature_data[feat_id_pos])\n",
    "gt_labels.append(label)"
   ]
  },
  {
   "cell_type": "code",
   "execution_count": 125,
   "metadata": {},
   "outputs": [
    {
     "data": {
      "text/plain": [
       "'jazz'"
      ]
     },
     "execution_count": 125,
     "metadata": {},
     "output_type": "execute_result"
    }
   ],
   "source": [
    "# playlist of dissimilar sample\n",
    "play_dif = labels.loc[neg_example_idx].idxmax(axis=1)\n",
    "play_dif"
   ]
  },
  {
   "cell_type": "code",
   "execution_count": 126,
   "metadata": {},
   "outputs": [
    {
     "data": {
      "text/plain": [
       "0.1"
      ]
     },
     "execution_count": 126,
     "metadata": {},
     "output_type": "execute_result"
    }
   ],
   "source": [
    "# supplied genre-similarity (lookup-table) between REF and DISSIMILAR\n",
    "label = playlist_similarities.loc[play_ref,play_dif]\n",
    "label"
   ]
  },
  {
   "cell_type": "code",
   "execution_count": 127,
   "metadata": {},
   "outputs": [],
   "source": [
    "# negative data pair + paired label --> consecutive row\n",
    "data_ref.append(feature_data[feat_id_ref])\n",
    "data_dif.append(feature_data[feat_id_neg])\n",
    "gt_labels.append(label)\n",
    "\n",
    "# data pair --> CASE row_id=19072, num_triplets_per_track=1\n",
    "data_pairs = [np.asarray(data_ref), np.asarray(data_dif)]"
   ]
  },
  {
   "cell_type": "code",
   "execution_count": 128,
   "metadata": {},
   "outputs": [
    {
     "data": {
      "text/plain": [
       "(1998, 80, 80, 1)"
      ]
     },
     "execution_count": 128,
     "metadata": {},
     "output_type": "execute_result"
    }
   ],
   "source": [
    "feature_data.shape"
   ]
  },
  {
   "cell_type": "code",
   "execution_count": 129,
   "metadata": {},
   "outputs": [
    {
     "data": {
      "text/plain": [
       "(2, 80, 80, 1)"
      ]
     },
     "execution_count": 129,
     "metadata": {},
     "output_type": "execute_result"
    }
   ],
   "source": [
    "np.shape(data_ref)"
   ]
  },
  {
   "cell_type": "code",
   "execution_count": 130,
   "metadata": {},
   "outputs": [
    {
     "data": {
      "text/plain": [
       "(2, 80, 80, 1)"
      ]
     },
     "execution_count": 130,
     "metadata": {},
     "output_type": "execute_result"
    }
   ],
   "source": [
    "np.shape(data_dif)"
   ]
  },
  {
   "cell_type": "code",
   "execution_count": 131,
   "metadata": {},
   "outputs": [
    {
     "data": {
      "text/plain": [
       "(2,)"
      ]
     },
     "execution_count": 131,
     "metadata": {},
     "output_type": "execute_result"
    }
   ],
   "source": [
    "np.shape(gt_labels)"
   ]
  },
  {
   "cell_type": "code",
   "execution_count": 132,
   "metadata": {},
   "outputs": [
    {
     "data": {
      "text/plain": [
       "(2, 2, 80, 80, 1)"
      ]
     },
     "execution_count": 132,
     "metadata": {},
     "output_type": "execute_result"
    }
   ],
   "source": [
    "np.shape(data_pairs)"
   ]
  },
  {
   "cell_type": "markdown",
   "metadata": {},
   "source": [
    "#### EXECUTE THE FUNCTION `create_pairs_with_sims`"
   ]
  },
  {
   "cell_type": "code",
   "execution_count": 133,
   "metadata": {},
   "outputs": [
    {
     "name": "stderr",
     "output_type": "stream",
     "text": [
      "100% (1998 of 1998) |####################| Elapsed Time: 0:00:15 Time:  0:00:15\n"
     ]
    }
   ],
   "source": [
    "data_pairs, paired_labels = create_pairs_with_sims(melspecs, metadata, label_metadata, playlist_similarities, 5)"
   ]
  },
  {
   "cell_type": "code",
   "execution_count": 134,
   "metadata": {},
   "outputs": [
    {
     "name": "stdout",
     "output_type": "stream",
     "text": [
      "(2, 19980, 80, 80, 1)\n",
      "(19980,)\n"
     ]
    }
   ],
   "source": [
    "# check - how many instances have we created? --> 2*5*1998\n",
    "print(np.shape(data_pairs))\n",
    "print(np.shape(paired_labels))"
   ]
  },
  {
   "cell_type": "markdown",
   "metadata": {},
   "source": [
    "### Prepare the Siamese Neural Network"
   ]
  },
  {
   "cell_type": "code",
   "execution_count": 136,
   "metadata": {},
   "outputs": [],
   "source": [
    "# define the model\n",
    "model_sim = create_siamese_network()\n",
    "\n",
    "# define the optimizer\n",
    "opt = Adam(lr=0.0001, decay=0.001)\n",
    "\n",
    "# compile the model\n",
    "model_sim.compile(loss=contrastive_loss, optimizer=opt)"
   ]
  },
  {
   "cell_type": "markdown",
   "metadata": {},
   "source": [
    "Verify same type for input data and labels:"
   ]
  },
  {
   "cell_type": "code",
   "execution_count": 137,
   "metadata": {},
   "outputs": [
    {
     "data": {
      "text/plain": [
       "dtype('float32')"
      ]
     },
     "execution_count": 137,
     "metadata": {},
     "output_type": "execute_result"
    }
   ],
   "source": [
    "data_pairs[0].dtype"
   ]
  },
  {
   "cell_type": "code",
   "execution_count": 138,
   "metadata": {},
   "outputs": [
    {
     "data": {
      "text/plain": [
       "dtype('float64')"
      ]
     },
     "execution_count": 138,
     "metadata": {},
     "output_type": "execute_result"
    }
   ],
   "source": [
    "paired_labels.dtype"
   ]
  },
  {
   "cell_type": "code",
   "execution_count": 139,
   "metadata": {},
   "outputs": [
    {
     "data": {
      "text/plain": [
       "dtype('float32')"
      ]
     },
     "execution_count": 139,
     "metadata": {},
     "output_type": "execute_result"
    }
   ],
   "source": [
    "paired_labels = paired_labels.astype(np.float32)\n",
    "paired_labels.dtype"
   ]
  },
  {
   "cell_type": "markdown",
   "metadata": {},
   "source": [
    "### Train the Siamese Neural Network"
   ]
  },
  {
   "cell_type": "code",
   "execution_count": 266,
   "metadata": {},
   "outputs": [
    {
     "name": "stdout",
     "output_type": "stream",
     "text": [
      "Epoch 1/10\n",
      "281/281 [==============================] - 505s 2s/step - loss: 33.1129 - val_loss: 4.3994\n",
      "Epoch 2/10\n",
      "281/281 [==============================] - 526s 2s/step - loss: 2.7886 - val_loss: 1.5799\n",
      "Epoch 3/10\n",
      "281/281 [==============================] - 531s 2s/step - loss: 1.1255 - val_loss: 0.8538\n",
      "Epoch 4/10\n",
      "281/281 [==============================] - 528s 2s/step - loss: 0.7003 - val_loss: 0.6116\n",
      "Epoch 5/10\n",
      "281/281 [==============================] - 506s 2s/step - loss: 0.5332 - val_loss: 0.5111\n",
      "Epoch 6/10\n",
      "281/281 [==============================] - 513s 2s/step - loss: 0.4564 - val_loss: 0.4526\n",
      "Epoch 7/10\n",
      "281/281 [==============================] - 500s 2s/step - loss: 0.4131 - val_loss: 0.4186\n",
      "Epoch 8/10\n",
      "281/281 [==============================] - 528s 2s/step - loss: 0.3817 - val_loss: 0.3951\n",
      "Epoch 9/10\n",
      "281/281 [==============================] - 516s 2s/step - loss: 0.3621 - val_loss: 0.3775\n",
      "Epoch 10/10\n",
      "281/281 [==============================] - 513s 2s/step - loss: 0.3454 - val_loss: 0.3617\n"
     ]
    }
   ],
   "source": [
    "# Input data --> list of arrays \n",
    "train_set = [data_pairs[0][:-2000], data_pairs[1][:-2000]]\n",
    "\n",
    "# Target data\n",
    "train_classes = paired_labels[:-2000]\n",
    "\n",
    "# Data on which to evaluate the loss at the end of each epoch\n",
    "vali_data = ([data_pairs[0][-2000:], data_pairs[1][-2000:]], paired_labels[-2000:])\n",
    "\n",
    "# fit the model\n",
    "model_sim.fit(train_set, train_classes, batch_size=64, verbose=1, epochs=10, shuffle=False, validation_data=vali_data);"
   ]
  },
  {
   "cell_type": "markdown",
   "metadata": {},
   "source": [
    "Save model weights:"
   ]
  },
  {
   "cell_type": "code",
   "execution_count": 267,
   "metadata": {},
   "outputs": [],
   "source": [
    "model_sim.save_weights('../../models/013_Siamese_Network_with_Similarity.h5')"
   ]
  },
  {
   "cell_type": "markdown",
   "metadata": {},
   "source": [
    "Let’s load the weights from the `.h5` file:"
   ]
  },
  {
   "cell_type": "code",
   "execution_count": 140,
   "metadata": {},
   "outputs": [],
   "source": [
    "model_sim.load_weights('../../models/013_Siamese_Network_with_Similarity.h5')"
   ]
  },
  {
   "cell_type": "markdown",
   "metadata": {},
   "source": [
    "### Evaluate\n",
    "\n",
    "Now that we have the trained model on the adapted data, we evaluate its performance through the function `similar`. Remember that it calculates the distances between a given query track and all other tracks of the collection. The top-ten similar tracks are presented below the information of the query track. \n",
    "\n",
    "Let's check the results for some individual tracks by supplying the index to our dataset:"
   ]
  },
  {
   "cell_type": "code",
   "execution_count": 141,
   "metadata": {},
   "outputs": [
    {
     "name": "stdout",
     "output_type": "stream",
     "text": [
      "artist    Rocket City Riot            \n",
      "title     -All I Got-                 \n",
      "album     Last Of The Pleasure Seekers\n",
      "Name: 15668, dtype: object\n"
     ]
    },
    {
     "data": {
      "text/html": [
       "<table border=\"1\" class=\"dataframe\">\n",
       "  <thead>\n",
       "    <tr style=\"text-align: right;\">\n",
       "      <th></th>\n",
       "      <th>artist</th>\n",
       "      <th>title</th>\n",
       "      <th>album</th>\n",
       "      <th>player</th>\n",
       "    </tr>\n",
       "    <tr>\n",
       "      <th>featurespace_id</th>\n",
       "      <th></th>\n",
       "      <th></th>\n",
       "      <th></th>\n",
       "      <th></th>\n",
       "    </tr>\n",
       "  </thead>\n",
       "  <tbody>\n",
       "    <tr>\n",
       "      <th>2</th>\n",
       "      <td>Rocket City Riot</td>\n",
       "      <td>-All I Got-</td>\n",
       "      <td>Last Of The Pleasure Seekers</td>\n",
       "      <td><audio src=\"../../../Machine-Learning/ismir2018/magnatagatune_audiofiles_subset/mp3_full/0/rocket_city_riot-last_of_the_pleasure_seekers-08-all_i_got-30-59.mp3\" type=\"audio/mpeg\" controls=\"controls\"></audio></td>\n",
       "    </tr>\n",
       "    <tr>\n",
       "      <th>489</th>\n",
       "      <td>Magnatune Compilation</td>\n",
       "      <td>Electric Frankenstein_ Teenage Shutdown</td>\n",
       "      <td>High Energy Rock and Roll</td>\n",
       "      <td><audio src=\"../../../Machine-Learning/ismir2018/magnatagatune_audiofiles_subset/mp3_full/e/magnatune_compilation-high_energy_rock_and_roll-08-electric_frankenstein_teenage_shutdown-30-59.mp3\" type=\"audio/mpeg\" controls=\"controls\"></audio></td>\n",
       "    </tr>\n",
       "    <tr>\n",
       "      <th>1712</th>\n",
       "      <td>Electric Frankenstein</td>\n",
       "      <td>Teenage Shutdown</td>\n",
       "      <td>The Time Is Now</td>\n",
       "      <td><audio src=\"../../../Machine-Learning/ismir2018/magnatagatune_audiofiles_subset/mp3_full/a/electric_frankenstein-the_time_is_now-01-teenage_shutdown-30-59.mp3\" type=\"audio/mpeg\" controls=\"controls\"></audio></td>\n",
       "    </tr>\n",
       "    <tr>\n",
       "      <th>1875</th>\n",
       "      <td>Rebel Rebel</td>\n",
       "      <td>Venus Plus X</td>\n",
       "      <td>Explode Into Space</td>\n",
       "      <td><audio src=\"../../../Machine-Learning/ismir2018/magnatagatune_audiofiles_subset/mp3_full/b/rebel_rebel-explode_into_space-09-venus_plus_x-30-59.mp3\" type=\"audio/mpeg\" controls=\"controls\"></audio></td>\n",
       "    </tr>\n",
       "    <tr>\n",
       "      <th>1038</th>\n",
       "      <td>Electric Frankenstein</td>\n",
       "      <td>New Rage</td>\n",
       "      <td>Conquers The World</td>\n",
       "      <td><audio src=\"../../../Machine-Learning/ismir2018/magnatagatune_audiofiles_subset/mp3_full/6/electric_frankenstein-conquers_the_world-04-new_rage-117-146.mp3\" type=\"audio/mpeg\" controls=\"controls\"></audio></td>\n",
       "    </tr>\n",
       "    <tr>\n",
       "      <th>524</th>\n",
       "      <td>MRDC</td>\n",
       "      <td>Evolution</td>\n",
       "      <td>Timecode</td>\n",
       "      <td><audio src=\"../../../Machine-Learning/ismir2018/magnatagatune_audiofiles_subset/mp3_full/2/mrdc-timecode-04-evolution-30-59.mp3\" type=\"audio/mpeg\" controls=\"controls\"></audio></td>\n",
       "    </tr>\n",
       "    <tr>\n",
       "      <th>411</th>\n",
       "      <td>Electric Frankenstein</td>\n",
       "      <td>Deal With It</td>\n",
       "      <td>Conquers The World</td>\n",
       "      <td><audio src=\"../../../Machine-Learning/ismir2018/magnatagatune_audiofiles_subset/mp3_full/6/electric_frankenstein-conquers_the_world-05-deal_with_it-88-117.mp3\" type=\"audio/mpeg\" controls=\"controls\"></audio></td>\n",
       "    </tr>\n",
       "    <tr>\n",
       "      <th>226</th>\n",
       "      <td>Rocket City Riot</td>\n",
       "      <td>Blow My Mind</td>\n",
       "      <td>Middle Age Suicide</td>\n",
       "      <td><audio src=\"../../../Machine-Learning/ismir2018/magnatagatune_audiofiles_subset/mp3_full/0/rocket_city_riot-middle_age_suicide-04-blow_my_mind-30-59.mp3\" type=\"audio/mpeg\" controls=\"controls\"></audio></td>\n",
       "    </tr>\n",
       "    <tr>\n",
       "      <th>893</th>\n",
       "      <td>Electric Frankenstein</td>\n",
       "      <td>Learn to burn</td>\n",
       "      <td>Sick Songs</td>\n",
       "      <td><audio src=\"../../../Machine-Learning/ismir2018/magnatagatune_audiofiles_subset/mp3_full/d/electric_frankenstein-sick_songs-07-learn_to_burn-88-117.mp3\" type=\"audio/mpeg\" controls=\"controls\"></audio></td>\n",
       "    </tr>\n",
       "    <tr>\n",
       "      <th>1113</th>\n",
       "      <td>Electric Frankenstein</td>\n",
       "      <td>Out there (F-Word)</td>\n",
       "      <td>Sick Songs</td>\n",
       "      <td><audio src=\"../../../Machine-Learning/ismir2018/magnatagatune_audiofiles_subset/mp3_full/d/electric_frankenstein-sick_songs-10-out_there_fword-30-59.mp3\" type=\"audio/mpeg\" controls=\"controls\"></audio></td>\n",
       "    </tr>\n",
       "    <tr>\n",
       "      <th>169</th>\n",
       "      <td>Electric Frankenstein</td>\n",
       "      <td>Back at you</td>\n",
       "      <td>Sick Songs</td>\n",
       "      <td><audio src=\"../../../Machine-Learning/ismir2018/magnatagatune_audiofiles_subset/mp3_full/d/electric_frankenstein-sick_songs-08-back_at_you-59-88.mp3\" type=\"audio/mpeg\" controls=\"controls\"></audio></td>\n",
       "    </tr>\n",
       "  </tbody>\n",
       "</table>"
      ],
      "text/plain": [
       "<IPython.core.display.HTML object>"
      ]
     },
     "execution_count": 141,
     "metadata": {},
     "output_type": "execute_result"
    }
   ],
   "source": [
    "similar(model_sim, 2)"
   ]
  },
  {
   "cell_type": "markdown",
   "metadata": {},
   "source": [
    "## Improve Performance through Identity\n",
    "\n",
    "So far we have taught the network what is similar and what not, but we have not shown it, what is *identical*. All input pairs created so far missed to pass identical data. In the following step, we will include **identical pairs** into the training instances. To emphasis the identity, only identical pairs will be assigned a label of `1`. Tracks of the same playlist will have a similarity value of `0.9`.\n",
    "\n",
    "This way, the previous symmetric lookup-table now looks like follows:"
   ]
  },
  {
   "cell_type": "code",
   "execution_count": 142,
   "metadata": {},
   "outputs": [
    {
     "data": {
      "text/html": [
       "<div>\n",
       "<style scoped>\n",
       "    .dataframe tbody tr th:only-of-type {\n",
       "        vertical-align: middle;\n",
       "    }\n",
       "\n",
       "    .dataframe tbody tr th {\n",
       "        vertical-align: top;\n",
       "    }\n",
       "\n",
       "    .dataframe thead th {\n",
       "        text-align: right;\n",
       "    }\n",
       "</style>\n",
       "<table border=\"1\" class=\"dataframe\">\n",
       "  <thead>\n",
       "    <tr style=\"text-align: right;\">\n",
       "      <th></th>\n",
       "      <th>classical</th>\n",
       "      <th>country</th>\n",
       "      <th>jazz</th>\n",
       "      <th>pop</th>\n",
       "      <th>rock</th>\n",
       "      <th>techno</th>\n",
       "      <th>blues</th>\n",
       "      <th>dance</th>\n",
       "    </tr>\n",
       "  </thead>\n",
       "  <tbody>\n",
       "    <tr>\n",
       "      <th>classical</th>\n",
       "      <td>0.9</td>\n",
       "      <td>0.0</td>\n",
       "      <td>0.0</td>\n",
       "      <td>0.0</td>\n",
       "      <td>0.0</td>\n",
       "      <td>0.0</td>\n",
       "      <td>0.0</td>\n",
       "      <td>0.0</td>\n",
       "    </tr>\n",
       "    <tr>\n",
       "      <th>country</th>\n",
       "      <td>0.0</td>\n",
       "      <td>0.9</td>\n",
       "      <td>0.1</td>\n",
       "      <td>0.2</td>\n",
       "      <td>0.3</td>\n",
       "      <td>0.0</td>\n",
       "      <td>0.8</td>\n",
       "      <td>0.0</td>\n",
       "    </tr>\n",
       "    <tr>\n",
       "      <th>jazz</th>\n",
       "      <td>0.0</td>\n",
       "      <td>0.1</td>\n",
       "      <td>0.9</td>\n",
       "      <td>0.0</td>\n",
       "      <td>0.1</td>\n",
       "      <td>0.0</td>\n",
       "      <td>0.3</td>\n",
       "      <td>0.0</td>\n",
       "    </tr>\n",
       "    <tr>\n",
       "      <th>pop</th>\n",
       "      <td>0.0</td>\n",
       "      <td>0.2</td>\n",
       "      <td>0.0</td>\n",
       "      <td>0.9</td>\n",
       "      <td>0.2</td>\n",
       "      <td>0.8</td>\n",
       "      <td>0.0</td>\n",
       "      <td>0.0</td>\n",
       "    </tr>\n",
       "    <tr>\n",
       "      <th>rock</th>\n",
       "      <td>0.0</td>\n",
       "      <td>0.3</td>\n",
       "      <td>0.1</td>\n",
       "      <td>0.2</td>\n",
       "      <td>0.9</td>\n",
       "      <td>0.0</td>\n",
       "      <td>0.1</td>\n",
       "      <td>0.0</td>\n",
       "    </tr>\n",
       "    <tr>\n",
       "      <th>techno</th>\n",
       "      <td>0.0</td>\n",
       "      <td>0.0</td>\n",
       "      <td>0.0</td>\n",
       "      <td>0.8</td>\n",
       "      <td>0.0</td>\n",
       "      <td>0.9</td>\n",
       "      <td>0.0</td>\n",
       "      <td>0.0</td>\n",
       "    </tr>\n",
       "    <tr>\n",
       "      <th>blues</th>\n",
       "      <td>0.0</td>\n",
       "      <td>0.8</td>\n",
       "      <td>0.3</td>\n",
       "      <td>0.0</td>\n",
       "      <td>0.1</td>\n",
       "      <td>0.0</td>\n",
       "      <td>0.9</td>\n",
       "      <td>0.0</td>\n",
       "    </tr>\n",
       "    <tr>\n",
       "      <th>dance</th>\n",
       "      <td>0.0</td>\n",
       "      <td>0.0</td>\n",
       "      <td>0.0</td>\n",
       "      <td>0.0</td>\n",
       "      <td>0.0</td>\n",
       "      <td>0.0</td>\n",
       "      <td>0.0</td>\n",
       "      <td>0.9</td>\n",
       "    </tr>\n",
       "  </tbody>\n",
       "</table>\n",
       "</div>"
      ],
      "text/plain": [
       "           classical  country  jazz  pop  rock  techno  blues  dance\n",
       "classical  0.9        0.0      0.0   0.0  0.0   0.0     0.0    0.0  \n",
       "country    0.0        0.9      0.1   0.2  0.3   0.0     0.8    0.0  \n",
       "jazz       0.0        0.1      0.9   0.0  0.1   0.0     0.3    0.0  \n",
       "pop        0.0        0.2      0.0   0.9  0.2   0.8     0.0    0.0  \n",
       "rock       0.0        0.3      0.1   0.2  0.9   0.0     0.1    0.0  \n",
       "techno     0.0        0.0      0.0   0.8  0.0   0.9     0.0    0.0  \n",
       "blues      0.0        0.8      0.3   0.0  0.1   0.0     0.9    0.0  \n",
       "dance      0.0        0.0      0.0   0.0  0.0   0.0     0.0    0.9  "
      ]
     },
     "execution_count": 142,
     "metadata": {},
     "output_type": "execute_result"
    }
   ],
   "source": [
    "playlist_similarities[playlist_similarities == 1] = 0.9\n",
    "playlist_similarities"
   ]
  },
  {
   "cell_type": "markdown",
   "metadata": {},
   "source": [
    "### Create Data-Pairs with similarities and identity\n",
    "\n",
    "With this lookup-table we can create more accurate input pairs. We can now apply the supplied similarites."
   ]
  },
  {
   "cell_type": "code",
   "execution_count": 143,
   "metadata": {},
   "outputs": [],
   "source": [
    "def create_pairs_with_sims_and_identity(feature_data, metadata, labels, playlist_similarities, num_triplets_per_track):\n",
    "    \n",
    "    data_ref  = []\n",
    "    data_dif  = []\n",
    "    gt_labels = []\n",
    "    \n",
    "    pbar = progressbar.ProgressBar(max_value=metadata.shape[0])\n",
    "        \n",
    "    for row_id, q_track in pbar(metadata.iterrows()):\n",
    "        \n",
    "        for j in range(num_triplets_per_track):\n",
    "            \n",
    "            label_diff = np.abs(labels - labels.loc[row_id]).sum(axis=1)\n",
    "            \n",
    "            similar_instances    = label_diff[label_diff == 0]\n",
    "            dissimilar_instances = label_diff[label_diff != 0] \n",
    "            \n",
    "            # search similar and dissimilar examples\n",
    "            pos_example_idx      = similar_instances.sample(1).index.values[0]\n",
    "            neg_example_idx      = dissimilar_instances.sample(1).index.values[0]\n",
    "            \n",
    "            # create feature triplets\n",
    "            feat_id_ref          = metadata.loc[row_id].featurespace_id\n",
    "            feat_id_pos          = metadata.loc[pos_example_idx].featurespace_id\n",
    "            feat_id_neg          = metadata.loc[neg_example_idx].featurespace_id\n",
    "\n",
    "            # playlist of reference\n",
    "            play_ref = labels.loc[row_id].idxmax(axis=1)            \n",
    "            \n",
    "            # playlist of similar sample\n",
    "            play_dif_pos = labels.loc[pos_example_idx].idxmax(axis=1) \n",
    "            \n",
    "            # playlist of dissimilar sample\n",
    "            play_dif_neg = labels.loc[neg_example_idx].idxmax(axis=1)\n",
    "\n",
    "            #****************** IDENTITY ****************** \n",
    "            if j == 0:\n",
    "                \n",
    "                # identical pair\n",
    "                data_ref.append(feature_data[feat_id_ref])\n",
    "                data_dif.append(feature_data[feat_id_ref])\n",
    "                gt_labels.append(1)\n",
    "                \n",
    "                # impostor pair with similarity\n",
    "                data_ref.append(feature_data[feat_id_ref])\n",
    "                data_dif.append(feature_data[feat_id_neg])\n",
    "                \n",
    "                # genre-similarity (lookup-table) between REF and DISSIMILAR\n",
    "                label = playlist_similarities.loc[play_ref,play_dif_neg]\n",
    "                gt_labels.append(label)\n",
    "            #**********************************************    \n",
    "\n",
    "            # genuine pair\n",
    "            data_ref.append(feature_data[feat_id_ref])\n",
    "            data_dif.append(feature_data[feat_id_pos])\n",
    "            \n",
    "            # genre-similarity (lookup-table) between REF and SIMILAR\n",
    "            label = playlist_similarities.loc[play_ref,play_dif_pos]\n",
    "            gt_labels.append(label)\n",
    "\n",
    "            # impostor pair with similarity\n",
    "            data_ref.append(feature_data[feat_id_ref])\n",
    "            data_dif.append(feature_data[feat_id_neg])\n",
    "            \n",
    "            # genre-similarity (lookup-table) between REF and DISSIMILAR\n",
    "            label = playlist_similarities.loc[play_ref,play_dif_neg]\n",
    "            gt_labels.append(label)\n",
    "\n",
    "    return [np.asarray(data_ref), np.asarray(data_dif)], np.asarray(gt_labels)"
   ]
  },
  {
   "cell_type": "markdown",
   "metadata": {},
   "source": [
    "#### EXECUTE THE FUNCTION `create_pairs_with_sims_and_identity`"
   ]
  },
  {
   "cell_type": "code",
   "execution_count": 144,
   "metadata": {},
   "outputs": [
    {
     "name": "stderr",
     "output_type": "stream",
     "text": [
      "100% (1998 of 1998) |####################| Elapsed Time: 0:00:15 Time:  0:00:15\n"
     ]
    }
   ],
   "source": [
    "data_pairs, paired_labels = create_pairs_with_sims_and_identity(melspecs, metadata, label_metadata, playlist_similarities, 5)"
   ]
  },
  {
   "cell_type": "code",
   "execution_count": 145,
   "metadata": {},
   "outputs": [
    {
     "name": "stdout",
     "output_type": "stream",
     "text": [
      "(2, 23976, 80, 80, 1)\n",
      "(23976,)\n"
     ]
    }
   ],
   "source": [
    "# check - how many instances have we created? --> 2*(5+1)*1998\n",
    "print(np.shape(data_pairs))\n",
    "print(np.shape(paired_labels))"
   ]
  },
  {
   "cell_type": "markdown",
   "metadata": {},
   "source": [
    "### Prepare the Siamese Neural Network"
   ]
  },
  {
   "cell_type": "code",
   "execution_count": 147,
   "metadata": {},
   "outputs": [],
   "source": [
    "# define the model\n",
    "model_sim_id = create_siamese_network()\n",
    "\n",
    "# define the optimizer\n",
    "opt = Adam(lr=0.0001, decay=0.001)\n",
    "\n",
    "# compile the model\n",
    "model_sim_id.compile(loss=contrastive_loss, optimizer=opt)"
   ]
  },
  {
   "cell_type": "markdown",
   "metadata": {},
   "source": [
    "Verify same type for input data and labels:"
   ]
  },
  {
   "cell_type": "code",
   "execution_count": 148,
   "metadata": {},
   "outputs": [
    {
     "data": {
      "text/plain": [
       "dtype('float32')"
      ]
     },
     "execution_count": 148,
     "metadata": {},
     "output_type": "execute_result"
    }
   ],
   "source": [
    "data_pairs[0].dtype"
   ]
  },
  {
   "cell_type": "code",
   "execution_count": 149,
   "metadata": {},
   "outputs": [
    {
     "data": {
      "text/plain": [
       "dtype('float64')"
      ]
     },
     "execution_count": 149,
     "metadata": {},
     "output_type": "execute_result"
    }
   ],
   "source": [
    "paired_labels.dtype"
   ]
  },
  {
   "cell_type": "code",
   "execution_count": 150,
   "metadata": {},
   "outputs": [
    {
     "data": {
      "text/plain": [
       "dtype('float32')"
      ]
     },
     "execution_count": 150,
     "metadata": {},
     "output_type": "execute_result"
    }
   ],
   "source": [
    "paired_labels = paired_labels.astype(np.float32)\n",
    "paired_labels.dtype"
   ]
  },
  {
   "cell_type": "markdown",
   "metadata": {},
   "source": [
    "### Train the Siamese Neural Network"
   ]
  },
  {
   "cell_type": "code",
   "execution_count": 151,
   "metadata": {},
   "outputs": [
    {
     "name": "stdout",
     "output_type": "stream",
     "text": [
      "Epoch 1/10\n",
      "344/344 [==============================] - 661s 2s/step - loss: 26.2646 - val_loss: 3.2113\n",
      "Epoch 2/10\n",
      "344/344 [==============================] - 679s 2s/step - loss: 1.7928 - val_loss: 1.2375\n",
      "Epoch 3/10\n",
      "344/344 [==============================] - 656s 2s/step - loss: 0.7213 - val_loss: 0.7152\n",
      "Epoch 4/10\n",
      "344/344 [==============================] - 634s 2s/step - loss: 0.4827 - val_loss: 0.5305\n",
      "Epoch 5/10\n",
      "344/344 [==============================] - 640s 2s/step - loss: 0.3965 - val_loss: 0.4530\n",
      "Epoch 6/10\n",
      "344/344 [==============================] - 647s 2s/step - loss: 0.3588 - val_loss: 0.4082\n",
      "Epoch 7/10\n",
      "344/344 [==============================] - 645s 2s/step - loss: 0.3332 - val_loss: 0.3786\n",
      "Epoch 8/10\n",
      "344/344 [==============================] - 614s 2s/step - loss: 0.3142 - val_loss: 0.3525\n",
      "Epoch 9/10\n",
      "344/344 [==============================] - 681s 2s/step - loss: 0.2930 - val_loss: 0.3133\n",
      "Epoch 10/10\n",
      "344/344 [==============================] - 634s 2s/step - loss: 0.2680 - val_loss: 0.2854\n"
     ]
    }
   ],
   "source": [
    "# Input data --> list of arrays \n",
    "train_set = [data_pairs[0][:-2000], data_pairs[1][:-2000]]\n",
    "\n",
    "# Target data\n",
    "train_classes = paired_labels[:-2000]\n",
    "\n",
    "# Data on which to evaluate the loss at the end of each epoch\n",
    "vali_data = ([data_pairs[0][-2000:], data_pairs[1][-2000:]], paired_labels[-2000:])\n",
    "\n",
    "# fit the model\n",
    "model_sim_id.fit(train_set, train_classes, batch_size=64, verbose=1, epochs=10, shuffle=False, validation_data=vali_data);"
   ]
  },
  {
   "cell_type": "markdown",
   "metadata": {},
   "source": [
    "Save model weights:"
   ]
  },
  {
   "cell_type": "code",
   "execution_count": 152,
   "metadata": {},
   "outputs": [],
   "source": [
    "model_sim_id.save_weights('../../models/013_Siamese_Network_with_Similarity_and_Identity.h5')"
   ]
  },
  {
   "cell_type": "markdown",
   "metadata": {},
   "source": [
    "Let’s load the weights from the `.h5` file:"
   ]
  },
  {
   "cell_type": "code",
   "execution_count": 153,
   "metadata": {},
   "outputs": [],
   "source": [
    "model_sim_id.load_weights('../../models/013_Siamese_Network_with_Similarity_and_Identity.h5')"
   ]
  },
  {
   "cell_type": "markdown",
   "metadata": {},
   "source": [
    "### Evaluate\n",
    "\n",
    "Now that we have the trained model on the adapted data, we evaluate its performance through the function `similar`. Remember that it calculates the distances between a given query track and all other tracks of the collection. The top-ten similar tracks are presented below the information of the query track. \n",
    "\n",
    "Let's check the results for some individual tracks by supplying the index to our dataset:"
   ]
  },
  {
   "cell_type": "code",
   "execution_count": 154,
   "metadata": {
    "scrolled": true
   },
   "outputs": [
    {
     "name": "stdout",
     "output_type": "stream",
     "text": [
      "artist    Rocket City Riot            \n",
      "title     -All I Got-                 \n",
      "album     Last Of The Pleasure Seekers\n",
      "Name: 15668, dtype: object\n"
     ]
    },
    {
     "data": {
      "text/html": [
       "<table border=\"1\" class=\"dataframe\">\n",
       "  <thead>\n",
       "    <tr style=\"text-align: right;\">\n",
       "      <th></th>\n",
       "      <th>artist</th>\n",
       "      <th>title</th>\n",
       "      <th>album</th>\n",
       "      <th>player</th>\n",
       "    </tr>\n",
       "    <tr>\n",
       "      <th>featurespace_id</th>\n",
       "      <th></th>\n",
       "      <th></th>\n",
       "      <th></th>\n",
       "      <th></th>\n",
       "    </tr>\n",
       "  </thead>\n",
       "  <tbody>\n",
       "    <tr>\n",
       "      <th>2</th>\n",
       "      <td>Rocket City Riot</td>\n",
       "      <td>-All I Got-</td>\n",
       "      <td>Last Of The Pleasure Seekers</td>\n",
       "      <td><audio src=\"../../../Machine-Learning/ismir2018/magnatagatune_audiofiles_subset/mp3_full/0/rocket_city_riot-last_of_the_pleasure_seekers-08-all_i_got-30-59.mp3\" type=\"audio/mpeg\" controls=\"controls\"></audio></td>\n",
       "    </tr>\n",
       "    <tr>\n",
       "      <th>1363</th>\n",
       "      <td>Spinecar</td>\n",
       "      <td>Sanchez</td>\n",
       "      <td>Autophile</td>\n",
       "      <td><audio src=\"../../../Machine-Learning/ismir2018/magnatagatune_audiofiles_subset/mp3_full/3/spinecar-autophile-10-sanchez-30-59.mp3\" type=\"audio/mpeg\" controls=\"controls\"></audio></td>\n",
       "    </tr>\n",
       "    <tr>\n",
       "      <th>781</th>\n",
       "      <td>Skitzo</td>\n",
       "      <td>Insane Empire</td>\n",
       "      <td>Babblesick</td>\n",
       "      <td><audio src=\"../../../Machine-Learning/ismir2018/magnatagatune_audiofiles_subset/mp3_full/4/skitzo-babblesick-11-insane_empire-30-59.mp3\" type=\"audio/mpeg\" controls=\"controls\"></audio></td>\n",
       "    </tr>\n",
       "    <tr>\n",
       "      <th>337</th>\n",
       "      <td>Seismic Anamoly</td>\n",
       "      <td>Code Red Love Is Dead</td>\n",
       "      <td>Ramifications</td>\n",
       "      <td><audio src=\"../../../Machine-Learning/ismir2018/magnatagatune_audiofiles_subset/mp3_full/c/seismic_anamoly-ramifications-05-code_red_love_is_dead-146-175.mp3\" type=\"audio/mpeg\" controls=\"controls\"></audio></td>\n",
       "    </tr>\n",
       "    <tr>\n",
       "      <th>848</th>\n",
       "      <td>Skitzo</td>\n",
       "      <td>Kill with a Vengeance</td>\n",
       "      <td>Babblesick</td>\n",
       "      <td><audio src=\"../../../Machine-Learning/ismir2018/magnatagatune_audiofiles_subset/mp3_full/4/skitzo-babblesick-05-kill_with_a_vengeance-59-88.mp3\" type=\"audio/mpeg\" controls=\"controls\"></audio></td>\n",
       "    </tr>\n",
       "    <tr>\n",
       "      <th>524</th>\n",
       "      <td>MRDC</td>\n",
       "      <td>Evolution</td>\n",
       "      <td>Timecode</td>\n",
       "      <td><audio src=\"../../../Machine-Learning/ismir2018/magnatagatune_audiofiles_subset/mp3_full/2/mrdc-timecode-04-evolution-30-59.mp3\" type=\"audio/mpeg\" controls=\"controls\"></audio></td>\n",
       "    </tr>\n",
       "    <tr>\n",
       "      <th>109</th>\n",
       "      <td>The West Exit</td>\n",
       "      <td>All right now</td>\n",
       "      <td>Nocturne</td>\n",
       "      <td><audio src=\"../../../Machine-Learning/ismir2018/magnatagatune_audiofiles_subset/mp3_full/d/the_west_exit-nocturne-11-all_right_now-88-117.mp3\" type=\"audio/mpeg\" controls=\"controls\"></audio></td>\n",
       "    </tr>\n",
       "    <tr>\n",
       "      <th>421</th>\n",
       "      <td>Electric Frankenstein</td>\n",
       "      <td>Demolition Joyride</td>\n",
       "      <td>The Time Is Now</td>\n",
       "      <td><audio src=\"../../../Machine-Learning/ismir2018/magnatagatune_audiofiles_subset/mp3_full/a/electric_frankenstein-the_time_is_now-06-demolition_joyride-30-59.mp3\" type=\"audio/mpeg\" controls=\"controls\"></audio></td>\n",
       "    </tr>\n",
       "    <tr>\n",
       "      <th>1082</th>\n",
       "      <td>SoulPrint</td>\n",
       "      <td>Obscenity</td>\n",
       "      <td>In Spite of it All</td>\n",
       "      <td><audio src=\"../../../Machine-Learning/ismir2018/magnatagatune_audiofiles_subset/mp3_full/c/soulprint-in_spite_of_it_all-05-obscenity-146-175.mp3\" type=\"audio/mpeg\" controls=\"controls\"></audio></td>\n",
       "    </tr>\n",
       "    <tr>\n",
       "      <th>1436</th>\n",
       "      <td>Magnatune Compilation</td>\n",
       "      <td>Skitzo_ Angel's Blood</td>\n",
       "      <td>High Energy Rock and Roll</td>\n",
       "      <td><audio src=\"../../../Machine-Learning/ismir2018/magnatagatune_audiofiles_subset/mp3_full/e/magnatune_compilation-high_energy_rock_and_roll-20-skitzo_angels_blood-59-88.mp3\" type=\"audio/mpeg\" controls=\"controls\"></audio></td>\n",
       "    </tr>\n",
       "    <tr>\n",
       "      <th>1599</th>\n",
       "      <td>Atomic Opera</td>\n",
       "      <td>StopTheRain</td>\n",
       "      <td>Penguin Dust</td>\n",
       "      <td><audio src=\"../../../Machine-Learning/ismir2018/magnatagatune_audiofiles_subset/mp3_full/e/atomic_opera-penguin_dust-02-stoptherain-88-117.mp3\" type=\"audio/mpeg\" controls=\"controls\"></audio></td>\n",
       "    </tr>\n",
       "  </tbody>\n",
       "</table>"
      ],
      "text/plain": [
       "<IPython.core.display.HTML object>"
      ]
     },
     "execution_count": 154,
     "metadata": {},
     "output_type": "execute_result"
    }
   ],
   "source": [
    "similar(model_sim_id, 2)"
   ]
  }
 ],
 "metadata": {
  "kernelspec": {
   "display_name": "Python 3",
   "language": "python",
   "name": "python3"
  },
  "language_info": {
   "codemirror_mode": {
    "name": "ipython",
    "version": 3
   },
   "file_extension": ".py",
   "mimetype": "text/x-python",
   "name": "python",
   "nbconvert_exporter": "python",
   "pygments_lexer": "ipython3",
   "version": "3.8.5"
  },
  "notify_time": "5",
  "toc": {
   "toc_cell": false,
   "toc_number_sections": true,
   "toc_threshold": 6,
   "toc_window_display": false
  }
 },
 "nbformat": 4,
 "nbformat_minor": 1
}
