{
 "cells": [
  {
   "cell_type": "markdown",
   "metadata": {},
   "source": [
    "# Convolutional Neural Networks for Instrumental, Genre and Mood Recognition\n",
    "\n",
    "This section shows how different Convolutional Neural Network architectures are used for:\n",
    "\n",
    "* Instrumental vs. Vocal Detection: detecting whether a piece of music is instrumental or contains vocals\n",
    "* Genre Classification\n",
    "* Mood Recognition"
   ]
  },
  {
   "cell_type": "markdown",
   "metadata": {},
   "source": [
    "## MagnaTagAtune Dataset\n",
    "\n",
    "The dataset used is a subset of the [MagnaTagATune Dataset](http://mirg.city.ac.uk/codeapps/the-magnatagatune-dataset) with only 1 sample excerpt of each of the original audio files. The original audio files were pre-processed to extract Mel spectrograms as an input for this section; also refer to previous notebook (cuaderno 010) on how this pre-processing was done."
   ]
  },
  {
   "cell_type": "markdown",
   "metadata": {},
   "source": [
    "### How to do it..."
   ]
  },
  {
   "cell_type": "markdown",
   "metadata": {},
   "source": [
    "1. Download and extract the dataset on `SPECTROGRAM_PATH`. "
   ]
  },
  {
   "cell_type": "code",
   "execution_count": 1,
   "metadata": {},
   "outputs": [],
   "source": [
    "SPECTROGRAM_PATH = '../../../Machine-Learning/ismir2018/ISMIR2018_tut_melspecs_subset'\n",
    "METADATA_PATH = '../../../Machine-Learning/ismir2018/metadata'\n",
    "\n",
    "import os\n",
    "\n",
    "# here, %s will be replaced by 'instrumental', 'genres' or 'moods'\n",
    "SPECTROGRAM_FILE_PATTERN = os.path.join(SPECTROGRAM_PATH,'ISMIR2018_tut_melspecs_part_1_%s_subset.npz')\n",
    "LABEL_FILE_PATTERN = os.path.join(METADATA_PATH,'ismir2018_tut_part_1_%s_labels_subset_w_clipid.csv') "
   ]
  },
  {
   "cell_type": "markdown",
   "metadata": {},
   "source": [
    "2. Import all the required packages:"
   ]
  },
  {
   "cell_type": "code",
   "execution_count": 2,
   "metadata": {},
   "outputs": [],
   "source": [
    "# General Imports\n",
    "import argparse\n",
    "import csv\n",
    "import datetime\n",
    "import glob\n",
    "import math\n",
    "import sys\n",
    "import time\n",
    "import numpy as np\n",
    "import pandas as pd \n",
    "import matplotlib.pyplot as plt\n",
    "%matplotlib inline \n",
    "\n",
    "# Deep Learning\n",
    "import keras\n",
    "from keras import optimizers\n",
    "from keras import backend as K\n",
    "from keras.models import Sequential, Model\n",
    "from keras.layers import Input, Convolution2D, MaxPooling2D, Dense, Dropout, Activation, Flatten, merge\n",
    "from keras.layers.normalization import BatchNormalization\n",
    "from keras.layers.advanced_activations import ELU\n",
    "\n",
    "# Machine Learning preprocessing and evaluation\n",
    "from sklearn import preprocessing\n",
    "from sklearn.metrics import accuracy_score, precision_score, recall_score, classification_report, roc_auc_score, hamming_loss\n",
    "from sklearn.model_selection import train_test_split\n",
    "from sklearn.model_selection import ShuffleSplit, StratifiedShuffleSplit"
   ]
  },
  {
   "cell_type": "markdown",
   "metadata": {},
   "source": [
    "## Instrumental vs. Vocal Detection\n",
    "\n",
    "This is a binary classification task to detect whether a piece of audio is instrumental or vocal (i.e. singing or voice). The output decision is *either* 0 *or* 1."
   ]
  },
  {
   "cell_type": "markdown",
   "metadata": {},
   "source": [
    "### Load Audio Spectrograms"
   ]
  },
  {
   "cell_type": "markdown",
   "metadata": {},
   "source": [
    "We already have pre-processed the audio files and extracted Mel spectrograms. We load these from a Numpy .npz file, which contains the spectrograms and also the associated clip ids:"
   ]
  },
  {
   "cell_type": "code",
   "execution_count": 3,
   "metadata": {},
   "outputs": [
    {
     "data": {
      "text/plain": [
       "(1703, 80, 80)"
      ]
     },
     "execution_count": 3,
     "metadata": {},
     "output_type": "execute_result"
    }
   ],
   "source": [
    "task = 'instrumental'\n",
    "SPECTROGRAM_FILE = SPECTROGRAM_FILE_PATTERN % task\n",
    "\n",
    "npz = np.load(SPECTROGRAM_FILE)\n",
    "spectrograms = npz['features']\n",
    "spec_clip_ids = npz['clip_id']\n",
    "\n",
    "# check how many spectrograms we have and their dimensions\n",
    "spectrograms.shape"
   ]
  },
  {
   "cell_type": "code",
   "execution_count": 4,
   "metadata": {},
   "outputs": [
    {
     "data": {
      "text/plain": [
       "1703"
      ]
     },
     "execution_count": 4,
     "metadata": {},
     "output_type": "execute_result"
    }
   ],
   "source": [
    "# check whether we have the same number of clip ids\n",
    "len(spec_clip_ids)"
   ]
  },
  {
   "cell_type": "code",
   "execution_count": 5,
   "metadata": {},
   "outputs": [
    {
     "data": {
      "text/html": [
       "<div>\n",
       "<style scoped>\n",
       "    .dataframe tbody tr th:only-of-type {\n",
       "        vertical-align: middle;\n",
       "    }\n",
       "\n",
       "    .dataframe tbody tr th {\n",
       "        vertical-align: top;\n",
       "    }\n",
       "\n",
       "    .dataframe thead th {\n",
       "        text-align: right;\n",
       "    }\n",
       "</style>\n",
       "<table border=\"1\" class=\"dataframe\">\n",
       "  <thead>\n",
       "    <tr style=\"text-align: right;\">\n",
       "      <th></th>\n",
       "      <th>spec_id</th>\n",
       "    </tr>\n",
       "    <tr>\n",
       "      <th>clip_id</th>\n",
       "      <th></th>\n",
       "    </tr>\n",
       "  </thead>\n",
       "  <tbody>\n",
       "    <tr>\n",
       "      <th>37</th>\n",
       "      <td>0</td>\n",
       "    </tr>\n",
       "    <tr>\n",
       "      <th>40</th>\n",
       "      <td>1</td>\n",
       "    </tr>\n",
       "    <tr>\n",
       "      <th>172</th>\n",
       "      <td>2</td>\n",
       "    </tr>\n",
       "    <tr>\n",
       "      <th>198</th>\n",
       "      <td>3</td>\n",
       "    </tr>\n",
       "    <tr>\n",
       "      <th>253</th>\n",
       "      <td>4</td>\n",
       "    </tr>\n",
       "  </tbody>\n",
       "</table>\n",
       "</div>"
      ],
      "text/plain": [
       "         spec_id\n",
       "clip_id         \n",
       "37             0\n",
       "40             1\n",
       "172            2\n",
       "198            3\n",
       "253            4"
      ]
     },
     "execution_count": 5,
     "metadata": {},
     "output_type": "execute_result"
    }
   ],
   "source": [
    "# create a dataframe that associates the index order of the spectrograms with the clip ids\n",
    "spectrograms_clip_ids = pd.DataFrame({'spec_id':np.arange(spectrograms.shape[0])}, index=spec_clip_ids)\n",
    "spectrograms_clip_ids.index.name = 'clip_id'\n",
    "\n",
    "# head of the dataframe\n",
    "spectrograms_clip_ids.head()"
   ]
  },
  {
   "cell_type": "code",
   "execution_count": 6,
   "metadata": {},
   "outputs": [],
   "source": [
    "# we define the same in a convenience function used later\n",
    "def load_spectrograms(spectrogram_filename):\n",
    "    # load spectrograms\n",
    "    npz = np.load(spectrogram_filename)\n",
    "    spectrograms = npz['features']\n",
    "    spec_clip_ids = npz['clip_id']\n",
    "    # create a dataframe that associates the index order of the spectrograms with the clip ids\n",
    "    spectrograms_clip_ids = pd.DataFrame({'spec_id':np.arange(spectrograms.shape[0])}, index=spec_clip_ids)\n",
    "    spectrograms_clip_ids.index.name = 'clip_id'\n",
    "    return spectrograms, spec_clip_ids, spectrograms_clip_ids"
   ]
  },
  {
   "cell_type": "markdown",
   "metadata": {},
   "source": [
    "Show a Mel Spectrogram ... just for illustration!!!"
   ]
  },
  {
   "cell_type": "code",
   "execution_count": 7,
   "metadata": {
    "scrolled": true
   },
   "outputs": [
    {
     "data": {
      "image/png": "[encoded data removed]",
      "text/plain": [
       "<Figure size 432x288 with 1 Axes>"
      ]
     },
     "metadata": {
      "needs_background": "light"
     },
     "output_type": "display_data"
    }
   ],
   "source": [
    "i = 10\n",
    "spec = spectrograms[i]\n",
    "\n",
    "fig = plt.imshow(spec, origin='lower', aspect='auto')\n",
    "fig.set_cmap('jet')\n",
    "fig.axes.get_xaxis().set_visible(False)\n",
    "fig.axes.get_yaxis().set_visible(False)"
   ]
  },
  {
   "cell_type": "markdown",
   "metadata": {},
   "source": [
    "### Standardization\n",
    "\n",
    "<b>Always standardize</b> the data before feeding it into the Neural Network! (unless we use BatchNormalization in our Neural Network).\n",
    "\n",
    "Standardization refers to shifting the distribution of each attribute to have a mean of zero and a standard deviation of one (unit variance).\n",
    "\n",
    "We use the [StandardScaler](https://scikit-learn.org/stable/modules/generated/sklearn.preprocessing.StandardScaler.html) from the *scikit-learn* package for our purpose.\n",
    "As it works typically on vector data, we have to vectorize (i.e. reshape) our matrices first, and then reshape again to the original shape. We created a convenience function for that:"
   ]
  },
  {
   "cell_type": "code",
   "execution_count": 8,
   "metadata": {},
   "outputs": [],
   "source": [
    "def standardize(data):\n",
    "    # vectorize before standardization \n",
    "    N, ydim, xdim = data.shape\n",
    "    data = data.reshape(N, xdim*ydim)\n",
    "\n",
    "    # standardize features by removing the mean and scaling to unit variance\n",
    "    scaler = preprocessing.StandardScaler()\n",
    "    data = scaler.fit_transform(data)\n",
    "\n",
    "    # reshape to original shape\n",
    "    return data.reshape(N, ydim, xdim)"
   ]
  },
  {
   "cell_type": "code",
   "execution_count": 9,
   "metadata": {},
   "outputs": [
    {
     "data": {
      "text/plain": [
       "(1703, 80, 80)"
      ]
     },
     "execution_count": 9,
     "metadata": {},
     "output_type": "execute_result"
    }
   ],
   "source": [
    "spectrograms = standardize(spectrograms)\n",
    "\n",
    "# verify that the shape is again the same as before\n",
    "spectrograms.shape "
   ]
  },
  {
   "cell_type": "markdown",
   "metadata": {},
   "source": [
    "### Load Metadata"
   ]
  },
  {
   "cell_type": "code",
   "execution_count": 10,
   "metadata": {},
   "outputs": [
    {
     "data": {
      "text/plain": [
       "(1680, 1)"
      ]
     },
     "execution_count": 10,
     "metadata": {},
     "output_type": "execute_result"
    }
   ],
   "source": [
    "task = 'instrumental'\n",
    "CSV_FILE = LABEL_FILE_PATTERN % task\n",
    "\n",
    "metadata = pd.read_csv(CSV_FILE, index_col=0)\n",
    "metadata.shape"
   ]
  },
  {
   "cell_type": "code",
   "execution_count": 11,
   "metadata": {},
   "outputs": [
    {
     "data": {
      "text/html": [
       "<div>\n",
       "<style scoped>\n",
       "    .dataframe tbody tr th:only-of-type {\n",
       "        vertical-align: middle;\n",
       "    }\n",
       "\n",
       "    .dataframe tbody tr th {\n",
       "        vertical-align: top;\n",
       "    }\n",
       "\n",
       "    .dataframe thead th {\n",
       "        text-align: right;\n",
       "    }\n",
       "</style>\n",
       "<table border=\"1\" class=\"dataframe\">\n",
       "  <thead>\n",
       "    <tr style=\"text-align: right;\">\n",
       "      <th></th>\n",
       "      <th>instrumental</th>\n",
       "    </tr>\n",
       "    <tr>\n",
       "      <th>clip_id</th>\n",
       "      <th></th>\n",
       "    </tr>\n",
       "  </thead>\n",
       "  <tbody>\n",
       "    <tr>\n",
       "      <th>37</th>\n",
       "      <td>0.0</td>\n",
       "    </tr>\n",
       "    <tr>\n",
       "      <th>40</th>\n",
       "      <td>0.0</td>\n",
       "    </tr>\n",
       "    <tr>\n",
       "      <th>172</th>\n",
       "      <td>1.0</td>\n",
       "    </tr>\n",
       "    <tr>\n",
       "      <th>198</th>\n",
       "      <td>0.0</td>\n",
       "    </tr>\n",
       "    <tr>\n",
       "      <th>253</th>\n",
       "      <td>0.0</td>\n",
       "    </tr>\n",
       "    <tr>\n",
       "      <th>...</th>\n",
       "      <td>...</td>\n",
       "    </tr>\n",
       "    <tr>\n",
       "      <th>58459</th>\n",
       "      <td>1.0</td>\n",
       "    </tr>\n",
       "    <tr>\n",
       "      <th>58470</th>\n",
       "      <td>0.0</td>\n",
       "    </tr>\n",
       "    <tr>\n",
       "      <th>58530</th>\n",
       "      <td>1.0</td>\n",
       "    </tr>\n",
       "    <tr>\n",
       "      <th>58606</th>\n",
       "      <td>1.0</td>\n",
       "    </tr>\n",
       "    <tr>\n",
       "      <th>58757</th>\n",
       "      <td>1.0</td>\n",
       "    </tr>\n",
       "  </tbody>\n",
       "</table>\n",
       "<p>1680 rows × 1 columns</p>\n",
       "</div>"
      ],
      "text/plain": [
       "         instrumental\n",
       "clip_id              \n",
       "37                0.0\n",
       "40                0.0\n",
       "172               1.0\n",
       "198               0.0\n",
       "253               0.0\n",
       "...               ...\n",
       "58459             1.0\n",
       "58470             0.0\n",
       "58530             1.0\n",
       "58606             1.0\n",
       "58757             1.0\n",
       "\n",
       "[1680 rows x 1 columns]"
      ]
     },
     "execution_count": 11,
     "metadata": {},
     "output_type": "execute_result"
    }
   ],
   "source": [
    "# dataframe\n",
    "metadata"
   ]
  },
  {
   "cell_type": "code",
   "execution_count": 12,
   "metadata": {},
   "outputs": [
    {
     "data": {
      "text/plain": [
       "instrumental    420.0\n",
       "dtype: float64"
      ]
     },
     "execution_count": 12,
     "metadata": {},
     "output_type": "execute_result"
    }
   ],
   "source": [
    "# how many instrumental tracks\n",
    "metadata.sum()"
   ]
  },
  {
   "cell_type": "code",
   "execution_count": 13,
   "metadata": {},
   "outputs": [
    {
     "data": {
      "text/plain": [
       "instrumental    1260.0\n",
       "dtype: float64"
      ]
     },
     "execution_count": 13,
     "metadata": {},
     "output_type": "execute_result"
    }
   ],
   "source": [
    "# how many vocal tracks\n",
    "(1-metadata).sum()"
   ]
  },
  {
   "cell_type": "markdown",
   "metadata": {},
   "source": [
    "### Align Metadata and Spectrograms\n",
    "\n",
    "We may have more spectrograms than metadata..."
   ]
  },
  {
   "cell_type": "code",
   "execution_count": 14,
   "metadata": {},
   "outputs": [
    {
     "data": {
      "text/plain": [
       "Int64Index([   37,    40,   172,   198,   253,   284,   349,   422,   512,\n",
       "              541,\n",
       "            ...\n",
       "            58254, 58282, 58295, 58310, 58405, 58459, 58470, 58530, 58606,\n",
       "            58757],\n",
       "           dtype='int64', name='clip_id', length=1680)"
      ]
     },
     "execution_count": 14,
     "metadata": {},
     "output_type": "execute_result"
    }
   ],
   "source": [
    "# metadata clip ids\n",
    "metadata.index"
   ]
  },
  {
   "cell_type": "code",
   "execution_count": 15,
   "metadata": {},
   "outputs": [
    {
     "data": {
      "text/plain": [
       "array([   37,    40,   172, ..., 58530, 58606, 58757])"
      ]
     },
     "execution_count": 15,
     "metadata": {},
     "output_type": "execute_result"
    }
   ],
   "source": [
    "# spectrogram clip ids\n",
    "spec_clip_ids"
   ]
  },
  {
   "cell_type": "code",
   "execution_count": 16,
   "metadata": {},
   "outputs": [
    {
     "data": {
      "text/plain": [
       "1680"
      ]
     },
     "execution_count": 16,
     "metadata": {},
     "output_type": "execute_result"
    }
   ],
   "source": [
    "# check if we find all metadata clip ids in our spectrogram data\n",
    "len(set(metadata.index).intersection(set(spec_clip_ids)))"
   ]
  },
  {
   "cell_type": "markdown",
   "metadata": {},
   "source": [
    "### Create Train X and Y: data and classes"
   ]
  },
  {
   "cell_type": "markdown",
   "metadata": {},
   "source": [
    "Get the correct spectrogram indices given the metadata's clip ids in a sorted way:"
   ]
  },
  {
   "cell_type": "code",
   "execution_count": 17,
   "metadata": {},
   "outputs": [
    {
     "data": {
      "text/plain": [
       "clip_id\n",
       "37          0\n",
       "40          1\n",
       "172         2\n",
       "198         3\n",
       "253         4\n",
       "         ... \n",
       "58459    1698\n",
       "58470    1699\n",
       "58530    1700\n",
       "58606    1701\n",
       "58757    1702\n",
       "Name: spec_id, Length: 1680, dtype: int64"
      ]
     },
     "execution_count": 17,
     "metadata": {},
     "output_type": "execute_result"
    }
   ],
   "source": [
    "meta_clip_ids = metadata.index\n",
    "spec_indices = spectrograms_clip_ids.loc[meta_clip_ids]['spec_id']\n",
    "spec_indices"
   ]
  },
  {
   "cell_type": "markdown",
   "metadata": {},
   "source": [
    "Select a correctly sorted subset of the original spectrograms:"
   ]
  },
  {
   "cell_type": "code",
   "execution_count": 18,
   "metadata": {},
   "outputs": [
    {
     "data": {
      "text/plain": [
       "(1680, 80, 80)"
      ]
     },
     "execution_count": 18,
     "metadata": {},
     "output_type": "execute_result"
    }
   ],
   "source": [
    "data = spectrograms[spec_indices,:]\n",
    "data.shape"
   ]
  },
  {
   "cell_type": "markdown",
   "metadata": {},
   "source": [
    "For training convert from Pandas DataFrame to numpy array:"
   ]
  },
  {
   "cell_type": "code",
   "execution_count": 19,
   "metadata": {},
   "outputs": [
    {
     "data": {
      "text/plain": [
       "array([[0.],\n",
       "       [0.],\n",
       "       [1.],\n",
       "       ...,\n",
       "       [1.],\n",
       "       [1.],\n",
       "       [1.]])"
      ]
     },
     "execution_count": 19,
     "metadata": {},
     "output_type": "execute_result"
    }
   ],
   "source": [
    "classes = metadata.values\n",
    "classes"
   ]
  },
  {
   "cell_type": "markdown",
   "metadata": {},
   "source": [
    "Number of classes is number of columns in metadata:"
   ]
  },
  {
   "cell_type": "code",
   "execution_count": 20,
   "metadata": {},
   "outputs": [
    {
     "data": {
      "text/plain": [
       "1"
      ]
     },
     "execution_count": 20,
     "metadata": {},
     "output_type": "execute_result"
    }
   ],
   "source": [
    "n_classes = metadata.shape[1]\n",
    "n_classes"
   ]
  },
  {
   "cell_type": "markdown",
   "metadata": {},
   "source": [
    "## Convolutional Neural Networks\n",
    "\n",
    "A Convolutional Neural Network (ConvNet or CNN) is a type of (Deep) Neural Network that is well-suited for 2D axes data, such as images or spectrograms, as it is optimized for learning from spatial proximity. Its core elements are `2D filter kernels` (which essentially learn the weights of the Neural Network) and down-scaling functions such as `Max Pooling`.\n",
    "\n",
    "A CNN can have one or more **Convolution layers**, each of them having an arbitrary number of `N` filters (which define the depth of the CNN layer), typically followed by a **pooling step**, which aggregates neighboring pixels together and thus reduces the image resolution by retaining only the average or maximum values of neighboring pixels."
   ]
  },
  {
   "cell_type": "markdown",
   "metadata": {},
   "source": [
    "## Preparing the Data\n",
    "\n",
    "### Adding the channel\n",
    "\n",
    "As CNNs were initially made for image data, we need to add a dimension for the color channel to the data. \n",
    "\n",
    "<b>Spectrograms, however, are considered like greyscale images. Likewise we need to add an extra dimension for compatibility with the CNN implementation.</b>\n",
    "\n",
    "For greyscale images, we add the number `1` as the depth of the additional dimension of the input shape (for RGB color images, the number of channels is `3`)."
   ]
  },
  {
   "cell_type": "code",
   "execution_count": 21,
   "metadata": {},
   "outputs": [],
   "source": [
    "def add_channel(data, n_channels=1):\n",
    "    # n_channels: 1 for grey-scale, 3 for RGB, but usually already present in the data\n",
    "    N, ydim, xdim = data.shape\n",
    "    data = data.reshape(N, ydim, xdim, n_channels)\n",
    "    return data"
   ]
  },
  {
   "cell_type": "code",
   "execution_count": 22,
   "metadata": {},
   "outputs": [
    {
     "data": {
      "text/plain": [
       "(1680, 80, 80, 1)"
      ]
     },
     "execution_count": 22,
     "metadata": {},
     "output_type": "execute_result"
    }
   ],
   "source": [
    "data = add_channel(data, n_channels=1)\n",
    "data.shape"
   ]
  },
  {
   "cell_type": "code",
   "execution_count": 23,
   "metadata": {},
   "outputs": [
    {
     "data": {
      "text/plain": [
       "(80, 80, 1)"
      ]
     },
     "execution_count": 23,
     "metadata": {},
     "output_type": "execute_result"
    }
   ],
   "source": [
    "# we store the new shape of the images in the 'input_shape' variable.\n",
    "# take all dimensions except the 0th one (which is the number of files)\n",
    "input_shape = data.shape[1:]  \n",
    "input_shape"
   ]
  },
  {
   "cell_type": "markdown",
   "metadata": {},
   "source": [
    "### Train & Test Set Split\n",
    "\n",
    "We split the original full data set into two parts: Train Set (75%) and Test Set (25%).\n",
    "\n",
    "**NOTE:** For demo purposes we use only 1 split here. A better way to do it is to use **Cross-Validation**, doing the split multiple times, iterating training and testing over the splits and averaging the results."
   ]
  },
  {
   "cell_type": "code",
   "execution_count": 24,
   "metadata": {},
   "outputs": [],
   "source": [
    "# use 75% of data for train, 25% for test set\n",
    "testset_size = 0.25"
   ]
  },
  {
   "cell_type": "code",
   "execution_count": 25,
   "metadata": {},
   "outputs": [
    {
     "name": "stdout",
     "output_type": "stream",
     "text": [
      "TRAIN INDEX: [ 514  949 1427 ...  463 1586  433]\n",
      "TEST INDEX: [1384  929 1069  946  144  123  743 1574 1448 1031  679 1430  935  790\n",
      "  189  742 1138 1059 1463  444  421  670  139  462   62  882 1168 1066\n",
      " 1269   57 1096 1454   40 1481 1280 1257 1155 1569  505  488  422 1194\n",
      "  698 1298 1607 1255  532  447 1441 1100  473 1156 1091  860 1308 1429\n",
      " 1577 1516 1609  789  494   29  285  870  834  191  443  713 1584  810\n",
      "  410  387  923  299 1259  944  657  408 1643  264 1284 1214  294  330\n",
      " 1542  828  888  350  357  318 1409  793  260  173  681 1459 1504  380\n",
      " 1112  361 1004 1654 1163   98  738 1145  496 1160 1174 1373  616  556\n",
      "   43 1131  188  167 1360  620  163   21  907  710 1421 1171  892 1260\n",
      "  794 1503 1173 1301 1528 1648  237 1592  254 1491  960 1007 1343  993\n",
      "  215  314 1115 1121 1055  820 1508  955  329   39 1450 1477 1443  845\n",
      " 1405  607 1644 1222  258 1539  856 1623  523   12  399 1273 1660  367\n",
      " 1206  165  615  169 1281 1228  760 1005  854  965  278   79  151  338\n",
      "  674 1024  722  221 1251  806 1309  371 1132 1076  719  821  374 1559\n",
      "   90  920 1051  360 1380  796 1268 1604  206 1319  847 1423 1476  168\n",
      "  940 1238  124 1638  864 1064 1279  480 1047 1498 1412 1399  131  195\n",
      "   34 1196  157  555 1410 1629 1457  916  686   14  986  763  193 1519\n",
      " 1015 1402  841 1626 1178  601  812   78 1320 1252  591  994 1535 1653\n",
      " 1581   13  212  673  723 1354  666   30  951 1192  775 1179  559  716\n",
      " 1325 1489  226 1054 1400  963  726 1018 1530  276 1027  303  715 1021\n",
      "  252 1249  504  973  745 1002  871   28  436 1661 1028  852  633  924\n",
      "  950  483 1622  544  359 1362  355 1414 1057  375 1143  643  302 1511\n",
      " 1583  597  125  568  430 1398 1175  427  781  753  786  875 1041  245\n",
      "  177 1084 1120 1501  121   94   55 1011  500 1208  589 1167  453  968\n",
      " 1627  432 1226  117  256 1062 1522  180  478 1507  733 1212 1541  158\n",
      " 1667  897  379  634  115 1393  311  247  358   46 1286  214  987  890\n",
      "  369 1602   93  112 1547 1218  511  541    5  804 1129 1529  190 1149\n",
      "  288  585 1455   17  230  803 1181  414 1195 1341 1169 1525  696  130\n",
      " 1347 1669  386  967  788 1172 1611   97  271 1227  160  110  235 1548\n",
      "  563 1536  377 1081  739  499  977 1415 1517  565  287 1291  218  268]\n",
      "number of instances TRAIN: 1260\n",
      "number of instances TEST: 420\n"
     ]
    }
   ],
   "source": [
    "# provides train/test indices to split data into train/test sets\n",
    "splitter = StratifiedShuffleSplit(n_splits=1, test_size=testset_size, random_state=0)\n",
    "splits = splitter.split(data, classes)\n",
    "\n",
    "for train_index, test_index in splits:\n",
    "    print(\"TRAIN INDEX:\", train_index)\n",
    "    print(\"TEST INDEX:\", test_index)\n",
    "    print(\"number of instances TRAIN:\", len(train_index))\n",
    "    print(\"number of instances TEST:\", len(test_index))\n",
    "    train_set = data[train_index]\n",
    "    test_set = data[test_index]\n",
    "    train_classes = classes[train_index]\n",
    "    test_classes = classes[test_index]"
   ]
  },
  {
   "cell_type": "code",
   "execution_count": 26,
   "metadata": {},
   "outputs": [
    {
     "name": "stdout",
     "output_type": "stream",
     "text": [
      "(1260, 80, 80, 1)\n",
      "(420, 80, 80, 1)\n"
     ]
    }
   ],
   "source": [
    "print(train_set.shape)\n",
    "print(test_set.shape)"
   ]
  },
  {
   "cell_type": "markdown",
   "metadata": {},
   "source": [
    "## Creating Neural Network Models in Keras\n",
    "\n",
    "### Sequential Models\n",
    "\n",
    "In Keras, one can choose between a Sequential model and a Graph model. ***Sequential models*** are simple concatenations of layers. ***Graph models*** can also handle those but also more complex neural network architectures. Keras now recommends to use the Graph models by default, but for a simple entry into the topic we are going to start with Sequential models first."
   ]
  },
  {
   "cell_type": "markdown",
   "metadata": {},
   "source": [
    "**EXERCISE:** Try different configurations by uncommenting various lines of code in the following code box. Observe changes in:\n",
    "* number of parameters in the model;\n",
    "* speed of training;\n",
    "* accuracy on test set."
   ]
  },
  {
   "cell_type": "code",
   "execution_count": 27,
   "metadata": {},
   "outputs": [],
   "source": [
    "#np.random.seed(0) # make results repeatable\n",
    "\n",
    "model = Sequential()\n",
    "\n",
    "conv_filters = 16 # number of convolution filters (= CNN depth)\n",
    "\n",
    "# UNCOMMENT TO INCREASE FILTERS\n",
    "#conv_filters = 32 # number of convolution filters (= CNN depth)\n",
    "\n",
    "# 1st Layer\n",
    "model.add(Convolution2D(conv_filters, (3,3), input_shape=input_shape))\n",
    "model.add(MaxPooling2D(pool_size=(2,2))) \n",
    "\n",
    "# UNCOMMENT TO ADD 2nd LAYER\n",
    "#model.add(Convolution2D(conv_filters, (3,3)))\n",
    "#model.add(MaxPooling2D(pool_size=(2,2))) \n",
    "\n",
    "# UNCOMMENT TO ADD DROPOUT\n",
    "#model.add(Dropout(0.25)) \n",
    "\n",
    "# After Convolution, we have a [conv_filters*y*x] matrix output\n",
    "# In order to feed this to a Full (Dense) layer, we need to flatten all data\n",
    "model.add(Flatten()) \n",
    "\n",
    "# Full layer\n",
    "model.add(Dense(256, activation='sigmoid')) \n",
    "\n",
    "# Output layer\n",
    "# For binary/2-class problems use ONE sigmoid unit, \n",
    "# for multi-class/multi-label problems use n output units and activation='softmax'\n",
    "model.add(Dense(n_classes, activation='sigmoid'))"
   ]
  },
  {
   "cell_type": "markdown",
   "metadata": {},
   "source": [
    "Get a nice overview of the model architecture and the number of weights (parameters) in the NN:"
   ]
  },
  {
   "cell_type": "code",
   "execution_count": 28,
   "metadata": {
    "scrolled": true
   },
   "outputs": [
    {
     "name": "stdout",
     "output_type": "stream",
     "text": [
      "Model: \"sequential\"\n",
      "_________________________________________________________________\n",
      "Layer (type)                 Output Shape              Param #   \n",
      "=================================================================\n",
      "conv2d (Conv2D)              (None, 78, 78, 16)        160       \n",
      "_________________________________________________________________\n",
      "max_pooling2d (MaxPooling2D) (None, 39, 39, 16)        0         \n",
      "_________________________________________________________________\n",
      "flatten (Flatten)            (None, 24336)             0         \n",
      "_________________________________________________________________\n",
      "dense (Dense)                (None, 256)               6230272   \n",
      "_________________________________________________________________\n",
      "dense_1 (Dense)              (None, 1)                 257       \n",
      "=================================================================\n",
      "Total params: 6,230,689\n",
      "Trainable params: 6,230,689\n",
      "Non-trainable params: 0\n",
      "_________________________________________________________________\n"
     ]
    }
   ],
   "source": [
    "model.summary()"
   ]
  },
  {
   "cell_type": "markdown",
   "metadata": {},
   "source": [
    "Note that there are `160` parameters in the *convolution layer* as each of the `16` filters of size `3 x 3` would have `9` weights and `1` bias term. \n",
    "\n",
    "As we see, the number of parameters in the *first dense layer* is `6230272`, as the `24336` input units are connected to `256` hidden units, resulting in `24336*256` weight values and `256` bias values.\n",
    "\n",
    "Similarly, the *output layer* has `1` output, which is connected to each of the `256` hidden units, resulting in `256*1` weight values and `1` biases (a total of `257` parameters)."
   ]
  },
  {
   "cell_type": "markdown",
   "metadata": {},
   "source": [
    "## Training the CNN"
   ]
  },
  {
   "cell_type": "markdown",
   "metadata": {},
   "source": [
    "We have to define:\n",
    "\n",
    "* **loss function**: `binary crossentropy` for single-class problems\n",
    "(there are only two label classes assumed to be 0 and 1), `categorical crossentropy` for multi-class problems;\n",
    "* **optimizer**: classic `Stochastic Gradient Descent`, or derivations thereof (e.g. `Adam`);\n",
    "* **metric**: one or multiple metrics for evaluation on the train, validation and test sets;\n",
    "* **epochs**: number of iterations to train the network (in the default case, at each epoch the full dataset is presented once to the network);\n",
    "* **batch_size**: how many instances are presented as one batch to the network, before a weight update (= *Back Propagation*) takes place."
   ]
  },
  {
   "cell_type": "code",
   "execution_count": 29,
   "metadata": {},
   "outputs": [],
   "source": [
    "loss = 'binary_crossentropy'  \n",
    "optimizer = 'sgd' \n",
    "metrics = ['accuracy']\n",
    "batch_size = 32\n",
    "\n",
    "# Compiling the model\n",
    "model.compile(loss=loss, optimizer=optimizer, metrics=metrics)"
   ]
  },
  {
   "cell_type": "code",
   "execution_count": 30,
   "metadata": {
    "scrolled": true
   },
   "outputs": [
    {
     "name": "stdout",
     "output_type": "stream",
     "text": [
      "Epoch 1/10\n",
      "40/40 [==============================] - 5s 108ms/step - loss: 0.5999 - accuracy: 0.6862\n",
      "Epoch 2/10\n",
      "40/40 [==============================] - 4s 101ms/step - loss: 0.5220 - accuracy: 0.7684\n",
      "Epoch 3/10\n",
      "40/40 [==============================] - 4s 101ms/step - loss: 0.5084 - accuracy: 0.7731\n",
      "Epoch 4/10\n",
      "40/40 [==============================] - 4s 91ms/step - loss: 0.4838 - accuracy: 0.8025\n",
      "Epoch 5/10\n",
      "40/40 [==============================] - 4s 95ms/step - loss: 0.4956 - accuracy: 0.7726\n",
      "Epoch 6/10\n",
      "40/40 [==============================] - 3s 86ms/step - loss: 0.4653 - accuracy: 0.7954\n",
      "Epoch 7/10\n",
      "40/40 [==============================] - 3s 84ms/step - loss: 0.4339 - accuracy: 0.8072\n",
      "Epoch 8/10\n",
      "40/40 [==============================] - 4s 93ms/step - loss: 0.4314 - accuracy: 0.8289\n",
      "Epoch 9/10\n",
      "40/40 [==============================] - 4s 113ms/step - loss: 0.4297 - accuracy: 0.8001\n",
      "Epoch 10/10\n",
      "40/40 [==============================] - 4s 94ms/step - loss: 0.4128 - accuracy: 0.8316\n"
     ]
    }
   ],
   "source": [
    "# Fitting the model\n",
    "# (execute multiple times to train more epochs)\n",
    "epochs = 10\n",
    "history = model.fit(train_set, train_classes, batch_size=batch_size, epochs=epochs)"
   ]
  },
  {
   "cell_type": "markdown",
   "metadata": {},
   "source": [
    "## Verifying Accuracy on Test Set"
   ]
  },
  {
   "cell_type": "markdown",
   "metadata": {},
   "source": [
    "Calculate the expected output values for a given input (`test_set`) to the model:"
   ]
  },
  {
   "cell_type": "code",
   "execution_count": 31,
   "metadata": {},
   "outputs": [
    {
     "name": "stderr",
     "output_type": "stream",
     "text": [
      "/home/ale/miniconda3/lib/python3.8/site-packages/tensorflow/python/keras/engine/sequential.py:450: UserWarning: `model.predict_classes()` is deprecated and will be removed after 2021-01-01. Please use instead:* `np.argmax(model.predict(x), axis=-1)`,   if your model does multi-class classification   (e.g. if it uses a `softmax` last-layer activation).* `(model.predict(x) > 0.5).astype(\"int32\")`,   if your model does binary classification   (e.g. if it uses a `sigmoid` last-layer activation).\n",
      "  warnings.warn('`model.predict_classes()` is deprecated and '\n"
     ]
    }
   ],
   "source": [
    "test_pred = model.predict_classes(test_set)"
   ]
  },
  {
   "cell_type": "markdown",
   "metadata": {},
   "source": [
    "**NOTE:** we use `predict_class` for classifiers (outputs are labels) and `predict` for regressions (outputs are non discrete)."
   ]
  },
  {
   "cell_type": "code",
   "execution_count": 32,
   "metadata": {
    "scrolled": true
   },
   "outputs": [
    {
     "data": {
      "text/plain": [
       "array([[1],\n",
       "       [0],\n",
       "       [0],\n",
       "       [0],\n",
       "       [0],\n",
       "       [0],\n",
       "       [0],\n",
       "       [0],\n",
       "       [0],\n",
       "       [0]], dtype=int32)"
      ]
     },
     "execution_count": 32,
     "metadata": {},
     "output_type": "execute_result"
    }
   ],
   "source": [
    "# show first 10 predictions\n",
    "test_pred[0:10]"
   ]
  },
  {
   "cell_type": "markdown",
   "metadata": {},
   "source": [
    "Calculate the accuracy classification score (fraction of correctly classified samples):"
   ]
  },
  {
   "cell_type": "code",
   "execution_count": 33,
   "metadata": {},
   "outputs": [
    {
     "data": {
      "text/plain": [
       "0.7880952380952381"
      ]
     },
     "execution_count": 33,
     "metadata": {},
     "output_type": "execute_result"
    }
   ],
   "source": [
    "accuracy_score(test_classes, test_pred)"
   ]
  },
  {
   "cell_type": "markdown",
   "metadata": {},
   "source": [
    "## Additional Parameters & Techniques\n",
    "\n",
    "**Exercise:** Try out more parameters and techniques: comment/uncomment appropriate lines of code below:\n",
    "* add ReLU activation\n",
    "* add Batch normalization\n",
    "* add Dropout on multiple layers\n",
    "\n",
    "**NOTA:** Batch normalization is used to stabilize and accelerate the learning process. It does so by applying a transformation that maintains the mean activation close to 0 and the activation standard deviation close to 1. For more detalis, see [Batch Normalization Tensorflow Keras Example](https://towardsdatascience.com/backpropagation-and-batch-normalization-in-feedforward-neural-networks-explained-901fd6e5393e)."
   ]
  },
  {
   "cell_type": "code",
   "execution_count": 34,
   "metadata": {},
   "outputs": [],
   "source": [
    "model = Sequential()\n",
    "\n",
    "conv_filters = 16 # number of convolution filters (= CNN depth)\n",
    "filter_size = (3,3)\n",
    "pool_size = (2,2)\n",
    "\n",
    "# Layer 1\n",
    "model.add(Convolution2D(conv_filters, filter_size, padding='valid', input_shape=input_shape))\n",
    "#model.add(BatchNormalization())\n",
    "#model.add(Activation('relu')) \n",
    "model.add(MaxPooling2D(pool_size=pool_size)) \n",
    "#model.add(Dropout(0.3))\n",
    "\n",
    "# Layer 2\n",
    "model.add(Convolution2D(conv_filters, filter_size, padding='valid', input_shape=input_shape))\n",
    "#model.add(BatchNormalization())\n",
    "#model.add(Activation('relu')) \n",
    "model.add(MaxPooling2D(pool_size=pool_size)) \n",
    "#model.add(Dropout(0.1))\n",
    "\n",
    "# In order to feed this to a Full (Dense) layer, we need to flatten all data\n",
    "model.add(Flatten()) \n",
    "\n",
    "# Full layer\n",
    "model.add(Dense(256))  \n",
    "#model.add(Activation('relu'))\n",
    "#model.add(Dropout(0.1))\n",
    "\n",
    "# Output layer\n",
    "# For binary/2-class problems use ONE sigmoid unit, \n",
    "# for multi-class/multi-label problems use n output units and activation='softmax'\n",
    "model.add(Dense(n_classes, activation='sigmoid'))"
   ]
  },
  {
   "cell_type": "code",
   "execution_count": 35,
   "metadata": {},
   "outputs": [
    {
     "name": "stdout",
     "output_type": "stream",
     "text": [
      "Model: \"sequential_1\"\n",
      "_________________________________________________________________\n",
      "Layer (type)                 Output Shape              Param #   \n",
      "=================================================================\n",
      "conv2d_1 (Conv2D)            (None, 78, 78, 16)        160       \n",
      "_________________________________________________________________\n",
      "max_pooling2d_1 (MaxPooling2 (None, 39, 39, 16)        0         \n",
      "_________________________________________________________________\n",
      "conv2d_2 (Conv2D)            (None, 37, 37, 16)        2320      \n",
      "_________________________________________________________________\n",
      "max_pooling2d_2 (MaxPooling2 (None, 18, 18, 16)        0         \n",
      "_________________________________________________________________\n",
      "flatten_1 (Flatten)          (None, 5184)              0         \n",
      "_________________________________________________________________\n",
      "dense_2 (Dense)              (None, 256)               1327360   \n",
      "_________________________________________________________________\n",
      "dense_3 (Dense)              (None, 1)                 257       \n",
      "=================================================================\n",
      "Total params: 1,330,097\n",
      "Trainable params: 1,330,097\n",
      "Non-trainable params: 0\n",
      "_________________________________________________________________\n"
     ]
    }
   ],
   "source": [
    "model.summary()"
   ]
  },
  {
   "cell_type": "code",
   "execution_count": 36,
   "metadata": {},
   "outputs": [],
   "source": [
    "# Compile the model\n",
    "model.compile(loss=loss, optimizer=optimizer, metrics=metrics)"
   ]
  },
  {
   "cell_type": "code",
   "execution_count": 37,
   "metadata": {
    "scrolled": true
   },
   "outputs": [
    {
     "name": "stdout",
     "output_type": "stream",
     "text": [
      "Epoch 1/10\n",
      "40/40 [==============================] - 5s 128ms/step - loss: 0.5587 - accuracy: 0.7100\n",
      "Epoch 2/10\n",
      "40/40 [==============================] - 5s 132ms/step - loss: 0.5035 - accuracy: 0.7867\n",
      "Epoch 3/10\n",
      "40/40 [==============================] - 5s 124ms/step - loss: 0.4743 - accuracy: 0.7993\n",
      "Epoch 4/10\n",
      "40/40 [==============================] - 5s 129ms/step - loss: 0.4557 - accuracy: 0.8050\n",
      "Epoch 5/10\n",
      "40/40 [==============================] - 5s 122ms/step - loss: 0.4242 - accuracy: 0.8319\n",
      "Epoch 6/10\n",
      "40/40 [==============================] - 5s 127ms/step - loss: 0.4320 - accuracy: 0.8209\n",
      "Epoch 7/10\n",
      "40/40 [==============================] - 5s 127ms/step - loss: 0.3971 - accuracy: 0.8266\n",
      "Epoch 8/10\n",
      "40/40 [==============================] - 4s 112ms/step - loss: 0.3806 - accuracy: 0.8327\n",
      "Epoch 9/10\n",
      "40/40 [==============================] - 5s 113ms/step - loss: 0.3962 - accuracy: 0.8365\n",
      "Epoch 10/10\n",
      "40/40 [==============================] - 4s 109ms/step - loss: 0.3838 - accuracy: 0.8461\n"
     ]
    }
   ],
   "source": [
    "# Fit the model\n",
    "epochs = 10\n",
    "history = model.fit(train_set, train_classes, batch_size=32, epochs=epochs)"
   ]
  },
  {
   "cell_type": "code",
   "execution_count": 38,
   "metadata": {
    "scrolled": false
   },
   "outputs": [
    {
     "name": "stderr",
     "output_type": "stream",
     "text": [
      "/home/ale/miniconda3/lib/python3.8/site-packages/tensorflow/python/keras/engine/sequential.py:450: UserWarning: `model.predict_classes()` is deprecated and will be removed after 2021-01-01. Please use instead:* `np.argmax(model.predict(x), axis=-1)`,   if your model does multi-class classification   (e.g. if it uses a `softmax` last-layer activation).* `(model.predict(x) > 0.5).astype(\"int32\")`,   if your model does binary classification   (e.g. if it uses a `sigmoid` last-layer activation).\n",
      "  warnings.warn('`model.predict_classes()` is deprecated and '\n"
     ]
    },
    {
     "data": {
      "text/plain": [
       "0.780952380952381"
      ]
     },
     "execution_count": 38,
     "metadata": {},
     "output_type": "execute_result"
    }
   ],
   "source": [
    "# Verify Accuracy on Test Set\n",
    "test_pred = model.predict_classes(test_set)\n",
    "accuracy_score(test_classes, test_pred)"
   ]
  },
  {
   "cell_type": "markdown",
   "metadata": {},
   "source": [
    "## Genre Classification\n",
    "\n",
    "In this Genre classification task, we have multiple classes, but the decision has to be made for 1 target class.\n",
    "This is called a single-label / multi-class task (as opposed to a multi-label task)."
   ]
  },
  {
   "cell_type": "markdown",
   "metadata": {},
   "source": [
    "### Load Audio Spectrograms"
   ]
  },
  {
   "cell_type": "markdown",
   "metadata": {},
   "source": [
    "We already have pre-processed the audio files and extracted Mel spectrograms. We load these from a Numpy .npz file, which contains the spectrograms and also the associated clip ids:"
   ]
  },
  {
   "cell_type": "code",
   "execution_count": 39,
   "metadata": {},
   "outputs": [],
   "source": [
    "task = 'genres'\n",
    "SPECTROGRAM_FILE = SPECTROGRAM_FILE_PATTERN % task\n",
    "\n",
    "spectrograms, spec_clip_ids, spectrograms_clip_ids = load_spectrograms(SPECTROGRAM_FILE)"
   ]
  },
  {
   "cell_type": "code",
   "execution_count": 40,
   "metadata": {},
   "outputs": [
    {
     "data": {
      "text/plain": [
       "(1998, 80, 80)"
      ]
     },
     "execution_count": 40,
     "metadata": {},
     "output_type": "execute_result"
    }
   ],
   "source": [
    "# check how many spectrograms we have and their dimensions\n",
    "spectrograms.shape"
   ]
  },
  {
   "cell_type": "code",
   "execution_count": 41,
   "metadata": {},
   "outputs": [
    {
     "data": {
      "text/plain": [
       "1998"
      ]
     },
     "execution_count": 41,
     "metadata": {},
     "output_type": "execute_result"
    }
   ],
   "source": [
    "# check whether we have the same number of clip ids\n",
    "len(spec_clip_ids)"
   ]
  },
  {
   "cell_type": "code",
   "execution_count": 42,
   "metadata": {},
   "outputs": [
    {
     "data": {
      "text/html": [
       "<div>\n",
       "<style scoped>\n",
       "    .dataframe tbody tr th:only-of-type {\n",
       "        vertical-align: middle;\n",
       "    }\n",
       "\n",
       "    .dataframe tbody tr th {\n",
       "        vertical-align: top;\n",
       "    }\n",
       "\n",
       "    .dataframe thead th {\n",
       "        text-align: right;\n",
       "    }\n",
       "</style>\n",
       "<table border=\"1\" class=\"dataframe\">\n",
       "  <thead>\n",
       "    <tr style=\"text-align: right;\">\n",
       "      <th></th>\n",
       "      <th>spec_id</th>\n",
       "    </tr>\n",
       "    <tr>\n",
       "      <th>clip_id</th>\n",
       "      <th></th>\n",
       "    </tr>\n",
       "  </thead>\n",
       "  <tbody>\n",
       "    <tr>\n",
       "      <th>41797</th>\n",
       "      <td>0</td>\n",
       "    </tr>\n",
       "    <tr>\n",
       "      <th>38338</th>\n",
       "      <td>1</td>\n",
       "    </tr>\n",
       "    <tr>\n",
       "      <th>34335</th>\n",
       "      <td>2</td>\n",
       "    </tr>\n",
       "    <tr>\n",
       "      <th>25542</th>\n",
       "      <td>3</td>\n",
       "    </tr>\n",
       "    <tr>\n",
       "      <th>38344</th>\n",
       "      <td>4</td>\n",
       "    </tr>\n",
       "  </tbody>\n",
       "</table>\n",
       "</div>"
      ],
      "text/plain": [
       "         spec_id\n",
       "clip_id         \n",
       "41797          0\n",
       "38338          1\n",
       "34335          2\n",
       "25542          3\n",
       "38344          4"
      ]
     },
     "execution_count": 42,
     "metadata": {},
     "output_type": "execute_result"
    }
   ],
   "source": [
    "# head of the dataframe\n",
    "spectrograms_clip_ids.head()"
   ]
  },
  {
   "cell_type": "markdown",
   "metadata": {},
   "source": [
    "### Standardization"
   ]
  },
  {
   "cell_type": "markdown",
   "metadata": {},
   "source": [
    "Standardize the data:"
   ]
  },
  {
   "cell_type": "code",
   "execution_count": 43,
   "metadata": {},
   "outputs": [
    {
     "data": {
      "text/plain": [
       "(1998, 80, 80)"
      ]
     },
     "execution_count": 43,
     "metadata": {},
     "output_type": "execute_result"
    }
   ],
   "source": [
    "spectrograms = standardize(spectrograms)\n",
    "\n",
    "# verify that the shape is again the same as before\n",
    "spectrograms.shape "
   ]
  },
  {
   "cell_type": "markdown",
   "metadata": {},
   "source": [
    "### Load Metadata"
   ]
  },
  {
   "cell_type": "code",
   "execution_count": 44,
   "metadata": {},
   "outputs": [
    {
     "data": {
      "text/plain": [
       "(1998, 8)"
      ]
     },
     "execution_count": 44,
     "metadata": {},
     "output_type": "execute_result"
    }
   ],
   "source": [
    "task = 'genres'\n",
    "CSV_FILE = LABEL_FILE_PATTERN % task\n",
    "\n",
    "metadata = pd.read_csv(CSV_FILE, index_col=0)\n",
    "metadata.shape"
   ]
  },
  {
   "cell_type": "code",
   "execution_count": 45,
   "metadata": {},
   "outputs": [
    {
     "data": {
      "text/html": [
       "<div>\n",
       "<style scoped>\n",
       "    .dataframe tbody tr th:only-of-type {\n",
       "        vertical-align: middle;\n",
       "    }\n",
       "\n",
       "    .dataframe tbody tr th {\n",
       "        vertical-align: top;\n",
       "    }\n",
       "\n",
       "    .dataframe thead th {\n",
       "        text-align: right;\n",
       "    }\n",
       "</style>\n",
       "<table border=\"1\" class=\"dataframe\">\n",
       "  <thead>\n",
       "    <tr style=\"text-align: right;\">\n",
       "      <th></th>\n",
       "      <th>classical</th>\n",
       "      <th>country</th>\n",
       "      <th>jazz</th>\n",
       "      <th>pop</th>\n",
       "      <th>rock</th>\n",
       "      <th>techno</th>\n",
       "      <th>blues</th>\n",
       "      <th>dance</th>\n",
       "    </tr>\n",
       "    <tr>\n",
       "      <th>clip_id</th>\n",
       "      <th></th>\n",
       "      <th></th>\n",
       "      <th></th>\n",
       "      <th></th>\n",
       "      <th></th>\n",
       "      <th></th>\n",
       "      <th></th>\n",
       "      <th></th>\n",
       "    </tr>\n",
       "  </thead>\n",
       "  <tbody>\n",
       "    <tr>\n",
       "      <th>41797</th>\n",
       "      <td>0</td>\n",
       "      <td>0</td>\n",
       "      <td>0</td>\n",
       "      <td>0</td>\n",
       "      <td>1</td>\n",
       "      <td>0</td>\n",
       "      <td>0</td>\n",
       "      <td>0</td>\n",
       "    </tr>\n",
       "    <tr>\n",
       "      <th>38338</th>\n",
       "      <td>1</td>\n",
       "      <td>0</td>\n",
       "      <td>0</td>\n",
       "      <td>0</td>\n",
       "      <td>0</td>\n",
       "      <td>0</td>\n",
       "      <td>0</td>\n",
       "      <td>0</td>\n",
       "    </tr>\n",
       "    <tr>\n",
       "      <th>34335</th>\n",
       "      <td>0</td>\n",
       "      <td>0</td>\n",
       "      <td>0</td>\n",
       "      <td>0</td>\n",
       "      <td>1</td>\n",
       "      <td>0</td>\n",
       "      <td>0</td>\n",
       "      <td>0</td>\n",
       "    </tr>\n",
       "    <tr>\n",
       "      <th>25542</th>\n",
       "      <td>1</td>\n",
       "      <td>0</td>\n",
       "      <td>0</td>\n",
       "      <td>0</td>\n",
       "      <td>0</td>\n",
       "      <td>0</td>\n",
       "      <td>0</td>\n",
       "      <td>0</td>\n",
       "    </tr>\n",
       "    <tr>\n",
       "      <th>38344</th>\n",
       "      <td>0</td>\n",
       "      <td>0</td>\n",
       "      <td>0</td>\n",
       "      <td>0</td>\n",
       "      <td>0</td>\n",
       "      <td>1</td>\n",
       "      <td>0</td>\n",
       "      <td>0</td>\n",
       "    </tr>\n",
       "    <tr>\n",
       "      <th>...</th>\n",
       "      <td>...</td>\n",
       "      <td>...</td>\n",
       "      <td>...</td>\n",
       "      <td>...</td>\n",
       "      <td>...</td>\n",
       "      <td>...</td>\n",
       "      <td>...</td>\n",
       "      <td>...</td>\n",
       "    </tr>\n",
       "    <tr>\n",
       "      <th>29845</th>\n",
       "      <td>1</td>\n",
       "      <td>0</td>\n",
       "      <td>0</td>\n",
       "      <td>0</td>\n",
       "      <td>0</td>\n",
       "      <td>0</td>\n",
       "      <td>0</td>\n",
       "      <td>0</td>\n",
       "    </tr>\n",
       "    <tr>\n",
       "      <th>20711</th>\n",
       "      <td>1</td>\n",
       "      <td>0</td>\n",
       "      <td>0</td>\n",
       "      <td>0</td>\n",
       "      <td>0</td>\n",
       "      <td>0</td>\n",
       "      <td>0</td>\n",
       "      <td>0</td>\n",
       "    </tr>\n",
       "    <tr>\n",
       "      <th>5644</th>\n",
       "      <td>0</td>\n",
       "      <td>0</td>\n",
       "      <td>1</td>\n",
       "      <td>0</td>\n",
       "      <td>0</td>\n",
       "      <td>0</td>\n",
       "      <td>0</td>\n",
       "      <td>0</td>\n",
       "    </tr>\n",
       "    <tr>\n",
       "      <th>34175</th>\n",
       "      <td>0</td>\n",
       "      <td>0</td>\n",
       "      <td>0</td>\n",
       "      <td>0</td>\n",
       "      <td>0</td>\n",
       "      <td>1</td>\n",
       "      <td>0</td>\n",
       "      <td>0</td>\n",
       "    </tr>\n",
       "    <tr>\n",
       "      <th>41667</th>\n",
       "      <td>0</td>\n",
       "      <td>0</td>\n",
       "      <td>1</td>\n",
       "      <td>0</td>\n",
       "      <td>0</td>\n",
       "      <td>0</td>\n",
       "      <td>0</td>\n",
       "      <td>0</td>\n",
       "    </tr>\n",
       "  </tbody>\n",
       "</table>\n",
       "<p>1998 rows × 8 columns</p>\n",
       "</div>"
      ],
      "text/plain": [
       "         classical  country  jazz  pop  rock  techno  blues  dance\n",
       "clip_id                                                           \n",
       "41797            0        0     0    0     1       0      0      0\n",
       "38338            1        0     0    0     0       0      0      0\n",
       "34335            0        0     0    0     1       0      0      0\n",
       "25542            1        0     0    0     0       0      0      0\n",
       "38344            0        0     0    0     0       1      0      0\n",
       "...            ...      ...   ...  ...   ...     ...    ...    ...\n",
       "29845            1        0     0    0     0       0      0      0\n",
       "20711            1        0     0    0     0       0      0      0\n",
       "5644             0        0     1    0     0       0      0      0\n",
       "34175            0        0     0    0     0       1      0      0\n",
       "41667            0        0     1    0     0       0      0      0\n",
       "\n",
       "[1998 rows x 8 columns]"
      ]
     },
     "execution_count": 45,
     "metadata": {},
     "output_type": "execute_result"
    }
   ],
   "source": [
    "# dataframe\n",
    "metadata"
   ]
  },
  {
   "cell_type": "code",
   "execution_count": 46,
   "metadata": {
    "scrolled": true
   },
   "outputs": [
    {
     "data": {
      "text/plain": [
       "classical    999\n",
       "country       72\n",
       "jazz          90\n",
       "pop           94\n",
       "rock         379\n",
       "techno       341\n",
       "blues          9\n",
       "dance         14\n",
       "dtype: int64"
      ]
     },
     "execution_count": 46,
     "metadata": {},
     "output_type": "execute_result"
    }
   ],
   "source": [
    "# how many tracks per genre\n",
    "metadata.sum()"
   ]
  },
  {
   "cell_type": "markdown",
   "metadata": {},
   "source": [
    "#### Baseline\n",
    "\n",
    "A *dumb* classifier could assign all predictions to the biggest class. The number of tracks belonging to the biggest class divided by the total number of tracks in the dataset is our **baseline accuracy**:"
   ]
  },
  {
   "cell_type": "code",
   "execution_count": 47,
   "metadata": {},
   "outputs": [
    {
     "data": {
      "text/plain": [
       "0.5"
      ]
     },
     "execution_count": 47,
     "metadata": {},
     "output_type": "execute_result"
    }
   ],
   "source": [
    "metadata.sum().max() / len(metadata)"
   ]
  },
  {
   "cell_type": "markdown",
   "metadata": {},
   "source": [
    "### Align Metadata and Spectrograms"
   ]
  },
  {
   "cell_type": "code",
   "execution_count": 48,
   "metadata": {},
   "outputs": [
    {
     "data": {
      "text/plain": [
       "Int64Index([41797, 38338, 34335, 25542, 38344,  5850, 38352, 41802, 16219,\n",
       "            25564,\n",
       "            ...\n",
       "            10411, 33862, 29692,  5346, 38094, 29845, 20711,  5644, 34175,\n",
       "            41667],\n",
       "           dtype='int64', name='clip_id', length=1998)"
      ]
     },
     "execution_count": 48,
     "metadata": {},
     "output_type": "execute_result"
    }
   ],
   "source": [
    "# metadata clip ids\n",
    "metadata.index"
   ]
  },
  {
   "cell_type": "code",
   "execution_count": 49,
   "metadata": {},
   "outputs": [
    {
     "data": {
      "text/plain": [
       "array([41797, 38338, 34335, ...,  5644, 34175, 41667])"
      ]
     },
     "execution_count": 49,
     "metadata": {},
     "output_type": "execute_result"
    }
   ],
   "source": [
    "# spectrogram clip ids\n",
    "spec_clip_ids"
   ]
  },
  {
   "cell_type": "code",
   "execution_count": 50,
   "metadata": {},
   "outputs": [
    {
     "data": {
      "text/plain": [
       "1998"
      ]
     },
     "execution_count": 50,
     "metadata": {},
     "output_type": "execute_result"
    }
   ],
   "source": [
    "# check if we find all metadata clip ids in our spectrogram data\n",
    "len(set(metadata.index).intersection(set(spec_clip_ids)))"
   ]
  },
  {
   "cell_type": "markdown",
   "metadata": {},
   "source": [
    "### Create Train X and Y: data and classes"
   ]
  },
  {
   "cell_type": "markdown",
   "metadata": {},
   "source": [
    "Get the correct spectrogram indices given the metadata's clip ids in a sorted way:"
   ]
  },
  {
   "cell_type": "code",
   "execution_count": 51,
   "metadata": {},
   "outputs": [
    {
     "data": {
      "text/plain": [
       "clip_id\n",
       "41797       0\n",
       "38338       1\n",
       "34335       2\n",
       "25542       3\n",
       "38344       4\n",
       "         ... \n",
       "29845    1993\n",
       "20711    1994\n",
       "5644     1995\n",
       "34175    1996\n",
       "41667    1997\n",
       "Name: spec_id, Length: 1998, dtype: int64"
      ]
     },
     "execution_count": 51,
     "metadata": {},
     "output_type": "execute_result"
    }
   ],
   "source": [
    "meta_clip_ids = metadata.index\n",
    "spec_indices = spectrograms_clip_ids.loc[meta_clip_ids]['spec_id']\n",
    "spec_indices"
   ]
  },
  {
   "cell_type": "markdown",
   "metadata": {},
   "source": [
    "Select a correctly sorted subset of the original spectrograms:"
   ]
  },
  {
   "cell_type": "code",
   "execution_count": 52,
   "metadata": {},
   "outputs": [
    {
     "data": {
      "text/plain": [
       "(1998, 80, 80)"
      ]
     },
     "execution_count": 52,
     "metadata": {},
     "output_type": "execute_result"
    }
   ],
   "source": [
    "data = spectrograms[spec_indices,:]\n",
    "data.shape"
   ]
  },
  {
   "cell_type": "markdown",
   "metadata": {},
   "source": [
    "For training convert from Pandas DataFrame to numpy array:"
   ]
  },
  {
   "cell_type": "code",
   "execution_count": 53,
   "metadata": {},
   "outputs": [
    {
     "data": {
      "text/plain": [
       "array([[0, 0, 0, ..., 0, 0, 0],\n",
       "       [1, 0, 0, ..., 0, 0, 0],\n",
       "       [0, 0, 0, ..., 0, 0, 0],\n",
       "       ...,\n",
       "       [0, 0, 1, ..., 0, 0, 0],\n",
       "       [0, 0, 0, ..., 1, 0, 0],\n",
       "       [0, 0, 1, ..., 0, 0, 0]])"
      ]
     },
     "execution_count": 53,
     "metadata": {},
     "output_type": "execute_result"
    }
   ],
   "source": [
    "# classes needs to be a \"1-hot encoded\" numpy array\n",
    "classes = metadata.values\n",
    "classes"
   ]
  },
  {
   "cell_type": "markdown",
   "metadata": {},
   "source": [
    "Number of classes is number of columns in metadata:"
   ]
  },
  {
   "cell_type": "code",
   "execution_count": 54,
   "metadata": {},
   "outputs": [
    {
     "data": {
      "text/plain": [
       "8"
      ]
     },
     "execution_count": 54,
     "metadata": {},
     "output_type": "execute_result"
    }
   ],
   "source": [
    "n_classes = metadata.shape[1]\n",
    "n_classes"
   ]
  },
  {
   "cell_type": "markdown",
   "metadata": {},
   "source": [
    "## Preparing the Data\n",
    "\n",
    "### Adding the channel"
   ]
  },
  {
   "cell_type": "code",
   "execution_count": 55,
   "metadata": {},
   "outputs": [
    {
     "data": {
      "text/plain": [
       "(1998, 80, 80, 1)"
      ]
     },
     "execution_count": 55,
     "metadata": {},
     "output_type": "execute_result"
    }
   ],
   "source": [
    "data = add_channel(data, n_channels=1)\n",
    "data.shape"
   ]
  },
  {
   "cell_type": "code",
   "execution_count": 56,
   "metadata": {},
   "outputs": [
    {
     "data": {
      "text/plain": [
       "(80, 80, 1)"
      ]
     },
     "execution_count": 56,
     "metadata": {},
     "output_type": "execute_result"
    }
   ],
   "source": [
    "# we store the new shape of the images in the 'input_shape' variable.\n",
    "# take all dimensions except the 0th one (which is the number of files)\n",
    "input_shape = data.shape[1:]  \n",
    "input_shape"
   ]
  },
  {
   "cell_type": "markdown",
   "metadata": {},
   "source": [
    "### Train & Test Set Split\n",
    "\n",
    "We split the original full data set into two parts: Train Set (75%) and Test Set (25%).\n",
    "\n",
    "**NOTE 1:** For demo purposes we use only 1 split here. A better way to do it is to use **Cross-Validation**, doing the split multiple times, iterating training and testing over the splits and averaging the results.\n",
    "\n",
    "**NOTE 2:** **Stratified** sampling is often chosen to ensure that the train and test sets have approximately the same percentage of samples of each target class as the complete set. Then, samples are taken from each sub-group based on the ratio of the sub group size to the total population."
   ]
  },
  {
   "cell_type": "code",
   "execution_count": 57,
   "metadata": {},
   "outputs": [],
   "source": [
    "# use 75% of data for train, 25% for test set\n",
    "testset_size = 0.25"
   ]
  },
  {
   "cell_type": "code",
   "execution_count": 58,
   "metadata": {},
   "outputs": [
    {
     "name": "stdout",
     "output_type": "stream",
     "text": [
      "TRAIN INDEX: [1904  817  256 ...  195 1619 1252]\n",
      "TEST INDEX: [  13  739 1339  385  242 1905  272  233   64 1995  313  124  425 1403\n",
      " 1781 1331  638 1411 1682 1708  358 1151  870 1776  347   47 1507 1827\n",
      "   12  221 1391  127 1053 1753  176  873 1492 1038  400 1280  148 1963\n",
      "  798 1870  587 1543   49   57  462  859 1100  308 1023 1623 1915  335\n",
      "   32 1137 1857 1208  957 1480  188 1881 1396 1730 1384 1886 1067   75\n",
      "  173 1863 1706 1421  686 1972  791  263   10  589 1862  646  940 1907\n",
      "  740  277  923 1371 1215 1487 1348  649  496  840  482  455 1675  325\n",
      " 1185 1220 1483 1997  421  232 1049  132 1236 1848 1567   14  130  736\n",
      "  164  105 1869 1569  561  687  653 1625 1939  656 1895 1982 1644  333\n",
      "  280  818 1287 1517  538  499   20  781  160 1231 1767 1144 1182  418\n",
      "   88 1223  732 1559 1020  771  598  582 1205 1604  545  113   76   33\n",
      "  468  536  620  212 1174 1702  293 1493  932  440  857  289  948  748\n",
      "  827 1320 1713  585 1663 1019 1214  797 1242 1498  992 1085  953 1239\n",
      "    4 1830  399 1969  529  143 1190  186 1587  608 1581 1500  291 1927\n",
      "  842 1696 1749  193 1014  297  990 1836   44 1789 1301 1742 1468 1089\n",
      "  616 1765  306 1962 1548 1353 1069 1189 1935 1576 1298  243 1806 1402\n",
      "   23  126  373 1098 1534 1139  731  784 1466 1978  737 1503   15 1854\n",
      " 1238 1917  118  332 1636  157 1143 1334  967  354  375 1365  326  601\n",
      "  675 1983 1443  960 1780   45  728 1095  671  405 1529 1525  411 1077\n",
      " 1410  566 1726 1072  161  744 1839  292  711  688 1087  927  985 1968\n",
      " 1350 1800  672 1393  746 1986 1016  228  477  210  925 1232 1125 1802\n",
      " 1598  591 1820   74  693 1987  216  877  165 1191  183 1815  238 1311\n",
      "  213 1460 1773 1068 1808  706 1310  890 1756  849  180 1659  404 1650\n",
      "  790  510  466  856    1 1316  574 1879  863 1062 1148 1082  266 1695\n",
      " 1188 1531  609  494 1876  779 1509 1426  472 1358 1269 1812  366 1958\n",
      "  345  637   91  868  474  520  231  443 1585  428  512  382  396  751\n",
      "  416  981 1039  515 1000  606 1442 1888  627  838  406 1046  976 1555\n",
      " 1831   95 1751  442 1176  497  669  254 1865 1199  475  806  144  913\n",
      "  532 1224  177 1628  909 1129  519  722   41  750 1187 1051  178  907\n",
      " 1267  307 1638  217  908 1903  557 1989  782  911  583 1747 1351 1178\n",
      "  503  903 1671 1304 1422 1901 1554 1359 1333  850  117 1103  611 1651\n",
      " 1813   99  394  549 1266  439 1300   61 1262 1743   66  989 1553  753\n",
      "  854  170 1714 1121 1785 1851  792  749  980  752  719 1363 1251 1116\n",
      "  558  516   50  391  577 1166  273 1321  919 1090 1470  363  271  692\n",
      "  634 1210  754  617  708  339 1954  398 1260 1229 1177 1568 1965 1809\n",
      "  419 1383 1975  650 1662 1451  154 1721 1710 1758]\n",
      "number of instances TRAIN: 1498\n",
      "number of instances TEST: 500\n"
     ]
    }
   ],
   "source": [
    "# provides train/test indices to split data into train/test sets\n",
    "splitter = StratifiedShuffleSplit(n_splits=1, test_size=testset_size, random_state=0)\n",
    "splits = splitter.split(data, classes)\n",
    "\n",
    "for train_index, test_index in splits:\n",
    "    print(\"TRAIN INDEX:\", train_index)\n",
    "    print(\"TEST INDEX:\", test_index)\n",
    "    print(\"number of instances TRAIN:\", len(train_index))\n",
    "    print(\"number of instances TEST:\", len(test_index))\n",
    "    train_set = data[train_index]\n",
    "    test_set = data[test_index]\n",
    "    train_classes = classes[train_index]\n",
    "    test_classes = classes[test_index]"
   ]
  },
  {
   "cell_type": "code",
   "execution_count": 59,
   "metadata": {
    "scrolled": true
   },
   "outputs": [
    {
     "name": "stdout",
     "output_type": "stream",
     "text": [
      "(1498, 80, 80, 1)\n",
      "(500, 80, 80, 1)\n"
     ]
    }
   ],
   "source": [
    "print(train_set.shape)\n",
    "print(test_set.shape)"
   ]
  },
  {
   "cell_type": "markdown",
   "metadata": {},
   "source": [
    "## Model: Compact CNN\n",
    "\n",
    "This is a 5 layer Convolutional Neural Network inspired and adapted from [Keunwoo Choi](https://github.com/keunwoochoi/music-auto_tagging-keras).\n",
    "\n",
    "* It allows to specify 3, 4 or 5 Convolutional Layers.\n",
    "* It adapts the Pooling sizes according to the number of Mel bands used in the input.\n",
    "* It uses Batch Normalization.\n",
    "* It uses [ELU](https://keras.io/api/layers/activation_layers/elu/) activation function for Convolutional layers."
   ]
  },
  {
   "cell_type": "code",
   "execution_count": 60,
   "metadata": {},
   "outputs": [],
   "source": [
    "def CompactCNN(input_shape, nb_conv, nb_filters, normalize, nb_hidden, dense_units, \n",
    "               output_shape, activation, dropout, multiple_segments=False, input_tensor=None):\n",
    "    \n",
    "    melgram_input = Input(shape=input_shape)\n",
    "    \n",
    "    n_mels = input_shape[0]\n",
    "\n",
    "    if n_mels >= 256:\n",
    "        poolings = [(2,4), (4,4), (4,5), (2,4), (4,4)]\n",
    "    elif n_mels >= 128:\n",
    "        poolings = [(2,4), (4,4), (2,5), (2,4), (4,4)]\n",
    "    elif n_mels >= 96:\n",
    "        poolings = [(2,4), (3,4), (2,5), (2,4), (4,4)]\n",
    "    elif n_mels >= 72:\n",
    "        poolings = [(2,4), (3,4), (2,5), (2,4), (3,4)]\n",
    "    elif n_mels >= 64:\n",
    "        poolings = [(2,4), (2,4), (2,5), (2,4), (4,4)]\n",
    "\n",
    "    # Input axis\n",
    "    channel_axis = 3\n",
    "    freq_axis = 1\n",
    "    time_axis = 2\n",
    "            \n",
    "    # Input block\n",
    "    if normalize == 'batch':\n",
    "        x = BatchNormalization(axis=channel_axis, name='bn_0_freq')(melgram_input)\n",
    "    elif normalize in ('data_sample', 'time', 'freq', 'channel'):\n",
    "        x = Normalization2D(normalize, name='normalization')(melgram_input)\n",
    "    elif normalize in ('no', 'False'):\n",
    "        x = melgram_input\n",
    "\n",
    "    # Conv block 1\n",
    "    x = Convolution2D(nb_filters[0], (3,3), padding='same')(x)\n",
    "    x = BatchNormalization(axis=channel_axis, name='bn1')(x)\n",
    "    x = ELU()(x)\n",
    "    x = MaxPooling2D(pool_size=poolings[0], name='pool1')(x)\n",
    "        \n",
    "    # Conv block 2\n",
    "    x = Convolution2D(nb_filters[1], (3,3), padding='same')(x)\n",
    "    x = BatchNormalization(axis=channel_axis, name='bn2')(x)\n",
    "    x = ELU()(x)\n",
    "    x = MaxPooling2D(pool_size=poolings[1], name='pool2')(x)\n",
    "        \n",
    "    # Conv block 3\n",
    "    x = Convolution2D(nb_filters[2], (3,3), padding='same')(x)\n",
    "    x = BatchNormalization(axis=channel_axis, name='bn3')(x)\n",
    "    x = ELU()(x)\n",
    "    x = MaxPooling2D(pool_size=poolings[2], name='pool3')(x)\n",
    "    \n",
    "    # Conv block 4\n",
    "    if nb_conv > 3:        \n",
    "        x = Convolution2D(nb_filters[3], (3,3), padding='same')(x)\n",
    "        x = BatchNormalization(axis=channel_axis, name='bn4')(x)\n",
    "        x = ELU()(x)   \n",
    "        x = MaxPooling2D(pool_size=poolings[3], name='pool4')(x)\n",
    "        \n",
    "    # Conv block 5\n",
    "    if nb_conv == 5:\n",
    "        x = Convolution2D(nb_filters[4], (3,3), padding='same')(x)\n",
    "        x = BatchNormalization(axis=channel_axis, name='bn5')(x)\n",
    "        x = ELU()(x)\n",
    "        x = MaxPooling2D(pool_size=poolings[4], name='pool5')(x)\n",
    "\n",
    "    # Flatten the output of the last Conv Layer\n",
    "    x = Flatten()(x)\n",
    "      \n",
    "    if nb_hidden == 1:\n",
    "        x = Dropout(dropout)(x)\n",
    "        x = Dense(dense_units, activation='relu')(x)\n",
    "    elif nb_hidden == 2:\n",
    "        x = Dropout(dropout)(x)\n",
    "        x = Dense(dense_units[0], activation='relu')(x)\n",
    "        x = Dropout(dropout)(x)\n",
    "        x = Dense(dense_units[1], activation='relu')(x) \n",
    "    else:\n",
    "        raise ValueError('More than 2 hidden units not supported at the moment')\n",
    "    \n",
    "    # Output Layer\n",
    "    x = Dense(output_shape, activation=activation, name='output')(x)\n",
    "    \n",
    "    # Create model\n",
    "    model = Model(melgram_input, x)\n",
    "    \n",
    "    return model"
   ]
  },
  {
   "cell_type": "markdown",
   "metadata": {},
   "source": [
    "### Set model parameters\n",
    "\n",
    "**Exercise:** Try to experiment with the following parameters:"
   ]
  },
  {
   "cell_type": "code",
   "execution_count": 61,
   "metadata": {},
   "outputs": [],
   "source": [
    "# number of Convolutional Layers (3, 4 or 5)\n",
    "nb_conv_layers = 3\n",
    "#nb_conv_layers = 5\n",
    "\n",
    "# number of Filters in each layer (number of elements must correspond to nb_conv_layers)\n",
    "nb_filters = [32,64,128]\n",
    "#nb_filters = [32,64,64,128,128]\n",
    "\n",
    "# number of hidden layers at the end of the model (1 or 2)\n",
    "nb_hidden = 1 \n",
    "\n",
    "# how many neurons in each hidden layer (number of elements must correspond to nb_hidden)\n",
    "dense_units = 128\n",
    "#dense_units = [128,56]\n",
    "\n",
    "# how many output units\n",
    "output_shape = n_classes\n",
    "\n",
    "# which activation function to use for OUTPUT layer\n",
    "# IN A SINGLE LABEL MULTI-CLASS TASK with N classes we use softmax activation\n",
    "# to BALANCE best between the classes and find the best decision for ONE class\n",
    "# (the result could be interpreted as a probability distribution)\n",
    "output_activation = 'softmax'\n",
    "\n",
    "# which type of normalization\n",
    "normalization = 'batch'\n",
    "\n",
    "# how much dropout to use on the hidden dense layers\n",
    "dropout = 0.2"
   ]
  },
  {
   "cell_type": "markdown",
   "metadata": {},
   "source": [
    "Let’s display the architecture of the convnet:"
   ]
  },
  {
   "cell_type": "code",
   "execution_count": 62,
   "metadata": {},
   "outputs": [],
   "source": [
    "model = CompactCNN(input_shape, nb_conv=nb_conv_layers, nb_filters=nb_filters, \n",
    "                   normalize=normalization, nb_hidden=nb_hidden, dense_units=dense_units,\n",
    "                   output_shape=output_shape, activation=output_activation,\n",
    "                   dropout=dropout)"
   ]
  },
  {
   "cell_type": "code",
   "execution_count": 63,
   "metadata": {},
   "outputs": [
    {
     "data": {
      "text/plain": [
       "(80, 80, 1)"
      ]
     },
     "execution_count": 63,
     "metadata": {},
     "output_type": "execute_result"
    }
   ],
   "source": [
    "input_shape"
   ]
  },
  {
   "cell_type": "code",
   "execution_count": 64,
   "metadata": {},
   "outputs": [
    {
     "name": "stdout",
     "output_type": "stream",
     "text": [
      "Model: \"model\"\n",
      "_________________________________________________________________\n",
      "Layer (type)                 Output Shape              Param #   \n",
      "=================================================================\n",
      "input_1 (InputLayer)         [(None, 80, 80, 1)]       0         \n",
      "_________________________________________________________________\n",
      "bn_0_freq (BatchNormalizatio (None, 80, 80, 1)         4         \n",
      "_________________________________________________________________\n",
      "conv2d_3 (Conv2D)            (None, 80, 80, 32)        320       \n",
      "_________________________________________________________________\n",
      "bn1 (BatchNormalization)     (None, 80, 80, 32)        128       \n",
      "_________________________________________________________________\n",
      "elu (ELU)                    (None, 80, 80, 32)        0         \n",
      "_________________________________________________________________\n",
      "pool1 (MaxPooling2D)         (None, 40, 20, 32)        0         \n",
      "_________________________________________________________________\n",
      "conv2d_4 (Conv2D)            (None, 40, 20, 64)        18496     \n",
      "_________________________________________________________________\n",
      "bn2 (BatchNormalization)     (None, 40, 20, 64)        256       \n",
      "_________________________________________________________________\n",
      "elu_1 (ELU)                  (None, 40, 20, 64)        0         \n",
      "_________________________________________________________________\n",
      "pool2 (MaxPooling2D)         (None, 13, 5, 64)         0         \n",
      "_________________________________________________________________\n",
      "conv2d_5 (Conv2D)            (None, 13, 5, 128)        73856     \n",
      "_________________________________________________________________\n",
      "bn3 (BatchNormalization)     (None, 13, 5, 128)        512       \n",
      "_________________________________________________________________\n",
      "elu_2 (ELU)                  (None, 13, 5, 128)        0         \n",
      "_________________________________________________________________\n",
      "pool3 (MaxPooling2D)         (None, 6, 1, 128)         0         \n",
      "_________________________________________________________________\n",
      "flatten_2 (Flatten)          (None, 768)               0         \n",
      "_________________________________________________________________\n",
      "dropout (Dropout)            (None, 768)               0         \n",
      "_________________________________________________________________\n",
      "dense_4 (Dense)              (None, 128)               98432     \n",
      "_________________________________________________________________\n",
      "output (Dense)               (None, 8)                 1032      \n",
      "=================================================================\n",
      "Total params: 193,036\n",
      "Trainable params: 192,586\n",
      "Non-trainable params: 450\n",
      "_________________________________________________________________\n"
     ]
    }
   ],
   "source": [
    "model.summary()"
   ]
  },
  {
   "cell_type": "markdown",
   "metadata": {},
   "source": [
    "## Training Parameters"
   ]
  },
  {
   "cell_type": "markdown",
   "metadata": {},
   "source": [
    "### Loss\n",
    "\n",
    "The loss for a single label classification task is CATEGORICAL crossentropy:"
   ]
  },
  {
   "cell_type": "code",
   "execution_count": 65,
   "metadata": {},
   "outputs": [],
   "source": [
    "loss = 'categorical_crossentropy' "
   ]
  },
  {
   "cell_type": "markdown",
   "metadata": {},
   "source": [
    "### Optimizer\n",
    "\n",
    "We have used **Stochastic Gradient Descent (SGD)** in our first experiment. This is the standard optimizer. A number of advanced algorithms are available.\n",
    "\n",
    "**Exercise:** Try various optimizers and their parameters, then observe the impact on training convergence."
   ]
  },
  {
   "cell_type": "code",
   "execution_count": 66,
   "metadata": {},
   "outputs": [],
   "source": [
    "# we define a couple of optimizers here\n",
    "sgd = optimizers.SGD() # standard\n",
    "sgd_momentum = optimizers.SGD(momentum=0.9, nesterov=True)\n",
    "rmsprop = optimizers.RMSprop(lr=0.001, rho=0.9, epsilon=1e-08, decay=0.01)#lr=0.001 decay = 0.03\n",
    "adagrad = optimizers.Adagrad(lr=0.01, epsilon=1e-08, decay=0.0)\n",
    "adam = optimizers.Adam(lr=0.003, beta_1=0.9, beta_2=0.999, epsilon=1e-07, decay=0.01)\n",
    "nadam = optimizers.Nadam(lr=0.002, beta_1=0.9, beta_2=0.999, epsilon=1e-07, schedule_decay=0.004)\n",
    "\n",
    "# PLEASE CHOOSE ONE:\n",
    "optimizer = adam"
   ]
  },
  {
   "cell_type": "markdown",
   "metadata": {},
   "source": [
    "### Metrics\n",
    "\n",
    "In addition to accuracy, we evaluate [precision and recall](https://en.wikipedia.org/wiki/Precision_and_recall) here:"
   ]
  },
  {
   "cell_type": "code",
   "execution_count": 67,
   "metadata": {},
   "outputs": [],
   "source": [
    "# tp: true positives\n",
    "# fp: false positives\n",
    "# fn: false negatives\n",
    "# predicted_positives <--> selected elements (tp + fp)\n",
    "# possible_positives <--> relevant elements (tp + fn)\n",
    "\n",
    "# RECALL --> ability of the classifier to find all the positive samples\n",
    "# PRECISION --> ability of the classifier not to label as positive a sample that is negative\n",
    "\n",
    "def precision(y_true, y_pred):\n",
    "    true_positives = K.sum(K.round(K.clip(y_true * y_pred, 0, 1)))\n",
    "    predicted_positives = K.sum(K.round(K.clip(y_pred, 0, 1)))\n",
    "    precision = true_positives / (predicted_positives + K.epsilon())\n",
    "    return precision\n",
    "\n",
    "def recall(y_true, y_pred):\n",
    "    true_positives = K.sum(K.round(K.clip(y_true * y_pred, 0, 1)))\n",
    "    possible_positives = K.sum(K.round(K.clip(y_true, 0, 1)))\n",
    "    recall = true_positives / (possible_positives + K.epsilon())\n",
    "    return recall\n",
    "\n",
    "metrics = ['accuracy', precision, recall]"
   ]
  },
  {
   "cell_type": "markdown",
   "metadata": {},
   "source": [
    "### Other Parameters"
   ]
  },
  {
   "cell_type": "code",
   "execution_count": 68,
   "metadata": {},
   "outputs": [],
   "source": [
    "batch_size = 32 \n",
    "validation_split = 0.1 \n",
    "random_seed = 0\n",
    "epochs = 10"
   ]
  },
  {
   "cell_type": "markdown",
   "metadata": {},
   "source": [
    "## Training"
   ]
  },
  {
   "cell_type": "code",
   "execution_count": 69,
   "metadata": {},
   "outputs": [],
   "source": [
    "# COMPILE MODEL\n",
    "model.compile(loss=loss, metrics=metrics, optimizer=optimizer)"
   ]
  },
  {
   "cell_type": "code",
   "execution_count": 70,
   "metadata": {},
   "outputs": [
    {
     "name": "stdout",
     "output_type": "stream",
     "text": [
      "Epoch 1/10\n",
      "43/43 [==============================] - 28s 642ms/step - loss: 1.7122 - accuracy: 0.5990 - precision: 0.6390 - recall: 0.5631 - val_loss: 1.5787 - val_accuracy: 0.3000 - val_precision: 0.3250 - val_recall: 0.1767\n",
      "Epoch 2/10\n",
      "43/43 [==============================] - 27s 638ms/step - loss: 0.6805 - accuracy: 0.7692 - precision: 0.8406 - recall: 0.7119 - val_loss: 1.5969 - val_accuracy: 0.2867 - val_precision: 0.1500 - val_recall: 0.1364\n",
      "Epoch 3/10\n",
      "43/43 [==============================] - 29s 670ms/step - loss: 0.5638 - accuracy: 0.8236 - precision: 0.9027 - recall: 0.7621 - val_loss: 2.0206 - val_accuracy: 0.2867 - val_precision: 0.3116 - val_recall: 0.3051\n",
      "Epoch 4/10\n",
      "43/43 [==============================] - 26s 598ms/step - loss: 0.5506 - accuracy: 0.8200 - precision: 0.8704 - recall: 0.7726 - val_loss: 1.5086 - val_accuracy: 0.2933 - val_precision: 0.1619 - val_recall: 0.1545\n",
      "Epoch 5/10\n",
      "43/43 [==============================] - 27s 629ms/step - loss: 0.5417 - accuracy: 0.8175 - precision: 0.8951 - recall: 0.7560 - val_loss: 1.6310 - val_accuracy: 0.2933 - val_precision: 0.1778 - val_recall: 0.1455\n",
      "Epoch 6/10\n",
      "43/43 [==============================] - 27s 634ms/step - loss: 0.4717 - accuracy: 0.8392 - precision: 0.8941 - recall: 0.7930 - val_loss: 1.6452 - val_accuracy: 0.2933 - val_precision: 0.3265 - val_recall: 0.2642\n",
      "Epoch 7/10\n",
      "43/43 [==============================] - 27s 623ms/step - loss: 0.4380 - accuracy: 0.8544 - precision: 0.9202 - recall: 0.8142 - val_loss: 1.8420 - val_accuracy: 0.2867 - val_precision: 0.3135 - val_recall: 0.3080\n",
      "Epoch 8/10\n",
      "43/43 [==============================] - 26s 613ms/step - loss: 0.3742 - accuracy: 0.8726 - precision: 0.9384 - recall: 0.8353 - val_loss: 1.8617 - val_accuracy: 0.2933 - val_precision: 0.3233 - val_recall: 0.3233\n",
      "Epoch 9/10\n",
      "43/43 [==============================] - 27s 629ms/step - loss: 0.3153 - accuracy: 0.8999 - precision: 0.9399 - recall: 0.8513 - val_loss: 1.7899 - val_accuracy: 0.2933 - val_precision: 0.3398 - val_recall: 0.3233\n",
      "Epoch 10/10\n",
      "43/43 [==============================] - 25s 583ms/step - loss: 0.3401 - accuracy: 0.8793 - precision: 0.9419 - recall: 0.8379 - val_loss: 1.8578 - val_accuracy: 0.2867 - val_precision: 0.3221 - val_recall: 0.3142\n"
     ]
    }
   ],
   "source": [
    "# FIT MODEL\n",
    "history = model.fit(train_set, train_classes, \n",
    "                    validation_split=validation_split,\n",
    "                    #validation_data=(X_test,y_test), # option to provide separate validation set\n",
    "                    epochs=epochs,\n",
    "                    batch_size=batch_size\n",
    "                   )"
   ]
  },
  {
   "cell_type": "markdown",
   "metadata": {},
   "source": [
    "## Testing / Evaluation"
   ]
  },
  {
   "cell_type": "markdown",
   "metadata": {},
   "source": [
    "Calculate the expected output values for a given input (`test_set`) to the model:"
   ]
  },
  {
   "cell_type": "code",
   "execution_count": 71,
   "metadata": {
    "scrolled": true
   },
   "outputs": [
    {
     "data": {
      "text/plain": [
       "array([[0.21534555, 0.02556594, 0.05689184, 0.03805331, 0.06406693,\n",
       "        0.5687553 , 0.00757284, 0.02374816],\n",
       "       [0.26604813, 0.03270646, 0.05052418, 0.02816197, 0.04787966,\n",
       "        0.54888266, 0.00762994, 0.01816695],\n",
       "       [0.15969694, 0.02582458, 0.07579352, 0.04195815, 0.04076746,\n",
       "        0.625711  , 0.01024452, 0.0200038 ],\n",
       "       [0.16310953, 0.02445215, 0.0958405 , 0.03990315, 0.07751958,\n",
       "        0.5611828 , 0.01101998, 0.02697227],\n",
       "       [0.12995654, 0.02443972, 0.08782754, 0.05253382, 0.05967055,\n",
       "        0.5988405 , 0.01199615, 0.03473513]], dtype=float32)"
      ]
     },
     "execution_count": 71,
     "metadata": {},
     "output_type": "execute_result"
    }
   ],
   "source": [
    "# compute probabilities for the classes (= get outputs of output layer)\n",
    "test_pred_prob = model.predict(test_set)\n",
    "# show first 5 predictions (probabilities)\n",
    "test_pred_prob[0:5]"
   ]
  },
  {
   "cell_type": "code",
   "execution_count": 72,
   "metadata": {},
   "outputs": [
    {
     "data": {
      "text/plain": [
       "array([5, 5, 5, 5, 5])"
      ]
     },
     "execution_count": 72,
     "metadata": {},
     "output_type": "execute_result"
    }
   ],
   "source": [
    "# for a multi-class SINGLE LABEL OUTPUT classification task, we use ARG MAX to determine \n",
    "# the most probable class per instance (we take the ARG MAX of the row vectors)\n",
    "test_pred = np.argmax(test_pred_prob, axis=1)\n",
    "# show first 5 predictions (indices)\n",
    "test_pred[0:5]"
   ]
  },
  {
   "cell_type": "code",
   "execution_count": 73,
   "metadata": {},
   "outputs": [
    {
     "data": {
      "text/plain": [
       "array([0, 5, 4, 0, 4])"
      ]
     },
     "execution_count": 73,
     "metadata": {},
     "output_type": "execute_result"
    }
   ],
   "source": [
    "# do the same for groundtruth\n",
    "test_gt = np.argmax(test_classes, axis=1)\n",
    "# show first 5 groundtruths (indices)\n",
    "test_gt[0:5]"
   ]
  },
  {
   "cell_type": "code",
   "execution_count": 74,
   "metadata": {},
   "outputs": [
    {
     "data": {
      "text/plain": [
       "0.184"
      ]
     },
     "execution_count": 74,
     "metadata": {},
     "output_type": "execute_result"
    }
   ],
   "source": [
    "# evaluate Accuracy\n",
    "accuracy_score(test_gt, test_pred)"
   ]
  },
  {
   "cell_type": "code",
   "execution_count": 75,
   "metadata": {},
   "outputs": [
    {
     "data": {
      "text/plain": [
       "0.184"
      ]
     },
     "execution_count": 75,
     "metadata": {},
     "output_type": "execute_result"
    }
   ],
   "source": [
    "# evaluate Precision\n",
    "precision_score(test_gt, test_pred, average='micro')"
   ]
  },
  {
   "cell_type": "code",
   "execution_count": 76,
   "metadata": {},
   "outputs": [
    {
     "data": {
      "text/plain": [
       "0.184"
      ]
     },
     "execution_count": 76,
     "metadata": {},
     "output_type": "execute_result"
    }
   ],
   "source": [
    "# evaluate Recall \n",
    "recall_score(test_gt, test_pred, average='micro')"
   ]
  },
  {
   "cell_type": "code",
   "execution_count": 77,
   "metadata": {
    "scrolled": false
   },
   "outputs": [
    {
     "name": "stdout",
     "output_type": "stream",
     "text": [
      "              precision    recall  f1-score   support\n",
      "\n",
      "   classical       0.80      0.02      0.03       250\n",
      "     country       0.00      0.00      0.00        18\n",
      "        jazz       0.00      0.00      0.00        23\n",
      "         pop       0.00      0.00      0.00        24\n",
      "        rock       0.50      0.04      0.08        95\n",
      "      techno       0.17      0.99      0.29        85\n",
      "       blues       0.00      0.00      0.00         2\n",
      "       dance       0.00      0.00      0.00         3\n",
      "\n",
      "    accuracy                           0.18       500\n",
      "   macro avg       0.18      0.13      0.05       500\n",
      "weighted avg       0.52      0.18      0.08       500\n",
      "\n"
     ]
    },
    {
     "name": "stderr",
     "output_type": "stream",
     "text": [
      "/home/ale/miniconda3/lib/python3.8/site-packages/sklearn/metrics/_classification.py:1245: UndefinedMetricWarning: Precision and F-score are ill-defined and being set to 0.0 in labels with no predicted samples. Use `zero_division` parameter to control this behavior.\n",
      "  _warn_prf(average, modifier, msg_start, len(result))\n",
      "/home/ale/miniconda3/lib/python3.8/site-packages/sklearn/metrics/_classification.py:1245: UndefinedMetricWarning: Precision and F-score are ill-defined and being set to 0.0 in labels with no predicted samples. Use `zero_division` parameter to control this behavior.\n",
      "  _warn_prf(average, modifier, msg_start, len(result))\n",
      "/home/ale/miniconda3/lib/python3.8/site-packages/sklearn/metrics/_classification.py:1245: UndefinedMetricWarning: Precision and F-score are ill-defined and being set to 0.0 in labels with no predicted samples. Use `zero_division` parameter to control this behavior.\n",
      "  _warn_prf(average, modifier, msg_start, len(result))\n"
     ]
    }
   ],
   "source": [
    "# build a text report showing the main classification metrics\n",
    "report = classification_report(test_gt, test_pred, target_names=metadata.columns)\n",
    "print(report)"
   ]
  },
  {
   "cell_type": "markdown",
   "metadata": {},
   "source": [
    "## Mood Recognition\n",
    "\n",
    "This is a multi-label classification task: multiple categories to detect, any of them can be 0 or 1."
   ]
  },
  {
   "cell_type": "markdown",
   "metadata": {},
   "source": [
    "### Load Audio Spectrograms"
   ]
  },
  {
   "cell_type": "markdown",
   "metadata": {},
   "source": [
    "We already have pre-processed the audio files and extracted Mel spectrograms. We load these from a Numpy .npz file, which contains the spectrograms and also the associated clip ids:"
   ]
  },
  {
   "cell_type": "code",
   "execution_count": 78,
   "metadata": {},
   "outputs": [],
   "source": [
    "task = 'moods'\n",
    "SPECTROGRAM_FILE = SPECTROGRAM_FILE_PATTERN % task\n",
    "\n",
    "spectrograms, spec_clip_ids, spectrograms_clip_ids = load_spectrograms(SPECTROGRAM_FILE)"
   ]
  },
  {
   "cell_type": "code",
   "execution_count": 79,
   "metadata": {},
   "outputs": [
    {
     "data": {
      "text/plain": [
       "(719, 80, 80)"
      ]
     },
     "execution_count": 79,
     "metadata": {},
     "output_type": "execute_result"
    }
   ],
   "source": [
    "# check how many spectrograms we have and their dimensions\n",
    "spectrograms.shape"
   ]
  },
  {
   "cell_type": "code",
   "execution_count": 80,
   "metadata": {},
   "outputs": [
    {
     "data": {
      "text/plain": [
       "719"
      ]
     },
     "execution_count": 80,
     "metadata": {},
     "output_type": "execute_result"
    }
   ],
   "source": [
    "# check whether we have the same number of clip ids\n",
    "len(spec_clip_ids)"
   ]
  },
  {
   "cell_type": "code",
   "execution_count": 81,
   "metadata": {},
   "outputs": [
    {
     "data": {
      "text/html": [
       "<div>\n",
       "<style scoped>\n",
       "    .dataframe tbody tr th:only-of-type {\n",
       "        vertical-align: middle;\n",
       "    }\n",
       "\n",
       "    .dataframe tbody tr th {\n",
       "        vertical-align: top;\n",
       "    }\n",
       "\n",
       "    .dataframe thead th {\n",
       "        text-align: right;\n",
       "    }\n",
       "</style>\n",
       "<table border=\"1\" class=\"dataframe\">\n",
       "  <thead>\n",
       "    <tr style=\"text-align: right;\">\n",
       "      <th></th>\n",
       "      <th>spec_id</th>\n",
       "    </tr>\n",
       "    <tr>\n",
       "      <th>clip_id</th>\n",
       "      <th></th>\n",
       "    </tr>\n",
       "  </thead>\n",
       "  <tbody>\n",
       "    <tr>\n",
       "      <th>30064</th>\n",
       "      <td>0</td>\n",
       "    </tr>\n",
       "    <tr>\n",
       "      <th>5862</th>\n",
       "      <td>1</td>\n",
       "    </tr>\n",
       "    <tr>\n",
       "      <th>38362</th>\n",
       "      <td>2</td>\n",
       "    </tr>\n",
       "    <tr>\n",
       "      <th>44901</th>\n",
       "      <td>3</td>\n",
       "    </tr>\n",
       "    <tr>\n",
       "      <th>16246</th>\n",
       "      <td>4</td>\n",
       "    </tr>\n",
       "  </tbody>\n",
       "</table>\n",
       "</div>"
      ],
      "text/plain": [
       "         spec_id\n",
       "clip_id         \n",
       "30064          0\n",
       "5862           1\n",
       "38362          2\n",
       "44901          3\n",
       "16246          4"
      ]
     },
     "execution_count": 81,
     "metadata": {},
     "output_type": "execute_result"
    }
   ],
   "source": [
    "# head of the dataframe\n",
    "spectrograms_clip_ids.head()"
   ]
  },
  {
   "cell_type": "markdown",
   "metadata": {},
   "source": [
    "### Standardization"
   ]
  },
  {
   "cell_type": "markdown",
   "metadata": {},
   "source": [
    "Standardize the data:"
   ]
  },
  {
   "cell_type": "code",
   "execution_count": 82,
   "metadata": {},
   "outputs": [
    {
     "data": {
      "text/plain": [
       "(719, 80, 80)"
      ]
     },
     "execution_count": 82,
     "metadata": {},
     "output_type": "execute_result"
    }
   ],
   "source": [
    "spectrograms = standardize(spectrograms)\n",
    "\n",
    "# verify that the shape is again the same as before\n",
    "spectrograms.shape "
   ]
  },
  {
   "cell_type": "markdown",
   "metadata": {},
   "source": [
    "### Load Metadata"
   ]
  },
  {
   "cell_type": "code",
   "execution_count": 83,
   "metadata": {},
   "outputs": [
    {
     "data": {
      "text/plain": [
       "(719, 4)"
      ]
     },
     "execution_count": 83,
     "metadata": {},
     "output_type": "execute_result"
    }
   ],
   "source": [
    "task = 'moods'\n",
    "CSV_FILE = LABEL_FILE_PATTERN % task\n",
    "\n",
    "metadata = pd.read_csv(CSV_FILE, index_col=0)\n",
    "metadata.shape"
   ]
  },
  {
   "cell_type": "code",
   "execution_count": 84,
   "metadata": {},
   "outputs": [
    {
     "data": {
      "text/html": [
       "<div>\n",
       "<style scoped>\n",
       "    .dataframe tbody tr th:only-of-type {\n",
       "        vertical-align: middle;\n",
       "    }\n",
       "\n",
       "    .dataframe tbody tr th {\n",
       "        vertical-align: top;\n",
       "    }\n",
       "\n",
       "    .dataframe thead th {\n",
       "        text-align: right;\n",
       "    }\n",
       "</style>\n",
       "<table border=\"1\" class=\"dataframe\">\n",
       "  <thead>\n",
       "    <tr style=\"text-align: right;\">\n",
       "      <th></th>\n",
       "      <th>loud</th>\n",
       "      <th>quiet</th>\n",
       "      <th>soft</th>\n",
       "      <th>strange</th>\n",
       "    </tr>\n",
       "    <tr>\n",
       "      <th>clip_id</th>\n",
       "      <th></th>\n",
       "      <th></th>\n",
       "      <th></th>\n",
       "      <th></th>\n",
       "    </tr>\n",
       "  </thead>\n",
       "  <tbody>\n",
       "    <tr>\n",
       "      <th>30064</th>\n",
       "      <td>0</td>\n",
       "      <td>0</td>\n",
       "      <td>0</td>\n",
       "      <td>1</td>\n",
       "    </tr>\n",
       "    <tr>\n",
       "      <th>5862</th>\n",
       "      <td>0</td>\n",
       "      <td>0</td>\n",
       "      <td>0</td>\n",
       "      <td>0</td>\n",
       "    </tr>\n",
       "    <tr>\n",
       "      <th>38362</th>\n",
       "      <td>1</td>\n",
       "      <td>0</td>\n",
       "      <td>0</td>\n",
       "      <td>0</td>\n",
       "    </tr>\n",
       "    <tr>\n",
       "      <th>44901</th>\n",
       "      <td>0</td>\n",
       "      <td>0</td>\n",
       "      <td>0</td>\n",
       "      <td>1</td>\n",
       "    </tr>\n",
       "    <tr>\n",
       "      <th>16246</th>\n",
       "      <td>0</td>\n",
       "      <td>0</td>\n",
       "      <td>1</td>\n",
       "      <td>1</td>\n",
       "    </tr>\n",
       "    <tr>\n",
       "      <th>...</th>\n",
       "      <td>...</td>\n",
       "      <td>...</td>\n",
       "      <td>...</td>\n",
       "      <td>...</td>\n",
       "    </tr>\n",
       "    <tr>\n",
       "      <th>9145</th>\n",
       "      <td>0</td>\n",
       "      <td>0</td>\n",
       "      <td>0</td>\n",
       "      <td>1</td>\n",
       "    </tr>\n",
       "    <tr>\n",
       "      <th>43870</th>\n",
       "      <td>0</td>\n",
       "      <td>1</td>\n",
       "      <td>1</td>\n",
       "      <td>0</td>\n",
       "    </tr>\n",
       "    <tr>\n",
       "      <th>24237</th>\n",
       "      <td>0</td>\n",
       "      <td>0</td>\n",
       "      <td>0</td>\n",
       "      <td>1</td>\n",
       "    </tr>\n",
       "    <tr>\n",
       "      <th>41319</th>\n",
       "      <td>0</td>\n",
       "      <td>0</td>\n",
       "      <td>0</td>\n",
       "      <td>0</td>\n",
       "    </tr>\n",
       "    <tr>\n",
       "      <th>29692</th>\n",
       "      <td>1</td>\n",
       "      <td>0</td>\n",
       "      <td>0</td>\n",
       "      <td>0</td>\n",
       "    </tr>\n",
       "  </tbody>\n",
       "</table>\n",
       "<p>719 rows × 4 columns</p>\n",
       "</div>"
      ],
      "text/plain": [
       "         loud  quiet  soft  strange\n",
       "clip_id                            \n",
       "30064       0      0     0        1\n",
       "5862        0      0     0        0\n",
       "38362       1      0     0        0\n",
       "44901       0      0     0        1\n",
       "16246       0      0     1        1\n",
       "...       ...    ...   ...      ...\n",
       "9145        0      0     0        1\n",
       "43870       0      1     1        0\n",
       "24237       0      0     0        1\n",
       "41319       0      0     0        0\n",
       "29692       1      0     0        0\n",
       "\n",
       "[719 rows x 4 columns]"
      ]
     },
     "execution_count": 84,
     "metadata": {},
     "output_type": "execute_result"
    }
   ],
   "source": [
    "# dataframe\n",
    "metadata"
   ]
  },
  {
   "cell_type": "code",
   "execution_count": 85,
   "metadata": {
    "scrolled": false
   },
   "outputs": [
    {
     "data": {
      "text/plain": [
       "loud       209\n",
       "quiet      177\n",
       "soft       200\n",
       "strange    120\n",
       "dtype: int64"
      ]
     },
     "execution_count": 85,
     "metadata": {},
     "output_type": "execute_result"
    }
   ],
   "source": [
    "# how many tracks per mood\n",
    "metadata.sum()"
   ]
  },
  {
   "cell_type": "code",
   "execution_count": 86,
   "metadata": {},
   "outputs": [
    {
     "data": {
      "text/plain": [
       "clip_id\n",
       "30064    1\n",
       "5862     0\n",
       "38362    1\n",
       "44901    1\n",
       "16246    2\n",
       "        ..\n",
       "9145     1\n",
       "43870    2\n",
       "24237    1\n",
       "41319    0\n",
       "29692    1\n",
       "Length: 719, dtype: int64"
      ]
     },
     "execution_count": 86,
     "metadata": {},
     "output_type": "execute_result"
    }
   ],
   "source": [
    "# number of moods per track\n",
    "metadata.sum(axis=1)"
   ]
  },
  {
   "cell_type": "markdown",
   "metadata": {},
   "source": [
    "### Align Metadata and Spectrograms"
   ]
  },
  {
   "cell_type": "code",
   "execution_count": 87,
   "metadata": {},
   "outputs": [
    {
     "data": {
      "text/plain": [
       "Int64Index([30064,  5862, 38362, 44901, 16246, 16255, 30080, 53426,  5903,\n",
       "            20953,\n",
       "            ...\n",
       "            35327,  7464, 54481, 18470, 48396,  9145, 43870, 24237, 41319,\n",
       "            29692],\n",
       "           dtype='int64', name='clip_id', length=719)"
      ]
     },
     "execution_count": 87,
     "metadata": {},
     "output_type": "execute_result"
    }
   ],
   "source": [
    "# metadata clip ids\n",
    "metadata.index"
   ]
  },
  {
   "cell_type": "code",
   "execution_count": 88,
   "metadata": {},
   "outputs": [
    {
     "data": {
      "text/plain": [
       "array([30064,  5862, 38362, 44901, 16246, 16255, 30080, 53426,  5903,\n",
       "       20953, 38391, 30135, 30153,  5916,   177,   184, 21022, 30217,\n",
       "       47490, 11363, 49476, 21050, 30225,  5948, 25737, 44977,   224,\n",
       "       25748, 55567, 41948, 11414, 30240,   244, 47532, 16401, 11426,\n",
       "       41979, 11446,  6030, 53484, 34579, 34620, 11543, 49524, 38526,\n",
       "       56910, 11584, 42036, 30437,   333, 42049,  6101, 11636, 34657,\n",
       "       56564, 21240, 21257, 38574, 25972,   392, 21276,   422,  6162,\n",
       "       45148, 58430, 26058, 16555, 11745, 34757, 47636, 16602, 30597,\n",
       "       38685, 42150, 53536, 11837, 16788,   712, 21517, 42175, 38765,\n",
       "       16831, 21560, 55063, 56580, 21605,   863,   873,   892, 12011,\n",
       "       26248, 34943, 12060,   907, 34963, 12088, 45293, 38847, 49678,\n",
       "       52485, 21737, 53586, 45320, 16978,   931, 16997, 56949, 21759,\n",
       "       30864, 17098, 30884, 47776, 42310, 53622, 12319, 52552, 21921,\n",
       "       45398, 47806, 30998, 12357, 21944, 12409, 17169, 39012, 12458,\n",
       "       39030, 49781, 51258, 47824, 53626, 17252,  1226, 35176, 31092,\n",
       "       26731, 31098, 51282, 49805, 26741, 39086, 12583, 54355,  6903,\n",
       "       35224, 26774, 52581,  6928, 31125, 42451, 26786,  7036, 31223,\n",
       "       47899, 35307,  1346, 17460, 26894, 31272, 35332,  7100, 22205,\n",
       "       31323, 31347,  7197, 17524, 26966, 22250, 45580, 27003, 17550,\n",
       "       27041, 35436, 49885, 51359, 27081, 58048, 35452, 12923, 54370,\n",
       "       49899, 31464, 54379, 17615, 42633, 22357, 31485, 42661, 22365,\n",
       "        1596,  7324,  1610, 12973, 35483, 45659, 22410, 39250, 22428,\n",
       "       31569,  1651, 56651, 42699, 22433,  7394, 27167,  7400, 13057,\n",
       "        1706, 52696, 13080, 31605, 27189,  7496, 45695, 17760, 22516,\n",
       "       58063, 35630, 51442, 39309, 45722, 55747, 13115,  7543, 17786,\n",
       "       17809,  7577, 39321, 17815, 39326, 35657, 22606,  1802,  1809,\n",
       "       31687, 39355, 22635, 22642, 27256, 42862, 35677, 13223, 39406,\n",
       "       35706, 31736, 35715, 17952, 51458, 39439, 45803, 13238, 17970,\n",
       "       48102, 13249,  7699, 39454, 39463,  1947, 27340, 35741, 35753,\n",
       "       45850, 31816,  7734, 22831,  7742, 27374,  7765, 22848,  7770,\n",
       "       18072, 27403, 51507, 42975, 31869, 39629,  7836, 42994, 45893,\n",
       "       31890, 27474,  2069,  2095, 31897, 13443, 18124,  2123, 58083,\n",
       "       48198, 45935, 43032, 35994, 22900,  2229, 54503, 22976, 22986,\n",
       "       23032, 23050,  2293,  2314,  2336, 13556, 58897, 55245,  8131,\n",
       "       32027, 13582, 27613, 23167, 23191,    33, 27766, 39910, 32110,\n",
       "       46067, 13637,  2462, 43178, 27854, 13687, 39971, 36294, 43191,\n",
       "       36306, 13718, 32207, 13734, 32218, 57045, 27917,  2654,  2677,\n",
       "       46131, 50201,  2729, 13787,  8282, 13794, 23393,  2798,  8300,\n",
       "       32322, 13821, 57320, 54541, 40044, 32361, 40068,  8327, 32365,\n",
       "       48361, 57884,  2835,  8375, 28031,  8389,  2897, 50242, 28062,\n",
       "       50250, 18635,  2903,  8403, 40121, 28096, 54554, 36430, 23510,\n",
       "       40143, 36444,  8451, 43363, 46165, 46181, 23535,  2923, 23572,\n",
       "       14071, 23605, 43390,  8535, 23627, 32456, 36502, 18735, 18748,\n",
       "       43409, 32495, 40183, 43415, 14131,  8561, 48448,  8596, 18781,\n",
       "       28215,  3018, 28228, 52911, 14190, 23715, 43498, 40243,  3062,\n",
       "       36627, 43523, 36636, 36642, 40282, 43537, 23788,  3108, 40344,\n",
       "       36720,  8697,  8720,  3117, 55837, 36752, 14347,  8822, 28430,\n",
       "       53832, 51674, 52955, 40433, 18997, 56718, 43670, 36824,  3244,\n",
       "       19053, 14399,  3365, 36856, 40484, 43720, 14428, 36895, 23934,\n",
       "       43749, 19119, 55292, 53855,  3426, 23930, 40528, 32850, 28506,\n",
       "       32838, 40521, 36966, 32864, 46538, 19138, 14516, 36997, 51796,\n",
       "       32900, 32922, 48710, 14562,  3532,  3645,  3790, 24040, 37075,\n",
       "       28633, 37086, 48751,  9393, 24099, 43921, 43930, 46616, 14652,\n",
       "       40665, 53092, 33011,  4039, 40675,  9482, 19422, 57095, 40705,\n",
       "        9524,  4695, 28731,  4115, 48801, 43995, 28748,  4149,  9583,\n",
       "       46723, 55341, 44016,  4235, 19496, 40737, 44026,  4248, 28813,\n",
       "       48821, 24293, 33081, 14765, 24300, 19544, 14819, 44073, 33122,\n",
       "       24337,  4268,  4283, 28891, 37223, 14878, 28915, 54695, 28928,\n",
       "       37233, 37241, 48834, 28936, 19677,  4333, 14968, 48857, 19770,\n",
       "       19809, 33177, 40845, 56372, 55978, 33230, 50592, 44189, 37367,\n",
       "        9809,  4413, 57422, 37397, 51888, 40911, 58124, 37430, 46832,\n",
       "       53188, 40985, 10022, 15230, 53207, 29178, 56015, 57455, 57460,\n",
       "       51907,  9910, 53154, 46853, 24714, 10042, 29274, 41042, 24731,\n",
       "       41059, 50695, 33413, 53216, 33419, 24783,  4846, 29363, 33462,\n",
       "       15332, 10148, 52002, 44321, 33503, 37615, 56809, 29474, 10278,\n",
       "       10291,  5045,  5074, 15470, 20227,  5110, 41251, 25047, 33604,\n",
       "       25073, 54860, 15535,  5157, 15548, 47052, 47074, 54154, 57988,\n",
       "       56455, 29561, 37817, 10446, 33743, 47137, 29605,  5198, 33790,\n",
       "       47167, 37892, 58890, 50926, 10538, 20456, 47200, 10575, 56842,\n",
       "       20481, 29666, 15722, 41449, 50931, 53346,  5271, 15729,  5281,\n",
       "        5321,  5355, 29700, 41490, 47239, 47266, 56073, 52210,  5402,\n",
       "       25227, 15836, 38052, 50972, 52218, 58295, 29723, 49260,  5481,\n",
       "       33975, 29744, 49291, 44695, 34006, 41541, 10905, 49297, 15922,\n",
       "       34044, 25275, 15925, 25283, 41601, 38111, 38131,  5525, 25287,\n",
       "       20670, 54961, 56089, 34280, 34169, 11004, 49334, 25378, 25392,\n",
       "       34187, 20765, 44803, 16062, 16070, 38223, 34205, 34219, 11037,\n",
       "        5710, 56511, 25441, 38266, 47343, 29975, 25468, 29982, 20816,\n",
       "       47363, 49353, 44832, 30008, 20839, 34296, 38310, 47388, 51039,\n",
       "       56887, 30024, 20870,  5801, 20901, 38559, 31122, 35327,  7464,\n",
       "       54481, 18470, 48396,  9145, 43870, 24237, 41319, 29692])"
      ]
     },
     "execution_count": 88,
     "metadata": {},
     "output_type": "execute_result"
    }
   ],
   "source": [
    "# spectrogram clip ids\n",
    "spec_clip_ids"
   ]
  },
  {
   "cell_type": "code",
   "execution_count": 89,
   "metadata": {},
   "outputs": [
    {
     "data": {
      "text/plain": [
       "719"
      ]
     },
     "execution_count": 89,
     "metadata": {},
     "output_type": "execute_result"
    }
   ],
   "source": [
    "# check if we find all metadata clip ids in our spectrogram data\n",
    "len(set(metadata.index).intersection(set(spec_clip_ids)))"
   ]
  },
  {
   "cell_type": "markdown",
   "metadata": {},
   "source": [
    "### Create Train X and Y: data and classes"
   ]
  },
  {
   "cell_type": "markdown",
   "metadata": {},
   "source": [
    "Get the correct spectrogram indices given the metadata's clip ids in a sorted way:"
   ]
  },
  {
   "cell_type": "code",
   "execution_count": 90,
   "metadata": {},
   "outputs": [
    {
     "data": {
      "text/plain": [
       "clip_id\n",
       "30064      0\n",
       "5862       1\n",
       "38362      2\n",
       "44901      3\n",
       "16246      4\n",
       "        ... \n",
       "9145     714\n",
       "43870    715\n",
       "24237    716\n",
       "41319    717\n",
       "29692    718\n",
       "Name: spec_id, Length: 719, dtype: int64"
      ]
     },
     "execution_count": 90,
     "metadata": {},
     "output_type": "execute_result"
    }
   ],
   "source": [
    "meta_clip_ids = metadata.index\n",
    "spec_indices = spectrograms_clip_ids.loc[meta_clip_ids]['spec_id']\n",
    "spec_indices"
   ]
  },
  {
   "cell_type": "markdown",
   "metadata": {},
   "source": [
    "Select a correctly sorted subset of the original spectrograms:"
   ]
  },
  {
   "cell_type": "code",
   "execution_count": 91,
   "metadata": {},
   "outputs": [
    {
     "data": {
      "text/plain": [
       "(719, 80, 80)"
      ]
     },
     "execution_count": 91,
     "metadata": {},
     "output_type": "execute_result"
    }
   ],
   "source": [
    "data = spectrograms[spec_indices,:]\n",
    "data.shape"
   ]
  },
  {
   "cell_type": "markdown",
   "metadata": {},
   "source": [
    "For training convert from Pandas DataFrame to numpy array:"
   ]
  },
  {
   "cell_type": "code",
   "execution_count": 92,
   "metadata": {},
   "outputs": [
    {
     "data": {
      "text/plain": [
       "array([[0, 0, 0, 1],\n",
       "       [0, 0, 0, 0],\n",
       "       [1, 0, 0, 0],\n",
       "       ...,\n",
       "       [0, 0, 0, 1],\n",
       "       [0, 0, 0, 0],\n",
       "       [1, 0, 0, 0]])"
      ]
     },
     "execution_count": 92,
     "metadata": {},
     "output_type": "execute_result"
    }
   ],
   "source": [
    "# classes needs to be a \"1-hot encoded\" numpy array\n",
    "classes = metadata.values\n",
    "classes"
   ]
  },
  {
   "cell_type": "markdown",
   "metadata": {},
   "source": [
    "Number of classes is number of columns in metadata:"
   ]
  },
  {
   "cell_type": "code",
   "execution_count": 93,
   "metadata": {},
   "outputs": [
    {
     "data": {
      "text/plain": [
       "4"
      ]
     },
     "execution_count": 93,
     "metadata": {},
     "output_type": "execute_result"
    }
   ],
   "source": [
    "n_classes = metadata.shape[1]\n",
    "n_classes"
   ]
  },
  {
   "cell_type": "markdown",
   "metadata": {},
   "source": [
    "## Preparing the Data\n",
    "\n",
    "### Adding the channel"
   ]
  },
  {
   "cell_type": "code",
   "execution_count": 94,
   "metadata": {},
   "outputs": [
    {
     "data": {
      "text/plain": [
       "(719, 80, 80, 1)"
      ]
     },
     "execution_count": 94,
     "metadata": {},
     "output_type": "execute_result"
    }
   ],
   "source": [
    "data = add_channel(data, n_channels=1)\n",
    "data.shape"
   ]
  },
  {
   "cell_type": "code",
   "execution_count": 95,
   "metadata": {},
   "outputs": [
    {
     "data": {
      "text/plain": [
       "(80, 80, 1)"
      ]
     },
     "execution_count": 95,
     "metadata": {},
     "output_type": "execute_result"
    }
   ],
   "source": [
    "# we store the new shape of the images in the 'input_shape' variable.\n",
    "# take all dimensions except the 0th one (which is the number of files)\n",
    "input_shape = data.shape[1:]  \n",
    "input_shape"
   ]
  },
  {
   "cell_type": "markdown",
   "metadata": {},
   "source": [
    "### Train & Test Set Split\n",
    "\n",
    "We split the original full data set into two parts: Train Set (75%) and Test Set (25%).\n",
    "\n",
    "**NOTE 1:** For demo purposes we use only 1 split here. A better way to do it is to use **Cross-Validation**, doing the split multiple times, iterating training and testing over the splits and averaging the results.\n",
    "\n",
    "**NOTE 2:** We cannot use **Stratified** sampling here as it does not make sense for a Multi-Label task!"
   ]
  },
  {
   "cell_type": "code",
   "execution_count": 97,
   "metadata": {},
   "outputs": [],
   "source": [
    "# use 75% of data for train, 25% for test set\n",
    "testset_size = 0.25"
   ]
  },
  {
   "cell_type": "code",
   "execution_count": 98,
   "metadata": {},
   "outputs": [
    {
     "name": "stdout",
     "output_type": "stream",
     "text": [
      "TRAIN INDEX: [109 700 101 499 319 338 513 271 458 310 337 709 708 317 165 683 346  34\n",
      " 524 301 715 385 530 596 155 476 240 299 200 222 516  12 161 491 266 463\n",
      " 540 159 355  78  92 498  66 231 333 425 316 658 283 386 598 648  15 392\n",
      " 374   6 334  71 612 426 585 315 104 649 188 412 680 403 230 534  90 619\n",
      " 407 204 367 118 354 218 533 557 205 356 190 582 404 194 471 132 233 173\n",
      " 178 696 685 206  96 668 401 402  89 428 179   0  46 171 573 353 107 133\n",
      " 409 223 474 102 108 213 568 375 246 434 454 125 413 518 508 640 224  26\n",
      " 424 506 427   3 134 331 186 638 295 601 391 567 647 225 588 389 481 480\n",
      " 687 453 468 500 541 112 418 504  20  65 298 126 259 535 362 339 602 137\n",
      " 456   7 342 660 309 496 185 419 153  54  30 669 641 100 462 591 682 237\n",
      "  56  60 457 262 656 264 670 417 208 432 408 167  38 632 587 300 576 451\n",
      " 631 163 124 154 336  59 449 304 674 564 343 704 311 695 158  51 519 484\n",
      " 470 361 416 595 219 308  74 282 563   4 577 624 443 634   5 141 527 135\n",
      " 467 378 644  22 650 276 284 270 688 281 420 220 651 320 505 120  81 705\n",
      "  13 437 697 690 160 702 238 379 570 566 440 514 698 195 191 116 548 593\n",
      " 164 106  16  63 384 666 105 511 699 329 345 628 405 536  93 532 433  83\n",
      " 607 348 558 455 198 145 414 150 520  39 575 526 657 553 322 253 643 561\n",
      " 706 357  69   2 340 221 671 146 289 241  29 592 114 509 713 579 571 176\n",
      " 653 372 168 347 376 545 716 614 703 189 136 446 604 254 636 290 679 609\n",
      " 232  33  88  44 341  61 689 199 429 394 297  73 393 615 710 605 217 616\n",
      " 421 138 212 635 603 661 234  67  24 381 216 129 349 111 166 207 438 552\n",
      " 274 655 618 525 287 469 326 121 507 228 445 117 464  25 110 149 152 528\n",
      " 461 139 260 323 646 248 450 410  19 328 296 269 226  94 515 280 286 589\n",
      " 672 444 184 371 630 701 275 681 182  32  80 307  11  43  86  36  58  41\n",
      " 411 562 209 148 594 123 574  98 377 130  23 627 555 370 512 383 201 368\n",
      " 554 610 387 292 256 606 197  95 694 169 581 305 560 373 227 143 180 131\n",
      " 686  47 324 203  84 633 565 611 398  91  82 430 119 291  57 321 257 718\n",
      " 442  42 617 388 335 273 488 550  53 676 128  28 183 459 510 675 151 244\n",
      " 543 544 639 265 288 423 147 659 177  99 448 431 115  72 537 677 714 174\n",
      "  87 551 486 314 396 600 472  70 599 277   9 359 707 192 629 559 684]\n",
      "TEST INDEX: [503 645 245 142 493 358 621  40 369  85 175 517 352 452 693  14 366 590\n",
      " 549 637 103 495   8 623 501 620 586  55 490  31 170 547 665 202 360 268\n",
      "   1 583 473 622 678 522 531  79 608 717 556 521 325 395 482 279 229 692\n",
      " 494 584 397 642 546  27 235 673 251 478 351 156 485 569 242  75 479 313\n",
      " 399 447 157 214 663  50 239 523 435 477 654 172  10  68 489 712 365 390\n",
      " 181 263 422 294 667 210 332 302 652 436 113 441 122 542 327  49 249 363\n",
      " 578 580  37 597  48 196 285 261  18 487 483  76  64 572 344  52 497 293\n",
      " 312 193 380 466 187 529 272 162 406 255 211 215 303 247 382  97 415 539\n",
      " 475 236  17 267 364 252 318 278 662 492 243 439  45 465  62 400 711 250\n",
      " 140 613 626 127 330 460 350 144  21 502 625  35 691 538 306  77 664 258]\n",
      "number of instances TRAIN: 539\n",
      "number of instances TEST: 180\n"
     ]
    }
   ],
   "source": [
    "# provides train/test indices to split data into train/test sets\n",
    "splitter = ShuffleSplit(n_splits=1, test_size=testset_size, random_state=0)\n",
    "splits = splitter.split(data, classes)\n",
    "\n",
    "for train_index, test_index in splits:\n",
    "    print(\"TRAIN INDEX:\", train_index)\n",
    "    print(\"TEST INDEX:\", test_index)\n",
    "    print(\"number of instances TRAIN:\", len(train_index))\n",
    "    print(\"number of instances TEST:\", len(test_index))\n",
    "    train_set = data[train_index]\n",
    "    test_set = data[test_index]\n",
    "    train_classes = classes[train_index]\n",
    "    test_classes = classes[test_index]"
   ]
  },
  {
   "cell_type": "code",
   "execution_count": 99,
   "metadata": {
    "scrolled": true
   },
   "outputs": [
    {
     "name": "stdout",
     "output_type": "stream",
     "text": [
      "(539, 80, 80, 1)\n",
      "(180, 80, 80, 1)\n"
     ]
    }
   ],
   "source": [
    "print(train_set.shape)\n",
    "print(test_set.shape)"
   ]
  },
  {
   "cell_type": "markdown",
   "metadata": {},
   "source": [
    "## Model: Compact CNN\n",
    "\n",
    "We use the same model as for *Genres* above with a few changes in the Model and Training parameters.\n",
    "\n",
    "### Set model parameters\n",
    "\n",
    "**Exercise:** Try to experiment with the following parameters:"
   ]
  },
  {
   "cell_type": "code",
   "execution_count": 100,
   "metadata": {},
   "outputs": [],
   "source": [
    "# number of Convolutional Layers (3, 4 or 5)\n",
    "nb_conv_layers = 3\n",
    "#nb_conv_layers = 5\n",
    "\n",
    "# number of Filters in each layer (number of elements must correspond to nb_conv_layers)\n",
    "nb_filters = [32,64,128]\n",
    "#nb_filters = [32,64,64,128,128]\n",
    "\n",
    "# number of hidden layers at the end of the model (1 or 2)\n",
    "nb_hidden = 1 \n",
    "\n",
    "# how many neurons in each hidden layer (number of elements must correspond to nb_hidden)\n",
    "dense_units = 128\n",
    "#dense_units = [128,56]\n",
    "\n",
    "# how many output units\n",
    "output_shape = n_classes\n",
    "\n",
    "# which activation function to use for OUTPUT layer\n",
    "# IN A MULTI-LABEL TASK with N classes we use SIGMOID activation same as with a BINARY task\n",
    "# as EACH of the classes can be 0 or 1 \n",
    "output_activation = 'sigmoid'\n",
    "\n",
    "# which type of normalization\n",
    "normalization = 'batch'\n",
    "\n",
    "# how much dropout to use on the hidden dense layers\n",
    "dropout = 0.2"
   ]
  },
  {
   "cell_type": "markdown",
   "metadata": {},
   "source": [
    "Let’s display the architecture of the convnet:"
   ]
  },
  {
   "cell_type": "code",
   "execution_count": 101,
   "metadata": {},
   "outputs": [],
   "source": [
    "model = CompactCNN(input_shape, nb_conv=nb_conv_layers, nb_filters=nb_filters, \n",
    "                   normalize=normalization, nb_hidden=nb_hidden, dense_units=dense_units,\n",
    "                   output_shape=output_shape, activation=output_activation,\n",
    "                   dropout=dropout)"
   ]
  },
  {
   "cell_type": "code",
   "execution_count": 102,
   "metadata": {},
   "outputs": [
    {
     "data": {
      "text/plain": [
       "(80, 80, 1)"
      ]
     },
     "execution_count": 102,
     "metadata": {},
     "output_type": "execute_result"
    }
   ],
   "source": [
    "input_shape"
   ]
  },
  {
   "cell_type": "code",
   "execution_count": 103,
   "metadata": {},
   "outputs": [
    {
     "name": "stdout",
     "output_type": "stream",
     "text": [
      "Model: \"model_1\"\n",
      "_________________________________________________________________\n",
      "Layer (type)                 Output Shape              Param #   \n",
      "=================================================================\n",
      "input_2 (InputLayer)         [(None, 80, 80, 1)]       0         \n",
      "_________________________________________________________________\n",
      "bn_0_freq (BatchNormalizatio (None, 80, 80, 1)         4         \n",
      "_________________________________________________________________\n",
      "conv2d_6 (Conv2D)            (None, 80, 80, 32)        320       \n",
      "_________________________________________________________________\n",
      "bn1 (BatchNormalization)     (None, 80, 80, 32)        128       \n",
      "_________________________________________________________________\n",
      "elu_3 (ELU)                  (None, 80, 80, 32)        0         \n",
      "_________________________________________________________________\n",
      "pool1 (MaxPooling2D)         (None, 40, 20, 32)        0         \n",
      "_________________________________________________________________\n",
      "conv2d_7 (Conv2D)            (None, 40, 20, 64)        18496     \n",
      "_________________________________________________________________\n",
      "bn2 (BatchNormalization)     (None, 40, 20, 64)        256       \n",
      "_________________________________________________________________\n",
      "elu_4 (ELU)                  (None, 40, 20, 64)        0         \n",
      "_________________________________________________________________\n",
      "pool2 (MaxPooling2D)         (None, 13, 5, 64)         0         \n",
      "_________________________________________________________________\n",
      "conv2d_8 (Conv2D)            (None, 13, 5, 128)        73856     \n",
      "_________________________________________________________________\n",
      "bn3 (BatchNormalization)     (None, 13, 5, 128)        512       \n",
      "_________________________________________________________________\n",
      "elu_5 (ELU)                  (None, 13, 5, 128)        0         \n",
      "_________________________________________________________________\n",
      "pool3 (MaxPooling2D)         (None, 6, 1, 128)         0         \n",
      "_________________________________________________________________\n",
      "flatten_3 (Flatten)          (None, 768)               0         \n",
      "_________________________________________________________________\n",
      "dropout_1 (Dropout)          (None, 768)               0         \n",
      "_________________________________________________________________\n",
      "dense_5 (Dense)              (None, 128)               98432     \n",
      "_________________________________________________________________\n",
      "output (Dense)               (None, 4)                 516       \n",
      "=================================================================\n",
      "Total params: 192,520\n",
      "Trainable params: 192,070\n",
      "Non-trainable params: 450\n",
      "_________________________________________________________________\n"
     ]
    }
   ],
   "source": [
    "model.summary()"
   ]
  },
  {
   "cell_type": "markdown",
   "metadata": {},
   "source": [
    "## Training Parameters"
   ]
  },
  {
   "cell_type": "markdown",
   "metadata": {},
   "source": [
    "### Loss\n",
    "\n",
    "The loss for a multi label classification task is BINARY crossentropy:"
   ]
  },
  {
   "cell_type": "code",
   "execution_count": 105,
   "metadata": {},
   "outputs": [],
   "source": [
    "loss = 'binary_crossentropy' "
   ]
  },
  {
   "cell_type": "markdown",
   "metadata": {},
   "source": [
    "### Other Parameters"
   ]
  },
  {
   "cell_type": "code",
   "execution_count": 106,
   "metadata": {},
   "outputs": [],
   "source": [
    "optimizer = adam\n",
    "metrics = ['accuracy']\n",
    "batch_size = 32 \n",
    "validation_split = 0.1 \n",
    "random_seed = 0\n",
    "epochs = 10"
   ]
  },
  {
   "cell_type": "markdown",
   "metadata": {},
   "source": [
    "## Training"
   ]
  },
  {
   "cell_type": "code",
   "execution_count": 107,
   "metadata": {},
   "outputs": [],
   "source": [
    "# COMPILE MODEL\n",
    "model.compile(loss=loss, metrics=metrics, optimizer=optimizer)"
   ]
  },
  {
   "cell_type": "code",
   "execution_count": 108,
   "metadata": {},
   "outputs": [
    {
     "name": "stdout",
     "output_type": "stream",
     "text": [
      "Epoch 1/10\n",
      "16/16 [==============================] - 11s 641ms/step - loss: 0.6332 - accuracy: 0.4855 - val_loss: 0.5664 - val_accuracy: 0.3704\n",
      "Epoch 2/10\n",
      "16/16 [==============================] - 9s 559ms/step - loss: 0.4088 - accuracy: 0.5451 - val_loss: 0.5312 - val_accuracy: 0.2963\n",
      "Epoch 3/10\n",
      "16/16 [==============================] - 11s 672ms/step - loss: 0.3802 - accuracy: 0.5581 - val_loss: 0.5313 - val_accuracy: 0.3889\n",
      "Epoch 4/10\n",
      "16/16 [==============================] - 11s 658ms/step - loss: 0.3696 - accuracy: 0.5783 - val_loss: 0.5062 - val_accuracy: 0.4074\n",
      "Epoch 5/10\n",
      "16/16 [==============================] - 9s 578ms/step - loss: 0.3530 - accuracy: 0.5955 - val_loss: 0.5153 - val_accuracy: 0.4074\n",
      "Epoch 6/10\n",
      "16/16 [==============================] - 10s 621ms/step - loss: 0.3280 - accuracy: 0.5855 - val_loss: 0.5069 - val_accuracy: 0.4259\n",
      "Epoch 7/10\n",
      "16/16 [==============================] - 10s 617ms/step - loss: 0.3087 - accuracy: 0.6267 - val_loss: 0.5353 - val_accuracy: 0.4074\n",
      "Epoch 8/10\n",
      "16/16 [==============================] - 10s 633ms/step - loss: 0.3287 - accuracy: 0.6393 - val_loss: 0.5381 - val_accuracy: 0.3889\n",
      "Epoch 9/10\n",
      "16/16 [==============================] - 10s 636ms/step - loss: 0.3033 - accuracy: 0.6768 - val_loss: 0.5615 - val_accuracy: 0.3889\n",
      "Epoch 10/10\n",
      "16/16 [==============================] - 10s 619ms/step - loss: 0.2765 - accuracy: 0.6478 - val_loss: 0.5416 - val_accuracy: 0.3889\n"
     ]
    }
   ],
   "source": [
    "# FIT MODEL\n",
    "history = model.fit(train_set, train_classes, \n",
    "                    validation_split=validation_split,\n",
    "                    #validation_data=(X_test,y_test), # option to provide separate validation set\n",
    "                    epochs=epochs,\n",
    "                    batch_size=batch_size\n",
    "                   )"
   ]
  },
  {
   "cell_type": "markdown",
   "metadata": {},
   "source": [
    "## Testing / Evaluation"
   ]
  },
  {
   "cell_type": "markdown",
   "metadata": {},
   "source": [
    "Calculate the expected output values for a given input (`test_set`) to the model:"
   ]
  },
  {
   "cell_type": "code",
   "execution_count": 109,
   "metadata": {
    "scrolled": true
   },
   "outputs": [
    {
     "data": {
      "text/plain": [
       "array([[0.15575942, 0.15170923, 0.11358601, 0.54282564],\n",
       "       [0.13269916, 0.14368528, 0.1029534 , 0.56463283],\n",
       "       [0.16532442, 0.18854362, 0.13549161, 0.5044219 ],\n",
       "       [0.15287772, 0.17841616, 0.12595883, 0.558256  ],\n",
       "       [0.1352779 , 0.14069408, 0.10151795, 0.569237  ]], dtype=float32)"
      ]
     },
     "execution_count": 109,
     "metadata": {},
     "output_type": "execute_result"
    }
   ],
   "source": [
    "# compute probabilities for the classes (= get outputs of output layer)\n",
    "test_pred_prob = model.predict(test_set)\n",
    "# show first 5 predictions (probabilities)\n",
    "test_pred_prob[0:5]"
   ]
  },
  {
   "cell_type": "code",
   "execution_count": 110,
   "metadata": {},
   "outputs": [
    {
     "data": {
      "text/plain": [
       "array([[0., 0., 0., 1.],\n",
       "       [0., 0., 0., 1.],\n",
       "       [0., 0., 0., 1.],\n",
       "       [0., 0., 0., 1.],\n",
       "       [0., 0., 0., 1.]], dtype=float32)"
      ]
     },
     "execution_count": 110,
     "metadata": {},
     "output_type": "execute_result"
    }
   ],
   "source": [
    "# for a MULTI LABEL OUTPUT classification task, we round each \n",
    "# prediction probability to 0 or 1\n",
    "test_pred = np.round(test_pred_prob)\n",
    "# show first 5 predictions (classes)\n",
    "test_pred[0:5]"
   ]
  },
  {
   "cell_type": "code",
   "execution_count": 111,
   "metadata": {},
   "outputs": [
    {
     "data": {
      "text/plain": [
       "array([[1, 0, 0, 0],\n",
       "       [0, 0, 0, 0],\n",
       "       [0, 1, 1, 0],\n",
       "       [0, 0, 0, 0],\n",
       "       [0, 0, 1, 0]])"
      ]
     },
     "execution_count": 111,
     "metadata": {},
     "output_type": "execute_result"
    }
   ],
   "source": [
    "# show first 5 groundtruths (classes)\n",
    "test_classes[0:5]"
   ]
  },
  {
   "cell_type": "markdown",
   "metadata": {},
   "source": [
    "### Metrics\n",
    "\n",
    "In addition to accuracy, we evaluate [ROC AUC score](https://en.wikipedia.org/wiki/Receiver_operating_characteristic) and [Hamming Loss](https://en.wikipedia.org/wiki/Hamming_distance) here:"
   ]
  },
  {
   "cell_type": "code",
   "execution_count": 112,
   "metadata": {},
   "outputs": [
    {
     "data": {
      "text/plain": [
       "0.15"
      ]
     },
     "execution_count": 112,
     "metadata": {},
     "output_type": "execute_result"
    }
   ],
   "source": [
    "# Accuracy\n",
    "accuracy_score(test_classes, test_pred)"
   ]
  },
  {
   "cell_type": "code",
   "execution_count": 113,
   "metadata": {},
   "outputs": [
    {
     "data": {
      "text/plain": [
       "0.4963956345093591"
      ]
     },
     "execution_count": 113,
     "metadata": {},
     "output_type": "execute_result"
    }
   ],
   "source": [
    "# Area Under the Receiver Operating Characteristic Curve (ROC AUC) \n",
    "roc_auc_score(test_classes, test_pred)"
   ]
  },
  {
   "cell_type": "code",
   "execution_count": 114,
   "metadata": {},
   "outputs": [
    {
     "data": {
      "text/plain": [
       "0.3861111111111111"
      ]
     },
     "execution_count": 114,
     "metadata": {},
     "output_type": "execute_result"
    }
   ],
   "source": [
    "# Hamming loss is the fraction of labels that are incorrectly predicted.\n",
    "hamming_loss(test_classes, test_pred)"
   ]
  },
  {
   "cell_type": "code",
   "execution_count": null,
   "metadata": {},
   "outputs": [],
   "source": []
  }
 ],
 "metadata": {
  "kernelspec": {
   "display_name": "Python 3",
   "language": "python",
   "name": "python3"
  },
  "language_info": {
   "codemirror_mode": {
    "name": "ipython",
    "version": 3
   },
   "file_extension": ".py",
   "mimetype": "text/x-python",
   "name": "python",
   "nbconvert_exporter": "python",
   "pygments_lexer": "ipython3",
   "version": "3.8.5"
  }
 },
 "nbformat": 4,
 "nbformat_minor": 1
}
