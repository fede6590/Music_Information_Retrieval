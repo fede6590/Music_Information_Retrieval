{
 "cells": [
  {
   "cell_type": "markdown",
   "metadata": {},
   "source": [
    "# Building a Neural Network"
   ]
  },
  {
   "cell_type": "markdown",
   "metadata": {},
   "source": [
    "## Architecture of a simple neural network"
   ]
  },
  {
   "cell_type": "markdown",
   "metadata": {},
   "source": [
    "The typical structure of a feed-forward neural network is as follows:\n",
    "\n",
    "<img src=\"../images/structure-network.png\" width=\"400px\" alt=\"\" align=\"left\">\n",
    "<br clear=\"all\" />\n",
    "\n",
    "The hidden level/layer is used to transform the input layer values into values in a higher-dimensional space, so that we can learn more features from the input. The hidden layer transforms the output as follows:\n",
    "\n",
    "<img src=\"../images/hidden-layer.png\" width=\"400px\" alt=\"\" align=\"left\">\n",
    "<br clear=\"all\" />\n",
    "\n",
    "Note that `w1,w2,...,wn` are the weights given to each of the input variables. If `a` is one of the units in the hidden layer, it will be equal to the following:\n",
    "\n",
    "\\begin{equation}\n",
    "a=f\\left(\\sum_{i=0}^{N} w_{i} x_{i}\\right)\n",
    "\\end{equation}\n",
    "\n",
    "The `f` function is the activation function that is used to apply non-linearity on top of the sum-product of the input and their corresponding weight values. Additionally, higher non-linearity can be achieved by having more than one hidden layer.\n",
    "\n",
    "In sum, a neural network is a collection of weights assigned to nodes with layers connecting them. Note that you can have `n` hidden layers, with the term **deep learning** implying multiple hidden layers."
   ]
  },
  {
   "cell_type": "markdown",
   "metadata": {},
   "source": [
    "## Training a neural network\n",
    "Training a neural network basically means calibrating all of the weights in a neural network by repeating two key steps: forward-propagation and back-propagation.\n",
    "\n",
    "In *forward-propagation*, we apply a set of weights to the input data, pass it through the hidden layer, perform the nonlinear activation on the hidden layer output, and then connect the hidden layer to the output layer by multiplying the hidden layer node values with another set of weights. For the first forward-propagation, the values of the weights are initialized randomly.\n",
    "\n",
    "In *back-propagation*, we try to decrease the error by measuring the margin of error of output and then adjust weight accordingly. Neural networks repeat both forward- and back-propagation to predict an output until the weights are calibrated."
   ]
  },
  {
   "cell_type": "markdown",
   "metadata": {},
   "source": [
    "## Applications of a neural network"
   ]
  },
  {
   "cell_type": "markdown",
   "metadata": {},
   "source": [
    "Neural networks can be architected in multiple ways. Here are some of the possible ways:\n",
    "\n",
    "<img src=\"../images/architecture-network.png\" width=\"600px\" alt=\"\" align=\"left\">\n",
    "<br clear=\"all\" />\n",
    "\n",
    "The box at the bottom is the input, followed by the hidden layer (the middle box), and the box at the top is the output layer."
   ]
  },
  {
   "cell_type": "markdown",
   "metadata": {},
   "source": [
    "## Feed-forward propagation from scratch in Python "
   ]
  },
  {
   "cell_type": "markdown",
   "metadata": {},
   "source": [
    "### Getting ready\n",
    "\n",
    "<img src=\"../images/net1.png\" width=\"400px\" alt=\"\" align=\"left\">\n",
    "<br clear=\"all\" />\n",
    "\n",
    "### Calculating the hidden layer unit values\n",
    "We now assign weights to all of the connections. Note that these weights are selected randomly (based on Gaussian distribution) since it is the first time we're forward-propagating. \n",
    "\n",
    "<img src=\"../images/net2.png\" width=\"400px\" alt=\"\" align=\"left\">\n",
    "<br clear=\"all\" />\n",
    "\n",
    "In the next step, we perform the multiplication of the input with weights to calculate the values of hidden units in the hidden layer.\n",
    "\n",
    "<img src=\"../images/net3.png\" width=\"400px\" alt=\"\" align=\"left\">\n",
    "<br clear=\"all\" />\n",
    "\n",
    "### Applying the activation function\n",
    "Now, we will pass the hidden layer values through an activation function so that we attain non-linearity in our output. The different activation functions are as follows:\n",
    "\n",
    "<img src=\"../images/activation-func.png\" width=\"500px\" alt=\"\" align=\"left\">\n",
    "<br clear=\"all\" />\n",
    "\n",
    "For our example, let’s use the *sigmoid* function for activation. The sigmoid function looks like this, graphically:\n",
    "\n",
    "<img src=\"../images/sigmoid.png\" width=\"300px\" alt=\"\" align=\"left\">\n",
    "<br clear=\"all\" />\n",
    "\n",
    "By applying sigmoid activation to the three hidden layer *sums*, we get the following:\n",
    "\n",
    "<img src=\"../images/net4.png\" width=\"400px\" alt=\"\" align=\"left\">\n",
    "<br clear=\"all\" />\n",
    "\n",
    "### Calculating the output layered values\n",
    "We perform the sum product of the hidden layer values and weight values to calculate the output value. For simplicity, we excluded the bias terms that need to be added at each unit of the hidden layer:\n",
    "\n",
    "<img src=\"../images/net5.png\" width=\"400px\" alt=\"\" align=\"left\">\n",
    "<br clear=\"all\" />\n",
    "\n",
    "### Calculating the loss values \n",
    "Typically, when the variable is a continuous one, the loss value is calculated as the squared error, that is, we try to minimize the mean squared error by varying the weight values associated with the neural network:\n",
    "\n",
    "\\begin{equation}\n",
    "J(\\theta)=\\frac{1}{m} \\sum_{i=1}^{m}\\left(h(\\theta)\\left(x^{(i)}\\right)-y^{(i)}\\right)^{2}\n",
    "\\end{equation}\n",
    "\n",
    "In the preceding equation, $y$ is the actual value of output, $h(x)$ is the transformation that we apply on the input $x$ to obtain a predicted value of $y$, and $m$ is the number of rows in the dataset."
   ]
  },
  {
   "cell_type": "markdown",
   "metadata": {},
   "source": [
    "### How to do it..."
   ]
  },
  {
   "cell_type": "markdown",
   "metadata": {},
   "source": [
    "A function to calculate the squared error loss values across all data points is as follows:"
   ]
  },
  {
   "cell_type": "code",
   "execution_count": 46,
   "metadata": {},
   "outputs": [],
   "source": [
    "import numpy as np\n",
    "def feed_forward(inputs, outputs, weights):\n",
    "     pre_hidden = np.dot(inputs,weights[0])+weights[1]        \n",
    "     hidden = 1/(1+np.exp(-pre_hidden))\n",
    "     out = np.dot(hidden,weights[2])+weights[3]\n",
    "     squared_error = (np.square(out-outputs))\n",
    "     return squared_error"
   ]
  },
  {
   "cell_type": "markdown",
   "metadata": {},
   "source": [
    "We calculate the hidden layer values by performing the matrix multiplication (dot product) of the input and weights. Additionally, we add the bias values in the hidden layer, as follows:\n",
    "<div class=\"alert alert-block alert-warning\">\n",
    "<tt>pre_hidden = np.dot(inputs,weights[0])+weights[1]</tt>\n",
    "</div>\n",
    "\n",
    "We perform activation on top of the hidden layer values, as follows:\n",
    "<div class=\"alert alert-block alert-warning\">\n",
    "<tt>hidden = 1/(1+np.exp(-pre_hidden))</tt>\n",
    "</div>\n",
    "\n",
    "We now calculate the output at the hidden layer by multiplying the output of the hidden layer with weights that connect the hidden layer to the output, and then adding the bias term at the output, as follows:\n",
    "<div class=\"alert alert-block alert-warning\">\n",
    "<tt>out = np.dot(hidden,weights[2])+weights[3]</tt>\n",
    "</div>\n",
    "\n",
    "In the preceding code, `out` is the predicted output and `outputs` is the actual output."
   ]
  },
  {
   "cell_type": "markdown",
   "metadata": {},
   "source": [
    "While we considered the sigmoid activation on top of the hidden layer values in the preceding code, let's examine other activation functions that are commonly used."
   ]
  },
  {
   "cell_type": "markdown",
   "metadata": {},
   "source": [
    "#### Tanh\n",
    "The tanh activation of a value (the hidden layer unit value) is calculated as follows:\n",
    "<div class=\"alert alert-block alert-warning\">\n",
    "<tt>def tanh(x):<br>\n",
    "&nbsp;&nbsp;&nbsp;&nbsp;return (exp(x)-exp(-x))/(exp(x)+exp(-x)) \n",
    "</tt>\n",
    "</div>"
   ]
  },
  {
   "cell_type": "markdown",
   "metadata": {},
   "source": [
    "#### Linear\n",
    "The linear activation of a value is the value itself."
   ]
  },
  {
   "cell_type": "markdown",
   "metadata": {},
   "source": [
    "#### Softmax\n",
    "Typically, softmax is performed on top of a vector of values. This is generally done to determine the probability of an input belonging to one of the `n` number of the possible output classes in a given scenario. Let's say we are trying to classify an image of a digit into one of the possible 10 classes (numbers from 0 to 9). \n",
    "\n",
    "The softmax activation is used to provide a probability value for each class in the output and is calculated as follows: \n",
    "<div class=\"alert alert-block alert-warning\">\n",
    "<tt>def softmax(x):<br>\n",
    "&nbsp;&nbsp;&nbsp;&nbsp;return np.exp(x)/np.sum(np.exp(x)) \n",
    "</tt>\n",
    "</div>\n",
    "\n",
    "Apart from the preceding activation functions, the loss functions that are generally used while building a neural network are:"
   ]
  },
  {
   "cell_type": "markdown",
   "metadata": {},
   "source": [
    "#### Mean squared error\n",
    "The error is the difference between the actual `y` and predicted `p` values of the output: \n",
    "<div class=\"alert alert-block alert-warning\">\n",
    "<tt>def mse(p, y):<br>\n",
    "&nbsp;&nbsp;&nbsp;&nbsp;return np.mean(np.square(p - y)) \n",
    "</tt>\n",
    "</div>\n",
    "\n",
    "The mean squared error is typically used when trying to predict a value that is continuous in nature."
   ]
  },
  {
   "cell_type": "markdown",
   "metadata": {},
   "source": [
    "#### Categorical cross-entropy\n",
    "Cross-entropy is a measure of the difference between two different distributions: actual `y` and predicted `p`. It is applied to categorical (discrete) output data:\n",
    "\n",
    "\\begin{equation}\n",
    "-\\left(y \\log_{2} p+(1-y) \\log_{2}(1-p)\\right)\n",
    "\\end{equation}\n",
    "\n",
    "It is implemented as follows:\n",
    "<div class=\"alert alert-block alert-warning\">\n",
    "<tt>def cat_cross_entropy(p, y):<br>\n",
    "&nbsp;&nbsp;&nbsp;&nbsp;return -np.sum(y*np.log2(p)+(1-y)*np.log2(1-p)) \n",
    "</tt>\n",
    "</div>"
   ]
  },
  {
   "cell_type": "markdown",
   "metadata": {},
   "source": [
    "## Back propagation from scratch in Python"
   ]
  },
  {
   "cell_type": "markdown",
   "metadata": {},
   "source": [
    "### Getting ready\n",
    "In *forward* propagation, we connected the input layer to the hidden layer to the output layer. In *back* propagation, we take the reverse approach.\n",
    "\n",
    "A change in the weight value will have an impact on the final loss value (either increasing or decreasing loss). We'll update the weight in the direction of decreasing loss. By updating the weights by a small amount and measuring the change in error that the update in weights leads to, we are able to do the following:\n",
    "* Determine the direction of the weight update\n",
    "* Determine the magnitude of the weight update\n",
    "\n",
    "**Back propagation** works as follows:\n",
    "* Calculates the overall cost function from the feed-forward process.\n",
    "* Varies all the weights (one at a time) by a small amount. \n",
    "* Calculates the impact of the variation of weight on the cost function.\n",
    "* Depending on whether the change has an increased or decreased the cost (loss) value, it updates the weight value in the direction of loss decrease. And then repeats this step across all the weights we have. \n",
    "\n",
    "If the preceding steps are performed `n` number of times, it essentially results in `n` **epochs**."
   ]
  },
  {
   "cell_type": "markdown",
   "metadata": {},
   "source": [
    "### How to do it...\n",
    "In this section, we will build the back-propagation algorithm by hand so that we clearly understand how weights are calculated in a neural network. In this specific case, we will build a simple neural network where there is no hidden layer (thus we are solving a regression equation)."
   ]
  },
  {
   "cell_type": "markdown",
   "metadata": {},
   "source": [
    "1. Initialize the dataset as follows:"
   ]
  },
  {
   "cell_type": "code",
   "execution_count": 47,
   "metadata": {},
   "outputs": [],
   "source": [
    "x = [[1],[2],[3],[4]]\n",
    "y = [[2],[4],[6],[8]]"
   ]
  },
  {
   "cell_type": "markdown",
   "metadata": {},
   "source": [
    "2. Initialize the weight and bias values randomly (we have only one weight and one bias value as we are trying to identify the optimal values of $a$ and $b$ in the $y = a\\cdot x + b$ equation):"
   ]
  },
  {
   "cell_type": "code",
   "execution_count": 48,
   "metadata": {},
   "outputs": [],
   "source": [
    "w = [1.5, 0.]"
   ]
  },
  {
   "cell_type": "markdown",
   "metadata": {},
   "source": [
    "3. Define the feed-forward network and calculate the squared error loss value:"
   ]
  },
  {
   "cell_type": "code",
   "execution_count": 49,
   "metadata": {
    "ExecuteTime": {
     "end_time": "2019-02-06T15:01:04.248231Z",
     "start_time": "2019-02-06T15:01:04.244978Z"
    },
    "colab": {},
    "colab_type": "code",
    "id": "Z9NcQEFFgXLl"
   },
   "outputs": [],
   "source": [
    "import numpy as np\n",
    "def feed_forward(inputs, outputs, weights):\n",
    "    out = np.dot(inputs,weights[0]) + weights[1]\n",
    "    squared_error = (np.square(out - outputs))\n",
    "    return squared_error"
   ]
  },
  {
   "cell_type": "markdown",
   "metadata": {},
   "source": [
    "4. Increase each weight and bias value by a very small amount (0.0001) and calculate the squared error loss value one at a time for each of the weight and bias updates. \n",
    "\n",
    "   If the squared error loss value decreases as the weight increases, the weight value should be increased. The magnitude by which the weight value should be increased is proportional to the amount of loss decrease (weigh it down with a factor called *learning rate*).\n",
    "   \n",
    "   In the following code, we create a function which performs the back propagation process to update weights:"
   ]
  },
  {
   "cell_type": "code",
   "execution_count": 50,
   "metadata": {},
   "outputs": [],
   "source": [
    "from copy import deepcopy\n",
    "def update_weights(inputs, outputs, weights, epochs):  \n",
    "    for epoch in range(epochs):\n",
    "        org_loss = feed_forward(inputs, outputs, weights)  \n",
    "        wts_tmp = deepcopy(weights)\n",
    "        wts_tmp2 = deepcopy(weights)\n",
    "        for ix, wt in enumerate(weights): \n",
    "            wts_tmp[-(ix+1)] += 0.0001\n",
    "            # print('wts_tmp:', wts_tmp)\n",
    "            loss = feed_forward(inputs, outputs, wts_tmp)\n",
    "            # print('loss', loss)\n",
    "            delta_loss = np.sum(org_loss - loss)/(0.0001*len(inputs))\n",
    "            wts_tmp2[-(ix+1)] += delta_loss*0.01\n",
    "            wts_tmp = deepcopy(weights)\n",
    "\n",
    "        weights = deepcopy(wts_tmp2)\n",
    "    return wts_tmp2"
   ]
  },
  {
   "cell_type": "markdown",
   "metadata": {},
   "source": [
    "We use `deepcopy` so that the value of the original variable does not change when the variable to which the original variable's values are copied has its values changed.\n",
    "\n",
    "Loop through all the weight values, one at a time, and change them by a small value (0.0001):\n",
    "<div class=\"alert alert-block alert-warning\">\n",
    "<tt>wts_tmp[-(ix+1)] += 0.0001</tt>\n",
    "</div>\n",
    "\n",
    "Calculate the updated feed-forward loss when the weight is updated by a small amount. Then calculating its impact on loss value is equivalent to performing a derivative with respect to change in weight:\n",
    "<div class=\"alert alert-block alert-warning\">\n",
    "<tt>loss = feed_forward(inputs, outputs, wts_tmp)<br>\n",
    "delta_loss = np.sum(org_loss-loss)/(0.0001*len(inputs))\n",
    "</tt>  \n",
    "</div>  \n",
    "\n",
    "Update the weights by the change in loss that they are causing. Update the weights slowly by multiplying the change in loss by a very small number (0.01), which is the *learning rate* parameter:\n",
    "<div class=\"alert alert-block alert-warning\">\n",
    "<tt>wts_tmp2[-(ix+1)] += delta_loss*0.01</tt>\n",
    "</div>"
   ]
  },
  {
   "cell_type": "markdown",
   "metadata": {},
   "source": [
    "And now, Run!"
   ]
  },
  {
   "cell_type": "code",
   "execution_count": 51,
   "metadata": {},
   "outputs": [
    {
     "data": {
      "text/plain": [
       "[1.5749925000000138, 0.024998999999971405]"
      ]
     },
     "execution_count": 51,
     "metadata": {},
     "output_type": "execute_result"
    }
   ],
   "source": [
    "update_weights(x,y,w,1)"
   ]
  },
  {
   "cell_type": "code",
   "execution_count": 52,
   "metadata": {},
   "outputs": [],
   "source": [
    "w_val = []\n",
    "b_val = []\n",
    "for k in range(100):\n",
    "    w_new, b_new = update_weights(x,y,w,(k+1))\n",
    "    w_val.append(w_new)\n",
    "    b_val.append(b_new)"
   ]
  },
  {
   "cell_type": "code",
   "execution_count": 53,
   "metadata": {},
   "outputs": [
    {
     "data": {
      "image/png": "[encoded data removed]",
      "text/plain": [
       "<Figure size 432x288 with 1 Axes>"
      ]
     },
     "metadata": {
      "needs_background": "light"
     },
     "output_type": "display_data"
    }
   ],
   "source": [
    "import matplotlib.pyplot as plt\n",
    "%matplotlib inline\n",
    "plt.plot(w_val)\n",
    "plt.title('Weight value over different epochs when initial weight is 1.5')\n",
    "plt.xlabel('epochs')\n",
    "plt.ylabel('weight value')\n",
    "plt.grid('off')"
   ]
  },
  {
   "cell_type": "code",
   "execution_count": 3,
   "metadata": {
    "scrolled": true
   },
   "outputs": [
    {
     "data": {
      "text/html": [
       "<link href='http://fonts.googleapis.com/css?family=Alegreya+Sans:100,300,400,500,700,800,900,100italic,300italic,400italic,500italic,700italic,800italic,900italic' rel='stylesheet' type='text/css'>\n",
       "<link href='http://fonts.googleapis.com/css?family=Arvo:400,700,400italic' rel='stylesheet' type='text/css'>\n",
       "<link href='http://fonts.googleapis.com/css?family=PT+Mono' rel='stylesheet' type='text/css'>\n",
       "<link href='http://fonts.googleapis.com/css?family=Shadows+Into+Light' rel='stylesheet' type='text/css'>\n",
       "<link href='http://fonts.googleapis.com/css?family=Nixie+One' rel='stylesheet' type='text/css'>\n",
       "<link href='https://fonts.googleapis.com/css?family=Source+Code+Pro' rel='stylesheet' type='text/css'>\n",
       "<style>\n",
       "\n",
       "@font-face {\n",
       "    font-family: \"Computer Modern\";\n",
       "    src: url('http://mirrors.ctan.org/fonts/cm-unicode/fonts/otf/cmunss.otf');\n",
       "}\n",
       "\n",
       "#notebook_panel { /* main background */\n",
       "    background: rgb(245,245,245);\n",
       "}\n",
       "\n",
       "div.cell { /* set cell width */\n",
       "    width: 750px;\n",
       "}\n",
       "\n",
       "div #notebook { /* centre the content */\n",
       "    background: #fff; /* white background for content */\n",
       "    width: 1000px;\n",
       "    margin: auto;\n",
       "    padding-left: 0em;\n",
       "}\n",
       "\n",
       "#notebook li { /* More space between bullet points */\n",
       "    margin-top:0.8em;\n",
       "}\n",
       "\n",
       "/* draw border around running cells */\n",
       "div.cell.border-box-sizing.code_cell.running { \n",
       "    border: 1px solid #111;\n",
       "}\n",
       "\n",
       "/* Put a solid color box around each cell and its output, visually linking them*/\n",
       "div.cell.code_cell {\n",
       "    background-color: rgb(256,256,256); \n",
       "    border-radius: 0px; \n",
       "    padding: 0.5em;\n",
       "    margin-left:1em;\n",
       "    margin-top: 1em;\n",
       "}\n",
       "\n",
       "div.text_cell_render{\n",
       "    font-family: 'Alegreya Sans' sans-serif;\n",
       "    line-height: 140%;\n",
       "    font-size: 105%;\n",
       "    font-weight: 400;\n",
       "    width:600px;\n",
       "    margin-left:auto;\n",
       "    margin-right:auto;\n",
       "}\n",
       "\n",
       "\n",
       "/* Formatting for header cells */\n",
       ".text_cell_render h1 {\n",
       "    font-family: 'Nixie One', serif;\n",
       "    font-style:regular;\n",
       "    font-weight: 400;    \n",
       "    font-size: 40pt;\n",
       "    line-height: 100%;\n",
       "    color: rgb(0,51,102);\n",
       "    margin-bottom: 0.5em;\n",
       "    margin-top: 0.5em;\n",
       "    display: block;\n",
       "}\n",
       "\n",
       ".text_cell_render h2 {\n",
       "    font-family: 'Nixie One', serif;\n",
       "    font-weight: 400;\n",
       "    font-size: 25pt;\n",
       "    line-height: 100%;\n",
       "    color: rgb(0,51,102);\n",
       "    margin-bottom: 0.1em;\n",
       "    margin-top: 0.3em;\n",
       "    display: block;\n",
       "}\t\n",
       "\n",
       ".text_cell_render h3 {\n",
       "    font-family: 'Nixie One', serif;\n",
       "    margin-top:16px;\n",
       "    font-size: 17pt;\n",
       "    font-weight: 600;\n",
       "    margin-bottom: 3px;\n",
       "    font-style: regular;\n",
       "    color: rgb(102,102,0);\n",
       "}\n",
       "\n",
       ".text_cell_render h4 {    /*Use this for captions*/\n",
       "    font-family: 'Nixie One', serif;\n",
       "    font-size: 10pt;\n",
       "    text-align: center;\n",
       "    margin-top: 0em;\n",
       "    margin-bottom: 2em;\n",
       "    font-style: regular;\n",
       "}\n",
       "\n",
       ".text_cell_render h5 {  /*Use this for small titles*/\n",
       "    font-family: 'Nixie One', sans-serif;\n",
       "    font-weight: 400;\n",
       "    font-size: 11pt;\n",
       "    color: rgb(163,0,0);\n",
       "    font-style: italic;\n",
       "    margin-bottom: .1em;\n",
       "    margin-top: 0.8em;\n",
       "    display: block;\n",
       "}\n",
       "\n",
       ".text_cell_render h6 { /*use this for copyright note*/\n",
       "    font-family: 'PT Mono', sans-serif;\n",
       "    font-weight: 300;\n",
       "    font-size: 4pt;\n",
       "    line-height: 100%;\n",
       "    color: grey;\n",
       "    margin-bottom: 1px;\n",
       "    margin-top: 1px;\n",
       "}\n",
       "\n",
       ".CodeMirror{\n",
       "    font-family: \"Source Code Pro\";\n",
       "    font-size: 110%;\n",
       "}\n",
       "\n",
       ".alert-box {\n",
       "    padding:10px 10px 10px 36px;\n",
       "    margin:5px;\n",
       "}\n",
       "\n",
       ".success {\n",
       "    color:#666600;\n",
       "    background:rgb(240,242,229);\n",
       "}\n",
       "</style>\n",
       "\n",
       "<script>\n",
       "    MathJax.Hub.Config({\n",
       "                        TeX: {\n",
       "                            extensions: [\"AMSmath.js\"],\n",
       "                            equationNumbers: { autoNumber: \"AMS\", useLabelIds: true}\n",
       "                            },\n",
       "                        tex2jax: {\n",
       "                            inlineMath: [ ['$','$'], [\"\\\\(\",\"\\\\)\"] ],\n",
       "                            displayMath: [ ['$$','$$'], [\"\\\\[\",\"\\\\]\"] ]\n",
       "                            },\n",
       "                        displayAlign: 'center', // Change this to 'center' to center equations.\n",
       "                        \"HTML-CSS\": {\n",
       "                            styles: {'.MathJax_Display': {\"margin\": 4}}\n",
       "                            }\n",
       "                        });\n",
       "    MathJax.Hub.Queue(\n",
       "                      [\"resetEquationNumbers\", MathJax.InputJax.TeX],\n",
       "                      [\"PreProcess\", MathJax.Hub],\n",
       "                      [\"Reprocess\", MathJax.Hub]\n",
       "                     );\n",
       "</script>\n"
      ],
      "text/plain": [
       "<IPython.core.display.HTML object>"
      ]
     },
     "execution_count": 3,
     "metadata": {},
     "output_type": "execute_result"
    }
   ],
   "source": [
    "from IPython.core.display import HTML\n",
    "css_file = '.././styles/numericalmoocstyle.css'\n",
    "HTML(open(css_file, 'r').read())"
   ]
  }
 ],
 "metadata": {
  "colab": {
   "collapsed_sections": [],
   "name": "Neural_network_working_details.ipynb",
   "provenance": []
  },
  "kernelspec": {
   "display_name": "Python 3",
   "language": "python",
   "name": "python3"
  },
  "language_info": {
   "codemirror_mode": {
    "name": "ipython",
    "version": 3
   },
   "file_extension": ".py",
   "mimetype": "text/x-python",
   "name": "python",
   "nbconvert_exporter": "python",
   "pygments_lexer": "ipython3",
   "version": "3.8.5"
  }
 },
 "nbformat": 4,
 "nbformat_minor": 1
}
